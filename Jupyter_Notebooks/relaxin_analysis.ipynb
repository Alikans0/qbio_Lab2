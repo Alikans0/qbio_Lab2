{
 "cells": [
  {
   "cell_type": "markdown",
   "id": "48cbf171",
   "metadata": {
    "tags": []
   },
   "source": [
    "## Do imports"
   ]
  },
  {
   "cell_type": "code",
   "execution_count": 1,
   "id": "57e2e89b",
   "metadata": {
    "tags": []
   },
   "outputs": [
    {
     "name": "stderr",
     "output_type": "stream",
     "text": [
      "/home/ali/.local/lib/python3.8/site-packages/Bio/pairwise2.py:278: BiopythonDeprecationWarning: Bio.pairwise2 has been deprecated, and we intend to remove it in a future release of Biopython. As an alternative, please consider using Bio.Align.PairwiseAligner as a replacement, and contact the Biopython developers if you still need the Bio.pairwise2 module.\n",
      "  warnings.warn(\n"
     ]
    },
    {
     "data": {
      "application/vnd.jupyter.widget-view+json": {
       "model_id": "c61f8bb5c5b9467e87eebfc2ac94274d",
       "version_major": 2,
       "version_minor": 0
      },
      "text/plain": []
     },
     "metadata": {},
     "output_type": "display_data"
    }
   ],
   "source": [
    "# MDAnalysis tools\n",
    "import MDAnalysis as mda\n",
    "from MDAnalysis.analysis import contacts, align\n",
    "\n",
    "# To view the trajs on notebook\n",
    "import nglview as nv\n",
    "from ipywidgets import interact, fixed\n",
    "\n",
    "# Data processing\n",
    "import pandas as pd\n",
    "import numpy as np\n",
    "\n",
    "# Plot & System tools\n",
    "import matplotlib as mpl\n",
    "import matplotlib.pyplot as plt\n",
    "from  matplotlib.colors import ListedColormap, NoNorm, BoundaryNorm, CSS4_COLORS\n",
    "import seaborn as sns\n",
    "\n",
    "# Remove warnings\n",
    "import warnings\n",
    "warnings.filterwarnings('ignore')\n",
    "\n",
    "import os"
   ]
  },
  {
   "cell_type": "markdown",
   "id": "8013bc69",
   "metadata": {},
   "source": [
    "# Set the directory for the simulation"
   ]
  },
  {
   "cell_type": "code",
   "execution_count": 2,
   "id": "bc3e812a",
   "metadata": {
    "tags": []
   },
   "outputs": [],
   "source": [
    "path='/home/ali/RELAXIN/CG_MD'\n",
    "\n",
    "os.chdir('/home/ali/RELAXIN/CG_MD/full_traj/')"
   ]
  },
  {
   "cell_type": "code",
   "execution_count": 3,
   "id": "a412b733",
   "metadata": {},
   "outputs": [
    {
     "name": "stdout",
     "output_type": "stream",
     "text": [
      "all_sim.trr       reimaged2_2.xtc  reimaged2_6.xtc  reimaged.gro\r\n",
      "index.ndx         reimaged2_3.xtc  reimaged2_7.xtc  step7_production.pbc.xtc\r\n",
      "reimaged2_10.xtc  reimaged2_4.xtc  reimaged2_8.xtc  traj_aligned_to_LRR.trr\r\n",
      "reimaged2_1.xtc   reimaged2_5.xtc  reimaged2_9.xtc\r\n"
     ]
    }
   ],
   "source": [
    "ls"
   ]
  },
  {
   "cell_type": "markdown",
   "id": "4b626915",
   "metadata": {},
   "source": [
    "# Concatenate all the simulations"
   ]
  },
  {
   "cell_type": "code",
   "execution_count": null,
   "id": "25fcd048",
   "metadata": {},
   "outputs": [],
   "source": [
    "l = ['reimaged2_' +str(x)+'.xtc' for x in range(1,11)]\n",
    "finp_ref  = 'reimaged.gro'\n",
    "\n",
    "print(l)\n",
    "test = mda.Universe(finp_ref,l)\n",
    "clust = test.select_atoms(\"all\")\n",
    "with mda.Writer(\"all_sim.trr\", clust.n_atoms) as W:\n",
    "    for ts in test.trajectory:\n",
    "        W.write(clust)"
   ]
  },
  {
   "cell_type": "markdown",
   "id": "2db6ecf5",
   "metadata": {},
   "source": [
    "# make index"
   ]
  },
  {
   "cell_type": "code",
   "execution_count": null,
   "id": "99999b31",
   "metadata": {},
   "outputs": [],
   "source": [
    "!echo -e \"a 1-65  \\nname 10 LDLa \\na 184-877 \\nname 11 LRR \\nq\" |gmx make_ndx -f reimaged.gro -o index.ndx"
   ]
  },
  {
   "cell_type": "markdown",
   "id": "aaccf06a",
   "metadata": {},
   "source": [
    "# Center in the box"
   ]
  },
  {
   "cell_type": "code",
   "execution_count": null,
   "id": "06cc39e9",
   "metadata": {},
   "outputs": [],
   "source": [
    "!echo 11 0|gmx_mpi trjconv -f all_sim.trr -o step7_production.pbc.xtc -s reimaged.gro -pbc mol -center -n index.ndx "
   ]
  },
  {
   "cell_type": "markdown",
   "id": "75799f5c",
   "metadata": {},
   "source": [
    "# align and save traj"
   ]
  },
  {
   "cell_type": "code",
   "execution_count": null,
   "id": "3a572570",
   "metadata": {},
   "outputs": [],
   "source": [
    "finp_ref  = 'reimaged.gro'                     # reference\n",
    "finp_trj  = 'step7_production.pbc.xtc'       # traj\n",
    "\n",
    "\n",
    "LRR = 'name BB and resid 100-390'\n",
    "\n",
    "\n",
    "U   = mda.Universe(finp_ref, finp_trj)       #Open Traj\n",
    "ref = mda.Universe(finp_ref)                 #Open ref file \n",
    "\n",
    "# Align traj to reference using atmgroup LRR\n",
    "align.AlignTraj( U, ref, select=LRR, in_memory=True).run()\n",
    "'Done Boss'\n",
    "\n",
    "# save aligned traj\n",
    "system_aligned = U.select_atoms(\"all\")\n",
    "with mda.Writer(\"traj_aligned_to_LRR.trr\", system_aligned.n_atoms) as W:\n",
    "    for ts in U.trajectory:\n",
    "        W.write(system_aligned)"
   ]
  },
  {
   "cell_type": "markdown",
   "id": "dae2b08a",
   "metadata": {},
   "source": [
    "# Define Input  files (finp) and load the trajectory and reference structure file"
   ]
  },
  {
   "cell_type": "code",
   "execution_count": null,
   "id": "82230de9",
   "metadata": {},
   "outputs": [],
   "source": [
    "finp_ref  = 'reimaged.gro'                  # reference\n",
    "finp_trj  = 'traj_aligned_to_LRR.trr'      # traj\n",
    "\n",
    "\n",
    "U   = mda.Universe(finp_ref, finp_trj,in_memory=True)          #Open Traj\n",
    "ref = mda.Universe(finp_ref)                                   #Open ref file \n",
    "\n",
    "display(U.trajectory)"
   ]
  },
  {
   "cell_type": "markdown",
   "id": "6743081c",
   "metadata": {},
   "source": [
    "# Visualize the protein"
   ]
  },
  {
   "cell_type": "code",
   "execution_count": null,
   "id": "8ad90685",
   "metadata": {},
   "outputs": [],
   "source": [
    "view = nv.show_mdanalysis(U, gui=False)\n",
    "view.add_representation('cartoon')\n",
    "view"
   ]
  },
  {
   "cell_type": "markdown",
   "id": "4b0a6746",
   "metadata": {},
   "source": [
    "# Clustering"
   ]
  },
  {
   "cell_type": "code",
   "execution_count": 5,
   "id": "5c6692c9",
   "metadata": {},
   "outputs": [
    {
     "name": "stdout",
     "output_type": "stream",
     "text": [
      "                     :-) GROMACS - gmx cluster, 2020.6 (-:\n",
      "\n",
      "                            GROMACS is written by:\n",
      "     Emile Apol      Rossen Apostolov      Paul Bauer     Herman J.C. Berendsen\n",
      "    Par Bjelkmar      Christian Blau   Viacheslav Bolnykh     Kevin Boyd    \n",
      " Aldert van Buuren   Rudi van Drunen     Anton Feenstra       Alan Gray     \n",
      "  Gerrit Groenhof     Anca Hamuraru    Vincent Hindriksen  M. Eric Irrgang  \n",
      "  Aleksei Iupinov   Christoph Junghans     Joe Jordan     Dimitrios Karkoulis\n",
      "    Peter Kasson        Jiri Kraus      Carsten Kutzner      Per Larsson    \n",
      "  Justin A. Lemkul    Viveca Lindahl    Magnus Lundborg     Erik Marklund   \n",
      "    Pascal Merz     Pieter Meulenhoff    Teemu Murtola       Szilard Pall   \n",
      "    Sander Pronk      Roland Schulz      Michael Shirts    Alexey Shvetsov  \n",
      "   Alfons Sijbers     Peter Tieleman      Jon Vincent      Teemu Virolainen \n",
      " Christian Wennberg    Maarten Wolf      Artem Zhmurov   \n",
      "                           and the project leaders:\n",
      "        Mark Abraham, Berk Hess, Erik Lindahl, and David van der Spoel\n",
      "\n",
      "Copyright (c) 1991-2000, University of Groningen, The Netherlands.\n",
      "Copyright (c) 2001-2019, The GROMACS development team at\n",
      "Uppsala University, Stockholm University and\n",
      "the Royal Institute of Technology, Sweden.\n",
      "check out http://www.gromacs.org for more information.\n",
      "\n",
      "GROMACS is free software; you can redistribute it and/or modify it\n",
      "under the terms of the GNU Lesser General Public License\n",
      "as published by the Free Software Foundation; either version 2.1\n",
      "of the License, or (at your option) any later version.\n",
      "\n",
      "GROMACS:      gmx cluster, version 2020.6\n",
      "Executable:   /usr/local/gromacs/bin/gmx_mpi\n",
      "Data prefix:  /usr/local/gromacs\n",
      "Working dir:  /home/ali/RELAXIN/CG_MD/full_traj\n",
      "Command line:\n",
      "  gmx_mpi cluster -f traj_aligned_to_LRR.trr -s reimaged.gro -cl clusters.xtc -cutoff 0.3 -method gromos -wcl 10 -n index.ndx -nofit -clid clusters.xvg -sz clusters_size.xvg -skip 10\n",
      "\n",
      "\n",
      "Back Off! I just backed up cluster.log to ./#cluster.log.1#\n",
      "Using gromos method for clustering\n",
      "\n",
      "WARNING: Masses and atomic (Van der Waals) radii will be guessed\n",
      "         based on residue and atom names, since they could not be\n",
      "         definitively assigned from the information in your input\n",
      "         files. These guessed numbers might deviate from the mass\n",
      "         and radius of the atom type. Please check the output\n",
      "         files if necessary.\n",
      "\n",
      "\n",
      "WARNING: If there are molecules in the input trajectory file\n",
      "         that are broken across periodic boundaries, they\n",
      "         cannot be made whole (or treated as whole) without\n",
      "         you providing a run input file.\n",
      "\n",
      "\n",
      "Select group for least squares fit and RMSD calculation:\n",
      "Group     0 (         System) has  1656 elements\n",
      "Group     1 (        Protein) has  1656 elements\n",
      "Group     2 (      Protein-H) has  1656 elements\n",
      "Group     3 (        C-alpha) has     0 elements\n",
      "Group     4 (       Backbone) has     0 elements\n",
      "Group     5 (      MainChain) has     0 elements\n",
      "Group     6 (   MainChain+Cb) has     0 elements\n",
      "Group     7 (    MainChain+H) has     0 elements\n",
      "Group     8 (      SideChain) has  1656 elements\n",
      "Group     9 (    SideChain-H) has  1656 elements\n",
      "Group    10 (           LDLa) has    65 elements\n",
      "Group    11 (            LRR) has   694 elements\n",
      "Select a group: Selected 10: 'LDLa'\n",
      "\n",
      "Select group for output:\n",
      "Group     0 (         System) has  1656 elements\n",
      "Group     1 (        Protein) has  1656 elements\n",
      "Group     2 (      Protein-H) has  1656 elements\n",
      "Group     3 (        C-alpha) has     0 elements\n",
      "Group     4 (       Backbone) has     0 elements\n",
      "Group     5 (      MainChain) has     0 elements\n",
      "Group     6 (   MainChain+Cb) has     0 elements\n",
      "Group     7 (    MainChain+H) has     0 elements\n",
      "Group     8 (      SideChain) has  1656 elements\n",
      "Group     9 (    SideChain-H) has  1656 elements\n",
      "Group    10 (           LDLa) has    65 elements\n",
      "Group    11 (            LRR) has   694 elements\n",
      "Select a group: Selected 0: 'System'\n",
      "trr version: GMX_trn_file (single precision)\n",
      "Reading frame  984000 time 196800000.000   \n",
      "Allocated 1957392000 bytes for frames\n",
      "Read 98492 frames from trajectory traj_aligned_to_LRR.trr\n",
      "Computing 98492x98492 RMS deviation matrix\n",
      "# RMSD calculations left: 510481128    "
     ]
    },
    {
     "name": "stderr",
     "output_type": "stream",
     "text": [
      "IOStream.flush timed out\n"
     ]
    },
    {
     "name": "stdout",
     "output_type": "stream",
     "text": [
      "# RMSD calculations left: 505572301   "
     ]
    },
    {
     "name": "stderr",
     "output_type": "stream",
     "text": [
      "IOStream.flush timed out\n"
     ]
    },
    {
     "name": "stdout",
     "output_type": "stream",
     "text": [
      "# RMSD calculations left: 505349736   "
     ]
    },
    {
     "name": "stderr",
     "output_type": "stream",
     "text": [
      "IOStream.flush timed out\n"
     ]
    },
    {
     "name": "stdout",
     "output_type": "stream",
     "text": [
      "# RMSD calculations left: 503126781   "
     ]
    },
    {
     "name": "stderr",
     "output_type": "stream",
     "text": [
      "IOStream.flush timed out\n"
     ]
    },
    {
     "name": "stdout",
     "output_type": "stream",
     "text": [
      "# RMSD calculations left: 500528980   "
     ]
    },
    {
     "name": "stderr",
     "output_type": "stream",
     "text": [
      "IOStream.flush timed out\n"
     ]
    },
    {
     "name": "stdout",
     "output_type": "stream",
     "text": [
      "# RMSD calculations left: 500339161   "
     ]
    },
    {
     "name": "stderr",
     "output_type": "stream",
     "text": [
      "IOStream.flush timed out\n"
     ]
    },
    {
     "name": "stdout",
     "output_type": "stream",
     "text": [
      "# RMSD calculations left: 499959631   "
     ]
    },
    {
     "name": "stderr",
     "output_type": "stream",
     "text": [
      "IOStream.flush timed out\n"
     ]
    },
    {
     "name": "stdout",
     "output_type": "stream",
     "text": [
      "# RMSD calculations left: 498442951   "
     ]
    },
    {
     "name": "stderr",
     "output_type": "stream",
     "text": [
      "IOStream.flush timed out\n"
     ]
    },
    {
     "name": "stdout",
     "output_type": "stream",
     "text": [
      "# RMSD calculations left: 496991628   "
     ]
    },
    {
     "name": "stderr",
     "output_type": "stream",
     "text": [
      "IOStream.flush timed out\n"
     ]
    },
    {
     "name": "stdout",
     "output_type": "stream",
     "text": [
      "# RMSD calculations left: 494944453   "
     ]
    },
    {
     "name": "stderr",
     "output_type": "stream",
     "text": [
      "IOStream.flush timed out\n",
      "IOStream.flush timed out\n",
      "IOStream.flush timed out\n",
      "IOStream.flush timed out\n"
     ]
    },
    {
     "name": "stdout",
     "output_type": "stream",
     "text": [
      "# RMSD calculations left: 494504076   "
     ]
    },
    {
     "name": "stderr",
     "output_type": "stream",
     "text": [
      "IOStream.flush timed out\n",
      "IOStream.flush timed out\n"
     ]
    },
    {
     "name": "stdout",
     "output_type": "stream",
     "text": [
      "# RMSD calculations left: 493718176   "
     ]
    },
    {
     "name": "stderr",
     "output_type": "stream",
     "text": [
      "IOStream.flush timed out\n",
      "IOStream.flush timed out\n",
      "IOStream.flush timed out\n",
      "IOStream.flush timed out\n"
     ]
    },
    {
     "name": "stdout",
     "output_type": "stream",
     "text": [
      "\r",
      "# RMSD calculations left: 493686753   "
     ]
    }
   ],
   "source": [
    "!echo 10 0 | gmx_mpi cluster -f traj_aligned_to_LRR.trr -s reimaged.gro -cl clusters.xtc -cutoff 0.3 -method gromos -wcl 10 -n index.ndx -nofit -clid clusters.xvg -sz clusters_size.xvg -skip 10"
   ]
  },
  {
   "cell_type": "markdown",
   "id": "32e72fce",
   "metadata": {},
   "source": [
    "check the trajectories clusters.xtc (contains all the clusters and each cluster has a number of frames(see bellow))"
   ]
  },
  {
   "cell_type": "code",
   "execution_count": null,
   "id": "4a154964",
   "metadata": {},
   "outputs": [],
   "source": [
    "nb_simu=1\n",
    "#path='/Users/kansoali/Desktop/cg_simulations'\n",
    "path='/home/ali/RELAXIN/CG_MD'\n",
    "\n",
    "finp_ref=str(path+os.sep+'simu'+str(nb_simu)+os.sep+'reimaged.gro')\n",
    "finp_trj=str(path+os.sep+'simu'+str(nb_simu)+os.sep+'clusters.xtc')"
   ]
  },
  {
   "cell_type": "code",
   "execution_count": null,
   "id": "ea31ad01",
   "metadata": {},
   "outputs": [],
   "source": [
    "C = mda.Universe(finp_ref,finp_trj) \n",
    "cluster = nv.show_mdanalysis(C, gui=False)\n",
    "\n",
    "change_representation(cluster,'cartoon')"
   ]
  },
  {
   "cell_type": "markdown",
   "id": "209f205d",
   "metadata": {},
   "source": [
    "## The population in each cluster (here I am showing just the 5 first clusters of each simulation)"
   ]
  },
  {
   "cell_type": "code",
   "execution_count": null,
   "id": "87a836ff",
   "metadata": {},
   "outputs": [],
   "source": [
    "sns.set_context('talk')\n",
    "sns.set_palette('colorblind')\n",
    "\n",
    "nb_simu=list(range(1,2))\n",
    "\n",
    "plt.figure(figsize=(8, 4))\n",
    "\n",
    "\n",
    "for cnt,nb_simu in enumerate(nb_simu):\n",
    "    #path='/Users/kansoali/Desktop/cg_simulations'\n",
    "    path='/home/ali/RELAXIN/CG_MD'\n",
    "\n",
    "    os.chdir(path+os.sep+'simu'+str(nb_simu))\n",
    "   \n",
    "    x,y = np.loadtxt(\"clusters_size.xvg\",comments=['#','@'],unpack=True) \n",
    "    \n",
    "\n",
    "    ax = plt.subplot(1,2, cnt + 1)\n",
    "\n",
    "    v = sns.barplot(x=x[:5],y=y[:5])             ###change here if you want to see more clusters####\n",
    "    plt.title('simu'+str(nb_simu))\n",
    "    plt.xlim(-1,5)\n",
    "    plt.ylim(0,15)\n",
    "    for i in v.containers:\n",
    "        v.bar_label(i)\n",
    "        \n",
    "plt.tight_layout()"
   ]
  },
  {
   "cell_type": "code",
   "execution_count": null,
   "id": "6155bd88",
   "metadata": {
    "scrolled": true
   },
   "outputs": [],
   "source": [
    "sns.set_context('talk')\n",
    "sns.set_palette('colorblind')\n",
    "\n",
    "nb_simu=list(range(1,2))\n",
    "\n",
    "df = pd.DataFrame(columns=(['x','y','sim']),index = [x for x in range(40)])\n",
    "\n",
    "counter = 0\n",
    "\n",
    "for cnt,nb_simu in enumerate(nb_simu):\n",
    "    path='/home/ali/RELAXIN/CG_MD'\n",
    "\n",
    "    os.chdir(path+os.sep+'simu'+str(nb_simu))\n",
    "   \n",
    "    x,y = np.loadtxt(\"clusters_size.xvg\",comments=['#','@'],unpack=True)\n",
    "    for count,i in enumerate(x[:5]):\n",
    "        df.iloc[counter]['x'] = int(i)\n",
    "        df.iloc[counter]['y'] = int(y[count])\n",
    "        df.iloc[counter]['sim'] = 'simu' +str(cnt+1)\n",
    "        \n",
    "        counter+=1"
   ]
  },
  {
   "cell_type": "code",
   "execution_count": null,
   "id": "c39869ac",
   "metadata": {},
   "outputs": [],
   "source": [
    "labels = ['cluster0','cluster1','cluster2','cluster3','cluster4']\n",
    "\n",
    "\n",
    "sns.set_context('notebook')\n",
    "\n",
    "fig,ax = plt.subplots(figsize=(8,5))\n",
    "\n",
    "sns.barplot(data=df,x='sim',y='y',hue='x',ax=ax,palette='colorblind')\n",
    "plt.tight_layout()\n",
    "plt.xlabel('Simulations',fontsize=18)\n",
    "plt.ylabel('Nb of frames',fontsize=18)\n",
    "\n",
    "h, l = ax.get_legend_handles_labels()\n",
    "ax.legend(h, labels, title=\"Frames\")"
   ]
  },
  {
   "cell_type": "markdown",
   "id": "0c7576a0",
   "metadata": {},
   "source": [
    "## Write a new traj with the first 5 clusters of each simulation and save in a new traj"
   ]
  },
  {
   "cell_type": "code",
   "execution_count": null,
   "id": "753f06a4",
   "metadata": {},
   "outputs": [],
   "source": [
    "# In a list, Append 5 universes containing all the clusters for each simulation\n",
    "\n",
    "os.chdir(path)\n",
    "\n",
    "outputFolder = 'clusters_5frames'\n",
    "if not os.path.exists(outputFolder):\n",
    "    os.mkdir(outputFolder)\n",
    "\n",
    "os.chdir(path+os.sep+outputFolder)\n",
    "c=[]\n",
    "\n",
    "for nb_simu in range(1,9):\n",
    "    finp_trj=str(path+os.sep+'new_simu'+str(nb_simu)+os.sep+'clusters.xtc')\n",
    "    c.append(mda.Universe(finp_ref,finp_trj))\n",
    "\n",
    "    \n",
    "# Save the 5 first clusters of each simu as a trajectory \n",
    "for cnt, X in enumerate(c):\n",
    "    clusters = X.select_atoms(\"all\")\n",
    "    with mda.Writer(\"clusters_simu\"+str(cnt+1)+\".trr\", clusters.n_atoms) as W:\n",
    "        for ts in X.trajectory[:5]:        \n",
    "            W.write(clusters)"
   ]
  },
  {
   "cell_type": "code",
   "execution_count": null,
   "id": "707bf5a2",
   "metadata": {},
   "outputs": [],
   "source": [
    "# Check the trajectories\n",
    "\n",
    "nb_simu=8\n",
    "\n",
    "C = mda.Universe(finp_ref, 'clusters_simu'+str(nb_simu)+'.trr')\n",
    "clu=nv.show_mdanalysis(C)\n",
    "\n",
    "change_representation(clu,'cartoon')\n",
    "show_residues_around(clu,selection=\"367-372\",radius=3)\n",
    "clu"
   ]
  },
  {
   "cell_type": "markdown",
   "id": "5d6c11f0",
   "metadata": {},
   "source": [
    "# Concatenate"
   ]
  },
  {
   "cell_type": "code",
   "execution_count": null,
   "id": "d1ab6f11",
   "metadata": {},
   "outputs": [],
   "source": [
    "l = ['clusters_simu' +str(x)+'.trr' for x in range(1,9)]\n",
    "print(l)\n",
    "test = mda.Universe(finp_ref,l)\n",
    "clust = test.select_atoms(\"all\")\n",
    "with mda.Writer(\"concatenated_md.trr\", clust.n_atoms) as W:\n",
    "    for ts in test.trajectory:\n",
    "        W.write(clust)"
   ]
  },
  {
   "cell_type": "code",
   "execution_count": null,
   "id": "af77ac07",
   "metadata": {},
   "outputs": [],
   "source": [
    "# Load the concatenated trajectory\n",
    "\n",
    "\n",
    "#path='/Users/kansoali/Desktop/cg_simulations'\n",
    "path='/home/ali/qbio_Lab2/cg_simulations'\n",
    "\n",
    "os.chdir(path+os.sep+'clusters_5frames')\n",
    "\n",
    "CO = mda.Universe(finp_ref,'concatenated_md.trr', in_memory=True) \n",
    "conca=nv.show_mdanalysis(CO)\n",
    "change_representation(conca,'cartoon')"
   ]
  },
  {
   "cell_type": "markdown",
   "id": "6ea94420",
   "metadata": {},
   "source": [
    "# RMSD Analysis"
   ]
  },
  {
   "cell_type": "markdown",
   "id": "6057d79e",
   "metadata": {},
   "source": [
    "- HOWTO\n",
    "    1. We first fit the traj using the receptor atoms (group `receptor`).\n",
    "    2. After fitting, we obtain RMSD for different domains without superimposition.\n",
    "    3. We create a dataframe (`df_rms`) as the container for RMSD data.\n",
    "    4. In the dataframe, we use `Frame` signature as index (row labels)."
   ]
  },
  {
   "cell_type": "code",
   "execution_count": null,
   "id": "c8493ccc",
   "metadata": {},
   "outputs": [],
   "source": [
    "from MDAnalysis.analysis import rms, diffusionmap\n",
    "from MDAnalysis.analysis.rms import RMSD\n",
    "import plotly.express as px"
   ]
  },
  {
   "cell_type": "code",
   "execution_count": null,
   "id": "d05ea016",
   "metadata": {},
   "outputs": [],
   "source": [
    "fout_rms   = 'RMSD.csv'          # rmsd output file\n",
    "ref = mda.Universe(finp_ref) \n",
    "\n",
    "receptor = 'name BB and (resid 40-337)'\n",
    "rec =CO.select_atoms(receptor)\n",
    "\n",
    "peptide = 'resid 367-372'\n",
    "pep = CO.select_atoms(peptide)"
   ]
  },
  {
   "cell_type": "code",
   "execution_count": null,
   "id": "fcba0913",
   "metadata": {},
   "outputs": [],
   "source": [
    "R = RMSD(CO,\n",
    "        ref,  # reference universe or atomgroup\n",
    "        select= receptor,  # group to superimpose and calculate RMSD\n",
    "        groupselections=[peptide])  # groups for domain RMSDs\n",
    "R.run()\n",
    "display('Done Boss', R.rmsd.shape)"
   ]
  },
  {
   "cell_type": "code",
   "execution_count": null,
   "id": "31d13928",
   "metadata": {},
   "outputs": [],
   "source": [
    "cols = ['Frame','Time', 'receptor','peptide' ]\n",
    "df_rms = pd.DataFrame(R.rmsd, columns=cols)\n",
    "\n",
    "df_rms.drop('Time',axis=1,inplace=True)      #Drop Frame column, we retain only Time\n",
    "\n",
    "#df_rms['Time' ] = df_rms.Time* 0.001          #Convert time to ns\n",
    "#df_rms.set_index('Time',inplace=True)         #Set Time as index (row labels)\n",
    "#df_rms"
   ]
  },
  {
   "cell_type": "code",
   "execution_count": null,
   "id": "e326c671",
   "metadata": {},
   "outputs": [],
   "source": [
    "# Lets do time evolution of RMSD\n",
    "fig = plt.figure(figsize=(12, 8))\n",
    "\n",
    "df_rms.peptide.plot(alpha=0.5)\n",
    "df_rms.receptor.plot(alpha=0.5)\n",
    "\n",
    "plt.xlim( [0,25])\n",
    "plt.ylim( [0,12])\n",
    "plt.xlabel('frame')\n",
    "plt.ylabel( ' RMSD $\\AA$')\n",
    "plt.legend()\n",
    "plt.show()"
   ]
  },
  {
   "cell_type": "code",
   "execution_count": null,
   "id": "23a65f0e",
   "metadata": {},
   "outputs": [],
   "source": [
    "# Lets see the distribution of RMSD values\n",
    "fig, ax = plt.subplots( figsize=(12,8) )\n",
    "sns.distplot(df_rms.receptor,hist=True,label='receptor',ax=ax)\n",
    "sns.distplot(df_rms.peptide,hist=True,label='peptide',ax=ax)\n",
    "\n",
    "plt.legend(ncol=2,fontsize=9)\n",
    "plt.xlabel('RMSD $\\AA$')\n",
    "plt.xlim( [0,12])\n",
    "plt.show()"
   ]
  },
  {
   "cell_type": "code",
   "execution_count": null,
   "id": "96325a58",
   "metadata": {},
   "outputs": [],
   "source": [
    "#Save rmsd output to csv file\n",
    "\n",
    "#df_rms.to_csv( fout_rms ,index_label='Time') \n",
    "#display(df_rms.head(5), df_rms.tail(4) )"
   ]
  },
  {
   "cell_type": "markdown",
   "id": "b177c2c8",
   "metadata": {},
   "source": [
    "# RMSD cross matrix"
   ]
  },
  {
   "cell_type": "code",
   "execution_count": null,
   "id": "69a2c31d",
   "metadata": {},
   "outputs": [],
   "source": [
    "matrix = diffusionmap.DistanceMatrix(CO, select=peptide).run()\n",
    "matrix.dist_matrix.shape\n",
    "\n",
    "fig = plt.figure(figsize=(12, 8))\n",
    "plt.imshow(matrix.dist_matrix, cmap='inferno',interpolation='nearest')\n",
    "plt.xlabel('Frame',fontsize='25')\n",
    "plt.ylabel('Frame',fontsize='25')\n",
    "plt.colorbar(label=r'RMSD')\n",
    "plt.show()"
   ]
  },
  {
   "cell_type": "code",
   "execution_count": null,
   "id": "8d4db6f8",
   "metadata": {},
   "outputs": [],
   "source": [
    "mat=matrix.dist_matrix\n",
    "mat[mat<3]=0"
   ]
  },
  {
   "cell_type": "code",
   "execution_count": null,
   "id": "39029815",
   "metadata": {},
   "outputs": [],
   "source": [
    "labels=['simu1','simu2','simu3','simu4','simu5']\n",
    "fig = plt.figure(figsize=(12, 8))\n",
    "plt.imshow(matrix.dist_matrix, cmap='inferno',interpolation='nearest')\n",
    "plt.colorbar(label=r'RMSD')\n",
    "plt.xlabel('Frame',fontsize='25')\n",
    "plt.ylabel('Frame',fontsize='25')\n",
    "#plt.xticks(np.arange(5),labels)\n",
    "plt.show()"
   ]
  },
  {
   "cell_type": "code",
   "execution_count": null,
   "id": "a36e24e1",
   "metadata": {},
   "outputs": [],
   "source": [
    "dico = {\n",
    "    \"simu1\" : [],\n",
    "    \"simu2\" : [],\n",
    "    \"simu3\" : [],\n",
    "    \"simu4\" : [],\n",
    "    \"simu5\" : [],\n",
    "    \"simu6\" : [],\n",
    "    \"simu7\" : [],\n",
    "    \"simu8\" : [],\n",
    "}\n",
    "sim = []\n",
    "\n",
    "\n",
    "for i in range(40):   \n",
    "    x = np.where(matrix.dist_matrix[i]==0)\n",
    "    #index = np.argwhere(x[0]==i)\n",
    "    #y = np.delete(x, index)\n",
    "    if (i<5):\n",
    "        dico[\"simu1\"].append(x[0].tolist())\n",
    "        sim.append(1)\n",
    "    elif i in range(5,10):\n",
    "        dico[\"simu2\"].append(x[0].tolist())\n",
    "        sim.append(2)\n",
    "    elif  i in range(10,15):\n",
    "        dico[\"simu3\"].append(x[0].tolist())\n",
    "        sim.append(3)\n",
    "    elif  i in range(15,20):\n",
    "        dico[\"simu4\"].append(x[0].tolist())\n",
    "        sim.append(4)\n",
    "    elif i in range(20,25):\n",
    "        dico[\"simu5\"].append(x[0].tolist())\n",
    "        sim.append(5)\n",
    "    elif i in range(25,30):\n",
    "        dico[\"simu6\"].append(x[0].tolist())\n",
    "        sim.append(6)\n",
    "    elif i in range(30,35):\n",
    "        dico[\"simu7\"].append(x[0].tolist())\n",
    "        sim.append(7)\n",
    "    elif i in range(35,40):\n",
    "        dico[\"simu8\"].append(x[0].tolist())\n",
    "        sim.append(8)\n",
    "    "
   ]
  },
  {
   "cell_type": "code",
   "execution_count": null,
   "id": "9c653516",
   "metadata": {
    "scrolled": true
   },
   "outputs": [],
   "source": [
    "'''\n",
    "From the dictionary with the matching frames for each simulations.\n",
    "\n",
    "create a dataframe that will contain:\n",
    "    - y : the count of each position\n",
    "    - f_origin: value of the frame in trajectory\n",
    "    - f_similar: similar frames to the origin frame\n",
    "    - sim: the simulation we're iterating on\n",
    "    - plot: a coordinate for the plotting\n",
    "    - sim_similar: to which simulation the frame belongs\n",
    "\n",
    "the goal is to fill each row of the dataframe with each matching pair. For that we need the number of rows given by\n",
    "the sum of all the matching\n",
    "\n",
    "Filling of dataframe:\n",
    "\n",
    "Loop over simulations\n",
    "    loop over each frame's matching group \n",
    "        loop over each match in group:\n",
    "            append to a list the count (renewed when we change group)\n",
    "            the y is the nth element in that list\n",
    "            the simil is the value of each match\n",
    "            the sim is the key of the dictionary (simulation name)\n",
    "            the frame_origin has to be a number that changes only when we change group (fram)\n",
    "            the plot has also to change also when we change group\n",
    "'''\n",
    "\n",
    "count = 0\n",
    "for key, value in dico.items():\n",
    "    for val in value:\n",
    "        count +=len(val)\n",
    "        \n",
    "df_similar = pd.DataFrame(columns=(['y','f_origin','f_similar','sim','plot','sim_similar']),\n",
    "                          index=[x for x in range(count)])\n",
    "\n",
    "\n",
    "counter = 0\n",
    "fram = 0\n",
    "for key, value in dico.items():\n",
    "    for val in value:\n",
    "        \n",
    "        y = []\n",
    "        for c,i in enumerate(val):\n",
    "            y.append(df.iloc[i]['y'])\n",
    "            df_similar.iloc[counter]['y'] = y[c]\n",
    "            df_similar.iloc[counter]['f_similar'] = i\n",
    "            df_similar.iloc[counter]['sim'] = key\n",
    "            df_similar.iloc[counter]['f_origin'] = fram\n",
    "            df_similar.iloc[counter]['plot'] = fram+(0.1*c)\n",
    "            df_similar.iloc[counter]['sim_similar'] = sim[i]\n",
    "            counter += 1 \n",
    "        fram +=1"
   ]
  },
  {
   "cell_type": "code",
   "execution_count": null,
   "id": "8f5ef7f2",
   "metadata": {},
   "outputs": [],
   "source": [
    "sns.set_context('talk')\n",
    "s = [x for x in df_similar.sim]\n",
    "s = sorted(list(set(s)))\n",
    "\n",
    "plt.figure(figsize=(15, 20))\n",
    "plt.subplots_adjust(hspace=0.5)\n",
    "\n",
    "for j,i in enumerate(s):\n",
    "    df_1 = df_similar[df_similar.sim == i]\n",
    "    ax=plt.subplot(4,2,j+1)\n",
    "    sns.barplot(data=df_1,x='plot',y='y',hue='f_origin',dodge=False,ax=ax)\n",
    "    ax.set_xticks(ticks= ax.get_xticks(),labels=df_1.f_similar.values,rotation=45)\n",
    "    ax.set_title(i)\n",
    "    plt.ylim(0,5000)\n",
    "    \n",
    "plt.tight_layout()"
   ]
  },
  {
   "cell_type": "code",
   "execution_count": null,
   "id": "76f6efdd",
   "metadata": {},
   "outputs": [],
   "source": [
    "fig = px.bar(df_similar,\n",
    "             x=\"f_origin\", \n",
    "             y=\"y\",\n",
    "             color=\"sim_similar\",\n",
    "             hover_data =['f_similar'],\n",
    "             color_discrete_sequence= px.colors.qualitative.D3)\n",
    "             \n",
    "fig.show()"
   ]
  },
  {
   "cell_type": "code",
   "execution_count": null,
   "id": "a57abf62",
   "metadata": {},
   "outputs": [],
   "source": [
    "#save data frame to csv\n",
    "#df_similar.to_csv( ) \n",
    "#display(df_similar.head(5), df_similar.tail(4) )"
   ]
  },
  {
   "cell_type": "code",
   "execution_count": null,
   "id": "2aefb695",
   "metadata": {},
   "outputs": [],
   "source": []
  },
  {
   "cell_type": "code",
   "execution_count": null,
   "id": "c9fb6d29",
   "metadata": {},
   "outputs": [],
   "source": []
  },
  {
   "cell_type": "markdown",
   "id": "d6f959a9",
   "metadata": {},
   "source": [
    "# Align the system to the reference .pdb\n",
    "    - output = final_aligned_to_AA.trr"
   ]
  },
  {
   "cell_type": "code",
   "execution_count": null,
   "id": "1ed2cb81",
   "metadata": {},
   "outputs": [],
   "source": [
    "path='/home/ali/qbio_Lab2/cg_simulations/clusters_5frames'\n",
    "os.chdir(path)"
   ]
  },
  {
   "cell_type": "code",
   "execution_count": null,
   "id": "4d2f4816",
   "metadata": {},
   "outputs": [],
   "source": [
    "rec"
   ]
  },
  {
   "cell_type": "code",
   "execution_count": null,
   "id": "4885d7bf",
   "metadata": {},
   "outputs": [],
   "source": [
    "#make it work\n",
    "traj = CO.select_atoms(receptor)\n",
    "ref = mda.Universe('7f9z.pdb').select_atoms('name CA and resid 40:241 257:335 and chainID R')\n",
    "\n",
    "\n",
    "# Align traj to reference using atmgroup receptor\n",
    "hey= align.AlignTraj(traj,\n",
    "                     ref, \n",
    "                     select='all',\n",
    "                     match_atoms=False)\n",
    "'Done Boss'"
   ]
  },
  {
   "cell_type": "code",
   "execution_count": null,
   "id": "76a4dd0b",
   "metadata": {},
   "outputs": [],
   "source": [
    "#I did it in vmd (Maxime's script) but check later to make it work her \n",
    "#script = align2sels\n",
    "\n",
    "#align2sels 3 0 0 \"name CA and resid 40 to 241 257 to 335 and chain R\" \"name BB and resid 40 to 241 257 to 335\"\n",
    "\n",
    "CO = mda.Universe(finp_ref,'aligned_to_AA.trr', in_memory=True) \n",
    "conca=nv.show_mdanalysis(CO)\n",
    "change_representation(conca,'cartoon')"
   ]
  },
  {
   "cell_type": "code",
   "execution_count": null,
   "id": "439ccdea",
   "metadata": {},
   "outputs": [],
   "source": [
    "### save all the cluster frames to pdb files\n",
    "\n",
    "for frame in range (len(CO.trajectory)):\n",
    "    CO.trajectory[frame]\n",
    "    atoms = CO.select_atoms(\"all\")\n",
    "    atoms.write(\"frame\"+str(frame)+\".gro\")"
   ]
  },
  {
   "cell_type": "code",
   "execution_count": null,
   "id": "edd19593",
   "metadata": {},
   "outputs": [],
   "source": [
    "pwd\n"
   ]
  },
  {
   "cell_type": "code",
   "execution_count": null,
   "id": "e5d87f8a",
   "metadata": {
    "scrolled": true
   },
   "outputs": [],
   "source": [
    "# Lets view the Cluster representatives\n",
    "r1 = mda.Universe( 'frame5.pdb' )\n",
    "r2 = mda.Universe( 'frame0.pdb' )\n",
    "r3 = mda.Universe( 'frame12.pdb' )\n",
    "\n",
    "view = nv.show_mdanalysis(r1)\n",
    "view.add_trajectory( r2 )\n",
    "view.add_trajectory( r3 )\n",
    "\n",
    "view[0].clear_representations()\n",
    "view[0].add_cartoon(color='blue')\n",
    "view[1].clear_representations()\n",
    "view[1].add_cartoon(color='yellow')\n",
    "view[2].clear_representations()\n",
    "view[2].add_cartoon(color='cyan')\n",
    "\n",
    "#view.display(gui=True)\n",
    "#show_residues_around(view,selection=\"367-372\",radius=4.0)\n",
    "view"
   ]
  },
  {
   "cell_type": "code",
   "execution_count": null,
   "id": "4a6cca60",
   "metadata": {},
   "outputs": [],
   "source": []
  },
  {
   "cell_type": "code",
   "execution_count": null,
   "id": "c558c1f2",
   "metadata": {},
   "outputs": [],
   "source": []
  },
  {
   "cell_type": "code",
   "execution_count": null,
   "id": "3341e256",
   "metadata": {},
   "outputs": [],
   "source": []
  },
  {
   "cell_type": "code",
   "execution_count": null,
   "id": "6be6ec0c",
   "metadata": {},
   "outputs": [],
   "source": []
  },
  {
   "cell_type": "markdown",
   "id": "e182bb4b",
   "metadata": {},
   "source": [
    "# Native Contacts"
   ]
  },
  {
   "cell_type": "markdown",
   "id": "adc30db8",
   "metadata": {},
   "source": [
    "Suggested cutoff distances for different simulations\n",
    "\n",
    "    For all-atom simulations, cutoff = 4.5 Å\n",
    "    For coarse-grained simulations, cutoff = 6.0 Å\n"
   ]
  },
  {
   "cell_type": "code",
   "execution_count": null,
   "id": "d52bf6a4",
   "metadata": {},
   "outputs": [],
   "source": [
    "ca1 = contacts.Contacts(CO, select=(receptor, peptide),\n",
    "                        refgroup=(rec, pep), radius=6.0)\n",
    "\n",
    "ca1.run()\n",
    "\n",
    "# print number of averave contacts\n",
    "average_contacts = np.mean(ca1.timeseries[:, 1])\n",
    "print('average contacts = {}'.format(average_contacts))\n",
    "\n",
    "# plot time series q(t)\n",
    "fig, ax = plt.subplots(figsize=(12, 8))\n",
    "ax.plot(ca1.timeseries[:, 0], ca1.timeseries[:, 1])\n",
    "ax.set(xlabel='frame', ylabel='fraction of native contacts',\n",
    "       title='Native Contacts, average = {:.2f}'.format(average_contacts))\n",
    "fig.show()"
   ]
  },
  {
   "cell_type": "code",
   "execution_count": null,
   "id": "ddf3b1e2",
   "metadata": {},
   "outputs": [],
   "source": [
    "n_ref = ca1.initial_contacts[0].sum()\n",
    "print('There are {} contacts in the reference.'.format(n_ref))"
   ]
  },
  {
   "cell_type": "markdown",
   "id": "4d9bf9fc",
   "metadata": {},
   "source": [
    "# Density"
   ]
  },
  {
   "cell_type": "code",
   "execution_count": null,
   "id": "c58e3454",
   "metadata": {},
   "outputs": [],
   "source": [
    "from MDAnalysis.analysis.density import DensityAnalysis\n",
    "u = Universe('concatenated_md.trr', XTC)\n",
    "ow = u.select_atoms(\"name OW\")\n",
    "D = DensityAnalysis(ow, delta=1.0)\n",
    "D.run()\n",
    "D.density.convert_density('TIP4P')\n",
    "D.density.export(\"water.dx\", type=\"double\")"
   ]
  },
  {
   "cell_type": "code",
   "execution_count": null,
   "id": "4f63b706",
   "metadata": {},
   "outputs": [],
   "source": []
  },
  {
   "cell_type": "code",
   "execution_count": null,
   "id": "1534f111",
   "metadata": {},
   "outputs": [],
   "source": []
  },
  {
   "cell_type": "code",
   "execution_count": null,
   "id": "8f826b78",
   "metadata": {},
   "outputs": [],
   "source": []
  },
  {
   "cell_type": "code",
   "execution_count": null,
   "id": "b866d43b",
   "metadata": {},
   "outputs": [],
   "source": []
  },
  {
   "cell_type": "code",
   "execution_count": null,
   "id": "4144d455",
   "metadata": {},
   "outputs": [],
   "source": []
  },
  {
   "cell_type": "code",
   "execution_count": null,
   "id": "2c42728c",
   "metadata": {},
   "outputs": [],
   "source": []
  },
  {
   "cell_type": "code",
   "execution_count": null,
   "id": "461c24e2",
   "metadata": {},
   "outputs": [],
   "source": []
  },
  {
   "cell_type": "code",
   "execution_count": null,
   "id": "008fbe10",
   "metadata": {},
   "outputs": [],
   "source": []
  },
  {
   "cell_type": "code",
   "execution_count": null,
   "id": "8aaadebf",
   "metadata": {},
   "outputs": [],
   "source": []
  },
  {
   "cell_type": "code",
   "execution_count": null,
   "id": "ad3ca1f4",
   "metadata": {},
   "outputs": [],
   "source": []
  },
  {
   "cell_type": "code",
   "execution_count": null,
   "id": "feaabc07",
   "metadata": {},
   "outputs": [],
   "source": []
  },
  {
   "cell_type": "code",
   "execution_count": null,
   "id": "5764f73d",
   "metadata": {},
   "outputs": [],
   "source": []
  },
  {
   "cell_type": "code",
   "execution_count": null,
   "id": "a2bb806e",
   "metadata": {},
   "outputs": [],
   "source": []
  },
  {
   "cell_type": "code",
   "execution_count": null,
   "id": "51104f91",
   "metadata": {},
   "outputs": [],
   "source": []
  },
  {
   "cell_type": "markdown",
   "id": "d2409a02",
   "metadata": {},
   "source": [
    "# RMSF Analysis"
   ]
  },
  {
   "cell_type": "code",
   "execution_count": null,
   "id": "b5498b95",
   "metadata": {},
   "outputs": [],
   "source": [
    "fout_rmf   = 'RMSF.csv'  # rmsf output file"
   ]
  },
  {
   "cell_type": "code",
   "execution_count": null,
   "id": "4221c46d",
   "metadata": {},
   "outputs": [],
   "source": [
    "# RMSF is calculated in blocks\n",
    "nblocks = 5                                 #No. of blocks\n",
    "size = CO.trajectory.n_frames / nblocks       #Size of a block, 1000 frames\n",
    "df_rmsf  = pd.DataFrame()   \n",
    "\n",
    "size = int(size)\n",
    "print( f\"Number of frames in each block:{size}\" )\n",
    "\n",
    "for block in range(nblocks):\n",
    "    # Start and End frames as obtained as intergers\n",
    "    begin = (block * size) ;  end = (block + 1) * size\n",
    "    print( f\"Start frame:{begin} and End frame:{end}\")\n",
    "    \n",
    "    # We use rms.RMSF routine to calculate the rmsf.\n",
    "    brmsf = rms.RMSF( CO.select_atoms(peptide), verbose=True ).run( start = begin , stop = end)\n",
    "    df_rmsf[ f\"B{block+1}\" ]  =  brmsf.results.rmsf\n",
    "\n",
    "print('Done Boss')"
   ]
  },
  {
   "cell_type": "code",
   "execution_count": null,
   "id": "9678af19",
   "metadata": {},
   "outputs": [],
   "source": [
    "# Extract residue numbers, keep them as row labels\n",
    "Rids = CO.select_atoms(peptide).resnums  # resnums gives residue numbers for atmgroup Full\n",
    "df_rmsf.index = Rids\n",
    "df_rmsf.index.name = 'Residue' "
   ]
  },
  {
   "cell_type": "code",
   "execution_count": null,
   "id": "83e4c204",
   "metadata": {},
   "outputs": [],
   "source": [
    "sns.boxplot(data=df_rmsf) \n",
    "plt.tight_layout()\n",
    "plt.ylabel('RMSF $\\AA$')"
   ]
  },
  {
   "cell_type": "code",
   "execution_count": null,
   "id": "79b75b86",
   "metadata": {},
   "outputs": [],
   "source": [
    "# We can save the dataframe to output file\n",
    "\n",
    "#df_rmsf.to_csv(fout_rmf ,index_label='Residue')\n",
    "#display( df_rmsf.head(5),df_rmsf.tail(4))"
   ]
  },
  {
   "cell_type": "markdown",
   "id": "38a553b6",
   "metadata": {
    "tags": []
   },
   "source": [
    "#### **4. PCA Analysis**\n",
    "- HOWTO\n",
    "    1. PCA analysis is usually performed on a subset of atoms\n",
    "        - Herein, we consider C$_\\alpha$ atoms\n",
    "    2. Since we have a longer trajectory, we use frames in 500 ps interval (0.5 ns)\n",
    "        - Herein, we use begin, end, skip variables to define the range\n",
    "    3. After applying PCA, we estimate statistical parameters\n",
    "        - Cumulated variance\n",
    "    4. We project the trajectory on PCA space\n",
    "    5. We save projections on a dframe (`df_pca`)\n",
    "        - We use `Time` signature as our dframe index"
   ]
  },
  {
   "cell_type": "code",
   "execution_count": null,
   "id": "0bd2808c",
   "metadata": {},
   "outputs": [],
   "source": [
    "fout_rmf   = 'RMSF.csv'  # rmsf output file\n",
    "fout_pca   = 'PCA.csv'   # PCA projections\n",
    "fout_cls   = 'CLUS.csv'  # Cluster output file"
   ]
  },
  {
   "cell_type": "code",
   "execution_count": null,
   "id": "1c2e73a8",
   "metadata": {},
   "outputs": [],
   "source": [
    "from sklearn.decomposition import PCA\n",
    "import hdbscan as HDBSCAN               #clustering algorithm"
   ]
  },
  {
   "cell_type": "code",
   "execution_count": null,
   "id": "67087f49",
   "metadata": {},
   "outputs": [],
   "source": [
    "# Selecting an atom group to apply PCA\n",
    "sel = backbone\n",
    "begin,end,skip = 0 , 10000 , 5\n",
    "\n",
    "# PCA starts here\n",
    "mypca = pca.PCA( U , select= sel )\n",
    "mypca.run(begin,end,skip)\n",
    "print('Done Boss')"
   ]
  },
  {
   "cell_type": "code",
   "execution_count": null,
   "id": "69d6083f",
   "metadata": {},
   "outputs": [],
   "source": [
    "# Cumulated variance\n",
    "# Infer number of PC components that explain most variance\n",
    "\n",
    "display( f\"Total number of PCs: {mypca.cumulated_variance.size} \" )\n",
    "print( f\"Cumulative variance of first 10 PCs\\n{ mypca.cumulated_variance[:9] } \" )"
   ]
  },
  {
   "cell_type": "code",
   "execution_count": null,
   "id": "562a0d74",
   "metadata": {},
   "outputs": [],
   "source": [
    "# Calculate projection for first 5 components\n",
    "\n",
    "atmgrp =  U.select_atoms( sel ) ; ncomps = 9\n",
    "pcspace = mypca.transform( atmgrp, n_components= ncomps, start = begin,stop = end,step = skip)\n",
    "\n",
    "# Place the results in a dataframe\n",
    "cols = [ f\"PC{x+1}\" for x in range(ncomps) ]\n",
    "df_pca = pd.DataFrame( pcspace , columns= cols )\n",
    "df_pca.head(5)"
   ]
  },
  {
   "cell_type": "code",
   "execution_count": null,
   "id": "75a30f14",
   "metadata": {},
   "outputs": [],
   "source": [
    "# Add Time signatures to projection data\n",
    "# We extract Time from df_rms data passing begin,end and skip values\n",
    "\n",
    "df_pca['Time'] = df_rms.index[begin:end:skip]\n",
    "df_pca.set_index('Time',inplace=True)\n",
    "\n",
    "# Save the output to csv file\n",
    "#df_pca.to_csv( fout_pca , index_label= 'Time' )\n",
    "#display( df_pca.head(5) , df_pca.tail(4)  )"
   ]
  },
  {
   "cell_type": "markdown",
   "id": "89cdebcc",
   "metadata": {},
   "source": [
    "#### **View Motion along PCAs**\n",
    "- For the first three PCs, firstly we identify,\n",
    "    1. Min and Max projection values\n",
    "    2. Time index and Frame number at which min and max happens\n",
    "    3. Projected coordinates for the corresponding frames (`use get_motion` function)\n",
    "    4. Use nglview to visualize the motion"
   ]
  },
  {
   "cell_type": "code",
   "execution_count": null,
   "id": "b551241f",
   "metadata": {},
   "outputs": [],
   "source": [
    "# 1. Min and max values for first three PCs\n",
    "df_pca.iloc[:,:3].min() ,  df_pca.iloc[:,:3].max()"
   ]
  },
  {
   "cell_type": "code",
   "execution_count": null,
   "id": "570dce8a",
   "metadata": {},
   "outputs": [],
   "source": [
    "# 2a Time @ which Min & Max values observed\n",
    "allmin = df_pca.iloc[:,:3].idxmin(axis=0, skipna=True) \n",
    "allmax = df_pca.iloc[:,:3].idxmax(axis=0, skipna=True)\n",
    "allmin,allmax"
   ]
  },
  {
   "cell_type": "code",
   "execution_count": null,
   "id": "369e9108",
   "metadata": {},
   "outputs": [],
   "source": [
    "# 2b Frame @ which Min & Max values observed\n",
    "all_index = df_pca.index\n",
    "for x,y in zip( allmin, allmax):\n",
    "    print( f\"min:{x} , max:{y}\" )\n",
    "    print( f\"min-frame:{all_index.get_loc(x)} , max-frame:{all_index.get_loc(y)}\\n\" )  "
   ]
  },
  {
   "cell_type": "markdown",
   "id": "88e614ad",
   "metadata": {},
   "source": [
    "#### **5. Cluster Analysis**\n",
    "- HOWTO\n",
    "    - There are many ways one may cluster the trajectory\n",
    "      - Herein, we use the distribution of points on PCA space for clustering.\n",
    "      - To this end, we use a density based clustering algorithm (hdbscan)\n",
    "          - Note that density based methods identify also noise points that could not be assigned to any cluster.\n",
    "    - Once the clusters are identified, we estimate\n",
    "      - Distance of each point to the centroid of the cluster they belong to.\n",
    "      - We extract the conformation close to centroid as `cluster representative`\n",
    "    - Clustering results, as usual, are placed in a dframe ( `df_clus` )    "
   ]
  },
  {
   "cell_type": "code",
   "execution_count": null,
   "id": "6afed827",
   "metadata": {},
   "outputs": [],
   "source": [
    "# A cluster should have atleast 5% of total population\n",
    "\n",
    "minsize = int( df_pca.shape[0]*.05)\n",
    "print( f\"Mininum samples in a cluster:{minsize}\" )\n",
    "\n",
    "# We use hdbscan library here (examine the Imports section at the top)\n",
    "# We use PCs 1-5\n",
    "\n",
    "hdbs = HDBSCAN.HDBSCAN(min_cluster_size=minsize)\n",
    "hclus = hdbs.fit_predict(df_pca.loc[:,'PC1':'PC10'] )\n",
    "\n",
    "# Obtain total number of clusters\n",
    "Nclus = set(hclus)\n",
    "display( f'No of clusters: { len( Nclus ) } and cluster ids: {Nclus} ')"
   ]
  },
  {
   "cell_type": "code",
   "execution_count": null,
   "id": "0f2e37d4",
   "metadata": {},
   "outputs": [],
   "source": [
    "# Create dframe to store cluster results\n",
    "df_clus = pd.DataFrame( )\n",
    "\n",
    "# Assign clusters and time index\n",
    "df_clus['Cluster' ] = hclus\n",
    "df_clus.index.name = 'Time'\n",
    "df_clus.index = df_pca.index\n",
    "\n",
    "display( df_clus.head(5),df_clus.tail(4) )"
   ]
  },
  {
   "cell_type": "code",
   "execution_count": null,
   "id": "48cc5411",
   "metadata": {},
   "outputs": [],
   "source": [
    "# We extract RMSD values for frame in each cluster\n",
    "df_rms.iloc[ begin:end:skip ].full"
   ]
  },
  {
   "cell_type": "code",
   "execution_count": null,
   "id": "fbfef206",
   "metadata": {},
   "outputs": [],
   "source": [
    "# Add RMSD to cluster data\n",
    "df_clus[ 'RMSD' ] =  df_rms.iloc[ begin:end:skip ].full"
   ]
  },
  {
   "cell_type": "code",
   "execution_count": null,
   "id": "19e4597c",
   "metadata": {},
   "outputs": [],
   "source": [
    "display( df_clus.head(5),df_clus.tail(2) )"
   ]
  },
  {
   "cell_type": "code",
   "execution_count": null,
   "id": "3f3359f5",
   "metadata": {},
   "outputs": [],
   "source": [
    "# First, we assign CDist as a column with value 0\n",
    "df_clus['CDist'] = 0.0\n",
    "\n",
    "# For each point, we obtain its distance to the centroid\n",
    "\n",
    "for val in Nclus:\n",
    "    print(f\"Current cluster id:{val}\")\n",
    "    # Extract subset of dframe corresponding to the cluster id\n",
    "    subset = df_clus[df_clus.Cluster == val].index\n",
    "    points = df_pca.loc[ subset, \"PC1\":\"PC3\" ].values\n",
    "    Mean   = points.mean(axis=0)\n",
    "    \n",
    "    # Distance to cluster centroid (i.e mean value)\n",
    "    dist = np.sqrt( ( (points - Mean)**2 ).sum(1)  )\n",
    "    df_clus.loc[ subset, 'CDist'] = dist\n",
    "                \n",
    "df_clus.head()"
   ]
  },
  {
   "cell_type": "code",
   "execution_count": null,
   "id": "40062f2b",
   "metadata": {},
   "outputs": [],
   "source": [
    "# Collect as Time values in df_rms\n",
    "Frame = df_rms.index\n",
    "\n",
    "# For each Time information df_clus, collect corresponding frame number from df_rms\n",
    "Frame_no = [ Frame.get_loc(x) for x in df_clus.index ]\n",
    "\n",
    "# Add Frame number as new column in the cluster data\n",
    "df_clus['FRAME'] = Frame_no\n",
    "\n",
    "#df_clus.to_csv( fout_cls , index_label= 'Time')\n",
    "df_clus.head(4)"
   ]
  },
  {
   "cell_type": "code",
   "execution_count": null,
   "id": "4deffc1c",
   "metadata": {},
   "outputs": [],
   "source": [
    "# For each cluster, identify point closer to centroid (i.e, Min of CDist)\n",
    "print(df_clus.groupby(['Cluster']).min() )\n",
    "Mns = df_clus.groupby(['Cluster']).min().CDist"
   ]
  },
  {
   "cell_type": "code",
   "execution_count": null,
   "id": "da79e4b4",
   "metadata": {},
   "outputs": [],
   "source": [
    "# Structure closer to centroid can be considered as representatives\n",
    "# Identify frame no of representatives\n",
    "df_clus[ df_clus.CDist.isin(Mns) ]"
   ]
  },
  {
   "cell_type": "markdown",
   "id": "43c69ad5",
   "metadata": {},
   "source": [
    "- **Attension**\n",
    "    1. In density based clustering `-1` represents noise points in space.\n",
    "        - We are not interested in the representatives of noise points.\n",
    "    2. We know the `Time` signature and `Frame no` of the representatives\n",
    "        - Hence, we save the representatives as pdb's"
   ]
  },
  {
   "cell_type": "code",
   "execution_count": null,
   "id": "5bc87ed9",
   "metadata": {},
   "outputs": [],
   "source": [
    "# Cluster -1 is noise, so we ignore it\n",
    "\n",
    "Sel = U.select_atoms('protein')\n",
    "U.trajectory[2035]\n",
    "Sel.write('C1.pdb')\n",
    "\n",
    "U.trajectory[7735]\n",
    "Sel.write('C2.pdb')\n",
    "\n",
    "#U.trajectory[4955]\n",
    "#Sel.write('C3.pdb')"
   ]
  },
  {
   "cell_type": "markdown",
   "id": "93e9d4b7",
   "metadata": {},
   "source": [
    "## DATA VISUALIZATION\n"
   ]
  },
  {
   "cell_type": "markdown",
   "id": "ad24f021",
   "metadata": {},
   "source": [
    "#### **PCA**"
   ]
  },
  {
   "cell_type": "code",
   "execution_count": null,
   "id": "06e5943b",
   "metadata": {},
   "outputs": [],
   "source": [
    "# Visualize cumulative variance of first 10 PCs\n",
    "fig, ax = plt.subplots( figsize=(4.5,3.2) )\n",
    "Y = mypca.cumulated_variance[:10]\n",
    "X = [ l+1 for l in range(10) ]\n",
    "ax.plot( X, Y ,'s--' ,ms=5)\n",
    "ax.axhline( Y[2], color='b' , ls='--' )\n",
    "ax.set_ylabel('Explained Variance (%)')\n",
    "ax.set_xlabel('PC index')"
   ]
  },
  {
   "cell_type": "code",
   "execution_count": null,
   "id": "31111b84",
   "metadata": {},
   "outputs": [],
   "source": [
    "# We visualize the scatter plots for most prominent (PC1-3)\n",
    "# Make scatter plots of PCs1-3\n",
    "fig, ax = plt.subplots(1,2,figsize=(10,4),dpi=300 )\n",
    "fig.subplots_adjust( wspace = 0.32)\n",
    "\n",
    "sns.scatterplot(data=df_pca,x=\"PC1\",y=\"PC2\",ax=ax[0])\n",
    "sns.scatterplot(data=df_pca,x=\"PC1\",y=\"PC3\",ax=ax[1])\n",
    "\n",
    "\n",
    "# Seaborn color maps (https://seaborn.pydata.org/tutorial/color_palettes.html)\n",
    "\n",
    "#sns.kdeplot(data=df_pca,x=\"PC1\",y=\"PC2\",ax=ax[0],shade=True,cmap='Greys_r')\n",
    "#sns.kdeplot(data=df_pca,x=\"PC1\",y=\"PC3\",ax=ax[1],shade=True,cmap='Set1')\n"
   ]
  },
  {
   "cell_type": "code",
   "execution_count": null,
   "id": "a0730b72",
   "metadata": {},
   "outputs": [],
   "source": [
    "# Distribution along individual PC components\n",
    "sns.distplot(df_pca.PC1,label='PC1',hist=False)\n",
    "sns.distplot(df_pca.PC2,label='PC2',hist=False)\n",
    "sns.distplot(df_pca.PC4,label='PC4',hist=False)\n",
    "sns.distplot(df_pca.PC5,label='PC5',hist=False)\n",
    "\n",
    "plt.legend()  #Explained Variance reduces as we go from PC1 to PC5\n",
    "plt.xlim([-100,100])\n",
    "sns.set(rc={'figure.figsize':(10,4)})"
   ]
  },
  {
   "cell_type": "markdown",
   "id": "2e3342f3",
   "metadata": {},
   "source": [
    "#### **Cluster Evolution**\n"
   ]
  },
  {
   "cell_type": "code",
   "execution_count": null,
   "id": "7b7147c6",
   "metadata": {},
   "outputs": [],
   "source": [
    "# Lets map clusters on RMSD plot\n",
    "nclus = set( df_clus.Cluster)\n",
    "fig, ax = plt.subplots( figsize=(10,8) )\n",
    "\n",
    "for val in nclus:\n",
    "    # val -1 indicates noise points\n",
    "    # For each cluster, we show frame closer to cluster centroid as Cross\n",
    "    if val > -1:\n",
    "        data = df_clus[ df_clus.Cluster == val ]\n",
    "        ax.plot( data.index,data.RMSD,'.')\n",
    "        \n",
    "        Mn = data.CDist.min()\n",
    "        Cent =  data[ data.CDist == Mn ]\n",
    "        ax.plot( Cent.index, Cent.RMSD, 'X',color='green',ms=16)\n",
    "            \n",
    "\n",
    "ax.set_xlabel('Time ns')\n",
    "ax.set_ylabel('RMSD $\\AA$')"
   ]
  },
  {
   "cell_type": "code",
   "execution_count": null,
   "id": "10c00d56",
   "metadata": {},
   "outputs": [],
   "source": [
    "# Lets view the Cluster representatives\n",
    "r1 = mda.Universe( 'C1.pdb' )\n",
    "r2 = mda.Universe( 'C2.pdb' )\n",
    "#r3 = mda.Universe( 'C3.pdb' )\n",
    "\n",
    "view = nv.show_mdanalysis(r1)\n",
    "view.add_trajectory( r2 )\n",
    "#view.add_trajectory( r3 )\n",
    "\n",
    "view[0].clear_representations()\n",
    "view[0].add_cartoon(color='blue')\n",
    "view[1].clear_representations()\n",
    "view[1].add_cartoon(color='yellow')\n",
    "\n",
    "\n",
    "#view[2].clear_representations()\n",
    "#view[2].add_cartoon(color='cyan')\n",
    "\n",
    "#view.display(gui=True)\n",
    "#show_residues_around(view,selection=\"367\",radius=4.0)\n",
    "view"
   ]
  },
  {
   "cell_type": "markdown",
   "id": "36b505d8",
   "metadata": {},
   "source": [
    "#### **Inference:**"
   ]
  },
  {
   "cell_type": "code",
   "execution_count": null,
   "id": "cf7fc76c",
   "metadata": {},
   "outputs": [],
   "source": []
  }
 ],
 "metadata": {
  "kernelspec": {
   "display_name": "Python 3 (ipykernel)",
   "language": "python",
   "name": "python3"
  },
  "language_info": {
   "codemirror_mode": {
    "name": "ipython",
    "version": 3
   },
   "file_extension": ".py",
   "mimetype": "text/x-python",
   "name": "python",
   "nbconvert_exporter": "python",
   "pygments_lexer": "ipython3",
   "version": "3.8.3"
  },
  "toc-autonumbering": false,
  "toc-showcode": false,
  "toc-showmarkdowntxt": true
 },
 "nbformat": 4,
 "nbformat_minor": 5
}
