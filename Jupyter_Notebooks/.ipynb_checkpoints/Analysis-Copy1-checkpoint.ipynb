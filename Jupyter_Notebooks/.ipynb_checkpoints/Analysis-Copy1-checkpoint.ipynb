{
 "cells": [
  {
   "cell_type": "markdown",
   "id": "e3c76254",
   "metadata": {
    "tags": []
   },
   "source": [
    "## Do imports"
   ]
  },
  {
   "cell_type": "code",
   "execution_count": null,
   "id": "c47cd0cb",
   "metadata": {
    "tags": []
   },
   "outputs": [],
   "source": [
    "# MDAnalysis tools\n",
    "import MDAnalysis as mda\n",
    "\n",
    "# To view the trajs on notebook\n",
    "import nglview as nv\n",
    "from ipywidgets import interact, fixed\n",
    "\n",
    "# Data processing\n",
    "import pandas as pd\n",
    "import numpy as np\n",
    "\n",
    "# Plot & System tools\n",
    "import matplotlib as mpl\n",
    "import matplotlib.pyplot as plt\n",
    "from  matplotlib.colors import ListedColormap, NoNorm, BoundaryNorm, CSS4_COLORS\n",
    "import seaborn as sns\n",
    "\n",
    "# Remove warnings\n",
    "import warnings\n",
    "warnings.filterwarnings('ignore')\n",
    "\n",
    "import os"
   ]
  },
  {
   "cell_type": "code",
   "execution_count": null,
   "id": "9d4c376f",
   "metadata": {},
   "outputs": [],
   "source": [
    "%reload_ext watermark\n",
    "%watermark --iversions\n",
    "%watermark"
   ]
  },
  {
   "cell_type": "code",
   "execution_count": null,
   "id": "f84fb9fa",
   "metadata": {},
   "outputs": [],
   "source": [
    "!jupyter-nbextension enable nglview --py --sys-prefix\n",
    "!jupyter-nbextension enable --py --sys-prefix widgetsnbextension"
   ]
  },
  {
   "cell_type": "markdown",
   "id": "5c80e84c",
   "metadata": {},
   "source": [
    "# Functions"
   ]
  },
  {
   "cell_type": "code",
   "execution_count": null,
   "id": "3c49e477",
   "metadata": {},
   "outputs": [],
   "source": [
    "def change_representation(view, representation):\n",
    "    view.clear()\n",
    "    view.representations = [\n",
    "        {\"type\": representation,\n",
    "         \"params\": {\"sele\":\"367-372\",\"color\":\"red\",\"radiusType\":\"vdW\"}},\n",
    "        {\"type\": \"cartoon\",\"aspectRatio\":\"10\",\n",
    "         \"params\": {\"sele\":\"40-337\",\"color\":\"cyan\",\"radiusType\":\"vdW\",\"opacity\":\"0.5\"}}\n",
    "    ]\n",
    "    \n",
    "    view.control.rotate(\n",
    "    mda.lib.transformations.quaternion_from_euler(\n",
    "        -np.pi/2, np.pi/2, np.pi/13, 'rzyz').tolist())\n",
    "    view.camera = 'orthographic'\n",
    "    return view\n",
    "\n",
    "def show_residues_around(view, component_index=0, selection=\"ligand\", radius=6.0):\n",
    "    js = (\n",
    "        f\"\"\"\n",
    "        var system = this.stage.compList[{component_index}];\n",
    "        var prevSele = system.selection.string;\n",
    "        system.setSelection(\"{selection}\");\n",
    "        var around = system.structure.getAtomSetWithinSelection(system.selection, {radius});\n",
    "        \"\"\"\n",
    "        \"\"\"\n",
    "        var around_complete = system.structure.getAtomSetWithinGroup(around);\n",
    "        system.addRepresentation(\"ball+stick\", {sele: around_complete.toSeleString()});\n",
    "        system.setSelection(prevSele)\n",
    "        \"\"\"\n",
    "    )\n",
    "    view._execute_js_code(js)\n",
    "    \n",
    "# Function to see motion along a pca\n",
    "# Inputs: PC index, frame_i, frame_j , selection\n",
    "def get_motion(pindex=0, framei=0, framej=100, sel='name BB' ):\n",
    "    getpc =  mypca.p_components[:, pindex]\n",
    "    trans =  pcspace[:, pindex]\n",
    "    projected = np.outer(trans, getpc ) + mypca.mean.flatten()\n",
    "    \n",
    "    backbone = U.select_atoms(sel)\n",
    "    proj = mda.Merge(backbone)\n",
    "    coordinates = projected.reshape(len(trans), -1, 3)\n",
    "    proj.load_new(coordinates[ [framei,framej],: ], order=\"fac\")\n",
    "    \n",
    "    return proj"
   ]
  },
  {
   "cell_type": "markdown",
   "id": "f07affc4",
   "metadata": {},
   "source": [
    "# Set the directory for the simulation and define Input  files (finp)"
   ]
  },
  {
   "cell_type": "code",
   "execution_count": 364,
   "id": "12a3782b",
   "metadata": {
    "tags": []
   },
   "outputs": [],
   "source": [
    "os.chdir('/home/ali/cg_simulations/new_simu5')\n",
    "\n",
    "finp_ref  = 'system.gro'                  # reference\n",
    "finp_trj  = 'step7_production.pbc.xtc'    # traj"
   ]
  },
  {
   "cell_type": "markdown",
   "id": "69ec8e95",
   "metadata": {},
   "source": [
    "# We load\n",
    "    1. trajectory\n",
    "    2. reference structure file"
   ]
  },
  {
   "cell_type": "code",
   "execution_count": 365,
   "id": "ca2d6d2e",
   "metadata": {},
   "outputs": [
    {
     "data": {
      "text/plain": [
       "<XTCReader step7_production.pbc.xtc with 10001 frames of 8686 atoms>"
      ]
     },
     "metadata": {},
     "output_type": "display_data"
    }
   ],
   "source": [
    "U   = mda.Universe(finp_ref, finp_trj)       #Open Traj\n",
    "ref = mda.Universe(finp_ref)                 #Open ref file \n",
    "\n",
    "display(U.trajectory)"
   ]
  },
  {
   "cell_type": "markdown",
   "id": "d9f15e96",
   "metadata": {},
   "source": [
    "# Trajectory Alignment (skip if already done)\n",
    "    - We align the traj (& retain `in memory`) using atom group `receptor`."
   ]
  },
  {
   "cell_type": "code",
   "execution_count": 366,
   "id": "de301fcf",
   "metadata": {},
   "outputs": [
    {
     "data": {
      "text/plain": [
       "'Done Boss'"
      ]
     },
     "execution_count": 366,
     "metadata": {},
     "output_type": "execute_result"
    }
   ],
   "source": [
    "# Align traj to reference using atmgroup receptor\n",
    "align.AlignTraj( U, ref, select=receptor , in_memory=True).run()\n",
    "'Done Boss'"
   ]
  },
  {
   "cell_type": "code",
   "execution_count": 367,
   "id": "f5d68843",
   "metadata": {},
   "outputs": [],
   "source": [
    "# save aligned traj\n",
    "system_aligned = U.select_atoms(\"all\")\n",
    "with mda.Writer(\"traj_aligned.trr\", system_aligned.n_atoms) as W:\n",
    "    for ts in U.trajectory:\n",
    "        W.write(system_aligned)"
   ]
  },
  {
   "cell_type": "markdown",
   "id": "e9a198a6",
   "metadata": {},
   "source": [
    "# Load the aligned trajectory"
   ]
  },
  {
   "cell_type": "code",
   "execution_count": 368,
   "id": "fe5f2f40",
   "metadata": {},
   "outputs": [],
   "source": [
    "finp_trj  = 'traj_aligned.trr'  \n",
    "U   = mda.Universe(finp_ref, finp_trj,in_memory=True)   "
   ]
  },
  {
   "cell_type": "markdown",
   "id": "aa61d917",
   "metadata": {},
   "source": [
    "# Visualize the protein"
   ]
  },
  {
   "cell_type": "code",
   "execution_count": 369,
   "id": "0d16c96d",
   "metadata": {},
   "outputs": [],
   "source": [
    "# Select full protein and domains\n",
    "\n",
    "full = 'protein'\n",
    "\n",
    "backbone = \"name BB\"\n",
    "BB=U.select_atoms(backbone)\n",
    "\n",
    "receptor = 'name BB and (resid 40-337)'\n",
    "rec =U.select_atoms(receptor)\n",
    "\n",
    "peptide = 'name BB and resid 367-372'\n",
    "pep = U.select_atoms(peptide)"
   ]
  },
  {
   "cell_type": "code",
   "execution_count": 370,
   "id": "854a741b",
   "metadata": {},
   "outputs": [
    {
     "data": {
      "application/vnd.jupyter.widget-view+json": {
       "model_id": "aede78fd43e24186ad5e9ef00fb3b704",
       "version_major": 2,
       "version_minor": 0
      },
      "text/plain": [
       "interactive(children=(Dropdown(description='representation', options=('cartoon', 'backbone', 'ball+stick'), va…"
      ]
     },
     "metadata": {},
     "output_type": "display_data"
    },
    {
     "data": {
      "text/plain": [
       "<function __main__.change_representation(view, representation)>"
      ]
     },
     "execution_count": 370,
     "metadata": {},
     "output_type": "execute_result"
    }
   ],
   "source": [
    "view = nv.show_mdanalysis(U, gui=False)\n",
    "\n",
    "representations= [\"cartoon\",\"backbone\", \"ball+stick\"] #for the peptide\n",
    "\n",
    "#representations = [\"cartoon\",\"backbone\", \"ball+stick\"] #for the peptide    \n",
    "interact(change_representation,view=fixed(view), representation=representations) \n",
    "\n",
    "#view.add_representation(\"ball+stick\",color='orange',selection=\"name PO4\",aspectRatio=7,opacity=\"0.4\" )"
   ]
  },
  {
   "cell_type": "code",
   "execution_count": null,
   "id": "5d613795",
   "metadata": {},
   "outputs": [],
   "source": [
    "#v_small_membrane = nv.show_mdanalysis(U.select_atoms('name PO4'))\n",
    "#v_small_membrane.add_representation(\"ball+stick\", aspectRatio=7)\n",
    "#v_small_membrane"
   ]
  },
  {
   "cell_type": "markdown",
   "id": "2d70b061",
   "metadata": {},
   "source": [
    "# Contacts"
   ]
  },
  {
   "cell_type": "code",
   "execution_count": null,
   "id": "e27202ca",
   "metadata": {},
   "outputs": [],
   "source": [
    "bs = U.select_atoms(\"protein and around 4 group peptide\", peptide=pep, updating=True)\n",
    "\n",
    "bs_atoms = []\n",
    "\n",
    "for ts in U.trajectory:\n",
    "    bs_atoms.append(len(bs.atoms))\n",
    "\n",
    "#print(bs_atoms)"
   ]
  },
  {
   "cell_type": "markdown",
   "id": "fadaf0d7",
   "metadata": {},
   "source": [
    "Suggested cutoff distances for different simulations\n",
    "\n",
    "    For all-atom simulations, cutoff = 4.5 Å\n",
    "    For coarse-grained simulations, cutoff = 6.0 Å\n"
   ]
  },
  {
   "cell_type": "code",
   "execution_count": 372,
   "id": "a4991ebf",
   "metadata": {},
   "outputs": [
    {
     "name": "stdout",
     "output_type": "stream",
     "text": [
      "average contacts = 0.2285571442855715\n"
     ]
    },
    {
     "data": {
      "image/png": "[encoded data removed]",
      "text/plain": [
       "<Figure size 864x576 with 1 Axes>"
      ]
     },
     "metadata": {
      "needs_background": "light"
     },
     "output_type": "display_data"
    }
   ],
   "source": [
    "ca1 = contacts.Contacts(U, select=(receptor, peptide),\n",
    "                        refgroup=(rec, pep), radius=6.0)\n",
    "\n",
    "ca1.run()\n",
    "\n",
    "# print number of averave contacts\n",
    "average_contacts = np.mean(ca1.timeseries[:, 1])\n",
    "print('average contacts = {}'.format(average_contacts))\n",
    "\n",
    "# plot time series q(t)\n",
    "fig, ax = plt.subplots(figsize=(12, 8))\n",
    "ax.plot(ca1.timeseries[:, 0], ca1.timeseries[:, 1])\n",
    "ax.set(xlabel='frame', ylabel='fraction of native contacts',\n",
    "       title='Native Contacts, average = {:.2f}'.format(average_contacts))\n",
    "fig.show()"
   ]
  },
  {
   "cell_type": "code",
   "execution_count": 373,
   "id": "d7fec208",
   "metadata": {},
   "outputs": [
    {
     "name": "stdout",
     "output_type": "stream",
     "text": [
      "There are 5 contacts in the reference.\n"
     ]
    }
   ],
   "source": [
    "n_ref = ca1.initial_contacts[0].sum()\n",
    "print('There are {} contacts in the reference.'.format(n_ref))"
   ]
  },
  {
   "cell_type": "markdown",
   "id": "904bc4e6",
   "metadata": {},
   "source": [
    "# Clustering"
   ]
  },
  {
   "cell_type": "code",
   "execution_count": 374,
   "id": "a6f53e9f",
   "metadata": {},
   "outputs": [
    {
     "name": "stdout",
     "output_type": "stream",
     "text": [
      "                     :-) GROMACS - gmx cluster, 2020.4 (-:\n",
      "\n",
      "                            GROMACS is written by:\n",
      "     Emile Apol      Rossen Apostolov      Paul Bauer     Herman J.C. Berendsen\n",
      "    Par Bjelkmar      Christian Blau   Viacheslav Bolnykh     Kevin Boyd    \n",
      " Aldert van Buuren   Rudi van Drunen     Anton Feenstra       Alan Gray     \n",
      "  Gerrit Groenhof     Anca Hamuraru    Vincent Hindriksen  M. Eric Irrgang  \n",
      "  Aleksei Iupinov   Christoph Junghans     Joe Jordan     Dimitrios Karkoulis\n",
      "    Peter Kasson        Jiri Kraus      Carsten Kutzner      Per Larsson    \n",
      "  Justin A. Lemkul    Viveca Lindahl    Magnus Lundborg     Erik Marklund   \n",
      "    Pascal Merz     Pieter Meulenhoff    Teemu Murtola       Szilard Pall   \n",
      "    Sander Pronk      Roland Schulz      Michael Shirts    Alexey Shvetsov  \n",
      "   Alfons Sijbers     Peter Tieleman      Jon Vincent      Teemu Virolainen \n",
      " Christian Wennberg    Maarten Wolf      Artem Zhmurov   \n",
      "                           and the project leaders:\n",
      "        Mark Abraham, Berk Hess, Erik Lindahl, and David van der Spoel\n",
      "\n",
      "Copyright (c) 1991-2000, University of Groningen, The Netherlands.\n",
      "Copyright (c) 2001-2019, The GROMACS development team at\n",
      "Uppsala University, Stockholm University and\n",
      "the Royal Institute of Technology, Sweden.\n",
      "check out http://www.gromacs.org for more information.\n",
      "\n",
      "GROMACS is free software; you can redistribute it and/or modify it\n",
      "under the terms of the GNU Lesser General Public License\n",
      "as published by the Free Software Foundation; either version 2.1\n",
      "of the License, or (at your option) any later version.\n",
      "\n",
      "GROMACS:      gmx cluster, version 2020.4\n",
      "Executable:   /usr/local/gromacs/bin/gmx\n",
      "Data prefix:  /usr/local/gromacs\n",
      "Working dir:  /home/ali/cg_simulations/new_simu5\n",
      "Command line:\n",
      "  gmx cluster -f traj_aligned.trr -s step7_production.tpr -cl clusters.xtc -cutoff 0.3 -method gromos -wcl 10 -n index.ndx -nofit -clid clusters.xvg -sz clusters_size.xvg\n",
      "\n",
      "\n",
      "Back Off! I just backed up cluster.log to ./#cluster.log.1#\n",
      "Using gromos method for clustering\n",
      "Reading file step7_production.tpr, VERSION 2020.6-MODIFIED (single precision)\n",
      "Reading file step7_production.tpr, VERSION 2020.6-MODIFIED (single precision)\n",
      "\n",
      "Select group for least squares fit and RMSD calculation:\n",
      "Group     0 (         System) has  8686 elements\n",
      "Group     1 (        Protein) has   750 elements\n",
      "Group     2 (      Protein-H) has   750 elements\n",
      "Group     3 (        C-alpha) has     0 elements\n",
      "Group     4 (       Backbone) has     0 elements\n",
      "Group     5 (      MainChain) has     0 elements\n",
      "Group     6 (   MainChain+Cb) has     0 elements\n",
      "Group     7 (    MainChain+H) has     0 elements\n",
      "Group     8 (      SideChain) has   750 elements\n",
      "Group     9 (    SideChain-H) has   750 elements\n",
      "Group    10 (    Prot-Masses) has   750 elements\n",
      "Group    11 (    non-Protein) has  7936 elements\n",
      "Group    12 (          Other) has  7829 elements\n",
      "Group    13 (           POPC) has  2940 elements\n",
      "Group    14 (              W) has  4889 elements\n",
      "Group    15 (            NA+) has    46 elements\n",
      "Group    16 (            CL-) has    61 elements\n",
      "Group    17 (            Ion) has   107 elements\n",
      "Group    18 (           POPC) has  2940 elements\n",
      "Group    19 (              W) has  4889 elements\n",
      "Group    20 (            NA+) has    46 elements\n",
      "Group    21 (            CL-) has    61 elements\n",
      "Group    22 (            rec) has   725 elements\n",
      "Group    23 (            pep) has    25 elements\n",
      "Select a group: Selected 23: 'pep'\n",
      "\n",
      "Select group for output:\n",
      "Group     0 (         System) has  8686 elements\n",
      "Group     1 (        Protein) has   750 elements\n",
      "Group     2 (      Protein-H) has   750 elements\n",
      "Group     3 (        C-alpha) has     0 elements\n",
      "Group     4 (       Backbone) has     0 elements\n",
      "Group     5 (      MainChain) has     0 elements\n",
      "Group     6 (   MainChain+Cb) has     0 elements\n",
      "Group     7 (    MainChain+H) has     0 elements\n",
      "Group     8 (      SideChain) has   750 elements\n",
      "Group     9 (    SideChain-H) has   750 elements\n",
      "Group    10 (    Prot-Masses) has   750 elements\n",
      "Group    11 (    non-Protein) has  7936 elements\n",
      "Group    12 (          Other) has  7829 elements\n",
      "Group    13 (           POPC) has  2940 elements\n",
      "Group    14 (              W) has  4889 elements\n",
      "Group    15 (            NA+) has    46 elements\n",
      "Group    16 (            CL-) has    61 elements\n",
      "Group    17 (            Ion) has   107 elements\n",
      "Group    18 (           POPC) has  2940 elements\n",
      "Group    19 (              W) has  4889 elements\n",
      "Group    20 (            NA+) has    46 elements\n",
      "Group    21 (            CL-) has    61 elements\n",
      "Group    22 (            rec) has   725 elements\n",
      "Group    23 (            pep) has    25 elements\n",
      "Select a group: Selected 0: 'System'\n",
      "trr version: GMX_trn_file (single precision)\n",
      "Last frame      10000 time 10000000.000   \n",
      "Allocated 1043362320 bytes for frames\n",
      "Read 10001 frames from trajectory traj_aligned.trr\n",
      "Computing 10001x10001 RMS deviation matrix\n",
      "# RMSD calculations left: 0          \n",
      "\n",
      "The RMSD ranges from 0.0706068 to 1.29953 nm\n",
      "Average RMSD is 0.335529\n",
      "Number of structures for matrix 10001\n",
      "Energy of the matrix is 595.073.\n",
      "WARNING: rmsd minimum 0 is below lowest rmsd value 0.0706068\n",
      "\n",
      "Back Off! I just backed up rmsd-dist.xvg to ./#rmsd-dist.xvg.1#\n",
      "Making list of neighbors within cutoff                      1 1 1 1 1 1 1 1 1 1 2 2 2 2 2 2 2 2 2 2 3 3 3 3 3 3 3 3 3 3 4 4 4 4 4 4 4 4 4 4 5 5 5 5 5 5 5 5 5 5 6 6 6 6 6 6 6 6 6 6 7 7 7 7 7 7 7 7 7 7 8 8 8 8 8 8 8 8 8 8 9 9 9 9 9 9 9 9 9 9100%\n",
      "Finding clusters                                                                                                                                                                                                          1 1 1 1 1 1 1 1 1 1 1 1 1 1 1 1 1 1 1 1 1 1 1 1 1 1 1 1 1 1 1 1 1 1 1 1 1 1 1 1 1 1 1 1 1 1 1 1 1 1 1 1 1 1 1 1 1 1 1 1 1 1 1 1 1 1 1 1 1 1 1 1 1 1 1 1 1 1 1 1 1 1 1 1 1 1 1 1 1 1 1 1 1 1 1 1 1 197\n",
      "\n",
      "Found 197 clusters\n",
      "\n",
      "Writing middle structure for each cluster to clusters.xtc\n",
      "Writing all structures for the first 10 clusters with more than 1 structures to clusters.xtc%03d.xtc\n",
      "\n",
      "Back Off! I just backed up clusters.xtc to ./#clusters.xtc.1#\n",
      "\n",
      "Back Off! I just backed up clusters.xvg to ./#clusters.xvg.1#\n",
      "\n",
      "Back Off! I just backed up clusters_size.xvg to ./#clusters_size.xvg.1#\n",
      "\n",
      "Back Off! I just backed up clusters.xtc001.xtc to ./#clusters.xtc001.xtc.1#\n",
      "\n",
      "Back Off! I just backed up clusters.xtc002.xtc to ./#clusters.xtc002.xtc.1#\n",
      "\n",
      "Back Off! I just backed up clusters.xtc003.xtc to ./#clusters.xtc003.xtc.1#\n",
      "\n",
      "Back Off! I just backed up clusters.xtc004.xtc to ./#clusters.xtc004.xtc.1#\n",
      "\n",
      "Back Off! I just backed up clusters.xtc005.xtc to ./#clusters.xtc005.xtc.1#\n",
      "\n",
      "Back Off! I just backed up clusters.xtc006.xtc to ./#clusters.xtc006.xtc.1#\n",
      "\n",
      "Back Off! I just backed up clusters.xtc007.xtc to ./#clusters.xtc007.xtc.1#\n",
      "\n",
      "Back Off! I just backed up clusters.xtc008.xtc to ./#clusters.xtc008.xtc.1#\n",
      "\n",
      "Back Off! I just backed up clusters.xtc009.xtc to ./#clusters.xtc009.xtc.1#\n",
      "\n",
      "Back Off! I just backed up clusters.xtc010.xtc to ./#clusters.xtc010.xtc.1#\n",
      "\n",
      "Back Off! I just backed up rmsd-clust.xpm to ./#rmsd-clust.xpm.1#\n",
      "Writing rms distance/clustering matrix                      1 1 1 1 1 1 1 1 1 1 2 2 2 2 2 2 2 2 2 2 3 3 3 3 3 3 3 3 3 3 4 4 4 4 4 4 4 4 4 4 5 5 5 5 5 5 5 5 5 5 6 6 6 6 6 6 6 6 6 6 7 7 7 7 7 7 7 7 7 7 8 8 8 8 8 8 8 8 8 8 9 9 9 9 9 9 9 9 910\n",
      "\n",
      "GROMACS reminds you: \"Don't Eat That Yellow Snow\" (F. Zappa)\n",
      "\n"
     ]
    }
   ],
   "source": [
    "#!echo 23 0 | gmx cluster -f traj_aligned.trr -s step7_production.tpr -cl clusters.xtc -cutoff 0.3 -method gromos -wcl 10 -n index.ndx -nofit -clid clusters.xvg -sz clusters_size.xvg"
   ]
  },
  {
   "cell_type": "code",
   "execution_count": 379,
   "id": "df0cd9bf",
   "metadata": {},
   "outputs": [],
   "source": [
    "#check the trajectories\n",
    "\n",
    "nb_simu=5\n",
    "path='/home/ali/cg_simulations'\n",
    "\n",
    "finp_ref=str(path+os.sep+'new_simu'+str(nb_simu)+os.sep+'system.gro')\n",
    "finp_trj=str(path+os.sep+'new_simu'+str(nb_simu)+os.sep+'clusters.xtc')"
   ]
  },
  {
   "cell_type": "code",
   "execution_count": 380,
   "id": "05091153",
   "metadata": {},
   "outputs": [
    {
     "data": {
      "application/vnd.jupyter.widget-view+json": {
       "model_id": "56143bd164c34549b700e315f06da8cb",
       "version_major": 2,
       "version_minor": 0
      },
      "text/plain": [
       "NGLWidget(max_frame=196)"
      ]
     },
     "metadata": {},
     "output_type": "display_data"
    }
   ],
   "source": [
    "C = mda.Universe(finp_ref,finp_trj) \n",
    "cluster = nv.show_mdanalysis(C, gui=False)\n",
    "\n",
    "change_representation(cluster,'cartoon')"
   ]
  },
  {
   "cell_type": "code",
   "execution_count": 383,
   "id": "38e2dc23",
   "metadata": {},
   "outputs": [],
   "source": [
    "#write a new traj with the first 20 clusters and save in a new folder\n",
    "os.chdir(path)\n",
    "\n",
    "outputFolder = 'clusters_20frames'\n",
    "if not os.path.exists(outputFolder):\n",
    "    os.mkdir(outputFolder)\n",
    "\n",
    "os.chdir(path+os.sep+outputFolder)\n",
    "c=[]\n",
    "\n",
    "for nb_simu in range(1,6):\n",
    "    finp_trj=str(path+os.sep+'new_simu'+str(nb_simu)+os.sep+'clusters.xtc')\n",
    "    c.append(mda.Universe(finp_ref,finp_trj))\n",
    "    \n",
    "for cnt, X in enumerate(c):\n",
    "    clusters = X.select_atoms(\"all\")\n",
    "    with mda.Writer(\"clusters_simu\"+str(cnt+1)+\".trr\", clusters.n_atoms) as W:\n",
    "        for ts in X.trajectory[:10]:\n",
    "            W.write(clusters)"
   ]
  },
  {
   "cell_type": "code",
   "execution_count": 388,
   "id": "a150a039",
   "metadata": {},
   "outputs": [
    {
     "data": {
      "application/vnd.jupyter.widget-view+json": {
       "model_id": "591083fe2cdd45f3ace4d860537fff71",
       "version_major": 2,
       "version_minor": 0
      },
      "text/plain": [
       "NGLWidget(max_frame=9)"
      ]
     },
     "metadata": {},
     "output_type": "display_data"
    }
   ],
   "source": [
    "nb_simu=3\n",
    "\n",
    "C = mda.Universe(finp_ref, 'clusters_simu'+str(nb_simu)+'.trr')\n",
    "clu=nv.show_mdanalysis(C)\n",
    "\n",
    "change_representation(clu,'cartoon')\n",
    "show_residues_around(clu,selection=\"367-372\",radius=3)\n",
    "clu"
   ]
  },
  {
   "cell_type": "markdown",
   "id": "48e1c439",
   "metadata": {},
   "source": [
    "# Concatenate"
   ]
  },
  {
   "cell_type": "markdown",
   "id": "09a3cf2d",
   "metadata": {},
   "source": [
    "I used vmd, look later why it's not working"
   ]
  },
  {
   "cell_type": "code",
   "execution_count": 389,
   "id": "8a87142f",
   "metadata": {},
   "outputs": [],
   "source": [
    "test = mda.Universe(finp_ref,'clusters_simu1.trr','clusters_simu2.trr','clusters_simu3.trr','clusters_simu4.trr','clusters_simu5.trr')\n",
    "clust = test.select_atoms(\"all\")\n",
    "with mda.Writer(\"concatenated_md.trr\", clust.n_atoms) as W:\n",
    "    for ts in test.trajectory:\n",
    "        W.write(clust)"
   ]
  },
  {
   "cell_type": "code",
   "execution_count": 390,
   "id": "71e28ce8",
   "metadata": {},
   "outputs": [
    {
     "data": {
      "application/vnd.jupyter.widget-view+json": {
       "model_id": "2625f9c15d2f46f9a2556dee597d91b5",
       "version_major": 2,
       "version_minor": 0
      },
      "text/plain": [
       "NGLWidget(max_frame=49)"
      ]
     },
     "metadata": {},
     "output_type": "display_data"
    }
   ],
   "source": [
    "CO = mda.Universe(finp_ref,'concatenated_md.trr', in_memory=True) \n",
    "conca=nv.show_mdanalysis(CO)\n",
    "change_representation(conca,'cartoon')"
   ]
  },
  {
   "cell_type": "markdown",
   "id": "faec56a1",
   "metadata": {},
   "source": [
    "# RMSD Analysis"
   ]
  },
  {
   "cell_type": "markdown",
   "id": "60b27650",
   "metadata": {},
   "source": [
    "- HOWTO\n",
    "    1. We first fit the traj using the receptor atoms (group `receptor`).\n",
    "    2. After fitting, we obtain RMSD for different domains without superimposition (`i.e., re-fitting`)\n",
    "    3. We create a dataframe (`df_rms`) as the container for RMSD data.\n",
    "    4. In the dataframe, we use `Time` signature as index (row labels).\n",
    "        - The trajectory contains snapshots of collected  `@100ps` interval.\n",
    "        - Hence, we multiply `Time` with 0.001 (i.e., Time/1000.0 to convert in ns)"
   ]
  },
  {
   "cell_type": "code",
   "execution_count": 391,
   "id": "747fe719",
   "metadata": {},
   "outputs": [],
   "source": [
    "from MDAnalysis.analysis import rms, align, pca,contacts,diffusionmap\n",
    "from MDAnalysis.analysis.rms import RMSD"
   ]
  },
  {
   "cell_type": "code",
   "execution_count": 394,
   "id": "6d0f1974",
   "metadata": {},
   "outputs": [],
   "source": [
    "fout_rms   = 'RMSD.csv'  # rmsd output file\n",
    "ref = mda.Universe(finp_ref) "
   ]
  },
  {
   "cell_type": "code",
   "execution_count": 393,
   "id": "e26de555",
   "metadata": {},
   "outputs": [],
   "source": [
    "full = 'protein'\n",
    "\n",
    "backbone = \"name BB\"\n",
    "BB=CO.select_atoms(backbone)\n",
    "\n",
    "receptor = 'name BB and (resid 40-337)'\n",
    "rec =CO.select_atoms(receptor)\n",
    "\n",
    "peptide = 'resid 367-372'\n",
    "pep = CO.select_atoms(peptide)"
   ]
  },
  {
   "cell_type": "code",
   "execution_count": 395,
   "id": "7473b936",
   "metadata": {},
   "outputs": [
    {
     "data": {
      "text/plain": [
       "'Done Boss'"
      ]
     },
     "metadata": {},
     "output_type": "display_data"
    },
    {
     "data": {
      "text/plain": [
       "(50, 4)"
      ]
     },
     "metadata": {},
     "output_type": "display_data"
    }
   ],
   "source": [
    "R = RMSD(CO,\n",
    "        ref,  # reference universe or atomgroup\n",
    "        select= receptor,  # group to superimpose and calculate RMSD\n",
    "        groupselections=[peptide] )  # groups for domain RMSDs\n",
    "R.run()\n",
    "display('Done Boss', R.rmsd.shape)"
   ]
  },
  {
   "cell_type": "code",
   "execution_count": null,
   "id": "d14f1e7e",
   "metadata": {},
   "outputs": [],
   "source": []
  },
  {
   "cell_type": "code",
   "execution_count": null,
   "id": "4df2d598",
   "metadata": {},
   "outputs": [],
   "source": []
  },
  {
   "cell_type": "code",
   "execution_count": null,
   "id": "bf528273",
   "metadata": {},
   "outputs": [],
   "source": []
  },
  {
   "cell_type": "code",
   "execution_count": null,
   "id": "d855aeb9",
   "metadata": {},
   "outputs": [],
   "source": []
  },
  {
   "cell_type": "code",
   "execution_count": 396,
   "id": "f1be713a",
   "metadata": {},
   "outputs": [],
   "source": [
    "# Create dataframe of RMSD values\n",
    "# RMSD routine creates Frame and Time columns + three groups of RMSD calculations\n",
    "cols = ['Frame','Time', 'receptor','peptide' ]\n",
    "df_rms = pd.DataFrame(R.rmsd, columns=cols)"
   ]
  },
  {
   "cell_type": "code",
   "execution_count": 397,
   "id": "c92f187e",
   "metadata": {},
   "outputs": [
    {
     "data": {
      "text/html": [
       "<div>\n",
       "<style scoped>\n",
       "    .dataframe tbody tr th:only-of-type {\n",
       "        vertical-align: middle;\n",
       "    }\n",
       "\n",
       "    .dataframe tbody tr th {\n",
       "        vertical-align: top;\n",
       "    }\n",
       "\n",
       "    .dataframe thead th {\n",
       "        text-align: right;\n",
       "    }\n",
       "</style>\n",
       "<table border=\"1\" class=\"dataframe\">\n",
       "  <thead>\n",
       "    <tr style=\"text-align: right;\">\n",
       "      <th></th>\n",
       "      <th>Frame</th>\n",
       "      <th>receptor</th>\n",
       "      <th>peptide</th>\n",
       "    </tr>\n",
       "  </thead>\n",
       "  <tbody>\n",
       "    <tr>\n",
       "      <th>0</th>\n",
       "      <td>0.0</td>\n",
       "      <td>2.454571</td>\n",
       "      <td>3.998074</td>\n",
       "    </tr>\n",
       "    <tr>\n",
       "      <th>1</th>\n",
       "      <td>1.0</td>\n",
       "      <td>3.585158</td>\n",
       "      <td>5.191995</td>\n",
       "    </tr>\n",
       "    <tr>\n",
       "      <th>2</th>\n",
       "      <td>2.0</td>\n",
       "      <td>2.772303</td>\n",
       "      <td>6.015213</td>\n",
       "    </tr>\n",
       "    <tr>\n",
       "      <th>3</th>\n",
       "      <td>3.0</td>\n",
       "      <td>3.041146</td>\n",
       "      <td>4.997194</td>\n",
       "    </tr>\n",
       "    <tr>\n",
       "      <th>4</th>\n",
       "      <td>4.0</td>\n",
       "      <td>2.984796</td>\n",
       "      <td>5.259186</td>\n",
       "    </tr>\n",
       "    <tr>\n",
       "      <th>5</th>\n",
       "      <td>5.0</td>\n",
       "      <td>3.688517</td>\n",
       "      <td>5.565105</td>\n",
       "    </tr>\n",
       "    <tr>\n",
       "      <th>6</th>\n",
       "      <td>6.0</td>\n",
       "      <td>4.121180</td>\n",
       "      <td>4.570875</td>\n",
       "    </tr>\n",
       "    <tr>\n",
       "      <th>7</th>\n",
       "      <td>7.0</td>\n",
       "      <td>2.873328</td>\n",
       "      <td>5.267766</td>\n",
       "    </tr>\n",
       "    <tr>\n",
       "      <th>8</th>\n",
       "      <td>8.0</td>\n",
       "      <td>4.404362</td>\n",
       "      <td>5.998790</td>\n",
       "    </tr>\n",
       "    <tr>\n",
       "      <th>9</th>\n",
       "      <td>9.0</td>\n",
       "      <td>2.768455</td>\n",
       "      <td>5.548326</td>\n",
       "    </tr>\n",
       "    <tr>\n",
       "      <th>10</th>\n",
       "      <td>10.0</td>\n",
       "      <td>3.903275</td>\n",
       "      <td>4.507464</td>\n",
       "    </tr>\n",
       "    <tr>\n",
       "      <th>11</th>\n",
       "      <td>11.0</td>\n",
       "      <td>3.277567</td>\n",
       "      <td>4.823340</td>\n",
       "    </tr>\n",
       "    <tr>\n",
       "      <th>12</th>\n",
       "      <td>12.0</td>\n",
       "      <td>3.503096</td>\n",
       "      <td>4.666851</td>\n",
       "    </tr>\n",
       "    <tr>\n",
       "      <th>13</th>\n",
       "      <td>13.0</td>\n",
       "      <td>3.503736</td>\n",
       "      <td>5.517803</td>\n",
       "    </tr>\n",
       "    <tr>\n",
       "      <th>14</th>\n",
       "      <td>14.0</td>\n",
       "      <td>3.983454</td>\n",
       "      <td>5.990767</td>\n",
       "    </tr>\n",
       "    <tr>\n",
       "      <th>15</th>\n",
       "      <td>15.0</td>\n",
       "      <td>4.020012</td>\n",
       "      <td>5.890353</td>\n",
       "    </tr>\n",
       "    <tr>\n",
       "      <th>16</th>\n",
       "      <td>16.0</td>\n",
       "      <td>3.858885</td>\n",
       "      <td>5.809753</td>\n",
       "    </tr>\n",
       "    <tr>\n",
       "      <th>17</th>\n",
       "      <td>17.0</td>\n",
       "      <td>4.490303</td>\n",
       "      <td>5.527190</td>\n",
       "    </tr>\n",
       "    <tr>\n",
       "      <th>18</th>\n",
       "      <td>18.0</td>\n",
       "      <td>3.370539</td>\n",
       "      <td>5.850817</td>\n",
       "    </tr>\n",
       "    <tr>\n",
       "      <th>19</th>\n",
       "      <td>19.0</td>\n",
       "      <td>3.400354</td>\n",
       "      <td>4.783340</td>\n",
       "    </tr>\n",
       "    <tr>\n",
       "      <th>20</th>\n",
       "      <td>20.0</td>\n",
       "      <td>4.101471</td>\n",
       "      <td>9.079569</td>\n",
       "    </tr>\n",
       "    <tr>\n",
       "      <th>21</th>\n",
       "      <td>21.0</td>\n",
       "      <td>4.461255</td>\n",
       "      <td>9.100047</td>\n",
       "    </tr>\n",
       "    <tr>\n",
       "      <th>22</th>\n",
       "      <td>22.0</td>\n",
       "      <td>3.943145</td>\n",
       "      <td>4.467351</td>\n",
       "    </tr>\n",
       "    <tr>\n",
       "      <th>23</th>\n",
       "      <td>23.0</td>\n",
       "      <td>4.786650</td>\n",
       "      <td>8.495472</td>\n",
       "    </tr>\n",
       "    <tr>\n",
       "      <th>24</th>\n",
       "      <td>24.0</td>\n",
       "      <td>2.641801</td>\n",
       "      <td>4.629928</td>\n",
       "    </tr>\n",
       "    <tr>\n",
       "      <th>25</th>\n",
       "      <td>25.0</td>\n",
       "      <td>4.301637</td>\n",
       "      <td>10.067368</td>\n",
       "    </tr>\n",
       "    <tr>\n",
       "      <th>26</th>\n",
       "      <td>26.0</td>\n",
       "      <td>3.914478</td>\n",
       "      <td>5.129267</td>\n",
       "    </tr>\n",
       "    <tr>\n",
       "      <th>27</th>\n",
       "      <td>27.0</td>\n",
       "      <td>3.578393</td>\n",
       "      <td>5.207493</td>\n",
       "    </tr>\n",
       "    <tr>\n",
       "      <th>28</th>\n",
       "      <td>28.0</td>\n",
       "      <td>2.937924</td>\n",
       "      <td>4.953500</td>\n",
       "    </tr>\n",
       "    <tr>\n",
       "      <th>29</th>\n",
       "      <td>29.0</td>\n",
       "      <td>2.743480</td>\n",
       "      <td>5.684376</td>\n",
       "    </tr>\n",
       "    <tr>\n",
       "      <th>30</th>\n",
       "      <td>30.0</td>\n",
       "      <td>3.371689</td>\n",
       "      <td>4.835473</td>\n",
       "    </tr>\n",
       "    <tr>\n",
       "      <th>31</th>\n",
       "      <td>31.0</td>\n",
       "      <td>2.380605</td>\n",
       "      <td>9.252784</td>\n",
       "    </tr>\n",
       "    <tr>\n",
       "      <th>32</th>\n",
       "      <td>32.0</td>\n",
       "      <td>3.877349</td>\n",
       "      <td>4.645420</td>\n",
       "    </tr>\n",
       "    <tr>\n",
       "      <th>33</th>\n",
       "      <td>33.0</td>\n",
       "      <td>2.942730</td>\n",
       "      <td>5.755144</td>\n",
       "    </tr>\n",
       "    <tr>\n",
       "      <th>34</th>\n",
       "      <td>34.0</td>\n",
       "      <td>2.751584</td>\n",
       "      <td>5.541012</td>\n",
       "    </tr>\n",
       "    <tr>\n",
       "      <th>35</th>\n",
       "      <td>35.0</td>\n",
       "      <td>3.345154</td>\n",
       "      <td>5.437752</td>\n",
       "    </tr>\n",
       "    <tr>\n",
       "      <th>36</th>\n",
       "      <td>36.0</td>\n",
       "      <td>3.964553</td>\n",
       "      <td>4.500680</td>\n",
       "    </tr>\n",
       "    <tr>\n",
       "      <th>37</th>\n",
       "      <td>37.0</td>\n",
       "      <td>3.011340</td>\n",
       "      <td>4.746169</td>\n",
       "    </tr>\n",
       "    <tr>\n",
       "      <th>38</th>\n",
       "      <td>38.0</td>\n",
       "      <td>3.181610</td>\n",
       "      <td>5.790063</td>\n",
       "    </tr>\n",
       "    <tr>\n",
       "      <th>39</th>\n",
       "      <td>39.0</td>\n",
       "      <td>4.286443</td>\n",
       "      <td>5.006457</td>\n",
       "    </tr>\n",
       "    <tr>\n",
       "      <th>40</th>\n",
       "      <td>40.0</td>\n",
       "      <td>4.076108</td>\n",
       "      <td>5.120599</td>\n",
       "    </tr>\n",
       "    <tr>\n",
       "      <th>41</th>\n",
       "      <td>41.0</td>\n",
       "      <td>2.290541</td>\n",
       "      <td>5.136402</td>\n",
       "    </tr>\n",
       "    <tr>\n",
       "      <th>42</th>\n",
       "      <td>42.0</td>\n",
       "      <td>3.793321</td>\n",
       "      <td>5.246643</td>\n",
       "    </tr>\n",
       "    <tr>\n",
       "      <th>43</th>\n",
       "      <td>43.0</td>\n",
       "      <td>3.403329</td>\n",
       "      <td>5.636410</td>\n",
       "    </tr>\n",
       "    <tr>\n",
       "      <th>44</th>\n",
       "      <td>44.0</td>\n",
       "      <td>2.842133</td>\n",
       "      <td>4.510592</td>\n",
       "    </tr>\n",
       "    <tr>\n",
       "      <th>45</th>\n",
       "      <td>45.0</td>\n",
       "      <td>2.557476</td>\n",
       "      <td>5.781296</td>\n",
       "    </tr>\n",
       "    <tr>\n",
       "      <th>46</th>\n",
       "      <td>46.0</td>\n",
       "      <td>3.156767</td>\n",
       "      <td>5.137578</td>\n",
       "    </tr>\n",
       "    <tr>\n",
       "      <th>47</th>\n",
       "      <td>47.0</td>\n",
       "      <td>2.912383</td>\n",
       "      <td>5.222261</td>\n",
       "    </tr>\n",
       "    <tr>\n",
       "      <th>48</th>\n",
       "      <td>48.0</td>\n",
       "      <td>4.086721</td>\n",
       "      <td>4.716870</td>\n",
       "    </tr>\n",
       "    <tr>\n",
       "      <th>49</th>\n",
       "      <td>49.0</td>\n",
       "      <td>2.722163</td>\n",
       "      <td>7.222045</td>\n",
       "    </tr>\n",
       "  </tbody>\n",
       "</table>\n",
       "</div>"
      ],
      "text/plain": [
       "    Frame  receptor    peptide\n",
       "0     0.0  2.454571   3.998074\n",
       "1     1.0  3.585158   5.191995\n",
       "2     2.0  2.772303   6.015213\n",
       "3     3.0  3.041146   4.997194\n",
       "4     4.0  2.984796   5.259186\n",
       "5     5.0  3.688517   5.565105\n",
       "6     6.0  4.121180   4.570875\n",
       "7     7.0  2.873328   5.267766\n",
       "8     8.0  4.404362   5.998790\n",
       "9     9.0  2.768455   5.548326\n",
       "10   10.0  3.903275   4.507464\n",
       "11   11.0  3.277567   4.823340\n",
       "12   12.0  3.503096   4.666851\n",
       "13   13.0  3.503736   5.517803\n",
       "14   14.0  3.983454   5.990767\n",
       "15   15.0  4.020012   5.890353\n",
       "16   16.0  3.858885   5.809753\n",
       "17   17.0  4.490303   5.527190\n",
       "18   18.0  3.370539   5.850817\n",
       "19   19.0  3.400354   4.783340\n",
       "20   20.0  4.101471   9.079569\n",
       "21   21.0  4.461255   9.100047\n",
       "22   22.0  3.943145   4.467351\n",
       "23   23.0  4.786650   8.495472\n",
       "24   24.0  2.641801   4.629928\n",
       "25   25.0  4.301637  10.067368\n",
       "26   26.0  3.914478   5.129267\n",
       "27   27.0  3.578393   5.207493\n",
       "28   28.0  2.937924   4.953500\n",
       "29   29.0  2.743480   5.684376\n",
       "30   30.0  3.371689   4.835473\n",
       "31   31.0  2.380605   9.252784\n",
       "32   32.0  3.877349   4.645420\n",
       "33   33.0  2.942730   5.755144\n",
       "34   34.0  2.751584   5.541012\n",
       "35   35.0  3.345154   5.437752\n",
       "36   36.0  3.964553   4.500680\n",
       "37   37.0  3.011340   4.746169\n",
       "38   38.0  3.181610   5.790063\n",
       "39   39.0  4.286443   5.006457\n",
       "40   40.0  4.076108   5.120599\n",
       "41   41.0  2.290541   5.136402\n",
       "42   42.0  3.793321   5.246643\n",
       "43   43.0  3.403329   5.636410\n",
       "44   44.0  2.842133   4.510592\n",
       "45   45.0  2.557476   5.781296\n",
       "46   46.0  3.156767   5.137578\n",
       "47   47.0  2.912383   5.222261\n",
       "48   48.0  4.086721   4.716870\n",
       "49   49.0  2.722163   7.222045"
      ]
     },
     "execution_count": 397,
     "metadata": {},
     "output_type": "execute_result"
    }
   ],
   "source": [
    "df_rms.drop('Time',axis=1,inplace=True)      #Drop Frame column, we retain only Time\n",
    "\n",
    "#df_rms['Time' ] = df_rms.Time* 0.001          #Convert time to ns\n",
    "#df_rms.set_index('Time',inplace=True)         #Set Time as index (row labels)\n",
    "df_rms"
   ]
  },
  {
   "cell_type": "code",
   "execution_count": 399,
   "id": "ff893781",
   "metadata": {},
   "outputs": [
    {
     "data": {
      "image/png": "[encoded data removed]",
      "text/plain": [
       "<Figure size 864x576 with 1 Axes>"
      ]
     },
     "metadata": {
      "needs_background": "light"
     },
     "output_type": "display_data"
    }
   ],
   "source": [
    "# Lets do time evolution of RMSD\n",
    "fig = plt.figure(figsize=(12, 8))\n",
    "\n",
    "df_rms.peptide.plot(alpha=0.5)\n",
    "df_rms.receptor.plot(alpha=0.5)\n",
    "\n",
    "plt.xlim( [0,50])\n",
    "plt.ylim( [0,12])\n",
    "plt.xlabel('frame')\n",
    "plt.ylabel( ' RMSD $\\AA$')\n",
    "plt.legend()\n",
    "plt.show()"
   ]
  },
  {
   "cell_type": "code",
   "execution_count": 400,
   "id": "ab984847",
   "metadata": {},
   "outputs": [
    {
     "data": {
      "image/png": "[encoded data removed]",
      "text/plain": [
       "<Figure size 864x576 with 1 Axes>"
      ]
     },
     "metadata": {
      "needs_background": "light"
     },
     "output_type": "display_data"
    }
   ],
   "source": [
    "# Lets see the distribution of RMSD values\n",
    "fig, ax = plt.subplots( figsize=(12,8) )\n",
    "sns.distplot(df_rms.receptor,hist=True,label='receptor',ax=ax)\n",
    "sns.distplot(df_rms.peptide,hist=True,label='peptide',ax=ax)\n",
    "\n",
    "plt.legend(ncol=2,fontsize=9)\n",
    "plt.xlabel('RMSD $\\AA$')\n",
    "plt.xlim( [0,12])\n",
    "plt.show()"
   ]
  },
  {
   "cell_type": "code",
   "execution_count": 401,
   "id": "cdac42b9",
   "metadata": {},
   "outputs": [
    {
     "data": {
      "image/png": "[encoded data removed]",
      "text/plain": [
       "<Figure size 864x576 with 2 Axes>"
      ]
     },
     "metadata": {
      "needs_background": "light"
     },
     "output_type": "display_data"
    }
   ],
   "source": [
    "matrix = diffusionmap.DistanceMatrix(CO, select=peptide).run()\n",
    "matrix.dist_matrix.shape\n",
    "\n",
    "fig = plt.figure(figsize=(12, 8))\n",
    "plt.imshow(matrix.dist_matrix, cmap='viridis')\n",
    "plt.xlabel('Frame')\n",
    "plt.ylabel('Frame')\n",
    "plt.colorbar(label=r'RMSD')\n",
    "plt.show()"
   ]
  },
  {
   "cell_type": "code",
   "execution_count": 402,
   "id": "aff3998f",
   "metadata": {},
   "outputs": [],
   "source": [
    "mat=matrix.dist_matrix\n",
    "mat[mat<3]=0"
   ]
  },
  {
   "cell_type": "code",
   "execution_count": 409,
   "id": "25e1949d",
   "metadata": {},
   "outputs": [
    {
     "ename": "AttributeError",
     "evalue": "'Text' object has no property 'start'",
     "output_type": "error",
     "traceback": [
      "\u001b[0;31m---------------------------------------------------------------------------\u001b[0m",
      "\u001b[0;31mAttributeError\u001b[0m                            Traceback (most recent call last)",
      "\u001b[0;32m<ipython-input-409-c2bbfecfe9fb>\u001b[0m in \u001b[0;36m<module>\u001b[0;34m\u001b[0m\n\u001b[1;32m      5\u001b[0m \u001b[0mplt\u001b[0m\u001b[0;34m.\u001b[0m\u001b[0mxlabel\u001b[0m\u001b[0;34m(\u001b[0m\u001b[0;34m'Frame'\u001b[0m\u001b[0;34m,\u001b[0m\u001b[0mfontsize\u001b[0m\u001b[0;34m=\u001b[0m\u001b[0;34m'25'\u001b[0m\u001b[0;34m)\u001b[0m\u001b[0;34m\u001b[0m\u001b[0;34m\u001b[0m\u001b[0m\n\u001b[1;32m      6\u001b[0m \u001b[0mplt\u001b[0m\u001b[0;34m.\u001b[0m\u001b[0mylabel\u001b[0m\u001b[0;34m(\u001b[0m\u001b[0;34m'Frame'\u001b[0m\u001b[0;34m,\u001b[0m\u001b[0mfontsize\u001b[0m\u001b[0;34m=\u001b[0m\u001b[0;34m'25'\u001b[0m\u001b[0;34m)\u001b[0m\u001b[0;34m\u001b[0m\u001b[0;34m\u001b[0m\u001b[0m\n\u001b[0;32m----> 7\u001b[0;31m \u001b[0mplt\u001b[0m\u001b[0;34m.\u001b[0m\u001b[0mxticks\u001b[0m\u001b[0;34m(\u001b[0m\u001b[0mnp\u001b[0m\u001b[0;34m.\u001b[0m\u001b[0marange\u001b[0m\u001b[0;34m(\u001b[0m\u001b[0;36m5\u001b[0m\u001b[0;34m)\u001b[0m\u001b[0;34m,\u001b[0m\u001b[0mlabels\u001b[0m\u001b[0;34m,\u001b[0m\u001b[0mstart\u001b[0m\u001b[0;34m=\u001b[0m\u001b[0;36m0\u001b[0m\u001b[0;34m,\u001b[0m\u001b[0mstep\u001b[0m\u001b[0;34m=\u001b[0m\u001b[0;36m10\u001b[0m\u001b[0;34m)\u001b[0m\u001b[0;34m\u001b[0m\u001b[0;34m\u001b[0m\u001b[0m\n\u001b[0m\u001b[1;32m      8\u001b[0m \u001b[0mplt\u001b[0m\u001b[0;34m.\u001b[0m\u001b[0mshow\u001b[0m\u001b[0;34m(\u001b[0m\u001b[0;34m)\u001b[0m\u001b[0;34m\u001b[0m\u001b[0;34m\u001b[0m\u001b[0m\n",
      "\u001b[0;32m~/.conda/envs/md/lib/python3.6/site-packages/matplotlib/pyplot.py\u001b[0m in \u001b[0;36mxticks\u001b[0;34m(ticks, labels, **kwargs)\u001b[0m\n\u001b[1;32m   1657\u001b[0m         \u001b[0mlabels\u001b[0m \u001b[0;34m=\u001b[0m \u001b[0max\u001b[0m\u001b[0;34m.\u001b[0m\u001b[0mget_xticklabels\u001b[0m\u001b[0;34m(\u001b[0m\u001b[0;34m)\u001b[0m\u001b[0;34m\u001b[0m\u001b[0;34m\u001b[0m\u001b[0m\n\u001b[1;32m   1658\u001b[0m     \u001b[0;32melse\u001b[0m\u001b[0;34m:\u001b[0m\u001b[0;34m\u001b[0m\u001b[0;34m\u001b[0m\u001b[0m\n\u001b[0;32m-> 1659\u001b[0;31m         \u001b[0mlabels\u001b[0m \u001b[0;34m=\u001b[0m \u001b[0max\u001b[0m\u001b[0;34m.\u001b[0m\u001b[0mset_xticklabels\u001b[0m\u001b[0;34m(\u001b[0m\u001b[0mlabels\u001b[0m\u001b[0;34m,\u001b[0m \u001b[0;34m**\u001b[0m\u001b[0mkwargs\u001b[0m\u001b[0;34m)\u001b[0m\u001b[0;34m\u001b[0m\u001b[0;34m\u001b[0m\u001b[0m\n\u001b[0m\u001b[1;32m   1660\u001b[0m     \u001b[0;32mfor\u001b[0m \u001b[0ml\u001b[0m \u001b[0;32min\u001b[0m \u001b[0mlabels\u001b[0m\u001b[0;34m:\u001b[0m\u001b[0;34m\u001b[0m\u001b[0;34m\u001b[0m\u001b[0m\n\u001b[1;32m   1661\u001b[0m         \u001b[0ml\u001b[0m\u001b[0;34m.\u001b[0m\u001b[0mupdate\u001b[0m\u001b[0;34m(\u001b[0m\u001b[0mkwargs\u001b[0m\u001b[0;34m)\u001b[0m\u001b[0;34m\u001b[0m\u001b[0;34m\u001b[0m\u001b[0m\n",
      "\u001b[0;32m~/.conda/envs/md/lib/python3.6/site-packages/matplotlib/axes/_base.py\u001b[0m in \u001b[0;36mwrapper\u001b[0;34m(self, *args, **kwargs)\u001b[0m\n\u001b[1;32m     61\u001b[0m \u001b[0;34m\u001b[0m\u001b[0m\n\u001b[1;32m     62\u001b[0m         \u001b[0;32mdef\u001b[0m \u001b[0mwrapper\u001b[0m\u001b[0;34m(\u001b[0m\u001b[0mself\u001b[0m\u001b[0;34m,\u001b[0m \u001b[0;34m*\u001b[0m\u001b[0margs\u001b[0m\u001b[0;34m,\u001b[0m \u001b[0;34m**\u001b[0m\u001b[0mkwargs\u001b[0m\u001b[0;34m)\u001b[0m\u001b[0;34m:\u001b[0m\u001b[0;34m\u001b[0m\u001b[0;34m\u001b[0m\u001b[0m\n\u001b[0;32m---> 63\u001b[0;31m             \u001b[0;32mreturn\u001b[0m \u001b[0mget_method\u001b[0m\u001b[0;34m(\u001b[0m\u001b[0mself\u001b[0m\u001b[0;34m)\u001b[0m\u001b[0;34m(\u001b[0m\u001b[0;34m*\u001b[0m\u001b[0margs\u001b[0m\u001b[0;34m,\u001b[0m \u001b[0;34m**\u001b[0m\u001b[0mkwargs\u001b[0m\u001b[0;34m)\u001b[0m\u001b[0;34m\u001b[0m\u001b[0;34m\u001b[0m\u001b[0m\n\u001b[0m\u001b[1;32m     64\u001b[0m \u001b[0;34m\u001b[0m\u001b[0m\n\u001b[1;32m     65\u001b[0m         \u001b[0mwrapper\u001b[0m\u001b[0;34m.\u001b[0m\u001b[0m__module__\u001b[0m \u001b[0;34m=\u001b[0m \u001b[0mowner\u001b[0m\u001b[0;34m.\u001b[0m\u001b[0m__module__\u001b[0m\u001b[0;34m\u001b[0m\u001b[0;34m\u001b[0m\u001b[0m\n",
      "\u001b[0;32m~/.conda/envs/md/lib/python3.6/site-packages/matplotlib/cbook/deprecation.py\u001b[0m in \u001b[0;36mwrapper\u001b[0;34m(*args, **kwargs)\u001b[0m\n\u001b[1;32m    449\u001b[0m                 \u001b[0;34m\"parameter will become keyword-only %(removal)s.\"\u001b[0m\u001b[0;34m,\u001b[0m\u001b[0;34m\u001b[0m\u001b[0;34m\u001b[0m\u001b[0m\n\u001b[1;32m    450\u001b[0m                 name=name, obj_type=f\"parameter of {func.__name__}()\")\n\u001b[0;32m--> 451\u001b[0;31m         \u001b[0;32mreturn\u001b[0m \u001b[0mfunc\u001b[0m\u001b[0;34m(\u001b[0m\u001b[0;34m*\u001b[0m\u001b[0margs\u001b[0m\u001b[0;34m,\u001b[0m \u001b[0;34m**\u001b[0m\u001b[0mkwargs\u001b[0m\u001b[0;34m)\u001b[0m\u001b[0;34m\u001b[0m\u001b[0;34m\u001b[0m\u001b[0m\n\u001b[0m\u001b[1;32m    452\u001b[0m \u001b[0;34m\u001b[0m\u001b[0m\n\u001b[1;32m    453\u001b[0m     \u001b[0;32mreturn\u001b[0m \u001b[0mwrapper\u001b[0m\u001b[0;34m\u001b[0m\u001b[0;34m\u001b[0m\u001b[0m\n",
      "\u001b[0;32m~/.conda/envs/md/lib/python3.6/site-packages/matplotlib/axis.py\u001b[0m in \u001b[0;36m_set_ticklabels\u001b[0;34m(self, labels, fontdict, minor, **kwargs)\u001b[0m\n\u001b[1;32m   1794\u001b[0m         \u001b[0;32mif\u001b[0m \u001b[0mfontdict\u001b[0m \u001b[0;32mis\u001b[0m \u001b[0;32mnot\u001b[0m \u001b[0;32mNone\u001b[0m\u001b[0;34m:\u001b[0m\u001b[0;34m\u001b[0m\u001b[0;34m\u001b[0m\u001b[0m\n\u001b[1;32m   1795\u001b[0m             \u001b[0mkwargs\u001b[0m\u001b[0;34m.\u001b[0m\u001b[0mupdate\u001b[0m\u001b[0;34m(\u001b[0m\u001b[0mfontdict\u001b[0m\u001b[0;34m)\u001b[0m\u001b[0;34m\u001b[0m\u001b[0;34m\u001b[0m\u001b[0m\n\u001b[0;32m-> 1796\u001b[0;31m         \u001b[0;32mreturn\u001b[0m \u001b[0mself\u001b[0m\u001b[0;34m.\u001b[0m\u001b[0mset_ticklabels\u001b[0m\u001b[0;34m(\u001b[0m\u001b[0mlabels\u001b[0m\u001b[0;34m,\u001b[0m \u001b[0mminor\u001b[0m\u001b[0;34m=\u001b[0m\u001b[0mminor\u001b[0m\u001b[0;34m,\u001b[0m \u001b[0;34m**\u001b[0m\u001b[0mkwargs\u001b[0m\u001b[0;34m)\u001b[0m\u001b[0;34m\u001b[0m\u001b[0;34m\u001b[0m\u001b[0m\n\u001b[0m\u001b[1;32m   1797\u001b[0m \u001b[0;34m\u001b[0m\u001b[0m\n\u001b[1;32m   1798\u001b[0m     \u001b[0;34m@\u001b[0m\u001b[0mcbook\u001b[0m\u001b[0;34m.\u001b[0m\u001b[0m_make_keyword_only\u001b[0m\u001b[0;34m(\u001b[0m\u001b[0;34m\"3.2\"\u001b[0m\u001b[0;34m,\u001b[0m \u001b[0;34m\"minor\"\u001b[0m\u001b[0;34m)\u001b[0m\u001b[0;34m\u001b[0m\u001b[0;34m\u001b[0m\u001b[0m\n",
      "\u001b[0;32m~/.conda/envs/md/lib/python3.6/site-packages/matplotlib/axis.py\u001b[0m in \u001b[0;36mset_ticklabels\u001b[0;34m(self, ticklabels, minor, **kwargs)\u001b[0m\n\u001b[1;32m   1741\u001b[0m             \u001b[0;31m# deal with label1\u001b[0m\u001b[0;34m\u001b[0m\u001b[0;34m\u001b[0m\u001b[0;34m\u001b[0m\u001b[0m\n\u001b[1;32m   1742\u001b[0m             \u001b[0mtick\u001b[0m\u001b[0;34m.\u001b[0m\u001b[0mlabel1\u001b[0m\u001b[0;34m.\u001b[0m\u001b[0mset_text\u001b[0m\u001b[0;34m(\u001b[0m\u001b[0mtick_label\u001b[0m\u001b[0;34m)\u001b[0m\u001b[0;34m\u001b[0m\u001b[0;34m\u001b[0m\u001b[0m\n\u001b[0;32m-> 1743\u001b[0;31m             \u001b[0mtick\u001b[0m\u001b[0;34m.\u001b[0m\u001b[0mlabel1\u001b[0m\u001b[0;34m.\u001b[0m\u001b[0mupdate\u001b[0m\u001b[0;34m(\u001b[0m\u001b[0mkwargs\u001b[0m\u001b[0;34m)\u001b[0m\u001b[0;34m\u001b[0m\u001b[0;34m\u001b[0m\u001b[0m\n\u001b[0m\u001b[1;32m   1744\u001b[0m             \u001b[0;31m# deal with label2\u001b[0m\u001b[0;34m\u001b[0m\u001b[0;34m\u001b[0m\u001b[0;34m\u001b[0m\u001b[0m\n\u001b[1;32m   1745\u001b[0m             \u001b[0mtick\u001b[0m\u001b[0;34m.\u001b[0m\u001b[0mlabel2\u001b[0m\u001b[0;34m.\u001b[0m\u001b[0mset_text\u001b[0m\u001b[0;34m(\u001b[0m\u001b[0mtick_label\u001b[0m\u001b[0;34m)\u001b[0m\u001b[0;34m\u001b[0m\u001b[0;34m\u001b[0m\u001b[0m\n",
      "\u001b[0;32m~/.conda/envs/md/lib/python3.6/site-packages/matplotlib/text.py\u001b[0m in \u001b[0;36mupdate\u001b[0;34m(self, kwargs)\u001b[0m\n\u001b[1;32m    177\u001b[0m         \u001b[0;31m# Update bbox last, as it depends on font properties.\u001b[0m\u001b[0;34m\u001b[0m\u001b[0;34m\u001b[0m\u001b[0;34m\u001b[0m\u001b[0m\n\u001b[1;32m    178\u001b[0m         \u001b[0mbbox\u001b[0m \u001b[0;34m=\u001b[0m \u001b[0mkwargs\u001b[0m\u001b[0;34m.\u001b[0m\u001b[0mpop\u001b[0m\u001b[0;34m(\u001b[0m\u001b[0;34m\"bbox\"\u001b[0m\u001b[0;34m,\u001b[0m \u001b[0msentinel\u001b[0m\u001b[0;34m)\u001b[0m\u001b[0;34m\u001b[0m\u001b[0;34m\u001b[0m\u001b[0m\n\u001b[0;32m--> 179\u001b[0;31m         \u001b[0msuper\u001b[0m\u001b[0;34m(\u001b[0m\u001b[0;34m)\u001b[0m\u001b[0;34m.\u001b[0m\u001b[0mupdate\u001b[0m\u001b[0;34m(\u001b[0m\u001b[0mkwargs\u001b[0m\u001b[0;34m)\u001b[0m\u001b[0;34m\u001b[0m\u001b[0;34m\u001b[0m\u001b[0m\n\u001b[0m\u001b[1;32m    180\u001b[0m         \u001b[0;32mif\u001b[0m \u001b[0mbbox\u001b[0m \u001b[0;32mis\u001b[0m \u001b[0;32mnot\u001b[0m \u001b[0msentinel\u001b[0m\u001b[0;34m:\u001b[0m\u001b[0;34m\u001b[0m\u001b[0;34m\u001b[0m\u001b[0m\n\u001b[1;32m    181\u001b[0m             \u001b[0mself\u001b[0m\u001b[0;34m.\u001b[0m\u001b[0mset_bbox\u001b[0m\u001b[0;34m(\u001b[0m\u001b[0mbbox\u001b[0m\u001b[0;34m)\u001b[0m\u001b[0;34m\u001b[0m\u001b[0;34m\u001b[0m\u001b[0m\n",
      "\u001b[0;32m~/.conda/envs/md/lib/python3.6/site-packages/matplotlib/artist.py\u001b[0m in \u001b[0;36mupdate\u001b[0;34m(self, props)\u001b[0m\n\u001b[1;32m    994\u001b[0m                     \u001b[0mfunc\u001b[0m \u001b[0;34m=\u001b[0m \u001b[0mgetattr\u001b[0m\u001b[0;34m(\u001b[0m\u001b[0mself\u001b[0m\u001b[0;34m,\u001b[0m \u001b[0;34mf\"set_{k}\"\u001b[0m\u001b[0;34m,\u001b[0m \u001b[0;32mNone\u001b[0m\u001b[0;34m)\u001b[0m\u001b[0;34m\u001b[0m\u001b[0;34m\u001b[0m\u001b[0m\n\u001b[1;32m    995\u001b[0m                     \u001b[0;32mif\u001b[0m \u001b[0;32mnot\u001b[0m \u001b[0mcallable\u001b[0m\u001b[0;34m(\u001b[0m\u001b[0mfunc\u001b[0m\u001b[0;34m)\u001b[0m\u001b[0;34m:\u001b[0m\u001b[0;34m\u001b[0m\u001b[0;34m\u001b[0m\u001b[0m\n\u001b[0;32m--> 996\u001b[0;31m                         raise AttributeError(f\"{type(self).__name__!r} object \"\n\u001b[0m\u001b[1;32m    997\u001b[0m                                              f\"has no property {k!r}\")\n\u001b[1;32m    998\u001b[0m                     \u001b[0mret\u001b[0m\u001b[0;34m.\u001b[0m\u001b[0mappend\u001b[0m\u001b[0;34m(\u001b[0m\u001b[0mfunc\u001b[0m\u001b[0;34m(\u001b[0m\u001b[0mv\u001b[0m\u001b[0;34m)\u001b[0m\u001b[0;34m)\u001b[0m\u001b[0;34m\u001b[0m\u001b[0;34m\u001b[0m\u001b[0m\n",
      "\u001b[0;31mAttributeError\u001b[0m: 'Text' object has no property 'start'"
     ]
    },
    {
     "data": {
      "image/png": "[encoded data removed]",
      "text/plain": [
       "<Figure size 1296x864 with 2 Axes>"
      ]
     },
     "metadata": {
      "needs_background": "light"
     },
     "output_type": "display_data"
    }
   ],
   "source": [
    "labels=['simu1','simu2','simu3','simu4','simu5']\n",
    "fig = plt.figure(figsize=(18, 12))\n",
    "plt.imshow(matrix.dist_matrix, cmap='inferno',interpolation='nearest')\n",
    "plt.colorbar(label=r'RMSD')\n",
    "plt.xlabel('Frame',fontsize='25')\n",
    "plt.ylabel('Frame',fontsize='25')\n",
    "plt.xticks(np.arange(5),labels)\n",
    "plt.show()"
   ]
  },
  {
   "cell_type": "code",
   "execution_count": 272,
   "id": "70668a8a",
   "metadata": {},
   "outputs": [],
   "source": [
    "#result=[ts.frame for ts in CO.trajectory if ]"
   ]
  },
  {
   "cell_type": "code",
   "execution_count": 404,
   "id": "6b2317f6",
   "metadata": {},
   "outputs": [
    {
     "name": "stdout",
     "output_type": "stream",
     "text": [
      "frame 0 is found in these frames: [10 12 22 26 32 36 39 44]\n",
      "frame 1 is found in these frames: [27 36 41]\n",
      "frame 2 is found in these frames: [14]\n",
      "frame 3 is found in these frames: [ 5 10 13 24 36 46]\n",
      "frame 4 is found in these frames: [32]\n",
      "frame 5 is found in these frames: [ 5 24 46]\n",
      "frame 6 is found in these frames: [11 30 40 45 48]\n",
      "frame 7 is found in these frames: []\n",
      "frame 8 is found in these frames: [29]\n",
      "frame 9 is found in these frames: [12 39]\n",
      "frame 10 is found in these frames: [ 3 10 13 24 36 44 46]\n",
      "frame 11 is found in these frames: [11 30 40 48]\n",
      "frame 12 is found in these frames: [ 9 12 22 26 32 39 44]\n",
      "frame 13 is found in these frames: [10 13 46]\n",
      "frame 14 is found in these frames: [14]\n",
      "frame 15 is found in these frames: []\n",
      "frame 16 is found in these frames: [29]\n",
      "frame 17 is found in these frames: []\n",
      "frame 18 is found in these frames: [34 43]\n",
      "frame 19 is found in these frames: [33 42]\n",
      "frame 20 is found in these frames: []\n",
      "frame 21 is found in these frames: []\n",
      "frame 22 is found in these frames: [12 22 32 39 44]\n",
      "frame 23 is found in these frames: []\n",
      "frame 24 is found in these frames: [ 5 10 24 36 44 46]\n",
      "frame 25 is found in these frames: []\n",
      "frame 26 is found in these frames: [12 26 39 44]\n",
      "frame 27 is found in these frames: [27 41]\n",
      "frame 28 is found in these frames: []\n",
      "frame 29 is found in these frames: [16 29]\n",
      "frame 30 is found in these frames: [11 30 40 48]\n",
      "frame 31 is found in these frames: []\n",
      "frame 32 is found in these frames: [ 4 12 22 32]\n",
      "frame 33 is found in these frames: [33 42 45]\n",
      "frame 34 is found in these frames: [34 43]\n",
      "frame 35 is found in these frames: [42 47]\n",
      "frame 36 is found in these frames: [ 1  3 10 24 36 46]\n",
      "frame 37 is found in these frames: []\n",
      "frame 38 is found in these frames: []\n",
      "frame 39 is found in these frames: [ 9 12 22 26 39 44]\n",
      "frame 40 is found in these frames: [11 30 40 48]\n",
      "frame 41 is found in these frames: [27 41]\n",
      "frame 42 is found in these frames: [33 35 42]\n",
      "frame 43 is found in these frames: [34 43]\n",
      "frame 44 is found in these frames: [10 12 22 24 26 39 44]\n",
      "frame 45 is found in these frames: [33 45]\n",
      "frame 46 is found in these frames: [ 5 10 13 24 36 46]\n",
      "frame 47 is found in these frames: [47]\n",
      "frame 48 is found in these frames: [11 30 40 48]\n",
      "frame 49 is found in these frames: []\n"
     ]
    }
   ],
   "source": [
    "for i in range(50):   \n",
    "    x = np.where(matrix.dist_matrix[i]==0)\n",
    "    print('frame '+str(i)+' is found in these frames:',np.delete(x, 0))"
   ]
  },
  {
   "cell_type": "code",
   "execution_count": null,
   "id": "b391ffa5",
   "metadata": {},
   "outputs": [],
   "source": [
    "#Save rmsd output to csv file\n",
    "\n",
    "#df_rms.to_csv( fout_rms ,index_label='Time') \n",
    "#display(df_rms.head(5), df_rms.tail(4) )"
   ]
  },
  {
   "cell_type": "markdown",
   "id": "191282b5",
   "metadata": {},
   "source": [
    "#### **3. RMSF Analysis**\n",
    "- HOWTO\n",
    "    1. Prior to RMSF, the trajectory should be fitted to reference structure (`We have done it`)\n",
    "    2. We obtain RMSF in different blocks (of 400 ns)\n",
    "        - RMSF is usually computed for the whole trajectory\n",
    "        - RMSF obtained in blocks (of 100 ns) gives more information.\n",
    "            - Helps us to monitor RMSF changes at different time regimes\n",
    "        - Save the RMSF data in dataframe (`df_rmsf`)\n",
    "            - Herein, we use residue ids as index (row labels)"
   ]
  },
  {
   "cell_type": "code",
   "execution_count": null,
   "id": "507f12e9",
   "metadata": {},
   "outputs": [],
   "source": [
    "fout_rmf   = 'RMSF.csv'  # rmsf output file\n",
    "fout_pca   = 'PCA.csv'   # PCA projections\n",
    "fout_cls   = 'CLUS.csv'  # Cluster output file"
   ]
  },
  {
   "cell_type": "code",
   "execution_count": null,
   "id": "f6bd1d8a",
   "metadata": {},
   "outputs": [],
   "source": [
    "# RMSF is calculated in blocks\n",
    "nblocks = 10                                 #No. of blocks\n",
    "size = U.trajectory.n_frames / nblocks       #Size of a block, 1000 frames\n",
    "df_rmsf  = pd.DataFrame()   \n",
    "\n",
    "size = int(size)\n",
    "print( f\"Number of frames in each block:{size}\" )\n",
    "print( f\"Time region for each block:{df_rms.index[size]} ns\\n\")\n",
    "\n",
    "# Here starts the rmsf estimation\n",
    "for block in range(nblocks):\n",
    "    \n",
    "    # Start and End frames as obtained as intergers\n",
    "    begin = (block * size) ;  end = (block + 1) * size\n",
    "    print( f\"Start frame:{begin} and End frame:{end}\")\n",
    "    \n",
    "    # We use rms.RMSF routine to calculate the rmsf.\n",
    "    brmsf = rms.RMSF( U.select_atoms(peptide), verbose=True ).run( start = begin , stop = end)\n",
    "    df_rmsf[ f\"B{block+1}\" ]  =  brmsf.results.rmsf\n",
    "\n",
    "print('Done Boss')"
   ]
  },
  {
   "cell_type": "code",
   "execution_count": null,
   "id": "d14c5b8e",
   "metadata": {},
   "outputs": [],
   "source": [
    "# Extract residue numbers, keep them as row labels\n",
    "Rids = U.select_atoms( peptide ).resnums  # resnums gives residue numbers for atmgroup Full\n",
    "df_rmsf.index = Rids\n",
    "df_rmsf.index.name = 'Residue' "
   ]
  },
  {
   "cell_type": "code",
   "execution_count": null,
   "id": "44d408cf",
   "metadata": {},
   "outputs": [],
   "source": [
    "# We can save the dataframe to output file\n",
    "\n",
    "#df_rmsf.to_csv(fout_rmf ,index_label='Residue')\n",
    "#display( df_rmsf.head(5),df_rmsf.tail(4))"
   ]
  },
  {
   "cell_type": "markdown",
   "id": "ce976170",
   "metadata": {
    "tags": []
   },
   "source": [
    "#### **4. PCA Analysis**\n",
    "- HOWTO\n",
    "    1. PCA analysis is usually performed on a subset of atoms\n",
    "        - Herein, we consider C$_\\alpha$ atoms\n",
    "    2. Since we have a longer trajectory, we use frames in 500 ps interval (0.5 ns)\n",
    "        - Herein, we use begin, end, skip variables to define the range\n",
    "    3. After applying PCA, we estimate statistical parameters\n",
    "        - Cumulated variance\n",
    "    4. We project the trajectory on PCA space\n",
    "    5. We save projections on a dframe (`df_pca`)\n",
    "        - We use `Time` signature as our dframe index"
   ]
  },
  {
   "cell_type": "code",
   "execution_count": null,
   "id": "d307ad7a",
   "metadata": {},
   "outputs": [],
   "source": [
    "from sklearn.decomposition import PCA\n",
    "import hdbscan as HDBSCAN               #clustering algorithm"
   ]
  },
  {
   "cell_type": "code",
   "execution_count": null,
   "id": "d160a365",
   "metadata": {},
   "outputs": [],
   "source": [
    "# Selecting an atom group to apply PCA\n",
    "sel = backbone\n",
    "begin,end,skip = 0 , 10000 , 5\n",
    "\n",
    "# PCA starts here\n",
    "mypca = pca.PCA( U , select= sel )\n",
    "mypca.run(begin,end,skip)\n",
    "print('Done Boss')"
   ]
  },
  {
   "cell_type": "code",
   "execution_count": null,
   "id": "a5af17ce",
   "metadata": {},
   "outputs": [],
   "source": [
    "# Cumulated variance\n",
    "# Infer number of PC components that explain most variance\n",
    "\n",
    "display( f\"Total number of PCs: {mypca.cumulated_variance.size} \" )\n",
    "print( f\"Cumulative variance of first 10 PCs\\n{ mypca.cumulated_variance[:9] } \" )"
   ]
  },
  {
   "cell_type": "code",
   "execution_count": null,
   "id": "7430e7da",
   "metadata": {},
   "outputs": [],
   "source": [
    "# Calculate projection for first 5 components\n",
    "\n",
    "atmgrp =  U.select_atoms( sel ) ; ncomps = 9\n",
    "pcspace = mypca.transform( atmgrp, n_components= ncomps, start = begin,stop = end,step = skip)\n",
    "\n",
    "# Place the results in a dataframe\n",
    "cols = [ f\"PC{x+1}\" for x in range(ncomps) ]\n",
    "df_pca = pd.DataFrame( pcspace , columns= cols )\n",
    "df_pca.head(5)"
   ]
  },
  {
   "cell_type": "code",
   "execution_count": null,
   "id": "65c66f20",
   "metadata": {},
   "outputs": [],
   "source": [
    "# Add Time signatures to projection data\n",
    "# We extract Time from df_rms data passing begin,end and skip values\n",
    "\n",
    "df_pca['Time'] = df_rms.index[begin:end:skip]\n",
    "df_pca.set_index('Time',inplace=True)\n",
    "\n",
    "# Save the output to csv file\n",
    "#df_pca.to_csv( fout_pca , index_label= 'Time' )\n",
    "#display( df_pca.head(5) , df_pca.tail(4)  )"
   ]
  },
  {
   "cell_type": "markdown",
   "id": "9c1c9e2e",
   "metadata": {},
   "source": [
    "#### **View Motion along PCAs**\n",
    "- For the first three PCs, firstly we identify,\n",
    "    1. Min and Max projection values\n",
    "    2. Time index and Frame number at which min and max happens\n",
    "    3. Projected coordinates for the corresponding frames (`use get_motion` function)\n",
    "    4. Use nglview to visualize the motion"
   ]
  },
  {
   "cell_type": "code",
   "execution_count": null,
   "id": "11725d88",
   "metadata": {},
   "outputs": [],
   "source": [
    "# 1. Min and max values for first three PCs\n",
    "df_pca.iloc[:,:3].min() ,  df_pca.iloc[:,:3].max()"
   ]
  },
  {
   "cell_type": "code",
   "execution_count": null,
   "id": "0d896f31",
   "metadata": {},
   "outputs": [],
   "source": [
    "# 2a Time @ which Min & Max values observed\n",
    "allmin = df_pca.iloc[:,:3].idxmin(axis=0, skipna=True) \n",
    "allmax = df_pca.iloc[:,:3].idxmax(axis=0, skipna=True)\n",
    "allmin,allmax"
   ]
  },
  {
   "cell_type": "code",
   "execution_count": null,
   "id": "033cea4a",
   "metadata": {},
   "outputs": [],
   "source": [
    "# 2b Frame @ which Min & Max values observed\n",
    "all_index = df_pca.index\n",
    "for x,y in zip( allmin, allmax):\n",
    "    print( f\"min:{x} , max:{y}\" )\n",
    "    print( f\"min-frame:{all_index.get_loc(x)} , max-frame:{all_index.get_loc(y)}\\n\" )  "
   ]
  },
  {
   "cell_type": "markdown",
   "id": "65bf685a",
   "metadata": {},
   "source": [
    "#### **5. Cluster Analysis**\n",
    "- HOWTO\n",
    "    - There are many ways one may cluster the trajectory\n",
    "      - Herein, we use the distribution of points on PCA space for clustering.\n",
    "      - To this end, we use a density based clustering algorithm (hdbscan)\n",
    "          - Note that density based methods identify also noise points that could not be assigned to any cluster.\n",
    "    - Once the clusters are identified, we estimate\n",
    "      - Distance of each point to the centroid of the cluster they belong to.\n",
    "      - We extract the conformation close to centroid as `cluster representative`\n",
    "    - Clustering results, as usual, are placed in a dframe ( `df_clus` )    "
   ]
  },
  {
   "cell_type": "code",
   "execution_count": null,
   "id": "c443528b",
   "metadata": {},
   "outputs": [],
   "source": [
    "# A cluster should have atleast 5% of total population\n",
    "\n",
    "minsize = int( df_pca.shape[0]*.05)\n",
    "print( f\"Mininum samples in a cluster:{minsize}\" )\n",
    "\n",
    "# We use hdbscan library here (examine the Imports section at the top)\n",
    "# We use PCs 1-5\n",
    "\n",
    "hdbs = HDBSCAN.HDBSCAN(min_cluster_size=minsize)\n",
    "hclus = hdbs.fit_predict(df_pca.loc[:,'PC1':'PC10'] )\n",
    "\n",
    "# Obtain total number of clusters\n",
    "Nclus = set(hclus)\n",
    "display( f'No of clusters: { len( Nclus ) } and cluster ids: {Nclus} ')"
   ]
  },
  {
   "cell_type": "code",
   "execution_count": null,
   "id": "c9f24e73",
   "metadata": {},
   "outputs": [],
   "source": [
    "# Create dframe to store cluster results\n",
    "df_clus = pd.DataFrame( )\n",
    "\n",
    "# Assign clusters and time index\n",
    "df_clus['Cluster' ] = hclus\n",
    "df_clus.index.name = 'Time'\n",
    "df_clus.index = df_pca.index\n",
    "\n",
    "display( df_clus.head(5),df_clus.tail(4) )"
   ]
  },
  {
   "cell_type": "code",
   "execution_count": null,
   "id": "3557e80e",
   "metadata": {},
   "outputs": [],
   "source": [
    "# We extract RMSD values for frame in each cluster\n",
    "df_rms.iloc[ begin:end:skip ].full"
   ]
  },
  {
   "cell_type": "code",
   "execution_count": null,
   "id": "4434ef6f",
   "metadata": {},
   "outputs": [],
   "source": [
    "# Add RMSD to cluster data\n",
    "df_clus[ 'RMSD' ] =  df_rms.iloc[ begin:end:skip ].full"
   ]
  },
  {
   "cell_type": "code",
   "execution_count": null,
   "id": "eba3ba67",
   "metadata": {},
   "outputs": [],
   "source": [
    "display( df_clus.head(5),df_clus.tail(2) )"
   ]
  },
  {
   "cell_type": "code",
   "execution_count": null,
   "id": "9405e8f8",
   "metadata": {},
   "outputs": [],
   "source": [
    "# First, we assign CDist as a column with value 0\n",
    "df_clus['CDist'] = 0.0\n",
    "\n",
    "# For each point, we obtain its distance to the centroid\n",
    "\n",
    "for val in Nclus:\n",
    "    print(f\"Current cluster id:{val}\")\n",
    "    # Extract subset of dframe corresponding to the cluster id\n",
    "    subset = df_clus[df_clus.Cluster == val].index\n",
    "    points = df_pca.loc[ subset, \"PC1\":\"PC3\" ].values\n",
    "    Mean   = points.mean(axis=0)\n",
    "    \n",
    "    # Distance to cluster centroid (i.e mean value)\n",
    "    dist = np.sqrt( ( (points - Mean)**2 ).sum(1)  )\n",
    "    df_clus.loc[ subset, 'CDist'] = dist\n",
    "                \n",
    "df_clus.head()"
   ]
  },
  {
   "cell_type": "code",
   "execution_count": null,
   "id": "6abe0626",
   "metadata": {},
   "outputs": [],
   "source": [
    "# Collect as Time values in df_rms\n",
    "Frame = df_rms.index\n",
    "\n",
    "# For each Time information df_clus, collect corresponding frame number from df_rms\n",
    "Frame_no = [ Frame.get_loc(x) for x in df_clus.index ]\n",
    "\n",
    "# Add Frame number as new column in the cluster data\n",
    "df_clus['FRAME'] = Frame_no\n",
    "\n",
    "#df_clus.to_csv( fout_cls , index_label= 'Time')\n",
    "df_clus.head(4)"
   ]
  },
  {
   "cell_type": "code",
   "execution_count": null,
   "id": "4030f3f9",
   "metadata": {},
   "outputs": [],
   "source": [
    "# For each cluster, identify point closer to centroid (i.e, Min of CDist)\n",
    "print(df_clus.groupby(['Cluster']).min() )\n",
    "Mns = df_clus.groupby(['Cluster']).min().CDist"
   ]
  },
  {
   "cell_type": "code",
   "execution_count": null,
   "id": "d487828f",
   "metadata": {},
   "outputs": [],
   "source": [
    "# Structure closer to centroid can be considered as representatives\n",
    "# Identify frame no of representatives\n",
    "df_clus[ df_clus.CDist.isin(Mns) ]"
   ]
  },
  {
   "cell_type": "markdown",
   "id": "a16c70c1",
   "metadata": {},
   "source": [
    "- **Attension**\n",
    "    1. In density based clustering `-1` represents noise points in space.\n",
    "        - We are not interested in the representatives of noise points.\n",
    "    2. We know the `Time` signature and `Frame no` of the representatives\n",
    "        - Hence, we save the representatives as pdb's"
   ]
  },
  {
   "cell_type": "code",
   "execution_count": null,
   "id": "fdeee07b",
   "metadata": {},
   "outputs": [],
   "source": [
    "# Cluster -1 is noise, so we ignore it\n",
    "\n",
    "Sel = U.select_atoms('protein')\n",
    "U.trajectory[2035]\n",
    "Sel.write('C1.pdb')\n",
    "\n",
    "U.trajectory[7735]\n",
    "Sel.write('C2.pdb')\n",
    "\n",
    "#U.trajectory[4955]\n",
    "#Sel.write('C3.pdb')"
   ]
  },
  {
   "cell_type": "markdown",
   "id": "1da840f8",
   "metadata": {},
   "source": [
    "## DATA VISUALIZATION\n",
    "\n",
    "#### **RMSD**"
   ]
  },
  {
   "cell_type": "markdown",
   "id": "56629f55",
   "metadata": {},
   "source": [
    "#### **RMSF**"
   ]
  },
  {
   "cell_type": "code",
   "execution_count": null,
   "id": "bbf402fd",
   "metadata": {},
   "outputs": [],
   "source": [
    "df_rmsf.boxplot() "
   ]
  },
  {
   "cell_type": "code",
   "execution_count": null,
   "id": "0a4dd2f3",
   "metadata": {},
   "outputs": [],
   "source": [
    "rmsf_m1 = df_rmsf.loc[ : , 'B1':'B10'].mean(axis=1)\n",
    "#rmsf_m2 = df_rmsf.loc[ : , 'B4':'B7'].mean(axis=1)\n",
    "#rmsf_m3 = df_rmsf.loc[ : , 'B7':'B10'].mean(axis=1)\n",
    "\n",
    "rmsf_m1.plot()\n",
    "#rmsf_m2.plot()\n",
    "#rmsf_m3.plot()\n",
    "\n",
    "plt.xlim([367,372])\n",
    "# Highlight NBD\n",
    "#plt.axvspan(40,155,color='k',alpha=0.2)\n",
    "#plt.axvspan(157,265,color='g',alpha=0.1)\n",
    "#plt.axvspan(267,375,color='y',alpha=0.1)\n",
    "#plt.axvspan(342,373,color='R',alpha=0.1)\n",
    "\n",
    "#plt.text(80,15,'D1',size=16)\n",
    "#plt.text(200,15,'D2',size=16)\n",
    "#plt.text(300,15,'D3',size=16)\n",
    "#plt.text(315,15,'D4',size=16)\n",
    "plt.ylabel('RMSF $\\AA$')"
   ]
  },
  {
   "cell_type": "markdown",
   "id": "88c5f45a",
   "metadata": {},
   "source": [
    "#### **PCA**"
   ]
  },
  {
   "cell_type": "code",
   "execution_count": null,
   "id": "53e7d4be",
   "metadata": {},
   "outputs": [],
   "source": [
    "# Visualize cumulative variance of first 10 PCs\n",
    "fig, ax = plt.subplots( figsize=(4.5,3.2) )\n",
    "Y = mypca.cumulated_variance[:10]\n",
    "X = [ l+1 for l in range(10) ]\n",
    "ax.plot( X, Y ,'s--' ,ms=5)\n",
    "ax.axhline( Y[2], color='b' , ls='--' )\n",
    "ax.set_ylabel('Explained Variance (%)')\n",
    "ax.set_xlabel('PC index')"
   ]
  },
  {
   "cell_type": "code",
   "execution_count": null,
   "id": "b43333c8",
   "metadata": {},
   "outputs": [],
   "source": [
    "# We visualize the scatter plots for most prominent (PC1-3)\n",
    "# Make scatter plots of PCs1-3\n",
    "fig, ax = plt.subplots(1,2,figsize=(10,4),dpi=300 )\n",
    "fig.subplots_adjust( wspace = 0.32)\n",
    "\n",
    "sns.scatterplot(data=df_pca,x=\"PC1\",y=\"PC2\",ax=ax[0])\n",
    "sns.scatterplot(data=df_pca,x=\"PC1\",y=\"PC3\",ax=ax[1])\n",
    "\n",
    "\n",
    "# Seaborn color maps (https://seaborn.pydata.org/tutorial/color_palettes.html)\n",
    "\n",
    "#sns.kdeplot(data=df_pca,x=\"PC1\",y=\"PC2\",ax=ax[0],shade=True,cmap='Greys_r')\n",
    "#sns.kdeplot(data=df_pca,x=\"PC1\",y=\"PC3\",ax=ax[1],shade=True,cmap='Set1')\n"
   ]
  },
  {
   "cell_type": "code",
   "execution_count": null,
   "id": "f00fad28",
   "metadata": {},
   "outputs": [],
   "source": [
    "# Distribution along individual PC components\n",
    "sns.distplot(df_pca.PC1,label='PC1',hist=False)\n",
    "sns.distplot(df_pca.PC2,label='PC2',hist=False)\n",
    "sns.distplot(df_pca.PC4,label='PC4',hist=False)\n",
    "sns.distplot(df_pca.PC5,label='PC5',hist=False)\n",
    "\n",
    "plt.legend()  #Explained Variance reduces as we go from PC1 to PC5\n",
    "plt.xlim([-100,100])\n",
    "sns.set(rc={'figure.figsize':(10,4)})"
   ]
  },
  {
   "cell_type": "markdown",
   "id": "52fb3246",
   "metadata": {},
   "source": [
    "#### **Cluster Evolution**\n"
   ]
  },
  {
   "cell_type": "code",
   "execution_count": null,
   "id": "867698c1",
   "metadata": {},
   "outputs": [],
   "source": [
    "# Lets map clusters on RMSD plot\n",
    "nclus = set( df_clus.Cluster)\n",
    "fig, ax = plt.subplots( figsize=(10,8) )\n",
    "\n",
    "for val in nclus:\n",
    "    # val -1 indicates noise points\n",
    "    # For each cluster, we show frame closer to cluster centroid as Cross\n",
    "    if val > -1:\n",
    "        data = df_clus[ df_clus.Cluster == val ]\n",
    "        ax.plot( data.index,data.RMSD,'.')\n",
    "        \n",
    "        Mn = data.CDist.min()\n",
    "        Cent =  data[ data.CDist == Mn ]\n",
    "        ax.plot( Cent.index, Cent.RMSD, 'X',color='green',ms=16)\n",
    "            \n",
    "\n",
    "ax.set_xlabel('Time ns')\n",
    "ax.set_ylabel('RMSD $\\AA$')"
   ]
  },
  {
   "cell_type": "code",
   "execution_count": null,
   "id": "2ca682ae",
   "metadata": {},
   "outputs": [],
   "source": [
    "# Lets view the Cluster representatives\n",
    "r1 = mda.Universe( 'C1.pdb' )\n",
    "r2 = mda.Universe( 'C2.pdb' )\n",
    "#r3 = mda.Universe( 'C3.pdb' )\n",
    "\n",
    "view = nv.show_mdanalysis(r1)\n",
    "view.add_trajectory( r2 )\n",
    "#view.add_trajectory( r3 )\n",
    "\n",
    "view[0].clear_representations()\n",
    "view[0].add_cartoon(color='blue')\n",
    "view[1].clear_representations()\n",
    "view[1].add_cartoon(color='yellow')\n",
    "\n",
    "\n",
    "#view[2].clear_representations()\n",
    "#view[2].add_cartoon(color='cyan')\n",
    "\n",
    "#view.display(gui=True)\n",
    "#show_residues_around(view,selection=\"367\",radius=4.0)\n",
    "view"
   ]
  },
  {
   "cell_type": "markdown",
   "id": "6927bcad",
   "metadata": {},
   "source": [
    "#### **Inference:**"
   ]
  },
  {
   "cell_type": "code",
   "execution_count": null,
   "id": "ece77f0f",
   "metadata": {},
   "outputs": [],
   "source": []
  }
 ],
 "metadata": {
  "kernelspec": {
   "display_name": "Python 2",
   "language": "python",
   "name": "python2"
  },
  "language_info": {
   "codemirror_mode": {
    "name": "ipython",
    "version": 3
   },
   "file_extension": ".py",
   "mimetype": "text/x-python",
   "name": "python",
   "nbconvert_exporter": "python",
   "pygments_lexer": "ipython3",
   "version": "3.6.13"
  },
  "toc-autonumbering": false,
  "toc-showcode": false,
  "toc-showmarkdowntxt": true
 },
 "nbformat": 4,
 "nbformat_minor": 5
}
