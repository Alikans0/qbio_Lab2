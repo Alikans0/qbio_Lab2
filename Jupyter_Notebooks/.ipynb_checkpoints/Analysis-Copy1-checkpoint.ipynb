{
 "cells": [
  {
   "cell_type": "markdown",
   "id": "aae2904f",
   "metadata": {
    "tags": []
   },
   "source": [
    "## Do imports"
   ]
  },
  {
   "cell_type": "code",
   "execution_count": 1,
   "id": "6217ac0c",
   "metadata": {
    "tags": []
   },
   "outputs": [
    {
     "data": {
      "application/vnd.jupyter.widget-view+json": {
       "model_id": "aaf4cc105d5346f38a7631b301af989c",
       "version_major": 2,
       "version_minor": 0
      },
      "text/plain": []
     },
     "metadata": {},
     "output_type": "display_data"
    }
   ],
   "source": [
    "# MDAnalysis tools\n",
    "import MDAnalysis as mda\n",
    "from MDAnalysis.analysis import contacts\n",
    "\n",
    "# To view the trajs on notebook\n",
    "import nglview as nv\n",
    "from ipywidgets import interact, fixed\n",
    "\n",
    "# Data processing\n",
    "import pandas as pd\n",
    "import numpy as np\n",
    "\n",
    "# Plot & System tools\n",
    "import matplotlib as mpl\n",
    "import matplotlib.pyplot as plt\n",
    "from  matplotlib.colors import ListedColormap, NoNorm, BoundaryNorm, CSS4_COLORS\n",
    "import seaborn as sns\n",
    "\n",
    "# Remove warnings\n",
    "import warnings\n",
    "warnings.filterwarnings('ignore')\n",
    "\n",
    "import os"
   ]
  },
  {
   "cell_type": "code",
   "execution_count": 2,
   "id": "27ea347b",
   "metadata": {},
   "outputs": [
    {
     "name": "stdout",
     "output_type": "stream",
     "text": [
      "Enabling notebook extension nglview-js-widgets/extension...\n",
      "      - Validating: \u001b[32mOK\u001b[0m\n",
      "Enabling notebook extension jupyter-js-widgets/extension...\n",
      "      - Validating: \u001b[32mOK\u001b[0m\n"
     ]
    }
   ],
   "source": [
    "!jupyter-nbextension enable nglview --py --sys-prefix\n",
    "!jupyter-nbextension enable --py --sys-prefix widgetsnbextension"
   ]
  },
  {
   "cell_type": "markdown",
   "id": "6706d9aa",
   "metadata": {},
   "source": [
    "# Functions"
   ]
  },
  {
   "cell_type": "code",
   "execution_count": 3,
   "id": "b95e34cd",
   "metadata": {},
   "outputs": [],
   "source": [
    "def change_representation(view, representation):\n",
    "    view.clear()\n",
    "    view.representations = [\n",
    "        {\"type\": representation,\n",
    "         \"params\": {\"sele\":\"367-372\",\"color\":\"red\",\"radiusType\":\"vdW\"}},\n",
    "        {\"type\": \"cartoon\",\"aspectRatio\":\"10\",\n",
    "         \"params\": {\"sele\":\"40-337\",\"color\":\"cyan\",\"radiusType\":\"vdW\",\"opacity\":\"0.5\"}}\n",
    "    ]\n",
    "    \n",
    "    view.control.rotate(\n",
    "    mda.lib.transformations.quaternion_from_euler(\n",
    "        -np.pi/2, np.pi/2, np.pi/13, 'rzyz').tolist())\n",
    "    view.camera = 'orthographic'\n",
    "    return view\n",
    "\n",
    "def show_residues_around(view, component_index=0, selection=\"ligand\", radius=6.0):\n",
    "    js = (\n",
    "        f\"\"\"\n",
    "        var system = this.stage.compList[{component_index}];\n",
    "        var prevSele = system.selection.string;\n",
    "        system.setSelection(\"{selection}\");\n",
    "        var around = system.structure.getAtomSetWithinSelection(system.selection, {radius});\n",
    "        \"\"\"\n",
    "        \"\"\"\n",
    "        var around_complete = system.structure.getAtomSetWithinGroup(around);\n",
    "        system.addRepresentation(\"ball+stick\", {sele: around_complete.toSeleString()});\n",
    "        system.setSelection(prevSele)\n",
    "        \"\"\"\n",
    "    )\n",
    "    view._execute_js_code(js)\n",
    "    \n",
    "# Function to see motion along a pca\n",
    "# Inputs: PC index, frame_i, frame_j , selection\n",
    "def get_motion(pindex=0, framei=0, framej=100, sel='name BB' ):\n",
    "    getpc =  mypca.p_components[:, pindex]\n",
    "    trans =  pcspace[:, pindex]\n",
    "    projected = np.outer(trans, getpc ) + mypca.mean.flatten()\n",
    "    \n",
    "    backbone = U.select_atoms(sel)\n",
    "    proj = mda.Merge(backbone)\n",
    "    coordinates = projected.reshape(len(trans), -1, 3)\n",
    "    proj.load_new(coordinates[ [framei,framej],: ], order=\"fac\")\n",
    "    \n",
    "    return proj"
   ]
  },
  {
   "cell_type": "markdown",
   "id": "7ad32c04",
   "metadata": {},
   "source": [
    "# Set the directory for the simulation and define Input  files (finp)"
   ]
  },
  {
   "cell_type": "code",
   "execution_count": 5,
   "id": "0579c681",
   "metadata": {
    "tags": []
   },
   "outputs": [],
   "source": [
    "os.chdir('/home/ali/cg_simulations/new_simu5')\n",
    "\n",
    "finp_ref  = 'system.gro'                  # reference\n",
    "finp_trj  = 'step7_production.pbc.xtc'    # traj"
   ]
  },
  {
   "cell_type": "markdown",
   "id": "8bed07a9",
   "metadata": {},
   "source": [
    "# We load\n",
    "    1. trajectory\n",
    "    2. reference structure file"
   ]
  },
  {
   "cell_type": "code",
   "execution_count": 7,
   "id": "1ca3f6a2",
   "metadata": {},
   "outputs": [
    {
     "data": {
      "text/plain": [
       "<XTCReader step7_production.pbc.xtc with 10001 frames of 8686 atoms>"
      ]
     },
     "metadata": {},
     "output_type": "display_data"
    }
   ],
   "source": [
    "U   = mda.Universe(finp_ref, finp_trj)       #Open Traj\n",
    "ref = mda.Universe(finp_ref)                 #Open ref file \n",
    "\n",
    "display(U.trajectory)"
   ]
  },
  {
   "cell_type": "markdown",
   "id": "76ad916a",
   "metadata": {},
   "source": [
    "# Trajectory Alignment (skip if already done)\n",
    "    - We align the traj (& retain `in memory`) using atom group `receptor`."
   ]
  },
  {
   "cell_type": "code",
   "execution_count": null,
   "id": "ca13f24d",
   "metadata": {},
   "outputs": [],
   "source": [
    "# Align traj to reference using atmgroup receptor\n",
    "align.AlignTraj( U, ref, select=receptor , in_memory=True).run()\n",
    "'Done Boss'"
   ]
  },
  {
   "cell_type": "code",
   "execution_count": null,
   "id": "fb0efc0f",
   "metadata": {},
   "outputs": [],
   "source": [
    "# save aligned traj\n",
    "system_aligned = U.select_atoms(\"all\")\n",
    "with mda.Writer(\"traj_aligned.trr\", system_aligned.n_atoms) as W:\n",
    "    for ts in U.trajectory:\n",
    "        W.write(system_aligned)"
   ]
  },
  {
   "cell_type": "markdown",
   "id": "7b24b5fd",
   "metadata": {},
   "source": [
    "# Load the aligned trajectory"
   ]
  },
  {
   "cell_type": "code",
   "execution_count": 6,
   "id": "4ec08664",
   "metadata": {},
   "outputs": [],
   "source": [
    "finp_trj  = 'traj_aligned.trr'  \n",
    "U   = mda.Universe(finp_ref, finp_trj,in_memory=True)   "
   ]
  },
  {
   "cell_type": "markdown",
   "id": "f5ab2fe0",
   "metadata": {},
   "source": [
    "# Visualize the protein"
   ]
  },
  {
   "cell_type": "code",
   "execution_count": 7,
   "id": "3745f02c",
   "metadata": {},
   "outputs": [],
   "source": [
    "# Select full protein and domains\n",
    "\n",
    "full = 'protein'\n",
    "\n",
    "backbone = \"name BB\"\n",
    "BB=U.select_atoms(backbone)\n",
    "\n",
    "receptor = 'resid 40-337'\n",
    "rec =U.select_atoms(receptor)\n",
    "\n",
    "peptide = 'resid 367-372'\n",
    "pep = U.select_atoms(peptide)"
   ]
  },
  {
   "cell_type": "code",
   "execution_count": 8,
   "id": "219de663",
   "metadata": {},
   "outputs": [
    {
     "data": {
      "application/vnd.jupyter.widget-view+json": {
       "model_id": "a97e0d120993419c8211759cc450c99c",
       "version_major": 2,
       "version_minor": 0
      },
      "text/plain": [
       "interactive(children=(Dropdown(description='representation', options=('cartoon', 'backbone', 'ball+stick'), va…"
      ]
     },
     "metadata": {},
     "output_type": "display_data"
    },
    {
     "data": {
      "text/plain": [
       "<function __main__.change_representation(view, representation)>"
      ]
     },
     "execution_count": 8,
     "metadata": {},
     "output_type": "execute_result"
    }
   ],
   "source": [
    "view = nv.show_mdanalysis(U, gui=False)\n",
    "\n",
    "representations= [\"cartoon\",\"backbone\", \"ball+stick\"] #for the peptide\n",
    "\n",
    "#representations = [\"cartoon\",\"backbone\", \"ball+stick\"] #for the peptide    \n",
    "interact(change_representation,view=fixed(view), representation=representations) \n",
    "\n",
    "#view.add_representation(\"ball+stick\",color='orange',selection=\"name PO4\",aspectRatio=7,opacity=\"0.4\" )"
   ]
  },
  {
   "cell_type": "code",
   "execution_count": 9,
   "id": "085016a3",
   "metadata": {},
   "outputs": [],
   "source": [
    "#v_small_membrane = nv.show_mdanalysis(U.select_atoms('name PO4'))\n",
    "#v_small_membrane.add_representation(\"ball+stick\", aspectRatio=7)\n",
    "#v_small_membrane"
   ]
  },
  {
   "cell_type": "markdown",
   "id": "869a4cb9",
   "metadata": {},
   "source": [
    "# Contacts"
   ]
  },
  {
   "cell_type": "code",
   "execution_count": null,
   "id": "78d00c3f",
   "metadata": {},
   "outputs": [],
   "source": [
    "bs = U.select_atoms(\"protein and around 4 group peptide\", peptide=pep, updating=True)\n",
    "\n",
    "bs_atoms = []\n",
    "\n",
    "for ts in U.trajectory:\n",
    "    bs_atoms.append(len(bs.atoms))\n",
    "\n",
    "#print(bs_atoms)"
   ]
  },
  {
   "cell_type": "markdown",
   "id": "8a1bdca4",
   "metadata": {},
   "source": [
    "Suggested cutoff distances for different simulations\n",
    "\n",
    "    For all-atom simulations, cutoff = 4.5 Å\n",
    "    For coarse-grained simulations, cutoff = 6.0 Å\n"
   ]
  },
  {
   "cell_type": "code",
   "execution_count": null,
   "id": "663a70d0",
   "metadata": {},
   "outputs": [],
   "source": [
    "ca1 = contacts.Contacts(U, select=(receptor, peptide),\n",
    "                        refgroup=(rec, pep), radius=6.0)\n",
    "\n",
    "ca1.run()\n",
    "\n",
    "# print number of averave contacts\n",
    "average_contacts = np.mean(ca1.timeseries[:, 1])\n",
    "print('average contacts = {}'.format(average_contacts))\n",
    "\n",
    "# plot time series q(t)\n",
    "fig, ax = plt.subplots(figsize=(12, 8))\n",
    "ax.plot(ca1.timeseries[:, 0], ca1.timeseries[:, 1])\n",
    "ax.set(xlabel='frame', ylabel='fraction of native contacts',\n",
    "       title='Native Contacts, average = {:.2f}'.format(average_contacts))\n",
    "fig.show()"
   ]
  },
  {
   "cell_type": "code",
   "execution_count": null,
   "id": "948b289b",
   "metadata": {},
   "outputs": [],
   "source": [
    "n_ref = ca1.initial_contacts[0].sum()\n",
    "print('There are {} contacts in the reference.'.format(n_ref))"
   ]
  },
  {
   "cell_type": "markdown",
   "id": "ae2531ed",
   "metadata": {},
   "source": [
    "# Clustering"
   ]
  },
  {
   "cell_type": "code",
   "execution_count": null,
   "id": "0f01e81c",
   "metadata": {},
   "outputs": [],
   "source": [
    "#!echo 23 0 | gmx cluster -f traj_aligned.trr -s step7_production.tpr -cl clusters.xtc -cutoff 0.3 -method gromos -wcl 10 -n index.ndx -nofit -clid clusters.xvg -sz clusters_size.xvg"
   ]
  },
  {
   "cell_type": "markdown",
   "id": "6ad09be1",
   "metadata": {},
   "source": [
    "check the trajectories clusters.xtc (contains all the clusters and each cluster has a number of frames(see bellow))"
   ]
  },
  {
   "cell_type": "code",
   "execution_count": 112,
   "id": "a4691270",
   "metadata": {},
   "outputs": [],
   "source": [
    "nb_simu=1\n",
    "path='/home/ali/cg_simulations'\n",
    "\n",
    "finp_ref=str(path+os.sep+'new_simu'+str(nb_simu)+os.sep+'system.gro')\n",
    "finp_trj=str(path+os.sep+'new_simu'+str(nb_simu)+os.sep+'clusters.xtc')"
   ]
  },
  {
   "cell_type": "code",
   "execution_count": 113,
   "id": "6a029e7a",
   "metadata": {},
   "outputs": [
    {
     "data": {
      "application/vnd.jupyter.widget-view+json": {
       "model_id": "30d289d228de4db682b6f2bcddd61908",
       "version_major": 2,
       "version_minor": 0
      },
      "text/plain": [
       "NGLWidget(max_frame=201)"
      ]
     },
     "metadata": {},
     "output_type": "display_data"
    }
   ],
   "source": [
    "C = mda.Universe(finp_ref,finp_trj) \n",
    "cluster = nv.show_mdanalysis(C, gui=False)\n",
    "\n",
    "change_representation(cluster,'cartoon')"
   ]
  },
  {
   "cell_type": "markdown",
   "id": "bbe3ca9b",
   "metadata": {},
   "source": [
    "The population in each cluster (here I am showing just the 5 first clusters of each simulation)"
   ]
  },
  {
   "cell_type": "code",
   "execution_count": 356,
   "id": "5cf904bc",
   "metadata": {},
   "outputs": [
    {
     "data": {
      "image/png": "[encoded data removed]",
      "text/plain": [
       "<Figure size 1080x864 with 5 Axes>"
      ]
     },
     "metadata": {
      "needs_background": "light"
     },
     "output_type": "display_data"
    }
   ],
   "source": [
    "nb_simu=list(range(1,6))\n",
    "\n",
    "plt.figure(figsize=(15, 12))\n",
    "plt.subplots_adjust(hspace=0.5)\n",
    "\n",
    "\n",
    "for cnt,nb_simu in enumerate(nb_simu):\n",
    "    path='/home/ali/cg_simulations'\n",
    "    os.chdir(path+os.sep+'new_simu'+str(nb_simu))\n",
    "   \n",
    "    x,y = np.loadtxt(\"clusters_size.xvg\",comments=['#','@'],unpack=True) \n",
    "\n",
    "    ax = plt.subplot(3,2, cnt + 1)\n",
    "\n",
    "    plt.bar(x[:5],y[:5])       ###change here if you want to see more clusters\n",
    "    plt.title('simu'+str(nb_simu))\n",
    "    plt.xlim(0,6)\n",
    "    plt.ylim(0,5000)"
   ]
  },
  {
   "cell_type": "markdown",
   "id": "25dadaa7",
   "metadata": {},
   "source": [
    "Write a new traj with the first 10 clusters of each simulation and save in a new folder"
   ]
  },
  {
   "cell_type": "code",
   "execution_count": 435,
   "id": "1a1538f1",
   "metadata": {},
   "outputs": [],
   "source": [
    "os.chdir(path)\n",
    "\n",
    "outputFolder = 'clusters_20frames'\n",
    "if not os.path.exists(outputFolder):\n",
    "    os.mkdir(outputFolder)\n",
    "\n",
    "os.chdir(path+os.sep+outputFolder)\n",
    "c=[]\n",
    "\n",
    "for nb_simu in range(1,6):\n",
    "    finp_trj=str(path+os.sep+'new_simu'+str(nb_simu)+os.sep+'clusters.xtc')\n",
    "    c.append(mda.Universe(finp_ref,finp_trj))\n",
    "    \n",
    "for cnt, X in enumerate(c):\n",
    "    clusters = X.select_atoms(\"all\")\n",
    "    with mda.Writer(\"clusters_simu\"+str(cnt+1)+\".trr\", clusters.n_atoms) as W:\n",
    "        for ts in X.trajectory[:5]:\n",
    "            W.write(clusters)"
   ]
  },
  {
   "cell_type": "code",
   "execution_count": 436,
   "id": "9e4c6c78",
   "metadata": {},
   "outputs": [
    {
     "data": {
      "application/vnd.jupyter.widget-view+json": {
       "model_id": "69b1595baff64d2aaba5223da32f8282",
       "version_major": 2,
       "version_minor": 0
      },
      "text/plain": [
       "NGLWidget(max_frame=4)"
      ]
     },
     "metadata": {},
     "output_type": "display_data"
    }
   ],
   "source": [
    "nb_simu=3\n",
    "\n",
    "C = mda.Universe(finp_ref, 'clusters_simu'+str(nb_simu)+'.trr')\n",
    "clu=nv.show_mdanalysis(C)\n",
    "\n",
    "change_representation(clu,'cartoon')\n",
    "show_residues_around(clu,selection=\"367-372\",radius=3)\n",
    "clu"
   ]
  },
  {
   "cell_type": "markdown",
   "id": "333b1404",
   "metadata": {},
   "source": [
    "# Concatenate"
   ]
  },
  {
   "cell_type": "code",
   "execution_count": 437,
   "id": "f9a975e1",
   "metadata": {},
   "outputs": [],
   "source": [
    "test = mda.Universe(finp_ref,'clusters_simu1.trr','clusters_simu2.trr','clusters_simu3.trr','clusters_simu4.trr','clusters_simu5.trr')\n",
    "clust = test.select_atoms(\"all\")\n",
    "with mda.Writer(\"concatenated_md.trr\", clust.n_atoms) as W:\n",
    "    for ts in test.trajectory:\n",
    "        W.write(clust)"
   ]
  },
  {
   "cell_type": "code",
   "execution_count": 438,
   "id": "c980d63b",
   "metadata": {},
   "outputs": [
    {
     "data": {
      "application/vnd.jupyter.widget-view+json": {
       "model_id": "dbd021c027c04229a853133a8ddf77fc",
       "version_major": 2,
       "version_minor": 0
      },
      "text/plain": [
       "NGLWidget(max_frame=24)"
      ]
     },
     "metadata": {},
     "output_type": "display_data"
    }
   ],
   "source": [
    "path='/home/ali/cg_simulations'\n",
    "outputFolder = 'clusters_20frames'\n",
    "os.chdir(path+os.sep+outputFolder)\n",
    "\n",
    "CO = mda.Universe(finp_ref,'concatenated_md.trr', in_memory=True) \n",
    "conca=nv.show_mdanalysis(CO)\n",
    "change_representation(conca,'cartoon')"
   ]
  },
  {
   "cell_type": "markdown",
   "id": "b14c51da",
   "metadata": {},
   "source": [
    "# RMSD Analysis"
   ]
  },
  {
   "cell_type": "markdown",
   "id": "b3e292ef",
   "metadata": {},
   "source": [
    "- HOWTO\n",
    "    1. We first fit the traj using the receptor atoms (group `receptor`).\n",
    "    2. After fitting, we obtain RMSD for different domains without superimposition (`i.e., re-fitting`)\n",
    "    3. We create a dataframe (`df_rms`) as the container for RMSD data.\n",
    "    4. In the dataframe, we use `Time` signature as index (row labels).\n",
    "        - The trajectory contains snapshots of collected  `@100ps` interval.\n",
    "        - Hence, we multiply `Time` with 0.001 (i.e., Time/1000.0 to convert in ns)"
   ]
  },
  {
   "cell_type": "code",
   "execution_count": 439,
   "id": "87e61a44",
   "metadata": {},
   "outputs": [],
   "source": [
    "from MDAnalysis.analysis import rms, diffusionmap\n",
    "from MDAnalysis.analysis.rms import RMSD\n",
    "import plotly.express as px"
   ]
  },
  {
   "cell_type": "code",
   "execution_count": 440,
   "id": "0575f789",
   "metadata": {},
   "outputs": [],
   "source": [
    "fout_rms   = 'RMSD.csv'  # rmsd output file\n",
    "ref = mda.Universe(finp_ref) \n",
    "\n",
    "receptor = 'name BB and (resid 40-337)'\n",
    "rec =CO.select_atoms(receptor)\n",
    "\n",
    "peptide = 'resid 367-372'\n",
    "pep = CO.select_atoms(peptide)"
   ]
  },
  {
   "cell_type": "code",
   "execution_count": 441,
   "id": "5df53df3",
   "metadata": {},
   "outputs": [
    {
     "data": {
      "text/plain": [
       "'Done Boss'"
      ]
     },
     "metadata": {},
     "output_type": "display_data"
    },
    {
     "data": {
      "text/plain": [
       "(25, 4)"
      ]
     },
     "metadata": {},
     "output_type": "display_data"
    }
   ],
   "source": [
    "R = RMSD(CO,\n",
    "        ref,  # reference universe or atomgroup\n",
    "        select= receptor,  # group to superimpose and calculate RMSD\n",
    "        groupselections=[peptide])  # groups for domain RMSDs\n",
    "R.run()\n",
    "display('Done Boss', R.rmsd.shape)"
   ]
  },
  {
   "cell_type": "code",
   "execution_count": 442,
   "id": "c6a5a363",
   "metadata": {},
   "outputs": [],
   "source": [
    "cols = ['Frame','Time', 'receptor','peptide' ]\n",
    "df_rms = pd.DataFrame(R.rmsd, columns=cols)\n",
    "\n",
    "df_rms.drop('Time',axis=1,inplace=True)      #Drop Frame column, we retain only Time\n",
    "\n",
    "#df_rms['Time' ] = df_rms.Time* 0.001          #Convert time to ns\n",
    "#df_rms.set_index('Time',inplace=True)         #Set Time as index (row labels)\n",
    "#df_rms"
   ]
  },
  {
   "cell_type": "code",
   "execution_count": 444,
   "id": "10faa98e",
   "metadata": {},
   "outputs": [
    {
     "data": {
      "image/png": "[encoded data removed]",
      "text/plain": [
       "<Figure size 864x576 with 1 Axes>"
      ]
     },
     "metadata": {
      "needs_background": "light"
     },
     "output_type": "display_data"
    }
   ],
   "source": [
    "# Lets do time evolution of RMSD\n",
    "fig = plt.figure(figsize=(12, 8))\n",
    "\n",
    "df_rms.peptide.plot(alpha=0.5)\n",
    "df_rms.receptor.plot(alpha=0.5)\n",
    "\n",
    "plt.xlim( [0,25])\n",
    "plt.ylim( [0,12])\n",
    "plt.xlabel('frame')\n",
    "plt.ylabel( ' RMSD $\\AA$')\n",
    "plt.legend()\n",
    "plt.show()"
   ]
  },
  {
   "cell_type": "code",
   "execution_count": 445,
   "id": "f3594683",
   "metadata": {},
   "outputs": [
    {
     "data": {
      "image/png": "[encoded data removed]",
      "text/plain": [
       "<Figure size 864x576 with 1 Axes>"
      ]
     },
     "metadata": {
      "needs_background": "light"
     },
     "output_type": "display_data"
    }
   ],
   "source": [
    "# Lets see the distribution of RMSD values\n",
    "fig, ax = plt.subplots( figsize=(12,8) )\n",
    "sns.distplot(df_rms.receptor,hist=True,label='receptor',ax=ax)\n",
    "sns.distplot(df_rms.peptide,hist=True,label='peptide',ax=ax)\n",
    "\n",
    "plt.legend(ncol=2,fontsize=9)\n",
    "plt.xlabel('RMSD $\\AA$')\n",
    "plt.xlim( [0,12])\n",
    "plt.show()"
   ]
  },
  {
   "cell_type": "code",
   "execution_count": 449,
   "id": "fd348ce5",
   "metadata": {},
   "outputs": [
    {
     "data": {
      "image/png": "[encoded data removed]",
      "text/plain": [
       "<Figure size 864x576 with 2 Axes>"
      ]
     },
     "metadata": {
      "needs_background": "light"
     },
     "output_type": "display_data"
    }
   ],
   "source": [
    "matrix = diffusionmap.DistanceMatrix(CO, select=peptide).run()\n",
    "matrix.dist_matrix.shape\n",
    "\n",
    "fig = plt.figure(figsize=(12, 8))\n",
    "plt.imshow(matrix.dist_matrix, cmap='inferno',interpolation='nearest')\n",
    "plt.xlabel('Frame',fontsize='25')\n",
    "plt.ylabel('Frame',fontsize='25')\n",
    "plt.colorbar(label=r'RMSD')\n",
    "plt.show()"
   ]
  },
  {
   "cell_type": "code",
   "execution_count": 450,
   "id": "dc08295d",
   "metadata": {},
   "outputs": [],
   "source": [
    "mat=matrix.dist_matrix\n",
    "mat[mat<3]=0"
   ]
  },
  {
   "cell_type": "code",
   "execution_count": 451,
   "id": "c7a49ae8",
   "metadata": {},
   "outputs": [
    {
     "data": {
      "image/png": "[encoded data removed]",
      "text/plain": [
       "<Figure size 864x576 with 2 Axes>"
      ]
     },
     "metadata": {
      "needs_background": "light"
     },
     "output_type": "display_data"
    }
   ],
   "source": [
    "labels=['simu1','simu2','simu3','simu4','simu5']\n",
    "fig = plt.figure(figsize=(12, 8))\n",
    "plt.imshow(matrix.dist_matrix, cmap='inferno',interpolation='nearest')\n",
    "plt.colorbar(label=r'RMSD')\n",
    "plt.xlabel('Frame',fontsize='25')\n",
    "plt.ylabel('Frame',fontsize='25')\n",
    "#plt.xticks(np.arange(5),labels)\n",
    "plt.show()"
   ]
  },
  {
   "cell_type": "code",
   "execution_count": 32,
   "id": "0fe000aa",
   "metadata": {},
   "outputs": [],
   "source": [
    "#result=[ts.frame for ts in CO.trajectory if ]"
   ]
  },
  {
   "cell_type": "code",
   "execution_count": 495,
   "id": "cf6cad83",
   "metadata": {},
   "outputs": [],
   "source": [
    "dico = {\n",
    "    \"simu1\" : [],\n",
    "    \"simu2\" : [],\n",
    "    \"simu3\" : [],\n",
    "    \"simu4\" : [],\n",
    "    \"simu5\" : [],\n",
    "}\n",
    "\n",
    "for i in range(25):   \n",
    "    x = np.where(matrix.dist_matrix[i]==0)\n",
    "    #index = np.argwhere(x[0]==i)\n",
    "    #y = np.delete(x, index)\n",
    "    if (i<5):\n",
    "        dico[\"simu1\"].append(x[0].tolist()) \n",
    "    elif (i>9 and i<15):\n",
    "        dico[\"simu2\"].append(x[0].tolist())\n",
    "    elif (i>19 and i<25):\n",
    "        dico[\"simu3\"].append(x[0].tolist())\n",
    "    elif (i>29 and i<35):\n",
    "        dico[\"simu4\"].append(x[0].tolist())\n",
    "    elif (i>39 and i<45):\n",
    "        dico[\"simu5\"].append(x[0].tolist())"
   ]
  },
  {
   "cell_type": "code",
   "execution_count": 496,
   "id": "0e82663d",
   "metadata": {},
   "outputs": [
    {
     "name": "stdout",
     "output_type": "stream",
     "text": [
      "[[0, 5, 7, 12, 17, 24], [1, 21], [2, 9], [3, 5, 8, 14], [4, 17]]\n",
      "[[10], [11], [0, 7, 12, 17, 24], [13], [3, 5, 14, 24]]\n",
      "[[6, 15, 20], [1, 21], [18, 22], [19, 23], [0, 5, 7, 12, 14, 24]]\n",
      "[]\n",
      "[]\n"
     ]
    }
   ],
   "source": [
    "pop=[]\n",
    "\n",
    "for key, value in dico.items():\n",
    "    #print(key)\n",
    "    #print(value[0])\n",
    "\n",
    "    path='/home/ali/cg_simulations'\n",
    "    os.chdir(path+os.sep+'new_' + key)\n",
    "\n",
    "    x,y = np.loadtxt(\"clusters_size.xvg\",comments=['#','@'],unpack=True) \n",
    "    res = [int(item) for item in y[:5]]\n",
    "    \n",
    "    pop.append(res)\n",
    "    print(value)\n",
    "    \n",
    "population = [element for nestedlist in pop for element in nestedlist]\n"
   ]
  },
  {
   "cell_type": "code",
   "execution_count": 493,
   "id": "0f4da3e4",
   "metadata": {},
   "outputs": [
    {
     "data": {
      "image/png": "[encoded data removed]",
      "text/plain": [
       "<Figure size 864x576 with 1 Axes>"
      ]
     },
     "metadata": {
      "needs_background": "light"
     },
     "output_type": "display_data"
    }
   ],
   "source": [
    "x1=list(range(0,5))\n",
    "x2=list(range(5,10))\n",
    "x3=list(range(10,15))\n",
    "x4=list(range(15,20))\n",
    "x5=list(range(20,25))\n",
    "\n",
    "fig, ax = plt.subplots(figsize=(12,8))\n",
    "\n",
    "plt.subplots_adjust(hspace=0.5)\n",
    "\n",
    "#plt.xlim(0,26)\n",
    "\n",
    "plt.bar(x1, population[0:5])\n",
    "plt.bar(x2, population[5:10])\n",
    "plt.bar(x3, population[10:15])\n",
    "plt.bar(x4, population[15:20])\n",
    "plt.bar(x5, population[20:25])\n",
    "\n",
    "plt.xlabel(\"clusters\", fontsize=20)\n",
    "plt.ylabel(\"frames\",fontsize=20)\n",
    "fig.show()"
   ]
  },
  {
   "cell_type": "code",
   "execution_count": 477,
   "id": "50856fd9",
   "metadata": {},
   "outputs": [
    {
     "name": "stdout",
     "output_type": "stream",
     "text": [
      "simu1\n",
      "[1, 6, 8, 13, 18, 25]\n"
     ]
    }
   ],
   "source": [
    "nb_simu=list(range(1,6))\n",
    "\n",
    "\n",
    "#plt.figure(figsize=(15, 12))\n",
    "#plt.subplots_adjust(hspace=0.5)\n",
    "\n",
    "for key, value in dico.items():\n",
    "    if key == 'simu1':\n",
    "\n",
    "        path='/home/ali/cg_simulations'\n",
    "        os.chdir(path+os.sep+'new_' + key)\n",
    "\n",
    "        x,y = np.loadtxt(\"clusters_size.xvg\",comments=['#','@'],unpack=True) \n",
    "        res = [int(item) for item in x[:5]]\n",
    "        \n",
    "        print(key)\n",
    "        similar_frames = [x+1 for x in value[0]]\n",
    "        print(similar_frames)"
   ]
  },
  {
   "cell_type": "code",
   "execution_count": null,
   "id": "d31fccf2",
   "metadata": {},
   "outputs": [],
   "source": []
  },
  {
   "cell_type": "code",
   "execution_count": null,
   "id": "1b497725",
   "metadata": {},
   "outputs": [],
   "source": []
  },
  {
   "cell_type": "code",
   "execution_count": null,
   "id": "37abc4ff",
   "metadata": {},
   "outputs": [],
   "source": []
  },
  {
   "cell_type": "code",
   "execution_count": null,
   "id": "3762a9de",
   "metadata": {},
   "outputs": [],
   "source": []
  },
  {
   "cell_type": "code",
   "execution_count": null,
   "id": "adbf5ef0",
   "metadata": {},
   "outputs": [],
   "source": []
  },
  {
   "cell_type": "code",
   "execution_count": null,
   "id": "13839922",
   "metadata": {},
   "outputs": [],
   "source": []
  },
  {
   "cell_type": "code",
   "execution_count": null,
   "id": "a8cc8149",
   "metadata": {},
   "outputs": [],
   "source": []
  },
  {
   "cell_type": "code",
   "execution_count": 458,
   "id": "cb8bbd04",
   "metadata": {},
   "outputs": [
    {
     "name": "stdout",
     "output_type": "stream",
     "text": [
      "[0, 5, 7, 12, 17, 24]\n",
      "[1, 21]\n",
      "[2, 9]\n",
      "[3, 5, 8, 14]\n",
      "[4, 17]\n"
     ]
    }
   ],
   "source": [
    "for i in dico['simu1']:\n",
    "    print(i)"
   ]
  },
  {
   "cell_type": "code",
   "execution_count": null,
   "id": "60ede4f6",
   "metadata": {},
   "outputs": [],
   "source": []
  },
  {
   "cell_type": "code",
   "execution_count": null,
   "id": "50d7ab2c",
   "metadata": {},
   "outputs": [],
   "source": []
  },
  {
   "cell_type": "code",
   "execution_count": null,
   "id": "3aaf705d",
   "metadata": {},
   "outputs": [],
   "source": []
  },
  {
   "cell_type": "code",
   "execution_count": null,
   "id": "87e3e44f",
   "metadata": {},
   "outputs": [],
   "source": [
    "u=[]\n",
    "for i in range (5):\n",
    "    for x in simu1[i]:\n",
    "        u.append(x)"
   ]
  },
  {
   "cell_type": "code",
   "execution_count": null,
   "id": "48f00545",
   "metadata": {},
   "outputs": [],
   "source": [
    "print(u)"
   ]
  },
  {
   "cell_type": "code",
   "execution_count": null,
   "id": "bffb4205",
   "metadata": {},
   "outputs": [],
   "source": []
  },
  {
   "cell_type": "code",
   "execution_count": null,
   "id": "491e739f",
   "metadata": {},
   "outputs": [],
   "source": []
  },
  {
   "cell_type": "code",
   "execution_count": null,
   "id": "a5dc69c4",
   "metadata": {},
   "outputs": [],
   "source": []
  },
  {
   "cell_type": "code",
   "execution_count": null,
   "id": "df6208bb",
   "metadata": {},
   "outputs": [],
   "source": []
  },
  {
   "cell_type": "code",
   "execution_count": null,
   "id": "c4a0fa29",
   "metadata": {},
   "outputs": [],
   "source": []
  },
  {
   "cell_type": "code",
   "execution_count": null,
   "id": "b62f7b13",
   "metadata": {},
   "outputs": [],
   "source": []
  },
  {
   "cell_type": "code",
   "execution_count": null,
   "id": "d1bed62c",
   "metadata": {},
   "outputs": [],
   "source": []
  },
  {
   "cell_type": "code",
   "execution_count": null,
   "id": "c505e665",
   "metadata": {},
   "outputs": [],
   "source": [
    "for x in u:\n",
    "    if x<5:\n",
    "        print ('cluster 1 of simu1 is similar to cluster(s):\\n'+ str(x) +' in simu1')\n",
    "    elif (x>9 and x<15):\n",
    "        print (str(x-9) +' in simu2, ')\n",
    "    elif (x>19 and x<25):\n",
    "        print (str(x-19) +' in simu3')\n",
    "    elif (x>29 and x<35):\n",
    "        print (str(x-29) +' in simu4')\n",
    "    elif (x>39 and x<45):\n",
    "        #print(x-39)\n",
    "        print (str(x-39) +\" in simu5\")"
   ]
  },
  {
   "cell_type": "code",
   "execution_count": null,
   "id": "699be678",
   "metadata": {},
   "outputs": [],
   "source": []
  },
  {
   "cell_type": "code",
   "execution_count": null,
   "id": "f076fedc",
   "metadata": {},
   "outputs": [],
   "source": []
  },
  {
   "cell_type": "code",
   "execution_count": null,
   "id": "1666d78c",
   "metadata": {},
   "outputs": [],
   "source": []
  },
  {
   "cell_type": "code",
   "execution_count": null,
   "id": "11ccb66c",
   "metadata": {},
   "outputs": [],
   "source": []
  },
  {
   "cell_type": "code",
   "execution_count": null,
   "id": "2a6bbdaa",
   "metadata": {},
   "outputs": [],
   "source": []
  },
  {
   "cell_type": "code",
   "execution_count": null,
   "id": "d89605c7",
   "metadata": {},
   "outputs": [],
   "source": []
  },
  {
   "cell_type": "code",
   "execution_count": null,
   "id": "ce2df382",
   "metadata": {},
   "outputs": [],
   "source": [
    "#Save rmsd output to csv file\n",
    "\n",
    "#df_rms.to_csv( fout_rms ,index_label='Time') \n",
    "#display(df_rms.head(5), df_rms.tail(4) )"
   ]
  },
  {
   "cell_type": "markdown",
   "id": "97e99ce8",
   "metadata": {},
   "source": [
    "#### **3. RMSF Analysis**\n",
    "- HOWTO\n",
    "    1. Prior to RMSF, the trajectory should be fitted to reference structure (`We have done it`)\n",
    "    2. We obtain RMSF in different blocks (of 400 ns)\n",
    "        - RMSF is usually computed for the whole trajectory\n",
    "        - RMSF obtained in blocks (of 100 ns) gives more information.\n",
    "            - Helps us to monitor RMSF changes at different time regimes\n",
    "        - Save the RMSF data in dataframe (`df_rmsf`)\n",
    "            - Herein, we use residue ids as index (row labels)"
   ]
  },
  {
   "cell_type": "code",
   "execution_count": null,
   "id": "8baef5b5",
   "metadata": {},
   "outputs": [],
   "source": [
    "fout_rmf   = 'RMSF.csv'  # rmsf output file\n",
    "fout_pca   = 'PCA.csv'   # PCA projections\n",
    "fout_cls   = 'CLUS.csv'  # Cluster output file"
   ]
  },
  {
   "cell_type": "code",
   "execution_count": null,
   "id": "778cc1b4",
   "metadata": {},
   "outputs": [],
   "source": [
    "# RMSF is calculated in blocks\n",
    "nblocks = 10                                 #No. of blocks\n",
    "size = U.trajectory.n_frames / nblocks       #Size of a block, 1000 frames\n",
    "df_rmsf  = pd.DataFrame()   \n",
    "\n",
    "size = int(size)\n",
    "print( f\"Number of frames in each block:{size}\" )\n",
    "print( f\"Time region for each block:{df_rms.index[size]} ns\\n\")\n",
    "\n",
    "# Here starts the rmsf estimation\n",
    "for block in range(nblocks):\n",
    "    \n",
    "    # Start and End frames as obtained as intergers\n",
    "    begin = (block * size) ;  end = (block + 1) * size\n",
    "    print( f\"Start frame:{begin} and End frame:{end}\")\n",
    "    \n",
    "    # We use rms.RMSF routine to calculate the rmsf.\n",
    "    brmsf = rms.RMSF( U.select_atoms(peptide), verbose=True ).run( start = begin , stop = end)\n",
    "    df_rmsf[ f\"B{block+1}\" ]  =  brmsf.results.rmsf\n",
    "\n",
    "print('Done Boss')"
   ]
  },
  {
   "cell_type": "code",
   "execution_count": null,
   "id": "648c81e3",
   "metadata": {},
   "outputs": [],
   "source": [
    "# Extract residue numbers, keep them as row labels\n",
    "Rids = U.select_atoms( peptide ).resnums  # resnums gives residue numbers for atmgroup Full\n",
    "df_rmsf.index = Rids\n",
    "df_rmsf.index.name = 'Residue' "
   ]
  },
  {
   "cell_type": "code",
   "execution_count": null,
   "id": "c18ced97",
   "metadata": {},
   "outputs": [],
   "source": [
    "# We can save the dataframe to output file\n",
    "\n",
    "#df_rmsf.to_csv(fout_rmf ,index_label='Residue')\n",
    "#display( df_rmsf.head(5),df_rmsf.tail(4))"
   ]
  },
  {
   "cell_type": "markdown",
   "id": "3ac39c71",
   "metadata": {
    "tags": []
   },
   "source": [
    "#### **4. PCA Analysis**\n",
    "- HOWTO\n",
    "    1. PCA analysis is usually performed on a subset of atoms\n",
    "        - Herein, we consider C$_\\alpha$ atoms\n",
    "    2. Since we have a longer trajectory, we use frames in 500 ps interval (0.5 ns)\n",
    "        - Herein, we use begin, end, skip variables to define the range\n",
    "    3. After applying PCA, we estimate statistical parameters\n",
    "        - Cumulated variance\n",
    "    4. We project the trajectory on PCA space\n",
    "    5. We save projections on a dframe (`df_pca`)\n",
    "        - We use `Time` signature as our dframe index"
   ]
  },
  {
   "cell_type": "code",
   "execution_count": null,
   "id": "03d2c837",
   "metadata": {},
   "outputs": [],
   "source": [
    "from sklearn.decomposition import PCA\n",
    "import hdbscan as HDBSCAN               #clustering algorithm"
   ]
  },
  {
   "cell_type": "code",
   "execution_count": null,
   "id": "c8a4d366",
   "metadata": {},
   "outputs": [],
   "source": [
    "# Selecting an atom group to apply PCA\n",
    "sel = backbone\n",
    "begin,end,skip = 0 , 10000 , 5\n",
    "\n",
    "# PCA starts here\n",
    "mypca = pca.PCA( U , select= sel )\n",
    "mypca.run(begin,end,skip)\n",
    "print('Done Boss')"
   ]
  },
  {
   "cell_type": "code",
   "execution_count": null,
   "id": "e4a597b1",
   "metadata": {},
   "outputs": [],
   "source": [
    "# Cumulated variance\n",
    "# Infer number of PC components that explain most variance\n",
    "\n",
    "display( f\"Total number of PCs: {mypca.cumulated_variance.size} \" )\n",
    "print( f\"Cumulative variance of first 10 PCs\\n{ mypca.cumulated_variance[:9] } \" )"
   ]
  },
  {
   "cell_type": "code",
   "execution_count": null,
   "id": "ae0e42fc",
   "metadata": {},
   "outputs": [],
   "source": [
    "# Calculate projection for first 5 components\n",
    "\n",
    "atmgrp =  U.select_atoms( sel ) ; ncomps = 9\n",
    "pcspace = mypca.transform( atmgrp, n_components= ncomps, start = begin,stop = end,step = skip)\n",
    "\n",
    "# Place the results in a dataframe\n",
    "cols = [ f\"PC{x+1}\" for x in range(ncomps) ]\n",
    "df_pca = pd.DataFrame( pcspace , columns= cols )\n",
    "df_pca.head(5)"
   ]
  },
  {
   "cell_type": "code",
   "execution_count": null,
   "id": "6238fd2f",
   "metadata": {},
   "outputs": [],
   "source": [
    "# Add Time signatures to projection data\n",
    "# We extract Time from df_rms data passing begin,end and skip values\n",
    "\n",
    "df_pca['Time'] = df_rms.index[begin:end:skip]\n",
    "df_pca.set_index('Time',inplace=True)\n",
    "\n",
    "# Save the output to csv file\n",
    "#df_pca.to_csv( fout_pca , index_label= 'Time' )\n",
    "#display( df_pca.head(5) , df_pca.tail(4)  )"
   ]
  },
  {
   "cell_type": "markdown",
   "id": "f3a5eccc",
   "metadata": {},
   "source": [
    "#### **View Motion along PCAs**\n",
    "- For the first three PCs, firstly we identify,\n",
    "    1. Min and Max projection values\n",
    "    2. Time index and Frame number at which min and max happens\n",
    "    3. Projected coordinates for the corresponding frames (`use get_motion` function)\n",
    "    4. Use nglview to visualize the motion"
   ]
  },
  {
   "cell_type": "code",
   "execution_count": null,
   "id": "09048b8f",
   "metadata": {},
   "outputs": [],
   "source": [
    "# 1. Min and max values for first three PCs\n",
    "df_pca.iloc[:,:3].min() ,  df_pca.iloc[:,:3].max()"
   ]
  },
  {
   "cell_type": "code",
   "execution_count": null,
   "id": "74308f30",
   "metadata": {},
   "outputs": [],
   "source": [
    "# 2a Time @ which Min & Max values observed\n",
    "allmin = df_pca.iloc[:,:3].idxmin(axis=0, skipna=True) \n",
    "allmax = df_pca.iloc[:,:3].idxmax(axis=0, skipna=True)\n",
    "allmin,allmax"
   ]
  },
  {
   "cell_type": "code",
   "execution_count": null,
   "id": "45cd573c",
   "metadata": {},
   "outputs": [],
   "source": [
    "# 2b Frame @ which Min & Max values observed\n",
    "all_index = df_pca.index\n",
    "for x,y in zip( allmin, allmax):\n",
    "    print( f\"min:{x} , max:{y}\" )\n",
    "    print( f\"min-frame:{all_index.get_loc(x)} , max-frame:{all_index.get_loc(y)}\\n\" )  "
   ]
  },
  {
   "cell_type": "markdown",
   "id": "407666f8",
   "metadata": {},
   "source": [
    "#### **5. Cluster Analysis**\n",
    "- HOWTO\n",
    "    - There are many ways one may cluster the trajectory\n",
    "      - Herein, we use the distribution of points on PCA space for clustering.\n",
    "      - To this end, we use a density based clustering algorithm (hdbscan)\n",
    "          - Note that density based methods identify also noise points that could not be assigned to any cluster.\n",
    "    - Once the clusters are identified, we estimate\n",
    "      - Distance of each point to the centroid of the cluster they belong to.\n",
    "      - We extract the conformation close to centroid as `cluster representative`\n",
    "    - Clustering results, as usual, are placed in a dframe ( `df_clus` )    "
   ]
  },
  {
   "cell_type": "code",
   "execution_count": null,
   "id": "27bcd10b",
   "metadata": {},
   "outputs": [],
   "source": [
    "# A cluster should have atleast 5% of total population\n",
    "\n",
    "minsize = int( df_pca.shape[0]*.05)\n",
    "print( f\"Mininum samples in a cluster:{minsize}\" )\n",
    "\n",
    "# We use hdbscan library here (examine the Imports section at the top)\n",
    "# We use PCs 1-5\n",
    "\n",
    "hdbs = HDBSCAN.HDBSCAN(min_cluster_size=minsize)\n",
    "hclus = hdbs.fit_predict(df_pca.loc[:,'PC1':'PC10'] )\n",
    "\n",
    "# Obtain total number of clusters\n",
    "Nclus = set(hclus)\n",
    "display( f'No of clusters: { len( Nclus ) } and cluster ids: {Nclus} ')"
   ]
  },
  {
   "cell_type": "code",
   "execution_count": null,
   "id": "e02b402a",
   "metadata": {},
   "outputs": [],
   "source": [
    "# Create dframe to store cluster results\n",
    "df_clus = pd.DataFrame( )\n",
    "\n",
    "# Assign clusters and time index\n",
    "df_clus['Cluster' ] = hclus\n",
    "df_clus.index.name = 'Time'\n",
    "df_clus.index = df_pca.index\n",
    "\n",
    "display( df_clus.head(5),df_clus.tail(4) )"
   ]
  },
  {
   "cell_type": "code",
   "execution_count": null,
   "id": "9c28db31",
   "metadata": {},
   "outputs": [],
   "source": [
    "# We extract RMSD values for frame in each cluster\n",
    "df_rms.iloc[ begin:end:skip ].full"
   ]
  },
  {
   "cell_type": "code",
   "execution_count": null,
   "id": "be7788c6",
   "metadata": {},
   "outputs": [],
   "source": [
    "# Add RMSD to cluster data\n",
    "df_clus[ 'RMSD' ] =  df_rms.iloc[ begin:end:skip ].full"
   ]
  },
  {
   "cell_type": "code",
   "execution_count": null,
   "id": "de79a074",
   "metadata": {},
   "outputs": [],
   "source": [
    "display( df_clus.head(5),df_clus.tail(2) )"
   ]
  },
  {
   "cell_type": "code",
   "execution_count": null,
   "id": "e54dd207",
   "metadata": {},
   "outputs": [],
   "source": [
    "# First, we assign CDist as a column with value 0\n",
    "df_clus['CDist'] = 0.0\n",
    "\n",
    "# For each point, we obtain its distance to the centroid\n",
    "\n",
    "for val in Nclus:\n",
    "    print(f\"Current cluster id:{val}\")\n",
    "    # Extract subset of dframe corresponding to the cluster id\n",
    "    subset = df_clus[df_clus.Cluster == val].index\n",
    "    points = df_pca.loc[ subset, \"PC1\":\"PC3\" ].values\n",
    "    Mean   = points.mean(axis=0)\n",
    "    \n",
    "    # Distance to cluster centroid (i.e mean value)\n",
    "    dist = np.sqrt( ( (points - Mean)**2 ).sum(1)  )\n",
    "    df_clus.loc[ subset, 'CDist'] = dist\n",
    "                \n",
    "df_clus.head()"
   ]
  },
  {
   "cell_type": "code",
   "execution_count": null,
   "id": "63ebf846",
   "metadata": {},
   "outputs": [],
   "source": [
    "# Collect as Time values in df_rms\n",
    "Frame = df_rms.index\n",
    "\n",
    "# For each Time information df_clus, collect corresponding frame number from df_rms\n",
    "Frame_no = [ Frame.get_loc(x) for x in df_clus.index ]\n",
    "\n",
    "# Add Frame number as new column in the cluster data\n",
    "df_clus['FRAME'] = Frame_no\n",
    "\n",
    "#df_clus.to_csv( fout_cls , index_label= 'Time')\n",
    "df_clus.head(4)"
   ]
  },
  {
   "cell_type": "code",
   "execution_count": null,
   "id": "eabc361b",
   "metadata": {},
   "outputs": [],
   "source": [
    "# For each cluster, identify point closer to centroid (i.e, Min of CDist)\n",
    "print(df_clus.groupby(['Cluster']).min() )\n",
    "Mns = df_clus.groupby(['Cluster']).min().CDist"
   ]
  },
  {
   "cell_type": "code",
   "execution_count": null,
   "id": "abc3854f",
   "metadata": {},
   "outputs": [],
   "source": [
    "# Structure closer to centroid can be considered as representatives\n",
    "# Identify frame no of representatives\n",
    "df_clus[ df_clus.CDist.isin(Mns) ]"
   ]
  },
  {
   "cell_type": "markdown",
   "id": "83904953",
   "metadata": {},
   "source": [
    "- **Attension**\n",
    "    1. In density based clustering `-1` represents noise points in space.\n",
    "        - We are not interested in the representatives of noise points.\n",
    "    2. We know the `Time` signature and `Frame no` of the representatives\n",
    "        - Hence, we save the representatives as pdb's"
   ]
  },
  {
   "cell_type": "code",
   "execution_count": null,
   "id": "e266c889",
   "metadata": {},
   "outputs": [],
   "source": [
    "# Cluster -1 is noise, so we ignore it\n",
    "\n",
    "Sel = U.select_atoms('protein')\n",
    "U.trajectory[2035]\n",
    "Sel.write('C1.pdb')\n",
    "\n",
    "U.trajectory[7735]\n",
    "Sel.write('C2.pdb')\n",
    "\n",
    "#U.trajectory[4955]\n",
    "#Sel.write('C3.pdb')"
   ]
  },
  {
   "cell_type": "markdown",
   "id": "3a20c730",
   "metadata": {},
   "source": [
    "## DATA VISUALIZATION\n",
    "\n",
    "#### **RMSD**"
   ]
  },
  {
   "cell_type": "markdown",
   "id": "8968f3bf",
   "metadata": {},
   "source": [
    "#### **RMSF**"
   ]
  },
  {
   "cell_type": "code",
   "execution_count": null,
   "id": "9dcf1dd6",
   "metadata": {},
   "outputs": [],
   "source": [
    "df_rmsf.boxplot() "
   ]
  },
  {
   "cell_type": "code",
   "execution_count": null,
   "id": "af5f7ee5",
   "metadata": {},
   "outputs": [],
   "source": [
    "rmsf_m1 = df_rmsf.loc[ : , 'B1':'B10'].mean(axis=1)\n",
    "#rmsf_m2 = df_rmsf.loc[ : , 'B4':'B7'].mean(axis=1)\n",
    "#rmsf_m3 = df_rmsf.loc[ : , 'B7':'B10'].mean(axis=1)\n",
    "\n",
    "rmsf_m1.plot()\n",
    "#rmsf_m2.plot()\n",
    "#rmsf_m3.plot()\n",
    "\n",
    "plt.xlim([367,372])\n",
    "# Highlight NBD\n",
    "#plt.axvspan(40,155,color='k',alpha=0.2)\n",
    "#plt.axvspan(157,265,color='g',alpha=0.1)\n",
    "#plt.axvspan(267,375,color='y',alpha=0.1)\n",
    "#plt.axvspan(342,373,color='R',alpha=0.1)\n",
    "\n",
    "#plt.text(80,15,'D1',size=16)\n",
    "#plt.text(200,15,'D2',size=16)\n",
    "#plt.text(300,15,'D3',size=16)\n",
    "#plt.text(315,15,'D4',size=16)\n",
    "plt.ylabel('RMSF $\\AA$')"
   ]
  },
  {
   "cell_type": "markdown",
   "id": "1c42d959",
   "metadata": {},
   "source": [
    "#### **PCA**"
   ]
  },
  {
   "cell_type": "code",
   "execution_count": null,
   "id": "f288f70f",
   "metadata": {},
   "outputs": [],
   "source": [
    "# Visualize cumulative variance of first 10 PCs\n",
    "fig, ax = plt.subplots( figsize=(4.5,3.2) )\n",
    "Y = mypca.cumulated_variance[:10]\n",
    "X = [ l+1 for l in range(10) ]\n",
    "ax.plot( X, Y ,'s--' ,ms=5)\n",
    "ax.axhline( Y[2], color='b' , ls='--' )\n",
    "ax.set_ylabel('Explained Variance (%)')\n",
    "ax.set_xlabel('PC index')"
   ]
  },
  {
   "cell_type": "code",
   "execution_count": null,
   "id": "a1748937",
   "metadata": {},
   "outputs": [],
   "source": [
    "# We visualize the scatter plots for most prominent (PC1-3)\n",
    "# Make scatter plots of PCs1-3\n",
    "fig, ax = plt.subplots(1,2,figsize=(10,4),dpi=300 )\n",
    "fig.subplots_adjust( wspace = 0.32)\n",
    "\n",
    "sns.scatterplot(data=df_pca,x=\"PC1\",y=\"PC2\",ax=ax[0])\n",
    "sns.scatterplot(data=df_pca,x=\"PC1\",y=\"PC3\",ax=ax[1])\n",
    "\n",
    "\n",
    "# Seaborn color maps (https://seaborn.pydata.org/tutorial/color_palettes.html)\n",
    "\n",
    "#sns.kdeplot(data=df_pca,x=\"PC1\",y=\"PC2\",ax=ax[0],shade=True,cmap='Greys_r')\n",
    "#sns.kdeplot(data=df_pca,x=\"PC1\",y=\"PC3\",ax=ax[1],shade=True,cmap='Set1')\n"
   ]
  },
  {
   "cell_type": "code",
   "execution_count": null,
   "id": "2584efbd",
   "metadata": {},
   "outputs": [],
   "source": [
    "# Distribution along individual PC components\n",
    "sns.distplot(df_pca.PC1,label='PC1',hist=False)\n",
    "sns.distplot(df_pca.PC2,label='PC2',hist=False)\n",
    "sns.distplot(df_pca.PC4,label='PC4',hist=False)\n",
    "sns.distplot(df_pca.PC5,label='PC5',hist=False)\n",
    "\n",
    "plt.legend()  #Explained Variance reduces as we go from PC1 to PC5\n",
    "plt.xlim([-100,100])\n",
    "sns.set(rc={'figure.figsize':(10,4)})"
   ]
  },
  {
   "cell_type": "markdown",
   "id": "76ec12ef",
   "metadata": {},
   "source": [
    "#### **Cluster Evolution**\n"
   ]
  },
  {
   "cell_type": "code",
   "execution_count": null,
   "id": "be68a343",
   "metadata": {},
   "outputs": [],
   "source": [
    "# Lets map clusters on RMSD plot\n",
    "nclus = set( df_clus.Cluster)\n",
    "fig, ax = plt.subplots( figsize=(10,8) )\n",
    "\n",
    "for val in nclus:\n",
    "    # val -1 indicates noise points\n",
    "    # For each cluster, we show frame closer to cluster centroid as Cross\n",
    "    if val > -1:\n",
    "        data = df_clus[ df_clus.Cluster == val ]\n",
    "        ax.plot( data.index,data.RMSD,'.')\n",
    "        \n",
    "        Mn = data.CDist.min()\n",
    "        Cent =  data[ data.CDist == Mn ]\n",
    "        ax.plot( Cent.index, Cent.RMSD, 'X',color='green',ms=16)\n",
    "            \n",
    "\n",
    "ax.set_xlabel('Time ns')\n",
    "ax.set_ylabel('RMSD $\\AA$')"
   ]
  },
  {
   "cell_type": "code",
   "execution_count": null,
   "id": "57279a4b",
   "metadata": {},
   "outputs": [],
   "source": [
    "# Lets view the Cluster representatives\n",
    "r1 = mda.Universe( 'C1.pdb' )\n",
    "r2 = mda.Universe( 'C2.pdb' )\n",
    "#r3 = mda.Universe( 'C3.pdb' )\n",
    "\n",
    "view = nv.show_mdanalysis(r1)\n",
    "view.add_trajectory( r2 )\n",
    "#view.add_trajectory( r3 )\n",
    "\n",
    "view[0].clear_representations()\n",
    "view[0].add_cartoon(color='blue')\n",
    "view[1].clear_representations()\n",
    "view[1].add_cartoon(color='yellow')\n",
    "\n",
    "\n",
    "#view[2].clear_representations()\n",
    "#view[2].add_cartoon(color='cyan')\n",
    "\n",
    "#view.display(gui=True)\n",
    "#show_residues_around(view,selection=\"367\",radius=4.0)\n",
    "view"
   ]
  },
  {
   "cell_type": "markdown",
   "id": "1665bf35",
   "metadata": {},
   "source": [
    "#### **Inference:**"
   ]
  },
  {
   "cell_type": "code",
   "execution_count": null,
   "id": "517ba127",
   "metadata": {},
   "outputs": [],
   "source": []
  }
 ],
 "metadata": {
  "kernelspec": {
   "display_name": "Python 2",
   "language": "python",
   "name": "python2"
  },
  "language_info": {
   "codemirror_mode": {
    "name": "ipython",
    "version": 3
   },
   "file_extension": ".py",
   "mimetype": "text/x-python",
   "name": "python",
   "nbconvert_exporter": "python",
   "pygments_lexer": "ipython3",
   "version": "3.6.13"
  },
  "toc-autonumbering": false,
  "toc-showcode": false,
  "toc-showmarkdowntxt": true
 },
 "nbformat": 4,
 "nbformat_minor": 5
}
