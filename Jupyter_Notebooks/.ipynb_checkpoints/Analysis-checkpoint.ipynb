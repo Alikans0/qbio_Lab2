{
 "cells": [
  {
   "cell_type": "markdown",
   "id": "5f3f0c85",
   "metadata": {
    "tags": []
   },
   "source": [
    "## Do imports"
   ]
  },
  {
   "cell_type": "code",
   "execution_count": 1,
   "id": "379eae60",
   "metadata": {
    "tags": []
   },
   "outputs": [
    {
     "data": {
      "application/vnd.jupyter.widget-view+json": {
       "model_id": "a6ab2a39f9a64d0db890426b97980a57",
       "version_major": 2,
       "version_minor": 0
      },
      "text/plain": []
     },
     "metadata": {},
     "output_type": "display_data"
    }
   ],
   "source": [
    "# MDAnalysis tools\n",
    "import MDAnalysis as mda\n",
    "from MDAnalysis.analysis import rms, align, pca\n",
    "from MDAnalysis import transformations\n",
    "# To view the trajs on notebook\n",
    "import nglview as nv\n",
    "import pytraj as pt\n",
    "from ipywidgets import interact, fixed"
   ]
  },
  {
   "cell_type": "code",
   "execution_count": 2,
   "id": "4328fd7e",
   "metadata": {},
   "outputs": [],
   "source": [
    "# Data processing\n",
    "import pandas as pd\n",
    "import numpy as np\n",
    "np.set_printoptions(suppress=True)  #Suppress scientific notation\n",
    "\n",
    "from sklearn.decomposition import PCA\n",
    "import hdbscan as HDBSCAN"
   ]
  },
  {
   "cell_type": "code",
   "execution_count": 3,
   "id": "2cec00d2",
   "metadata": {},
   "outputs": [],
   "source": [
    "# Plot & System tools\n",
    "import matplotlib as mpl\n",
    "import matplotlib.pyplot as plt\n",
    "from  matplotlib.colors import ListedColormap, NoNorm, BoundaryNorm, CSS4_COLORS\n",
    "import seaborn as sns\n",
    "\n",
    "# Remove warnings\n",
    "import warnings\n",
    "warnings.filterwarnings('ignore')\n",
    "\n",
    "\n",
    "#Change working directory to current directory\n",
    "import os\n",
    "os.chdir(os.getcwd() )"
   ]
  },
  {
   "cell_type": "code",
   "execution_count": 4,
   "id": "ff0a53ec",
   "metadata": {},
   "outputs": [],
   "source": [
    "#Create color cycle so that mpl will colors in following order\n",
    "Clist = [ CSS4_COLORS[colname] for colname in ('black','red','blue','forestgreen','cyan','magenta','yellow','darkcyan') ]\n",
    "from cycler import cycler\n",
    "mpl.rcParams['axes.prop_cycle'] = cycler(color=Clist)"
   ]
  },
  {
   "cell_type": "code",
   "execution_count": 7,
   "id": "823f1f30",
   "metadata": {},
   "outputs": [],
   "source": [
    "# Function to see motion along a pca\n",
    "# Inputs: PC index, frame_i, frame_j , selection\n",
    "def get_motion(pindex=0, framei=0, framej=100, sel='name CA' ):\n",
    "    getpc =  mypca.p_components[:, pindex]\n",
    "    trans =  pcspace[:, pindex]\n",
    "    projected = np.outer(trans, getpc ) + mypca.mean.flatten()\n",
    "    \n",
    "    backbone = U.select_atoms(sel)\n",
    "    proj = mda.Merge(backbone)\n",
    "    coordinates = projected.reshape(len(trans), -1, 3)\n",
    "    proj.load_new(coordinates[ [framei,framej],: ], order=\"fac\")\n",
    "    \n",
    "    return proj\n",
    "import gromacs"
   ]
  },
  {
   "cell_type": "code",
   "execution_count": 8,
   "id": "30ca6e37",
   "metadata": {},
   "outputs": [
    {
     "name": "stdout",
     "output_type": "stream",
     "text": [
      "pytraj     2.0.5\n",
      "seaborn    0.11.2\n",
      "matplotlib 3.3.4\n",
      "pandas     1.1.5\n",
      "MDAnalysis 2.0.0\n",
      "nglview    3.0.3\n",
      "gromacs    0.0.0\n",
      "numpy      1.19.5\n",
      "\n",
      "2022-11-04T11:20:53+01:00\n",
      "\n",
      "CPython 3.6.13\n",
      "IPython 7.16.1\n",
      "\n",
      "compiler   : GCC 7.5.0\n",
      "system     : Linux\n",
      "release    : 4.15.0-194-generic\n",
      "machine    : x86_64\n",
      "processor  : x86_64\n",
      "CPU cores  : 48\n",
      "interpreter: 64bit\n"
     ]
    }
   ],
   "source": [
    "%reload_ext watermark\n",
    "%watermark --iversions\n",
    "%watermark"
   ]
  },
  {
   "cell_type": "code",
   "execution_count": 249,
   "id": "3ba23227",
   "metadata": {},
   "outputs": [
    {
     "name": "stdout",
     "output_type": "stream",
     "text": [
      "Enabling notebook extension nglview-js-widgets/extension...\n",
      "      - Validating: \u001b[32mOK\u001b[0m\n",
      "Enabling notebook extension jupyter-js-widgets/extension...\n",
      "      - Validating: \u001b[32mOK\u001b[0m\n"
     ]
    }
   ],
   "source": [
    "!jupyter-nbextension enable nglview --py --sys-prefix\n",
    "!jupyter-nbextension enable --py --sys-prefix widgetsnbextension"
   ]
  },
  {
   "cell_type": "markdown",
   "id": "4931de0b",
   "metadata": {},
   "source": [
    "## PERFORM ANALYSIS \n",
    "\n",
    "\n",
    "#### - Before we start, we define\n",
    "    1. Input  files (finp)\n",
    "    2. Output files (fout)"
   ]
  },
  {
   "cell_type": "code",
   "execution_count": 250,
   "id": "40206bc2",
   "metadata": {
    "tags": []
   },
   "outputs": [],
   "source": [
    "#Define files here\n",
    "#pdb       = 'system.gro'                 \n",
    "finp_ref  = 'system.gro'        # reference\n",
    "finp_trj  = 'step7_production.pbc.xtc'    # traj\n",
    "\n",
    "fout_rms   = 'RMSD.csv'  # rmsd output file\n",
    "fout_rmf   = 'RMSF.csv'  # rmsf output file\n",
    "fout_pca   = 'PCA.csv'   # PCA projections\n",
    "fout_cls   = 'CLUS.csv'  # Cluster output file"
   ]
  },
  {
   "cell_type": "code",
   "execution_count": 251,
   "id": "ebeacb56",
   "metadata": {},
   "outputs": [
    {
     "data": {
      "text/plain": [
       "<XTCReader step7_production.pbc.xtc with 10001 frames of 8686 atoms>"
      ]
     },
     "metadata": {},
     "output_type": "display_data"
    }
   ],
   "source": [
    "# We load the trajectory and reference structure file\n",
    "U   = mda.Universe(finp_ref, finp_trj)       #Open Traj\n",
    "ref = mda.Universe(finp_ref)               #Open ref file \n",
    "\n",
    "display(U.trajectory)"
   ]
  },
  {
   "cell_type": "markdown",
   "id": "7079a68a",
   "metadata": {},
   "source": [
    "#### - **Lets Visualize the protein**"
   ]
  },
  {
   "cell_type": "code",
   "execution_count": 252,
   "id": "95fbbfab",
   "metadata": {},
   "outputs": [
    {
     "data": {
      "application/vnd.jupyter.widget-view+json": {
       "model_id": "1dc9b55b0aae41dd8809d93b7a0df76d",
       "version_major": 2,
       "version_minor": 0
      },
      "text/plain": [
       "NGLWidget()"
      ]
     },
     "metadata": {},
     "output_type": "display_data"
    }
   ],
   "source": [
    "view = nv.show_mdanalysis(ref)\n",
    "view.control.rotate(\n",
    "    mda.lib.transformations.quaternion_from_euler(\n",
    "        -np.pi/2, np.pi/3, np.pi/6, 'rzyz').tolist())\n",
    "view"
   ]
  },
  {
   "cell_type": "code",
   "execution_count": 253,
   "id": "580cb82e",
   "metadata": {},
   "outputs": [],
   "source": [
    "# Select full protein and domains\n",
    "\n",
    "full = 'protein'\n",
    "\n",
    "receptor = 'protein and (resid 40-337)'\n",
    "rec =U.select_atoms('resid 40:337')\n",
    "\n",
    "peptide = 'protein and (resid 367-372)'\n",
    "pep = U.select_atoms('resid 367:372')"
   ]
  },
  {
   "cell_type": "markdown",
   "id": "3bde530b",
   "metadata": {},
   "source": [
    "#### **1. Trajectory Alignment & Visualization**\n",
    "- HOWTO\n",
    "    1. Herein, we align the traj (& retain `in memory`) using atom group `receptor`.\n",
    "    2. After alignment, we visualize the md movie with nglview.\n",
    "        - This facilitates to verify the fitting (i.e., removal of `rot+trans`)"
   ]
  },
  {
   "cell_type": "code",
   "execution_count": 254,
   "id": "31a387ee",
   "metadata": {},
   "outputs": [
    {
     "data": {
      "text/plain": [
       "'Done Boss'"
      ]
     },
     "execution_count": 254,
     "metadata": {},
     "output_type": "execute_result"
    }
   ],
   "source": [
    "# Align traj to reference using atmgroup receptor\n",
    "\n",
    "align.AlignTraj( U, ref, select=receptor , in_memory=True).run()\n",
    "'Done Boss'"
   ]
  },
  {
   "cell_type": "code",
   "execution_count": 255,
   "id": "e1a481bd",
   "metadata": {},
   "outputs": [
    {
     "data": {
      "application/vnd.jupyter.widget-view+json": {
       "model_id": "7cf2dfb7c45e4224bff0faea2801b2a4",
       "version_major": 2,
       "version_minor": 0
      },
      "text/plain": [
       "NGLWidget(max_frame=10000)"
      ]
     },
     "metadata": {},
     "output_type": "display_data"
    }
   ],
   "source": [
    "view = nv.show_mdanalysis(U)\n",
    "view.control.rotate(\n",
    "    mda.lib.transformations.quaternion_from_euler(\n",
    "        -np.pi/2, np.pi/3, np.pi/6, 'rzyz').tolist())\n",
    "view"
   ]
  },
  {
   "cell_type": "code",
   "execution_count": 256,
   "id": "93852250",
   "metadata": {},
   "outputs": [],
   "source": [
    "def change_representation(view, representation):\n",
    "    view.clear()\n",
    "    representations = [\"cartoon\",\"backbone\", \"ball+stick\"]\n",
    "    view.representations = [\n",
    "        {\"type\": representation,\n",
    "         \"params\": {\"sele\":\"367-372\",\"color\":\"red\",\"radiusType\":\"vdW\"}},\n",
    "        {\"type\": \"cartoon\",\n",
    "         \"params\": {\"sele\":\"40-337\",\"color\":\"blue\",\"radiusType\":\"vdW\"}}\n",
    "    ]\n",
    "\n",
    "    \n",
    "def show_residues_around(view, component_index=0, selection=\"ligand\", radius=5.0):\n",
    "    js = (\n",
    "        f\"\"\"\n",
    "        // Get first (and only) loaded component: our protein-ligand system\n",
    "        var system = this.stage.compList[{component_index}];\n",
    "        // Store current selection, we will need it laer\n",
    "        var prevSele = system.selection.string;\n",
    "        // Set selection to our desired ligand\n",
    "        system.setSelection(\"{selection}\");\n",
    "        // Select all atoms within 5A from the ligand\n",
    "        var around = system.structure.getAtomSetWithinSelection(system.selection, {radius});\n",
    "        \"\"\"\n",
    "        \"\"\"\n",
    "        // Extend selection so it includes full residues\n",
    "        var around_complete = system.structure.getAtomSetWithinGroup(around);\n",
    "        // Add representation for those atoms\n",
    "        system.addRepresentation(\"licorice\", {sele: around_complete.toSeleString()});\n",
    "        // Restore selection to original one; otherwise changes won't be reflected\n",
    "        system.setSelection(prevSele)\n",
    "        \"\"\"\n",
    "    )\n",
    "    view._execute_js_code(js)\n",
    "    "
   ]
  },
  {
   "cell_type": "code",
   "execution_count": 257,
   "id": "6efea4e5",
   "metadata": {},
   "outputs": [
    {
     "data": {
      "application/vnd.jupyter.widget-view+json": {
       "model_id": "c4cc93bde07446eb88fc091bf495a700",
       "version_major": 2,
       "version_minor": 0
      },
      "text/plain": [
       "interactive(children=(Dropdown(description='representation', options=('cartoon', 'backbone', 'ball+stick'), va…"
      ]
     },
     "metadata": {},
     "output_type": "display_data"
    },
    {
     "data": {
      "application/vnd.jupyter.widget-view+json": {
       "model_id": "8d73498ee5204263b77c954285d3a11b",
       "version_major": 2,
       "version_minor": 0
      },
      "text/plain": [
       "NGLWidget(max_frame=10000)"
      ]
     },
     "metadata": {},
     "output_type": "display_data"
    }
   ],
   "source": [
    "view = nv.show_mdanalysis(U)\n",
    "\n",
    "interact(change_representation,view=fixed(view), representation=representations) \n",
    "\n",
    "show_residues_around(view,selection=\"367-372\")\n",
    "view.center(\"367-372\")  \n",
    "\n",
    "view"
   ]
  },
  {
   "cell_type": "code",
   "execution_count": 305,
   "id": "d2e43212",
   "metadata": {},
   "outputs": [
    {
     "ename": "SyntaxError",
     "evalue": "invalid syntax (<ipython-input-305-0f43b63a1538>, line 5)",
     "output_type": "error",
     "traceback": [
      "\u001b[0;36m  File \u001b[0;32m\"<ipython-input-305-0f43b63a1538>\"\u001b[0;36m, line \u001b[0;32m5\u001b[0m\n\u001b[0;31m    view2 = nv.show_mdanalysis(U)\u001b[0m\n\u001b[0m        ^\u001b[0m\n\u001b[0;31mSyntaxError\u001b[0m\u001b[0;31m:\u001b[0m invalid syntax\n"
     ]
    }
   ],
   "source": [
    "# select pocket residues\n",
    "pocket_resids = set(\n",
    "    U.select_atoms(f\"(around 5 protein and (resid 367-372))\".resids\n",
    ")\n",
    "view2 = nv.show_mdanalysis(U)\n",
    "view2.add_representation(\n",
    "    \"licorice\", selection=f\"protein and ({' '.join([str(x) for x in pocket_resids])})\"\n",
    ")\n",
    "view2.center(selection=\"ligand\")\n",
    "view2"
   ]
  },
  {
   "cell_type": "code",
   "execution_count": null,
   "id": "0bf6d099",
   "metadata": {},
   "outputs": [],
   "source": []
  },
  {
   "cell_type": "code",
   "execution_count": null,
   "id": "fd445d53",
   "metadata": {},
   "outputs": [],
   "source": []
  },
  {
   "cell_type": "code",
   "execution_count": null,
   "id": "d3766a0d",
   "metadata": {},
   "outputs": [],
   "source": []
  },
  {
   "cell_type": "code",
   "execution_count": null,
   "id": "0399ac43",
   "metadata": {},
   "outputs": [],
   "source": []
  },
  {
   "cell_type": "markdown",
   "id": "3fa1b421",
   "metadata": {
    "tags": []
   },
   "source": [
    "#### **2. RMSD Analysis**\n",
    "\n",
    "- HOWTO\n",
    "    1. We first fit the traj using the receptor atoms (group `receptor`).\n",
    "    2. After fitting, we obtain RMSD for different domains without superimposition (`i.e., re-fitting`)\n",
    "    3. We create a dataframe (`df_rms`) as the container for RMSD data.\n",
    "    4. In the dataframe, we use `Time` signature as index (row labels).\n",
    "        - The trajectory contains snapshots of collected  `@100ps` interval.\n",
    "        - Hence, we multiply `Time` with 0.001 (i.e., Time/1000.0 to convert in ns)"
   ]
  },
  {
   "cell_type": "code",
   "execution_count": 258,
   "id": "60105882",
   "metadata": {},
   "outputs": [
    {
     "data": {
      "text/plain": [
       "'Done Boss'"
      ]
     },
     "metadata": {},
     "output_type": "display_data"
    },
    {
     "data": {
      "text/plain": [
       "(10001, 5)"
      ]
     },
     "metadata": {},
     "output_type": "display_data"
    }
   ],
   "source": [
    "R = rms.RMSD(U,\n",
    "             ref,  # reference universe or atomgroup\n",
    "             select=full,  # group to superimpose and calculate RMSD\n",
    "             groupselections=[receptor,peptide] )  # groups for domain RMSDs\n",
    "R.run()\n",
    "display('Done Boss', R.rmsd.shape)"
   ]
  },
  {
   "cell_type": "code",
   "execution_count": 259,
   "id": "3423b5fc",
   "metadata": {},
   "outputs": [],
   "source": [
    "# Create dataframe of RMSD values\n",
    "# RMSD routine creates Frame and Time columns + three groups of RMSD calculations\n",
    "cols = ['Frame','Time', 'full' , 'receptor','peptide', ]\n",
    "df_rms = pd.DataFrame(R.rmsd, columns=cols)"
   ]
  },
  {
   "cell_type": "code",
   "execution_count": 260,
   "id": "49a53aea",
   "metadata": {},
   "outputs": [
    {
     "data": {
      "text/plain": [
       "0            0.0\n",
       "1            1.0\n",
       "2            2.0\n",
       "3            3.0\n",
       "4            4.0\n",
       "          ...   \n",
       "9996      9996.0\n",
       "9997      9997.0\n",
       "9998      9998.0\n",
       "9999      9999.0\n",
       "10000    10000.0\n",
       "Name: Time, Length: 10001, dtype: float64"
      ]
     },
     "execution_count": 260,
     "metadata": {},
     "output_type": "execute_result"
    }
   ],
   "source": [
    "# Lets convert time to ns\n",
    "df_rms.Time/1000.0 #  Time*(1/1000)"
   ]
  },
  {
   "cell_type": "code",
   "execution_count": 261,
   "id": "1966bee9",
   "metadata": {},
   "outputs": [],
   "source": [
    "df_rms.drop('Frame',axis=1,inplace=True)      #Drop Frame column, we retain only Time\n",
    "df_rms['Time' ] = df_rms.Time* 0.001          #Convert time to ns\n",
    "df_rms.set_index('Time',inplace=True)         #Set Time as index (row labels)"
   ]
  },
  {
   "cell_type": "code",
   "execution_count": 262,
   "id": "776d4803",
   "metadata": {},
   "outputs": [
    {
     "data": {
      "text/html": [
       "<div>\n",
       "<style scoped>\n",
       "    .dataframe tbody tr th:only-of-type {\n",
       "        vertical-align: middle;\n",
       "    }\n",
       "\n",
       "    .dataframe tbody tr th {\n",
       "        vertical-align: top;\n",
       "    }\n",
       "\n",
       "    .dataframe thead th {\n",
       "        text-align: right;\n",
       "    }\n",
       "</style>\n",
       "<table border=\"1\" class=\"dataframe\">\n",
       "  <thead>\n",
       "    <tr style=\"text-align: right;\">\n",
       "      <th></th>\n",
       "      <th>full</th>\n",
       "      <th>receptor</th>\n",
       "      <th>peptide</th>\n",
       "    </tr>\n",
       "    <tr>\n",
       "      <th>Time</th>\n",
       "      <th></th>\n",
       "      <th></th>\n",
       "      <th></th>\n",
       "    </tr>\n",
       "  </thead>\n",
       "  <tbody>\n",
       "    <tr>\n",
       "      <th>0.0</th>\n",
       "      <td>2.266210</td>\n",
       "      <td>2.254264</td>\n",
       "      <td>2.588778</td>\n",
       "    </tr>\n",
       "    <tr>\n",
       "      <th>1.0</th>\n",
       "      <td>3.190187</td>\n",
       "      <td>3.088547</td>\n",
       "      <td>5.355772</td>\n",
       "    </tr>\n",
       "    <tr>\n",
       "      <th>2.0</th>\n",
       "      <td>3.182286</td>\n",
       "      <td>3.093562</td>\n",
       "      <td>5.125889</td>\n",
       "    </tr>\n",
       "    <tr>\n",
       "      <th>3.0</th>\n",
       "      <td>3.590633</td>\n",
       "      <td>3.482335</td>\n",
       "      <td>5.925048</td>\n",
       "    </tr>\n",
       "    <tr>\n",
       "      <th>4.0</th>\n",
       "      <td>3.585886</td>\n",
       "      <td>3.525756</td>\n",
       "      <td>5.025894</td>\n",
       "    </tr>\n",
       "  </tbody>\n",
       "</table>\n",
       "</div>"
      ],
      "text/plain": [
       "          full  receptor   peptide\n",
       "Time                              \n",
       "0.0   2.266210  2.254264  2.588778\n",
       "1.0   3.190187  3.088547  5.355772\n",
       "2.0   3.182286  3.093562  5.125889\n",
       "3.0   3.590633  3.482335  5.925048\n",
       "4.0   3.585886  3.525756  5.025894"
      ]
     },
     "metadata": {},
     "output_type": "display_data"
    },
    {
     "data": {
      "text/html": [
       "<div>\n",
       "<style scoped>\n",
       "    .dataframe tbody tr th:only-of-type {\n",
       "        vertical-align: middle;\n",
       "    }\n",
       "\n",
       "    .dataframe tbody tr th {\n",
       "        vertical-align: top;\n",
       "    }\n",
       "\n",
       "    .dataframe thead th {\n",
       "        text-align: right;\n",
       "    }\n",
       "</style>\n",
       "<table border=\"1\" class=\"dataframe\">\n",
       "  <thead>\n",
       "    <tr style=\"text-align: right;\">\n",
       "      <th></th>\n",
       "      <th>full</th>\n",
       "      <th>receptor</th>\n",
       "      <th>peptide</th>\n",
       "    </tr>\n",
       "    <tr>\n",
       "      <th>Time</th>\n",
       "      <th></th>\n",
       "      <th></th>\n",
       "      <th></th>\n",
       "    </tr>\n",
       "  </thead>\n",
       "  <tbody>\n",
       "    <tr>\n",
       "      <th>9997.0</th>\n",
       "      <td>10.933596</td>\n",
       "      <td>4.511936</td>\n",
       "      <td>54.735149</td>\n",
       "    </tr>\n",
       "    <tr>\n",
       "      <th>9998.0</th>\n",
       "      <td>10.264655</td>\n",
       "      <td>4.199583</td>\n",
       "      <td>51.472671</td>\n",
       "    </tr>\n",
       "    <tr>\n",
       "      <th>9999.0</th>\n",
       "      <td>10.467203</td>\n",
       "      <td>4.228437</td>\n",
       "      <td>52.615205</td>\n",
       "    </tr>\n",
       "    <tr>\n",
       "      <th>10000.0</th>\n",
       "      <td>10.556048</td>\n",
       "      <td>4.136731</td>\n",
       "      <td>53.353921</td>\n",
       "    </tr>\n",
       "  </tbody>\n",
       "</table>\n",
       "</div>"
      ],
      "text/plain": [
       "              full  receptor    peptide\n",
       "Time                                   \n",
       "9997.0   10.933596  4.511936  54.735149\n",
       "9998.0   10.264655  4.199583  51.472671\n",
       "9999.0   10.467203  4.228437  52.615205\n",
       "10000.0  10.556048  4.136731  53.353921"
      ]
     },
     "metadata": {},
     "output_type": "display_data"
    }
   ],
   "source": [
    "#Save rmsd output to csv file\n",
    "#df_rms.to_csv( fout_rms ,index_label='Time') \n",
    "\n",
    "display( df_rms.head(5), df_rms.tail(4) )"
   ]
  },
  {
   "cell_type": "markdown",
   "id": "eca9d4f3",
   "metadata": {},
   "source": [
    "#### **3. RMSF Analysis**\n",
    "- HOWTO\n",
    "    1. Prior to RMSF, the trajectory should be fitted to reference structure (`We have done it`)\n",
    "    2. We obtain RMSF in different blocks (of 400 ns)\n",
    "        - RMSF is usually computed for the whole trajectory\n",
    "        - RMSF obtained in blocks (of 100 ns) gives more information.\n",
    "            - Helps us to monitor RMSF changes at different time regimes\n",
    "        - Save the RMSF data in dataframe (`df_rmsf`)\n",
    "            - Herein, we use residue ids as index (row labels)"
   ]
  },
  {
   "cell_type": "code",
   "execution_count": 263,
   "id": "3ded6d2f",
   "metadata": {},
   "outputs": [
    {
     "name": "stdout",
     "output_type": "stream",
     "text": [
      "NUMBER OF FRAMES IN EACH BLOCK:1000\n",
      "TIME REGION FOR EACH BLOCK:1000.0 NS\n",
      "\n",
      "Start frame:0 and End frame:1000\n"
     ]
    },
    {
     "data": {
      "application/vnd.jupyter.widget-view+json": {
       "model_id": "ce4baf8549984e26b15692594ead4890",
       "version_major": 2,
       "version_minor": 0
      },
      "text/plain": [
       "  0%|          | 0/1000 [00:00<?, ?it/s]"
      ]
     },
     "metadata": {},
     "output_type": "display_data"
    },
    {
     "name": "stdout",
     "output_type": "stream",
     "text": [
      "Start frame:1000 and End frame:2000\n"
     ]
    },
    {
     "data": {
      "application/vnd.jupyter.widget-view+json": {
       "model_id": "e5b784f07ccd4b70b105cfa3f717bb61",
       "version_major": 2,
       "version_minor": 0
      },
      "text/plain": [
       "  0%|          | 0/1000 [00:00<?, ?it/s]"
      ]
     },
     "metadata": {},
     "output_type": "display_data"
    },
    {
     "name": "stdout",
     "output_type": "stream",
     "text": [
      "Start frame:2000 and End frame:3000\n"
     ]
    },
    {
     "data": {
      "application/vnd.jupyter.widget-view+json": {
       "model_id": "36588c1e5ee34b2c9dc428f15e70dbac",
       "version_major": 2,
       "version_minor": 0
      },
      "text/plain": [
       "  0%|          | 0/1000 [00:00<?, ?it/s]"
      ]
     },
     "metadata": {},
     "output_type": "display_data"
    },
    {
     "name": "stdout",
     "output_type": "stream",
     "text": [
      "Start frame:3000 and End frame:4000\n"
     ]
    },
    {
     "data": {
      "application/vnd.jupyter.widget-view+json": {
       "model_id": "f8123b89abef40d0b4c9e8609e3be542",
       "version_major": 2,
       "version_minor": 0
      },
      "text/plain": [
       "  0%|          | 0/1000 [00:00<?, ?it/s]"
      ]
     },
     "metadata": {},
     "output_type": "display_data"
    },
    {
     "name": "stdout",
     "output_type": "stream",
     "text": [
      "Start frame:4000 and End frame:5000\n"
     ]
    },
    {
     "data": {
      "application/vnd.jupyter.widget-view+json": {
       "model_id": "06e9ef39f6d44bef9d4c70ab33fe6b83",
       "version_major": 2,
       "version_minor": 0
      },
      "text/plain": [
       "  0%|          | 0/1000 [00:00<?, ?it/s]"
      ]
     },
     "metadata": {},
     "output_type": "display_data"
    },
    {
     "name": "stdout",
     "output_type": "stream",
     "text": [
      "Start frame:5000 and End frame:6000\n"
     ]
    },
    {
     "data": {
      "application/vnd.jupyter.widget-view+json": {
       "model_id": "904ae04ec9204e1c963ef8614752ce24",
       "version_major": 2,
       "version_minor": 0
      },
      "text/plain": [
       "  0%|          | 0/1000 [00:00<?, ?it/s]"
      ]
     },
     "metadata": {},
     "output_type": "display_data"
    },
    {
     "name": "stdout",
     "output_type": "stream",
     "text": [
      "Start frame:6000 and End frame:7000\n"
     ]
    },
    {
     "data": {
      "application/vnd.jupyter.widget-view+json": {
       "model_id": "eed2b3425d204f90aa8d1fc5bb5d6718",
       "version_major": 2,
       "version_minor": 0
      },
      "text/plain": [
       "  0%|          | 0/1000 [00:00<?, ?it/s]"
      ]
     },
     "metadata": {},
     "output_type": "display_data"
    },
    {
     "name": "stdout",
     "output_type": "stream",
     "text": [
      "Start frame:7000 and End frame:8000\n"
     ]
    },
    {
     "data": {
      "application/vnd.jupyter.widget-view+json": {
       "model_id": "57ecfa05a7594fcfb6e7e188d7b13593",
       "version_major": 2,
       "version_minor": 0
      },
      "text/plain": [
       "  0%|          | 0/1000 [00:00<?, ?it/s]"
      ]
     },
     "metadata": {},
     "output_type": "display_data"
    },
    {
     "name": "stdout",
     "output_type": "stream",
     "text": [
      "Start frame:8000 and End frame:9000\n"
     ]
    },
    {
     "data": {
      "application/vnd.jupyter.widget-view+json": {
       "model_id": "a4773f69ce3446929d57534f4761a72f",
       "version_major": 2,
       "version_minor": 0
      },
      "text/plain": [
       "  0%|          | 0/1000 [00:00<?, ?it/s]"
      ]
     },
     "metadata": {},
     "output_type": "display_data"
    },
    {
     "name": "stdout",
     "output_type": "stream",
     "text": [
      "Start frame:9000 and End frame:10000\n"
     ]
    },
    {
     "data": {
      "application/vnd.jupyter.widget-view+json": {
       "model_id": "4abd629643354afb9c3f5c47286ea0f4",
       "version_major": 2,
       "version_minor": 0
      },
      "text/plain": [
       "  0%|          | 0/1000 [00:00<?, ?it/s]"
      ]
     },
     "metadata": {},
     "output_type": "display_data"
    },
    {
     "name": "stdout",
     "output_type": "stream",
     "text": [
      "Done Boss\n"
     ]
    }
   ],
   "source": [
    "# RMSF is calculated in blocks\n",
    "nblocks = 10                                 #No. of blocks\n",
    "size = U.trajectory.n_frames / nblocks       #Size of a block, 1000 frames\n",
    "df_rmsf  = pd.DataFrame()                    #Dataframe for rmsf\n",
    "\n",
    "size = int(size)\n",
    "print( f\"Number of frames in each block:{size}\".upper() )\n",
    "print( f\"Time region for each block:{df_rms.index[size]} ns\\n\".upper() )\n",
    "\n",
    "# Here starts the rmsf estimation\n",
    "for block in range(nblocks):\n",
    "    \n",
    "    # Start and End frames as obtained as intergers\n",
    "    begin = (block * size) ;  end = (block + 1) * size\n",
    "    print( f\"Start frame:{begin} and End frame:{end}\")\n",
    "    \n",
    "    # We use rms.RMSF routine to calculate the rmsf.\n",
    "    brmsf = rms.RMSF( U.select_atoms(full), verbose=True ).run( start = begin , stop = end)\n",
    "    df_rmsf[ f\"B{block+1}\" ]  =  brmsf.results.rmsf\n",
    "\n",
    "print('Done Boss')"
   ]
  },
  {
   "cell_type": "code",
   "execution_count": 264,
   "id": "58f0914d",
   "metadata": {},
   "outputs": [
    {
     "data": {
      "text/html": [
       "<div>\n",
       "<style scoped>\n",
       "    .dataframe tbody tr th:only-of-type {\n",
       "        vertical-align: middle;\n",
       "    }\n",
       "\n",
       "    .dataframe tbody tr th {\n",
       "        vertical-align: top;\n",
       "    }\n",
       "\n",
       "    .dataframe thead th {\n",
       "        text-align: right;\n",
       "    }\n",
       "</style>\n",
       "<table border=\"1\" class=\"dataframe\">\n",
       "  <thead>\n",
       "    <tr style=\"text-align: right;\">\n",
       "      <th></th>\n",
       "      <th>B1</th>\n",
       "      <th>B2</th>\n",
       "      <th>B3</th>\n",
       "      <th>B4</th>\n",
       "      <th>B5</th>\n",
       "      <th>B6</th>\n",
       "      <th>B7</th>\n",
       "      <th>B8</th>\n",
       "      <th>B9</th>\n",
       "      <th>B10</th>\n",
       "    </tr>\n",
       "    <tr>\n",
       "      <th>Residue</th>\n",
       "      <th></th>\n",
       "      <th></th>\n",
       "      <th></th>\n",
       "      <th></th>\n",
       "      <th></th>\n",
       "      <th></th>\n",
       "      <th></th>\n",
       "      <th></th>\n",
       "      <th></th>\n",
       "      <th></th>\n",
       "    </tr>\n",
       "  </thead>\n",
       "  <tbody>\n",
       "    <tr>\n",
       "      <th>40</th>\n",
       "      <td>3.152987</td>\n",
       "      <td>2.639854</td>\n",
       "      <td>2.000466</td>\n",
       "      <td>2.391550</td>\n",
       "      <td>3.136753</td>\n",
       "      <td>2.382016</td>\n",
       "      <td>2.375146</td>\n",
       "      <td>2.982535</td>\n",
       "      <td>3.379051</td>\n",
       "      <td>3.051956</td>\n",
       "    </tr>\n",
       "    <tr>\n",
       "      <th>40</th>\n",
       "      <td>3.671265</td>\n",
       "      <td>3.134499</td>\n",
       "      <td>2.440552</td>\n",
       "      <td>2.854221</td>\n",
       "      <td>3.588601</td>\n",
       "      <td>2.883969</td>\n",
       "      <td>2.884229</td>\n",
       "      <td>3.525759</td>\n",
       "      <td>3.740832</td>\n",
       "      <td>3.618228</td>\n",
       "    </tr>\n",
       "    <tr>\n",
       "      <th>41</th>\n",
       "      <td>1.563149</td>\n",
       "      <td>1.592525</td>\n",
       "      <td>1.489667</td>\n",
       "      <td>1.653119</td>\n",
       "      <td>1.638855</td>\n",
       "      <td>1.565781</td>\n",
       "      <td>1.668383</td>\n",
       "      <td>1.640860</td>\n",
       "      <td>1.616025</td>\n",
       "      <td>2.537642</td>\n",
       "    </tr>\n",
       "    <tr>\n",
       "      <th>41</th>\n",
       "      <td>2.429766</td>\n",
       "      <td>2.291078</td>\n",
       "      <td>1.870768</td>\n",
       "      <td>2.194626</td>\n",
       "      <td>2.627369</td>\n",
       "      <td>2.227137</td>\n",
       "      <td>2.189840</td>\n",
       "      <td>2.690973</td>\n",
       "      <td>2.414411</td>\n",
       "      <td>3.221158</td>\n",
       "    </tr>\n",
       "    <tr>\n",
       "      <th>42</th>\n",
       "      <td>1.232603</td>\n",
       "      <td>1.315724</td>\n",
       "      <td>1.258177</td>\n",
       "      <td>1.361237</td>\n",
       "      <td>1.305472</td>\n",
       "      <td>1.309279</td>\n",
       "      <td>1.392162</td>\n",
       "      <td>1.282421</td>\n",
       "      <td>1.368976</td>\n",
       "      <td>2.291449</td>\n",
       "    </tr>\n",
       "  </tbody>\n",
       "</table>\n",
       "</div>"
      ],
      "text/plain": [
       "               B1        B2        B3        B4        B5        B6        B7  \\\n",
       "Residue                                                                         \n",
       "40       3.152987  2.639854  2.000466  2.391550  3.136753  2.382016  2.375146   \n",
       "40       3.671265  3.134499  2.440552  2.854221  3.588601  2.883969  2.884229   \n",
       "41       1.563149  1.592525  1.489667  1.653119  1.638855  1.565781  1.668383   \n",
       "41       2.429766  2.291078  1.870768  2.194626  2.627369  2.227137  2.189840   \n",
       "42       1.232603  1.315724  1.258177  1.361237  1.305472  1.309279  1.392162   \n",
       "\n",
       "               B8        B9       B10  \n",
       "Residue                                \n",
       "40       2.982535  3.379051  3.051956  \n",
       "40       3.525759  3.740832  3.618228  \n",
       "41       1.640860  1.616025  2.537642  \n",
       "41       2.690973  2.414411  3.221158  \n",
       "42       1.282421  1.368976  2.291449  "
      ]
     },
     "metadata": {},
     "output_type": "display_data"
    },
    {
     "data": {
      "text/html": [
       "<div>\n",
       "<style scoped>\n",
       "    .dataframe tbody tr th:only-of-type {\n",
       "        vertical-align: middle;\n",
       "    }\n",
       "\n",
       "    .dataframe tbody tr th {\n",
       "        vertical-align: top;\n",
       "    }\n",
       "\n",
       "    .dataframe thead th {\n",
       "        text-align: right;\n",
       "    }\n",
       "</style>\n",
       "<table border=\"1\" class=\"dataframe\">\n",
       "  <thead>\n",
       "    <tr style=\"text-align: right;\">\n",
       "      <th></th>\n",
       "      <th>B1</th>\n",
       "      <th>B2</th>\n",
       "      <th>B3</th>\n",
       "      <th>B4</th>\n",
       "      <th>B5</th>\n",
       "      <th>B6</th>\n",
       "      <th>B7</th>\n",
       "      <th>B8</th>\n",
       "      <th>B9</th>\n",
       "      <th>B10</th>\n",
       "    </tr>\n",
       "    <tr>\n",
       "      <th>Residue</th>\n",
       "      <th></th>\n",
       "      <th></th>\n",
       "      <th></th>\n",
       "      <th></th>\n",
       "      <th></th>\n",
       "      <th></th>\n",
       "      <th></th>\n",
       "      <th></th>\n",
       "      <th></th>\n",
       "      <th></th>\n",
       "    </tr>\n",
       "  </thead>\n",
       "  <tbody>\n",
       "    <tr>\n",
       "      <th>371</th>\n",
       "      <td>2.767772</td>\n",
       "      <td>2.693260</td>\n",
       "      <td>2.671761</td>\n",
       "      <td>3.199848</td>\n",
       "      <td>3.318413</td>\n",
       "      <td>4.869164</td>\n",
       "      <td>6.676187</td>\n",
       "      <td>3.846614</td>\n",
       "      <td>6.303305</td>\n",
       "      <td>31.894611</td>\n",
       "    </tr>\n",
       "    <tr>\n",
       "      <th>372</th>\n",
       "      <td>0.982237</td>\n",
       "      <td>1.352226</td>\n",
       "      <td>1.143767</td>\n",
       "      <td>1.341545</td>\n",
       "      <td>1.147227</td>\n",
       "      <td>1.233006</td>\n",
       "      <td>3.442097</td>\n",
       "      <td>3.743193</td>\n",
       "      <td>4.896487</td>\n",
       "      <td>33.262850</td>\n",
       "    </tr>\n",
       "    <tr>\n",
       "      <th>372</th>\n",
       "      <td>1.247162</td>\n",
       "      <td>1.354614</td>\n",
       "      <td>1.144554</td>\n",
       "      <td>1.194379</td>\n",
       "      <td>1.049565</td>\n",
       "      <td>1.305740</td>\n",
       "      <td>3.887534</td>\n",
       "      <td>5.140960</td>\n",
       "      <td>5.563942</td>\n",
       "      <td>33.953852</td>\n",
       "    </tr>\n",
       "    <tr>\n",
       "      <th>372</th>\n",
       "      <td>0.907267</td>\n",
       "      <td>1.376256</td>\n",
       "      <td>0.900820</td>\n",
       "      <td>0.928534</td>\n",
       "      <td>0.791706</td>\n",
       "      <td>1.959659</td>\n",
       "      <td>5.611532</td>\n",
       "      <td>5.862552</td>\n",
       "      <td>7.085987</td>\n",
       "      <td>35.088469</td>\n",
       "    </tr>\n",
       "  </tbody>\n",
       "</table>\n",
       "</div>"
      ],
      "text/plain": [
       "               B1        B2        B3        B4        B5        B6        B7  \\\n",
       "Residue                                                                         \n",
       "371      2.767772  2.693260  2.671761  3.199848  3.318413  4.869164  6.676187   \n",
       "372      0.982237  1.352226  1.143767  1.341545  1.147227  1.233006  3.442097   \n",
       "372      1.247162  1.354614  1.144554  1.194379  1.049565  1.305740  3.887534   \n",
       "372      0.907267  1.376256  0.900820  0.928534  0.791706  1.959659  5.611532   \n",
       "\n",
       "               B8        B9        B10  \n",
       "Residue                                 \n",
       "371      3.846614  6.303305  31.894611  \n",
       "372      3.743193  4.896487  33.262850  \n",
       "372      5.140960  5.563942  33.953852  \n",
       "372      5.862552  7.085987  35.088469  "
      ]
     },
     "metadata": {},
     "output_type": "display_data"
    }
   ],
   "source": [
    "# Extract residue numbers, keep them as row labels\n",
    "Rids = U.select_atoms( full ).resnums  # resnums gives residue numbers for atmgroup Full\n",
    "df_rmsf.index = Rids\n",
    "df_rmsf.index.name = 'Residue' \n",
    "\n",
    "# We can save the dataframe to output file\n",
    "df_rmsf.to_csv(fout_rmf ,index_label='Residue')\n",
    "\n",
    "display( df_rmsf.head(5),df_rmsf.tail(4) )"
   ]
  },
  {
   "cell_type": "markdown",
   "id": "9022751b",
   "metadata": {
    "tags": []
   },
   "source": [
    "#### **4. PCA Analysis**\n",
    "- HOWTO\n",
    "    1. PCA analysis is usually performed on a subset of atoms\n",
    "        - Herein, we consider C$_\\alpha$ atoms\n",
    "    2. Since we have a longer trajectory, we use frames in 500 ps interval (0.5 ns)\n",
    "        - Herein, we use begin, end, skip variables to define the range\n",
    "    3. After applying PCA, we estimate statistical parameters\n",
    "        - Cumulated variance\n",
    "    4. We project the trajectory on PCA space\n",
    "    5. We save projections on a dframe (`df_pca`)\n",
    "        - We use `Time` signature as our dframe index"
   ]
  },
  {
   "cell_type": "code",
   "execution_count": 265,
   "id": "d46450f2",
   "metadata": {},
   "outputs": [
    {
     "name": "stdout",
     "output_type": "stream",
     "text": [
      "Done Boss\n"
     ]
    }
   ],
   "source": [
    "# Selecting an atom group to apply PCA\n",
    "sel = full\n",
    "begin,end,skip = 1000 , 10000 , 5\n",
    "\n",
    "# PCA starts here\n",
    "mypca = pca.PCA( U , select= sel )\n",
    "mypca.run(begin,end,skip)\n",
    "print('Done Boss')"
   ]
  },
  {
   "cell_type": "code",
   "execution_count": 266,
   "id": "6f30fb45",
   "metadata": {},
   "outputs": [
    {
     "data": {
      "text/plain": [
       "'Total number of PCs: 2250 '"
      ]
     },
     "metadata": {},
     "output_type": "display_data"
    },
    {
     "name": "stdout",
     "output_type": "stream",
     "text": [
      "Cumulative variance of first 10 PCs\n",
      "[0.29842849 0.42930129 0.55240381 0.63483237 0.66583721 0.68578774\n",
      " 0.70174723 0.71515493 0.72649541] \n"
     ]
    }
   ],
   "source": [
    "# Cumulated variance\n",
    "# Infer number of PC components that explain most variance\n",
    "\n",
    "display( f\"Total number of PCs: {mypca.cumulated_variance.size} \" )\n",
    "print( f\"Cumulative variance of first 10 PCs\\n{ mypca.cumulated_variance[:9] } \" )"
   ]
  },
  {
   "cell_type": "code",
   "execution_count": 267,
   "id": "b99782a8",
   "metadata": {},
   "outputs": [
    {
     "data": {
      "text/html": [
       "<div>\n",
       "<style scoped>\n",
       "    .dataframe tbody tr th:only-of-type {\n",
       "        vertical-align: middle;\n",
       "    }\n",
       "\n",
       "    .dataframe tbody tr th {\n",
       "        vertical-align: top;\n",
       "    }\n",
       "\n",
       "    .dataframe thead th {\n",
       "        text-align: right;\n",
       "    }\n",
       "</style>\n",
       "<table border=\"1\" class=\"dataframe\">\n",
       "  <thead>\n",
       "    <tr style=\"text-align: right;\">\n",
       "      <th></th>\n",
       "      <th>PC1</th>\n",
       "      <th>PC2</th>\n",
       "      <th>PC3</th>\n",
       "      <th>PC4</th>\n",
       "      <th>PC5</th>\n",
       "      <th>PC6</th>\n",
       "      <th>PC7</th>\n",
       "      <th>PC8</th>\n",
       "      <th>PC9</th>\n",
       "    </tr>\n",
       "  </thead>\n",
       "  <tbody>\n",
       "    <tr>\n",
       "      <th>0</th>\n",
       "      <td>5.393842</td>\n",
       "      <td>-7.250420</td>\n",
       "      <td>16.873540</td>\n",
       "      <td>-0.792574</td>\n",
       "      <td>-10.309188</td>\n",
       "      <td>6.882486</td>\n",
       "      <td>-10.855265</td>\n",
       "      <td>1.684960</td>\n",
       "      <td>-4.069272</td>\n",
       "    </tr>\n",
       "    <tr>\n",
       "      <th>1</th>\n",
       "      <td>7.656969</td>\n",
       "      <td>-7.682439</td>\n",
       "      <td>13.227243</td>\n",
       "      <td>-3.136885</td>\n",
       "      <td>7.895724</td>\n",
       "      <td>12.247032</td>\n",
       "      <td>4.031135</td>\n",
       "      <td>-8.757920</td>\n",
       "      <td>1.114714</td>\n",
       "    </tr>\n",
       "    <tr>\n",
       "      <th>2</th>\n",
       "      <td>3.805423</td>\n",
       "      <td>-5.506851</td>\n",
       "      <td>27.767790</td>\n",
       "      <td>-2.010939</td>\n",
       "      <td>-3.275250</td>\n",
       "      <td>7.520116</td>\n",
       "      <td>-12.206605</td>\n",
       "      <td>2.583132</td>\n",
       "      <td>-9.531202</td>\n",
       "    </tr>\n",
       "    <tr>\n",
       "      <th>3</th>\n",
       "      <td>5.871217</td>\n",
       "      <td>-7.168773</td>\n",
       "      <td>0.836350</td>\n",
       "      <td>3.611526</td>\n",
       "      <td>6.395109</td>\n",
       "      <td>11.845709</td>\n",
       "      <td>9.175643</td>\n",
       "      <td>-13.308083</td>\n",
       "      <td>3.345673</td>\n",
       "    </tr>\n",
       "    <tr>\n",
       "      <th>4</th>\n",
       "      <td>5.962743</td>\n",
       "      <td>-2.049095</td>\n",
       "      <td>28.277371</td>\n",
       "      <td>-3.337710</td>\n",
       "      <td>8.721371</td>\n",
       "      <td>-8.436943</td>\n",
       "      <td>-6.991236</td>\n",
       "      <td>-14.438695</td>\n",
       "      <td>-13.898817</td>\n",
       "    </tr>\n",
       "  </tbody>\n",
       "</table>\n",
       "</div>"
      ],
      "text/plain": [
       "        PC1       PC2        PC3       PC4        PC5        PC6        PC7  \\\n",
       "0  5.393842 -7.250420  16.873540 -0.792574 -10.309188   6.882486 -10.855265   \n",
       "1  7.656969 -7.682439  13.227243 -3.136885   7.895724  12.247032   4.031135   \n",
       "2  3.805423 -5.506851  27.767790 -2.010939  -3.275250   7.520116 -12.206605   \n",
       "3  5.871217 -7.168773   0.836350  3.611526   6.395109  11.845709   9.175643   \n",
       "4  5.962743 -2.049095  28.277371 -3.337710   8.721371  -8.436943  -6.991236   \n",
       "\n",
       "         PC8        PC9  \n",
       "0   1.684960  -4.069272  \n",
       "1  -8.757920   1.114714  \n",
       "2   2.583132  -9.531202  \n",
       "3 -13.308083   3.345673  \n",
       "4 -14.438695 -13.898817  "
      ]
     },
     "execution_count": 267,
     "metadata": {},
     "output_type": "execute_result"
    }
   ],
   "source": [
    "# Calculate projection for first 5 components\n",
    "\n",
    "atmgrp =  U.select_atoms( sel ) ; ncomps = 9\n",
    "pcspace = mypca.transform( atmgrp, n_components= ncomps, start = begin,stop = end,step = skip)\n",
    "\n",
    "# Place the results in a dataframe\n",
    "cols = [ f\"PC{x+1}\" for x in range(ncomps) ]\n",
    "df_pca = pd.DataFrame( pcspace , columns= cols )\n",
    "df_pca.head(5)"
   ]
  },
  {
   "cell_type": "code",
   "execution_count": 268,
   "id": "f6b5a9d2",
   "metadata": {},
   "outputs": [
    {
     "data": {
      "text/html": [
       "<div>\n",
       "<style scoped>\n",
       "    .dataframe tbody tr th:only-of-type {\n",
       "        vertical-align: middle;\n",
       "    }\n",
       "\n",
       "    .dataframe tbody tr th {\n",
       "        vertical-align: top;\n",
       "    }\n",
       "\n",
       "    .dataframe thead th {\n",
       "        text-align: right;\n",
       "    }\n",
       "</style>\n",
       "<table border=\"1\" class=\"dataframe\">\n",
       "  <thead>\n",
       "    <tr style=\"text-align: right;\">\n",
       "      <th></th>\n",
       "      <th>PC1</th>\n",
       "      <th>PC2</th>\n",
       "      <th>PC3</th>\n",
       "      <th>PC4</th>\n",
       "      <th>PC5</th>\n",
       "      <th>PC6</th>\n",
       "      <th>PC7</th>\n",
       "      <th>PC8</th>\n",
       "      <th>PC9</th>\n",
       "    </tr>\n",
       "    <tr>\n",
       "      <th>Time</th>\n",
       "      <th></th>\n",
       "      <th></th>\n",
       "      <th></th>\n",
       "      <th></th>\n",
       "      <th></th>\n",
       "      <th></th>\n",
       "      <th></th>\n",
       "      <th></th>\n",
       "      <th></th>\n",
       "    </tr>\n",
       "  </thead>\n",
       "  <tbody>\n",
       "    <tr>\n",
       "      <th>1000.0</th>\n",
       "      <td>5.393842</td>\n",
       "      <td>-7.250420</td>\n",
       "      <td>16.873540</td>\n",
       "      <td>-0.792574</td>\n",
       "      <td>-10.309188</td>\n",
       "      <td>6.882486</td>\n",
       "      <td>-10.855265</td>\n",
       "      <td>1.684960</td>\n",
       "      <td>-4.069272</td>\n",
       "    </tr>\n",
       "    <tr>\n",
       "      <th>1005.0</th>\n",
       "      <td>7.656969</td>\n",
       "      <td>-7.682439</td>\n",
       "      <td>13.227243</td>\n",
       "      <td>-3.136885</td>\n",
       "      <td>7.895724</td>\n",
       "      <td>12.247032</td>\n",
       "      <td>4.031135</td>\n",
       "      <td>-8.757920</td>\n",
       "      <td>1.114714</td>\n",
       "    </tr>\n",
       "    <tr>\n",
       "      <th>1010.0</th>\n",
       "      <td>3.805423</td>\n",
       "      <td>-5.506851</td>\n",
       "      <td>27.767790</td>\n",
       "      <td>-2.010939</td>\n",
       "      <td>-3.275250</td>\n",
       "      <td>7.520116</td>\n",
       "      <td>-12.206605</td>\n",
       "      <td>2.583132</td>\n",
       "      <td>-9.531202</td>\n",
       "    </tr>\n",
       "    <tr>\n",
       "      <th>1015.0</th>\n",
       "      <td>5.871217</td>\n",
       "      <td>-7.168773</td>\n",
       "      <td>0.836350</td>\n",
       "      <td>3.611526</td>\n",
       "      <td>6.395109</td>\n",
       "      <td>11.845709</td>\n",
       "      <td>9.175643</td>\n",
       "      <td>-13.308083</td>\n",
       "      <td>3.345673</td>\n",
       "    </tr>\n",
       "    <tr>\n",
       "      <th>1020.0</th>\n",
       "      <td>5.962743</td>\n",
       "      <td>-2.049095</td>\n",
       "      <td>28.277371</td>\n",
       "      <td>-3.337710</td>\n",
       "      <td>8.721371</td>\n",
       "      <td>-8.436943</td>\n",
       "      <td>-6.991236</td>\n",
       "      <td>-14.438695</td>\n",
       "      <td>-13.898817</td>\n",
       "    </tr>\n",
       "  </tbody>\n",
       "</table>\n",
       "</div>"
      ],
      "text/plain": [
       "             PC1       PC2        PC3       PC4        PC5        PC6  \\\n",
       "Time                                                                    \n",
       "1000.0  5.393842 -7.250420  16.873540 -0.792574 -10.309188   6.882486   \n",
       "1005.0  7.656969 -7.682439  13.227243 -3.136885   7.895724  12.247032   \n",
       "1010.0  3.805423 -5.506851  27.767790 -2.010939  -3.275250   7.520116   \n",
       "1015.0  5.871217 -7.168773   0.836350  3.611526   6.395109  11.845709   \n",
       "1020.0  5.962743 -2.049095  28.277371 -3.337710   8.721371  -8.436943   \n",
       "\n",
       "              PC7        PC8        PC9  \n",
       "Time                                     \n",
       "1000.0 -10.855265   1.684960  -4.069272  \n",
       "1005.0   4.031135  -8.757920   1.114714  \n",
       "1010.0 -12.206605   2.583132  -9.531202  \n",
       "1015.0   9.175643 -13.308083   3.345673  \n",
       "1020.0  -6.991236 -14.438695 -13.898817  "
      ]
     },
     "metadata": {},
     "output_type": "display_data"
    },
    {
     "data": {
      "text/html": [
       "<div>\n",
       "<style scoped>\n",
       "    .dataframe tbody tr th:only-of-type {\n",
       "        vertical-align: middle;\n",
       "    }\n",
       "\n",
       "    .dataframe tbody tr th {\n",
       "        vertical-align: top;\n",
       "    }\n",
       "\n",
       "    .dataframe thead th {\n",
       "        text-align: right;\n",
       "    }\n",
       "</style>\n",
       "<table border=\"1\" class=\"dataframe\">\n",
       "  <thead>\n",
       "    <tr style=\"text-align: right;\">\n",
       "      <th></th>\n",
       "      <th>PC1</th>\n",
       "      <th>PC2</th>\n",
       "      <th>PC3</th>\n",
       "      <th>PC4</th>\n",
       "      <th>PC5</th>\n",
       "      <th>PC6</th>\n",
       "      <th>PC7</th>\n",
       "      <th>PC8</th>\n",
       "      <th>PC9</th>\n",
       "    </tr>\n",
       "    <tr>\n",
       "      <th>Time</th>\n",
       "      <th></th>\n",
       "      <th></th>\n",
       "      <th></th>\n",
       "      <th></th>\n",
       "      <th></th>\n",
       "      <th></th>\n",
       "      <th></th>\n",
       "      <th></th>\n",
       "      <th></th>\n",
       "    </tr>\n",
       "  </thead>\n",
       "  <tbody>\n",
       "    <tr>\n",
       "      <th>9980.0</th>\n",
       "      <td>26.083449</td>\n",
       "      <td>-155.329210</td>\n",
       "      <td>-12.336740</td>\n",
       "      <td>-206.065744</td>\n",
       "      <td>-42.136082</td>\n",
       "      <td>14.734204</td>\n",
       "      <td>19.106789</td>\n",
       "      <td>-3.997927</td>\n",
       "      <td>-16.409756</td>\n",
       "    </tr>\n",
       "    <tr>\n",
       "      <th>9985.0</th>\n",
       "      <td>37.650302</td>\n",
       "      <td>-77.142471</td>\n",
       "      <td>6.890270</td>\n",
       "      <td>-213.227558</td>\n",
       "      <td>-27.424657</td>\n",
       "      <td>3.252940</td>\n",
       "      <td>45.148621</td>\n",
       "      <td>9.044252</td>\n",
       "      <td>-14.293385</td>\n",
       "    </tr>\n",
       "    <tr>\n",
       "      <th>9990.0</th>\n",
       "      <td>36.704348</td>\n",
       "      <td>-100.490586</td>\n",
       "      <td>25.101457</td>\n",
       "      <td>-192.985878</td>\n",
       "      <td>-44.841759</td>\n",
       "      <td>-5.773701</td>\n",
       "      <td>20.302147</td>\n",
       "      <td>6.229482</td>\n",
       "      <td>-20.685662</td>\n",
       "    </tr>\n",
       "    <tr>\n",
       "      <th>9995.0</th>\n",
       "      <td>13.784574</td>\n",
       "      <td>-161.814172</td>\n",
       "      <td>19.348308</td>\n",
       "      <td>-182.909911</td>\n",
       "      <td>-9.782474</td>\n",
       "      <td>2.353357</td>\n",
       "      <td>-0.855078</td>\n",
       "      <td>-1.820000</td>\n",
       "      <td>-10.609933</td>\n",
       "    </tr>\n",
       "  </tbody>\n",
       "</table>\n",
       "</div>"
      ],
      "text/plain": [
       "              PC1         PC2        PC3         PC4        PC5        PC6  \\\n",
       "Time                                                                         \n",
       "9980.0  26.083449 -155.329210 -12.336740 -206.065744 -42.136082  14.734204   \n",
       "9985.0  37.650302  -77.142471   6.890270 -213.227558 -27.424657   3.252940   \n",
       "9990.0  36.704348 -100.490586  25.101457 -192.985878 -44.841759  -5.773701   \n",
       "9995.0  13.784574 -161.814172  19.348308 -182.909911  -9.782474   2.353357   \n",
       "\n",
       "              PC7       PC8        PC9  \n",
       "Time                                    \n",
       "9980.0  19.106789 -3.997927 -16.409756  \n",
       "9985.0  45.148621  9.044252 -14.293385  \n",
       "9990.0  20.302147  6.229482 -20.685662  \n",
       "9995.0  -0.855078 -1.820000 -10.609933  "
      ]
     },
     "metadata": {},
     "output_type": "display_data"
    }
   ],
   "source": [
    "# Add Time signatures to projection data\n",
    "# We extract Time from df_rms data passing begin,end and skip values\n",
    "\n",
    "df_pca['Time'] = df_rms.index[begin:end:skip]\n",
    "df_pca.set_index('Time',inplace=True)\n",
    "\n",
    "# Save the output to csv file\n",
    "#df_pca.to_csv( fout_pca , index_label= 'Time' )\n",
    "display( df_pca.head(5) , df_pca.tail(4)  )"
   ]
  },
  {
   "cell_type": "markdown",
   "id": "575f2713",
   "metadata": {},
   "source": [
    "#### **View Motion along PCAs**\n",
    "- For the first three PCs, firstly we identify,\n",
    "    1. Min and Max projection values\n",
    "    2. Time index and Frame number at which min and max happens\n",
    "    3. Projected coordinates for the corresponding frames (`use get_motion` function)\n",
    "    4. Use nglview to visualize the motion"
   ]
  },
  {
   "cell_type": "code",
   "execution_count": 269,
   "id": "8cea2bff",
   "metadata": {},
   "outputs": [
    {
     "data": {
      "text/plain": [
       "(PC1   -320.793967\n",
       " PC2   -332.679702\n",
       " PC3    -68.543972\n",
       " dtype: float64,\n",
       " PC1    121.891021\n",
       " PC2    277.290684\n",
       " PC3     56.824696\n",
       " dtype: float64)"
      ]
     },
     "execution_count": 269,
     "metadata": {},
     "output_type": "execute_result"
    }
   ],
   "source": [
    "# 1. Min and max values for first three PCs\n",
    "df_pca.iloc[:,:3].min() ,  df_pca.iloc[:,:3].max()"
   ]
  },
  {
   "cell_type": "code",
   "execution_count": 270,
   "id": "9618c73b",
   "metadata": {},
   "outputs": [
    {
     "data": {
      "text/plain": [
       "(PC1    9380.0\n",
       " PC2    9640.0\n",
       " PC3    3500.0\n",
       " dtype: float64,\n",
       " PC1    9385.0\n",
       " PC2    9655.0\n",
       " PC3    7105.0\n",
       " dtype: float64)"
      ]
     },
     "execution_count": 270,
     "metadata": {},
     "output_type": "execute_result"
    }
   ],
   "source": [
    "# 2a Time @ which Min & Max values observed\n",
    "allmin = df_pca.iloc[:,:3].idxmin(axis=0, skipna=True) \n",
    "allmax = df_pca.iloc[:,:3].idxmax(axis=0, skipna=True)\n",
    "allmin,allmax"
   ]
  },
  {
   "cell_type": "code",
   "execution_count": 271,
   "id": "6f8df8b3",
   "metadata": {},
   "outputs": [
    {
     "name": "stdout",
     "output_type": "stream",
     "text": [
      "min:9380.0 , max:9385.0\n",
      "min-frame:1676 , max-frame:1677\n",
      "\n",
      "min:9640.0 , max:9655.0\n",
      "min-frame:1728 , max-frame:1731\n",
      "\n",
      "min:3500.0 , max:7105.0\n",
      "min-frame:500 , max-frame:1221\n",
      "\n"
     ]
    }
   ],
   "source": [
    "# 2b Frame @ which Min & Max values observed\n",
    "all_index = df_pca.index\n",
    "for x,y in zip( allmin, allmax):\n",
    "    print( f\"min:{x} , max:{y}\" )\n",
    "    print( f\"min-frame:{all_index.get_loc(x)} , max-frame:{all_index.get_loc(y)}\\n\" )  "
   ]
  },
  {
   "cell_type": "code",
   "execution_count": 272,
   "id": "44ddf8ab",
   "metadata": {},
   "outputs": [
    {
     "data": {
      "application/vnd.jupyter.widget-view+json": {
       "model_id": "55604b54bb4f451baed89f04194687ec",
       "version_major": 2,
       "version_minor": 0
      },
      "text/plain": [
       "NGLWidget(max_frame=1)"
      ]
     },
     "metadata": {},
     "output_type": "display_data"
    }
   ],
   "source": [
    "# Motion along first vector. For PC1, index is zero \n",
    "\n",
    "proj1 = get_motion( 0 , 179 , 1032 , sel=full)\n",
    "view = nv.show_mdanalysis(proj1)\n",
    "\n",
    "\n",
    "#Activate gui if you prefer\n",
    "#view.display(gui=True)\n",
    "view"
   ]
  },
  {
   "cell_type": "markdown",
   "id": "49c5939b",
   "metadata": {},
   "source": [
    "#### **5. Cluster Analysis**\n",
    "- HOWTO\n",
    "    - There are many ways one may cluster the trajectory\n",
    "      - Herein, we use the distribution of points on PCA space for clustering.\n",
    "      - To this end, we use a density based clustering algorithm (hdbscan)\n",
    "          - Note that density based methods identify also noise points that could not be assigned to any cluster.\n",
    "    - Once the clusters are identified, we estimate\n",
    "      - Distance of each point to the centroid of the cluster they belong to.\n",
    "      - We extract the conformation close to centroid as `cluster representative`\n",
    "    - Clustering results, as usual, are placed in a dframe ( `df_clus` )    "
   ]
  },
  {
   "cell_type": "code",
   "execution_count": 273,
   "id": "67364af7",
   "metadata": {},
   "outputs": [
    {
     "name": "stdout",
     "output_type": "stream",
     "text": [
      "Mininum samples in a cluster:90\n"
     ]
    },
    {
     "data": {
      "text/plain": [
       "'No of clusters: 3 and cluster ids: {0, 1, -1} '"
      ]
     },
     "metadata": {},
     "output_type": "display_data"
    }
   ],
   "source": [
    "# A cluster should have atleast 5% of total population\n",
    "\n",
    "minsize = int( df_pca.shape[0]*.05)\n",
    "print( f\"Mininum samples in a cluster:{minsize}\" )\n",
    "\n",
    "# We use hdbscan library here (examine the Imports section at the top)\n",
    "# We use PCs 1-5\n",
    "\n",
    "hdbs = HDBSCAN.HDBSCAN(min_cluster_size=minsize)\n",
    "hclus = hdbs.fit_predict(df_pca.loc[:,'PC1':'PC3'] )\n",
    "\n",
    "# Obtain total number of clusters\n",
    "Nclus = set(hclus)\n",
    "display( f'No of clusters: { len( Nclus ) } and cluster ids: {Nclus} ')"
   ]
  },
  {
   "cell_type": "code",
   "execution_count": 274,
   "id": "6cdcb354",
   "metadata": {},
   "outputs": [
    {
     "data": {
      "text/html": [
       "<div>\n",
       "<style scoped>\n",
       "    .dataframe tbody tr th:only-of-type {\n",
       "        vertical-align: middle;\n",
       "    }\n",
       "\n",
       "    .dataframe tbody tr th {\n",
       "        vertical-align: top;\n",
       "    }\n",
       "\n",
       "    .dataframe thead th {\n",
       "        text-align: right;\n",
       "    }\n",
       "</style>\n",
       "<table border=\"1\" class=\"dataframe\">\n",
       "  <thead>\n",
       "    <tr style=\"text-align: right;\">\n",
       "      <th></th>\n",
       "      <th>Cluster</th>\n",
       "    </tr>\n",
       "    <tr>\n",
       "      <th>Time</th>\n",
       "      <th></th>\n",
       "    </tr>\n",
       "  </thead>\n",
       "  <tbody>\n",
       "    <tr>\n",
       "      <th>1000.0</th>\n",
       "      <td>0</td>\n",
       "    </tr>\n",
       "    <tr>\n",
       "      <th>1005.0</th>\n",
       "      <td>-1</td>\n",
       "    </tr>\n",
       "    <tr>\n",
       "      <th>1010.0</th>\n",
       "      <td>0</td>\n",
       "    </tr>\n",
       "    <tr>\n",
       "      <th>1015.0</th>\n",
       "      <td>-1</td>\n",
       "    </tr>\n",
       "    <tr>\n",
       "      <th>1020.0</th>\n",
       "      <td>0</td>\n",
       "    </tr>\n",
       "  </tbody>\n",
       "</table>\n",
       "</div>"
      ],
      "text/plain": [
       "        Cluster\n",
       "Time           \n",
       "1000.0        0\n",
       "1005.0       -1\n",
       "1010.0        0\n",
       "1015.0       -1\n",
       "1020.0        0"
      ]
     },
     "metadata": {},
     "output_type": "display_data"
    },
    {
     "data": {
      "text/html": [
       "<div>\n",
       "<style scoped>\n",
       "    .dataframe tbody tr th:only-of-type {\n",
       "        vertical-align: middle;\n",
       "    }\n",
       "\n",
       "    .dataframe tbody tr th {\n",
       "        vertical-align: top;\n",
       "    }\n",
       "\n",
       "    .dataframe thead th {\n",
       "        text-align: right;\n",
       "    }\n",
       "</style>\n",
       "<table border=\"1\" class=\"dataframe\">\n",
       "  <thead>\n",
       "    <tr style=\"text-align: right;\">\n",
       "      <th></th>\n",
       "      <th>Cluster</th>\n",
       "    </tr>\n",
       "    <tr>\n",
       "      <th>Time</th>\n",
       "      <th></th>\n",
       "    </tr>\n",
       "  </thead>\n",
       "  <tbody>\n",
       "    <tr>\n",
       "      <th>9980.0</th>\n",
       "      <td>-1</td>\n",
       "    </tr>\n",
       "    <tr>\n",
       "      <th>9985.0</th>\n",
       "      <td>-1</td>\n",
       "    </tr>\n",
       "    <tr>\n",
       "      <th>9990.0</th>\n",
       "      <td>-1</td>\n",
       "    </tr>\n",
       "    <tr>\n",
       "      <th>9995.0</th>\n",
       "      <td>-1</td>\n",
       "    </tr>\n",
       "  </tbody>\n",
       "</table>\n",
       "</div>"
      ],
      "text/plain": [
       "        Cluster\n",
       "Time           \n",
       "9980.0       -1\n",
       "9985.0       -1\n",
       "9990.0       -1\n",
       "9995.0       -1"
      ]
     },
     "metadata": {},
     "output_type": "display_data"
    }
   ],
   "source": [
    "# Create dframe to store cluster results\n",
    "df_clus = pd.DataFrame( )\n",
    "\n",
    "# Assign clusters and time index\n",
    "df_clus['Cluster' ] = hclus\n",
    "df_clus.index.name = 'Time'\n",
    "df_clus.index = df_pca.index\n",
    "\n",
    "display( df_clus.head(5),df_clus.tail(4) )"
   ]
  },
  {
   "cell_type": "code",
   "execution_count": 275,
   "id": "a6047709",
   "metadata": {},
   "outputs": [
    {
     "data": {
      "text/plain": [
       "Time\n",
       "1000.0     3.698772\n",
       "1005.0     3.530144\n",
       "1010.0     3.633251\n",
       "1015.0     3.712509\n",
       "1020.0     3.313634\n",
       "            ...    \n",
       "9975.0     9.669503\n",
       "9980.0    10.467253\n",
       "9985.0     9.444356\n",
       "9990.0     9.237285\n",
       "9995.0     9.465338\n",
       "Name: full, Length: 1800, dtype: float64"
      ]
     },
     "execution_count": 275,
     "metadata": {},
     "output_type": "execute_result"
    }
   ],
   "source": [
    "# We extract RMSD values for frame in each cluster\n",
    "df_rms.iloc[ begin:end:skip ].full"
   ]
  },
  {
   "cell_type": "code",
   "execution_count": 276,
   "id": "d57e1712",
   "metadata": {},
   "outputs": [],
   "source": [
    "# Add RMSD to cluster data\n",
    "df_clus[ 'RMSD' ] =  df_rms.iloc[ begin:end:skip ].full"
   ]
  },
  {
   "cell_type": "code",
   "execution_count": 277,
   "id": "db184548",
   "metadata": {},
   "outputs": [
    {
     "data": {
      "text/html": [
       "<div>\n",
       "<style scoped>\n",
       "    .dataframe tbody tr th:only-of-type {\n",
       "        vertical-align: middle;\n",
       "    }\n",
       "\n",
       "    .dataframe tbody tr th {\n",
       "        vertical-align: top;\n",
       "    }\n",
       "\n",
       "    .dataframe thead th {\n",
       "        text-align: right;\n",
       "    }\n",
       "</style>\n",
       "<table border=\"1\" class=\"dataframe\">\n",
       "  <thead>\n",
       "    <tr style=\"text-align: right;\">\n",
       "      <th></th>\n",
       "      <th>Cluster</th>\n",
       "      <th>RMSD</th>\n",
       "    </tr>\n",
       "    <tr>\n",
       "      <th>Time</th>\n",
       "      <th></th>\n",
       "      <th></th>\n",
       "    </tr>\n",
       "  </thead>\n",
       "  <tbody>\n",
       "    <tr>\n",
       "      <th>1000.0</th>\n",
       "      <td>0</td>\n",
       "      <td>3.698772</td>\n",
       "    </tr>\n",
       "    <tr>\n",
       "      <th>1005.0</th>\n",
       "      <td>-1</td>\n",
       "      <td>3.530144</td>\n",
       "    </tr>\n",
       "    <tr>\n",
       "      <th>1010.0</th>\n",
       "      <td>0</td>\n",
       "      <td>3.633251</td>\n",
       "    </tr>\n",
       "    <tr>\n",
       "      <th>1015.0</th>\n",
       "      <td>-1</td>\n",
       "      <td>3.712509</td>\n",
       "    </tr>\n",
       "    <tr>\n",
       "      <th>1020.0</th>\n",
       "      <td>0</td>\n",
       "      <td>3.313634</td>\n",
       "    </tr>\n",
       "  </tbody>\n",
       "</table>\n",
       "</div>"
      ],
      "text/plain": [
       "        Cluster      RMSD\n",
       "Time                     \n",
       "1000.0        0  3.698772\n",
       "1005.0       -1  3.530144\n",
       "1010.0        0  3.633251\n",
       "1015.0       -1  3.712509\n",
       "1020.0        0  3.313634"
      ]
     },
     "metadata": {},
     "output_type": "display_data"
    },
    {
     "data": {
      "text/html": [
       "<div>\n",
       "<style scoped>\n",
       "    .dataframe tbody tr th:only-of-type {\n",
       "        vertical-align: middle;\n",
       "    }\n",
       "\n",
       "    .dataframe tbody tr th {\n",
       "        vertical-align: top;\n",
       "    }\n",
       "\n",
       "    .dataframe thead th {\n",
       "        text-align: right;\n",
       "    }\n",
       "</style>\n",
       "<table border=\"1\" class=\"dataframe\">\n",
       "  <thead>\n",
       "    <tr style=\"text-align: right;\">\n",
       "      <th></th>\n",
       "      <th>Cluster</th>\n",
       "      <th>RMSD</th>\n",
       "    </tr>\n",
       "    <tr>\n",
       "      <th>Time</th>\n",
       "      <th></th>\n",
       "      <th></th>\n",
       "    </tr>\n",
       "  </thead>\n",
       "  <tbody>\n",
       "    <tr>\n",
       "      <th>9990.0</th>\n",
       "      <td>-1</td>\n",
       "      <td>9.237285</td>\n",
       "    </tr>\n",
       "    <tr>\n",
       "      <th>9995.0</th>\n",
       "      <td>-1</td>\n",
       "      <td>9.465338</td>\n",
       "    </tr>\n",
       "  </tbody>\n",
       "</table>\n",
       "</div>"
      ],
      "text/plain": [
       "        Cluster      RMSD\n",
       "Time                     \n",
       "9990.0       -1  9.237285\n",
       "9995.0       -1  9.465338"
      ]
     },
     "metadata": {},
     "output_type": "display_data"
    }
   ],
   "source": [
    "display( df_clus.head(5),df_clus.tail(2) )"
   ]
  },
  {
   "cell_type": "code",
   "execution_count": 278,
   "id": "2d0cf73c",
   "metadata": {},
   "outputs": [
    {
     "name": "stdout",
     "output_type": "stream",
     "text": [
      "Current cluster id:0\n",
      "Current cluster id:1\n",
      "Current cluster id:-1\n"
     ]
    },
    {
     "data": {
      "text/html": [
       "<div>\n",
       "<style scoped>\n",
       "    .dataframe tbody tr th:only-of-type {\n",
       "        vertical-align: middle;\n",
       "    }\n",
       "\n",
       "    .dataframe tbody tr th {\n",
       "        vertical-align: top;\n",
       "    }\n",
       "\n",
       "    .dataframe thead th {\n",
       "        text-align: right;\n",
       "    }\n",
       "</style>\n",
       "<table border=\"1\" class=\"dataframe\">\n",
       "  <thead>\n",
       "    <tr style=\"text-align: right;\">\n",
       "      <th></th>\n",
       "      <th>Cluster</th>\n",
       "      <th>RMSD</th>\n",
       "      <th>CDist</th>\n",
       "    </tr>\n",
       "    <tr>\n",
       "      <th>Time</th>\n",
       "      <th></th>\n",
       "      <th></th>\n",
       "      <th></th>\n",
       "    </tr>\n",
       "  </thead>\n",
       "  <tbody>\n",
       "    <tr>\n",
       "      <th>1000.0</th>\n",
       "      <td>0</td>\n",
       "      <td>3.698772</td>\n",
       "      <td>10.056996</td>\n",
       "    </tr>\n",
       "    <tr>\n",
       "      <th>1005.0</th>\n",
       "      <td>-1</td>\n",
       "      <td>3.530144</td>\n",
       "      <td>22.480704</td>\n",
       "    </tr>\n",
       "    <tr>\n",
       "      <th>1010.0</th>\n",
       "      <td>0</td>\n",
       "      <td>3.633251</td>\n",
       "      <td>10.351528</td>\n",
       "    </tr>\n",
       "    <tr>\n",
       "      <th>1015.0</th>\n",
       "      <td>-1</td>\n",
       "      <td>3.712509</td>\n",
       "      <td>14.446350</td>\n",
       "    </tr>\n",
       "    <tr>\n",
       "      <th>1020.0</th>\n",
       "      <td>0</td>\n",
       "      <td>3.313634</td>\n",
       "      <td>8.068662</td>\n",
       "    </tr>\n",
       "  </tbody>\n",
       "</table>\n",
       "</div>"
      ],
      "text/plain": [
       "        Cluster      RMSD      CDist\n",
       "Time                                \n",
       "1000.0        0  3.698772  10.056996\n",
       "1005.0       -1  3.530144  22.480704\n",
       "1010.0        0  3.633251  10.351528\n",
       "1015.0       -1  3.712509  14.446350\n",
       "1020.0        0  3.313634   8.068662"
      ]
     },
     "execution_count": 278,
     "metadata": {},
     "output_type": "execute_result"
    }
   ],
   "source": [
    "# First, we assign CDist as a column with value 0\n",
    "df_clus['CDist'] = 0.0\n",
    "\n",
    "# For each point, we obtain its distance to the centroid\n",
    "\n",
    "for val in Nclus:\n",
    "    print(f\"Current cluster id:{val}\")\n",
    "    # Extract subset of dframe corresponding to the cluster id\n",
    "    subset = df_clus[df_clus.Cluster == val].index\n",
    "    points = df_pca.loc[ subset, \"PC1\":\"PC3\" ].values\n",
    "    Mean   = points.mean(axis=0)\n",
    "    \n",
    "    # Distance to cluster centroid (i.e mean value)\n",
    "    dist = np.sqrt( ( (points - Mean)**2 ).sum(1)  )\n",
    "    df_clus.loc[ subset, 'CDist'] = dist\n",
    "                \n",
    "df_clus.head()"
   ]
  },
  {
   "cell_type": "code",
   "execution_count": 279,
   "id": "0a9b0c09",
   "metadata": {},
   "outputs": [
    {
     "data": {
      "text/html": [
       "<div>\n",
       "<style scoped>\n",
       "    .dataframe tbody tr th:only-of-type {\n",
       "        vertical-align: middle;\n",
       "    }\n",
       "\n",
       "    .dataframe tbody tr th {\n",
       "        vertical-align: top;\n",
       "    }\n",
       "\n",
       "    .dataframe thead th {\n",
       "        text-align: right;\n",
       "    }\n",
       "</style>\n",
       "<table border=\"1\" class=\"dataframe\">\n",
       "  <thead>\n",
       "    <tr style=\"text-align: right;\">\n",
       "      <th></th>\n",
       "      <th>Cluster</th>\n",
       "      <th>RMSD</th>\n",
       "      <th>CDist</th>\n",
       "      <th>FRAME</th>\n",
       "    </tr>\n",
       "    <tr>\n",
       "      <th>Time</th>\n",
       "      <th></th>\n",
       "      <th></th>\n",
       "      <th></th>\n",
       "      <th></th>\n",
       "    </tr>\n",
       "  </thead>\n",
       "  <tbody>\n",
       "    <tr>\n",
       "      <th>1000.0</th>\n",
       "      <td>0</td>\n",
       "      <td>3.698772</td>\n",
       "      <td>10.056996</td>\n",
       "      <td>1000</td>\n",
       "    </tr>\n",
       "    <tr>\n",
       "      <th>1005.0</th>\n",
       "      <td>-1</td>\n",
       "      <td>3.530144</td>\n",
       "      <td>22.480704</td>\n",
       "      <td>1005</td>\n",
       "    </tr>\n",
       "    <tr>\n",
       "      <th>1010.0</th>\n",
       "      <td>0</td>\n",
       "      <td>3.633251</td>\n",
       "      <td>10.351528</td>\n",
       "      <td>1010</td>\n",
       "    </tr>\n",
       "    <tr>\n",
       "      <th>1015.0</th>\n",
       "      <td>-1</td>\n",
       "      <td>3.712509</td>\n",
       "      <td>14.446350</td>\n",
       "      <td>1015</td>\n",
       "    </tr>\n",
       "  </tbody>\n",
       "</table>\n",
       "</div>"
      ],
      "text/plain": [
       "        Cluster      RMSD      CDist  FRAME\n",
       "Time                                       \n",
       "1000.0        0  3.698772  10.056996   1000\n",
       "1005.0       -1  3.530144  22.480704   1005\n",
       "1010.0        0  3.633251  10.351528   1010\n",
       "1015.0       -1  3.712509  14.446350   1015"
      ]
     },
     "execution_count": 279,
     "metadata": {},
     "output_type": "execute_result"
    }
   ],
   "source": [
    "# Collect as Time values in df_rms\n",
    "Frame = df_rms.index\n",
    "\n",
    "# For each Time information df_clus, collect corresponding frame number from df_rms\n",
    "Frame_no = [ Frame.get_loc(x) for x in df_clus.index ]\n",
    "\n",
    "# Add Frame number as new column in the cluster data\n",
    "df_clus['FRAME'] = Frame_no\n",
    "\n",
    "#df_clus.to_csv( fout_cls , index_label= 'Time')\n",
    "df_clus.head(4)"
   ]
  },
  {
   "cell_type": "code",
   "execution_count": 280,
   "id": "afb4f396",
   "metadata": {},
   "outputs": [
    {
     "name": "stdout",
     "output_type": "stream",
     "text": [
      "             RMSD     CDist  FRAME\n",
      "Cluster                           \n",
      "-1       3.140574  9.283354   1005\n",
      " 0       3.122275  0.622336   1000\n",
      " 1       3.884947  1.140199   1125\n"
     ]
    }
   ],
   "source": [
    "# For each cluster, identify point closer to centroid (i.e, Min of CDist)\n",
    "print(df_clus.groupby(['Cluster']).min() )\n",
    "Mns = df_clus.groupby(['Cluster']).min().CDist"
   ]
  },
  {
   "cell_type": "code",
   "execution_count": 281,
   "id": "db28227d",
   "metadata": {},
   "outputs": [
    {
     "data": {
      "text/html": [
       "<div>\n",
       "<style scoped>\n",
       "    .dataframe tbody tr th:only-of-type {\n",
       "        vertical-align: middle;\n",
       "    }\n",
       "\n",
       "    .dataframe tbody tr th {\n",
       "        vertical-align: top;\n",
       "    }\n",
       "\n",
       "    .dataframe thead th {\n",
       "        text-align: right;\n",
       "    }\n",
       "</style>\n",
       "<table border=\"1\" class=\"dataframe\">\n",
       "  <thead>\n",
       "    <tr style=\"text-align: right;\">\n",
       "      <th></th>\n",
       "      <th>Cluster</th>\n",
       "      <th>RMSD</th>\n",
       "      <th>CDist</th>\n",
       "      <th>FRAME</th>\n",
       "    </tr>\n",
       "    <tr>\n",
       "      <th>Time</th>\n",
       "      <th></th>\n",
       "      <th></th>\n",
       "      <th></th>\n",
       "      <th></th>\n",
       "    </tr>\n",
       "  </thead>\n",
       "  <tbody>\n",
       "    <tr>\n",
       "      <th>2935.0</th>\n",
       "      <td>1</td>\n",
       "      <td>4.449153</td>\n",
       "      <td>1.140199</td>\n",
       "      <td>2935</td>\n",
       "    </tr>\n",
       "    <tr>\n",
       "      <th>4295.0</th>\n",
       "      <td>0</td>\n",
       "      <td>4.309202</td>\n",
       "      <td>0.622336</td>\n",
       "      <td>4295</td>\n",
       "    </tr>\n",
       "    <tr>\n",
       "      <th>5105.0</th>\n",
       "      <td>-1</td>\n",
       "      <td>3.681243</td>\n",
       "      <td>9.283354</td>\n",
       "      <td>5105</td>\n",
       "    </tr>\n",
       "  </tbody>\n",
       "</table>\n",
       "</div>"
      ],
      "text/plain": [
       "        Cluster      RMSD     CDist  FRAME\n",
       "Time                                      \n",
       "2935.0        1  4.449153  1.140199   2935\n",
       "4295.0        0  4.309202  0.622336   4295\n",
       "5105.0       -1  3.681243  9.283354   5105"
      ]
     },
     "execution_count": 281,
     "metadata": {},
     "output_type": "execute_result"
    }
   ],
   "source": [
    "# Structure closer to centroid can be considered as representatives\n",
    "# Identify frame no of representatives\n",
    "df_clus[ df_clus.CDist.isin(Mns) ]"
   ]
  },
  {
   "cell_type": "markdown",
   "id": "d6f30721",
   "metadata": {},
   "source": [
    "- **Attension**\n",
    "    1. In density based clustering `-1` represents noise points in space.\n",
    "        - We are not interested in the representatives of noise points.\n",
    "    2. We know the `Time` signature and `Frame no` of the representatives\n",
    "        - Hence, we save the representatives as pdb's"
   ]
  },
  {
   "cell_type": "code",
   "execution_count": 282,
   "id": "0f799da3",
   "metadata": {},
   "outputs": [],
   "source": [
    "# Cluster -1 is noise, so we ignore it\n",
    "\n",
    "Sel = U.select_atoms('protein')\n",
    "U.trajectory[1945]\n",
    "Sel.write('C1.pdb')\n",
    "\n",
    "U.trajectory[3300]\n",
    "Sel.write('C2.pdb')\n",
    "\n",
    "U.trajectory[4955]\n",
    "Sel.write('C3.pdb')"
   ]
  },
  {
   "cell_type": "markdown",
   "id": "32562342",
   "metadata": {},
   "source": [
    "## RECAP\n",
    "- So far, we have seen\n",
    "    - How to initialize input & outputs\n",
    "    - How to perform some core analyses\n",
    "        1. Traj fitting\n",
    "        2. RMSD\n",
    "        3. RMSF\n",
    "        4. PCA\n",
    "        5. Clustering\n",
    "- What follows are\n",
    "    - Making plots for analyzed data.\n",
    "    - Making inferences on general dynamics of the protein."
   ]
  },
  {
   "cell_type": "markdown",
   "id": "3d900e23",
   "metadata": {},
   "source": [
    "## DATA VISUALIZATION\n",
    "\n",
    "#### **RMSD**"
   ]
  },
  {
   "cell_type": "code",
   "execution_count": 283,
   "id": "b5f47822",
   "metadata": {},
   "outputs": [
    {
     "data": {
      "text/plain": [
       "<matplotlib.legend.Legend at 0x7fe0a43cd2b0>"
      ]
     },
     "execution_count": 283,
     "metadata": {},
     "output_type": "execute_result"
    },
    {
     "data": {
      "image/png": "[encoded data removed]",
      "text/plain": [
       "<Figure size 432x288 with 1 Axes>"
      ]
     },
     "metadata": {
      "needs_background": "light"
     },
     "output_type": "display_data"
    }
   ],
   "source": [
    "# Lets do time evolution of RMSD\n",
    "df_rms.full.plot( alpha=0.5)\n",
    "df_rms.peptide.plot( alpha=0.5)\n",
    "df_rms.receptor.plot( alpha=0.5)\n",
    "plt.xlim( [0,10000])\n",
    "plt.ylim( [0,10])\n",
    "plt.xlabel('Time (ns)')\n",
    "plt.ylabel( ' RMSD $\\AA$')\n",
    "\n",
    "plt.legend(ncol=4,fontsize=9)"
   ]
  },
  {
   "cell_type": "code",
   "execution_count": 284,
   "id": "8fbef5c9",
   "metadata": {},
   "outputs": [
    {
     "data": {
      "text/plain": [
       "(0.0, 15.0)"
      ]
     },
     "execution_count": 284,
     "metadata": {},
     "output_type": "execute_result"
    },
    {
     "data": {
      "image/png": "[encoded data removed]",
      "text/plain": [
       "<Figure size 468x230.4 with 1 Axes>"
      ]
     },
     "metadata": {
      "needs_background": "light"
     },
     "output_type": "display_data"
    }
   ],
   "source": [
    "# Lets see the distribution of RMSD values\n",
    "fig, ax = plt.subplots( figsize=(6.5,3.2) )\n",
    "sns.distplot(df_rms.full,hist=False,label='full',ax=ax)\n",
    "sns.distplot(df_rms.receptor,hist=False,label='receptor',ax=ax)\n",
    "sns.distplot(df_rms.peptide,hist=False,label='peptide',ax=ax)\n",
    "\n",
    "plt.legend(ncol=2,fontsize=9)\n",
    "plt.xlabel('RMSD $\\AA$')\n",
    "plt.xlim( [0,15])"
   ]
  },
  {
   "cell_type": "markdown",
   "id": "a134d309",
   "metadata": {},
   "source": [
    "#### **Inference:**\n"
   ]
  },
  {
   "cell_type": "markdown",
   "id": "03d4fc94",
   "metadata": {},
   "source": []
  },
  {
   "cell_type": "markdown",
   "id": "f9b90037",
   "metadata": {},
   "source": []
  },
  {
   "cell_type": "markdown",
   "id": "a5390061",
   "metadata": {},
   "source": [
    "#### **RMSF**"
   ]
  },
  {
   "cell_type": "code",
   "execution_count": 285,
   "id": "4938706e",
   "metadata": {},
   "outputs": [
    {
     "data": {
      "text/html": [
       "<div>\n",
       "<style scoped>\n",
       "    .dataframe tbody tr th:only-of-type {\n",
       "        vertical-align: middle;\n",
       "    }\n",
       "\n",
       "    .dataframe tbody tr th {\n",
       "        vertical-align: top;\n",
       "    }\n",
       "\n",
       "    .dataframe thead th {\n",
       "        text-align: right;\n",
       "    }\n",
       "</style>\n",
       "<table border=\"1\" class=\"dataframe\">\n",
       "  <thead>\n",
       "    <tr style=\"text-align: right;\">\n",
       "      <th></th>\n",
       "      <th>B1</th>\n",
       "      <th>B2</th>\n",
       "      <th>B3</th>\n",
       "      <th>B4</th>\n",
       "      <th>B5</th>\n",
       "      <th>B6</th>\n",
       "      <th>B7</th>\n",
       "      <th>B8</th>\n",
       "      <th>B9</th>\n",
       "      <th>B10</th>\n",
       "    </tr>\n",
       "    <tr>\n",
       "      <th>Residue</th>\n",
       "      <th></th>\n",
       "      <th></th>\n",
       "      <th></th>\n",
       "      <th></th>\n",
       "      <th></th>\n",
       "      <th></th>\n",
       "      <th></th>\n",
       "      <th></th>\n",
       "      <th></th>\n",
       "      <th></th>\n",
       "    </tr>\n",
       "  </thead>\n",
       "  <tbody>\n",
       "    <tr>\n",
       "      <th>40</th>\n",
       "      <td>3.152987</td>\n",
       "      <td>2.639854</td>\n",
       "      <td>2.000466</td>\n",
       "      <td>2.391550</td>\n",
       "      <td>3.136753</td>\n",
       "      <td>2.382016</td>\n",
       "      <td>2.375146</td>\n",
       "      <td>2.982535</td>\n",
       "      <td>3.379051</td>\n",
       "      <td>3.051956</td>\n",
       "    </tr>\n",
       "    <tr>\n",
       "      <th>40</th>\n",
       "      <td>3.671265</td>\n",
       "      <td>3.134499</td>\n",
       "      <td>2.440552</td>\n",
       "      <td>2.854221</td>\n",
       "      <td>3.588601</td>\n",
       "      <td>2.883969</td>\n",
       "      <td>2.884229</td>\n",
       "      <td>3.525759</td>\n",
       "      <td>3.740832</td>\n",
       "      <td>3.618228</td>\n",
       "    </tr>\n",
       "    <tr>\n",
       "      <th>41</th>\n",
       "      <td>1.563149</td>\n",
       "      <td>1.592525</td>\n",
       "      <td>1.489667</td>\n",
       "      <td>1.653119</td>\n",
       "      <td>1.638855</td>\n",
       "      <td>1.565781</td>\n",
       "      <td>1.668383</td>\n",
       "      <td>1.640860</td>\n",
       "      <td>1.616025</td>\n",
       "      <td>2.537642</td>\n",
       "    </tr>\n",
       "    <tr>\n",
       "      <th>41</th>\n",
       "      <td>2.429766</td>\n",
       "      <td>2.291078</td>\n",
       "      <td>1.870768</td>\n",
       "      <td>2.194626</td>\n",
       "      <td>2.627369</td>\n",
       "      <td>2.227137</td>\n",
       "      <td>2.189840</td>\n",
       "      <td>2.690973</td>\n",
       "      <td>2.414411</td>\n",
       "      <td>3.221158</td>\n",
       "    </tr>\n",
       "    <tr>\n",
       "      <th>42</th>\n",
       "      <td>1.232603</td>\n",
       "      <td>1.315724</td>\n",
       "      <td>1.258177</td>\n",
       "      <td>1.361237</td>\n",
       "      <td>1.305472</td>\n",
       "      <td>1.309279</td>\n",
       "      <td>1.392162</td>\n",
       "      <td>1.282421</td>\n",
       "      <td>1.368976</td>\n",
       "      <td>2.291449</td>\n",
       "    </tr>\n",
       "    <tr>\n",
       "      <th>...</th>\n",
       "      <td>...</td>\n",
       "      <td>...</td>\n",
       "      <td>...</td>\n",
       "      <td>...</td>\n",
       "      <td>...</td>\n",
       "      <td>...</td>\n",
       "      <td>...</td>\n",
       "      <td>...</td>\n",
       "      <td>...</td>\n",
       "      <td>...</td>\n",
       "    </tr>\n",
       "    <tr>\n",
       "      <th>371</th>\n",
       "      <td>2.796644</td>\n",
       "      <td>2.716220</td>\n",
       "      <td>2.669479</td>\n",
       "      <td>3.128204</td>\n",
       "      <td>3.323333</td>\n",
       "      <td>4.831585</td>\n",
       "      <td>6.719935</td>\n",
       "      <td>3.858896</td>\n",
       "      <td>6.299758</td>\n",
       "      <td>31.830720</td>\n",
       "    </tr>\n",
       "    <tr>\n",
       "      <th>371</th>\n",
       "      <td>2.767772</td>\n",
       "      <td>2.693260</td>\n",
       "      <td>2.671761</td>\n",
       "      <td>3.199848</td>\n",
       "      <td>3.318413</td>\n",
       "      <td>4.869164</td>\n",
       "      <td>6.676187</td>\n",
       "      <td>3.846614</td>\n",
       "      <td>6.303305</td>\n",
       "      <td>31.894611</td>\n",
       "    </tr>\n",
       "    <tr>\n",
       "      <th>372</th>\n",
       "      <td>0.982237</td>\n",
       "      <td>1.352226</td>\n",
       "      <td>1.143767</td>\n",
       "      <td>1.341545</td>\n",
       "      <td>1.147227</td>\n",
       "      <td>1.233006</td>\n",
       "      <td>3.442097</td>\n",
       "      <td>3.743193</td>\n",
       "      <td>4.896487</td>\n",
       "      <td>33.262850</td>\n",
       "    </tr>\n",
       "    <tr>\n",
       "      <th>372</th>\n",
       "      <td>1.247162</td>\n",
       "      <td>1.354614</td>\n",
       "      <td>1.144554</td>\n",
       "      <td>1.194379</td>\n",
       "      <td>1.049565</td>\n",
       "      <td>1.305740</td>\n",
       "      <td>3.887534</td>\n",
       "      <td>5.140960</td>\n",
       "      <td>5.563942</td>\n",
       "      <td>33.953852</td>\n",
       "    </tr>\n",
       "    <tr>\n",
       "      <th>372</th>\n",
       "      <td>0.907267</td>\n",
       "      <td>1.376256</td>\n",
       "      <td>0.900820</td>\n",
       "      <td>0.928534</td>\n",
       "      <td>0.791706</td>\n",
       "      <td>1.959659</td>\n",
       "      <td>5.611532</td>\n",
       "      <td>5.862552</td>\n",
       "      <td>7.085987</td>\n",
       "      <td>35.088469</td>\n",
       "    </tr>\n",
       "  </tbody>\n",
       "</table>\n",
       "<p>750 rows × 10 columns</p>\n",
       "</div>"
      ],
      "text/plain": [
       "               B1        B2        B3        B4        B5        B6        B7  \\\n",
       "Residue                                                                         \n",
       "40       3.152987  2.639854  2.000466  2.391550  3.136753  2.382016  2.375146   \n",
       "40       3.671265  3.134499  2.440552  2.854221  3.588601  2.883969  2.884229   \n",
       "41       1.563149  1.592525  1.489667  1.653119  1.638855  1.565781  1.668383   \n",
       "41       2.429766  2.291078  1.870768  2.194626  2.627369  2.227137  2.189840   \n",
       "42       1.232603  1.315724  1.258177  1.361237  1.305472  1.309279  1.392162   \n",
       "...           ...       ...       ...       ...       ...       ...       ...   \n",
       "371      2.796644  2.716220  2.669479  3.128204  3.323333  4.831585  6.719935   \n",
       "371      2.767772  2.693260  2.671761  3.199848  3.318413  4.869164  6.676187   \n",
       "372      0.982237  1.352226  1.143767  1.341545  1.147227  1.233006  3.442097   \n",
       "372      1.247162  1.354614  1.144554  1.194379  1.049565  1.305740  3.887534   \n",
       "372      0.907267  1.376256  0.900820  0.928534  0.791706  1.959659  5.611532   \n",
       "\n",
       "               B8        B9        B10  \n",
       "Residue                                 \n",
       "40       2.982535  3.379051   3.051956  \n",
       "40       3.525759  3.740832   3.618228  \n",
       "41       1.640860  1.616025   2.537642  \n",
       "41       2.690973  2.414411   3.221158  \n",
       "42       1.282421  1.368976   2.291449  \n",
       "...           ...       ...        ...  \n",
       "371      3.858896  6.299758  31.830720  \n",
       "371      3.846614  6.303305  31.894611  \n",
       "372      3.743193  4.896487  33.262850  \n",
       "372      5.140960  5.563942  33.953852  \n",
       "372      5.862552  7.085987  35.088469  \n",
       "\n",
       "[750 rows x 10 columns]"
      ]
     },
     "execution_count": 285,
     "metadata": {},
     "output_type": "execute_result"
    }
   ],
   "source": [
    "df_rmsf"
   ]
  },
  {
   "cell_type": "code",
   "execution_count": 286,
   "id": "ee930caa",
   "metadata": {},
   "outputs": [
    {
     "data": {
      "text/html": [
       "<div>\n",
       "<style scoped>\n",
       "    .dataframe tbody tr th:only-of-type {\n",
       "        vertical-align: middle;\n",
       "    }\n",
       "\n",
       "    .dataframe tbody tr th {\n",
       "        vertical-align: top;\n",
       "    }\n",
       "\n",
       "    .dataframe thead th {\n",
       "        text-align: right;\n",
       "    }\n",
       "</style>\n",
       "<table border=\"1\" class=\"dataframe\">\n",
       "  <thead>\n",
       "    <tr style=\"text-align: right;\">\n",
       "      <th></th>\n",
       "      <th>B1</th>\n",
       "      <th>B2</th>\n",
       "      <th>B3</th>\n",
       "      <th>B4</th>\n",
       "      <th>B5</th>\n",
       "      <th>B6</th>\n",
       "      <th>B7</th>\n",
       "      <th>B8</th>\n",
       "      <th>B9</th>\n",
       "      <th>B10</th>\n",
       "    </tr>\n",
       "    <tr>\n",
       "      <th>Residue</th>\n",
       "      <th></th>\n",
       "      <th></th>\n",
       "      <th></th>\n",
       "      <th></th>\n",
       "      <th></th>\n",
       "      <th></th>\n",
       "      <th></th>\n",
       "      <th></th>\n",
       "      <th></th>\n",
       "      <th></th>\n",
       "    </tr>\n",
       "  </thead>\n",
       "  <tbody>\n",
       "    <tr>\n",
       "      <th>40</th>\n",
       "      <td>3.152987</td>\n",
       "      <td>2.639854</td>\n",
       "      <td>2.000466</td>\n",
       "      <td>2.391550</td>\n",
       "      <td>3.136753</td>\n",
       "      <td>2.382016</td>\n",
       "      <td>2.375146</td>\n",
       "      <td>2.982535</td>\n",
       "      <td>3.379051</td>\n",
       "      <td>3.051956</td>\n",
       "    </tr>\n",
       "    <tr>\n",
       "      <th>40</th>\n",
       "      <td>3.671265</td>\n",
       "      <td>3.134499</td>\n",
       "      <td>2.440552</td>\n",
       "      <td>2.854221</td>\n",
       "      <td>3.588601</td>\n",
       "      <td>2.883969</td>\n",
       "      <td>2.884229</td>\n",
       "      <td>3.525759</td>\n",
       "      <td>3.740832</td>\n",
       "      <td>3.618228</td>\n",
       "    </tr>\n",
       "    <tr>\n",
       "      <th>41</th>\n",
       "      <td>1.563149</td>\n",
       "      <td>1.592525</td>\n",
       "      <td>1.489667</td>\n",
       "      <td>1.653119</td>\n",
       "      <td>1.638855</td>\n",
       "      <td>1.565781</td>\n",
       "      <td>1.668383</td>\n",
       "      <td>1.640860</td>\n",
       "      <td>1.616025</td>\n",
       "      <td>2.537642</td>\n",
       "    </tr>\n",
       "    <tr>\n",
       "      <th>41</th>\n",
       "      <td>2.429766</td>\n",
       "      <td>2.291078</td>\n",
       "      <td>1.870768</td>\n",
       "      <td>2.194626</td>\n",
       "      <td>2.627369</td>\n",
       "      <td>2.227137</td>\n",
       "      <td>2.189840</td>\n",
       "      <td>2.690973</td>\n",
       "      <td>2.414411</td>\n",
       "      <td>3.221158</td>\n",
       "    </tr>\n",
       "    <tr>\n",
       "      <th>42</th>\n",
       "      <td>1.232603</td>\n",
       "      <td>1.315724</td>\n",
       "      <td>1.258177</td>\n",
       "      <td>1.361237</td>\n",
       "      <td>1.305472</td>\n",
       "      <td>1.309279</td>\n",
       "      <td>1.392162</td>\n",
       "      <td>1.282421</td>\n",
       "      <td>1.368976</td>\n",
       "      <td>2.291449</td>\n",
       "    </tr>\n",
       "    <tr>\n",
       "      <th>...</th>\n",
       "      <td>...</td>\n",
       "      <td>...</td>\n",
       "      <td>...</td>\n",
       "      <td>...</td>\n",
       "      <td>...</td>\n",
       "      <td>...</td>\n",
       "      <td>...</td>\n",
       "      <td>...</td>\n",
       "      <td>...</td>\n",
       "      <td>...</td>\n",
       "    </tr>\n",
       "    <tr>\n",
       "      <th>371</th>\n",
       "      <td>2.796644</td>\n",
       "      <td>2.716220</td>\n",
       "      <td>2.669479</td>\n",
       "      <td>3.128204</td>\n",
       "      <td>3.323333</td>\n",
       "      <td>4.831585</td>\n",
       "      <td>6.719935</td>\n",
       "      <td>3.858896</td>\n",
       "      <td>6.299758</td>\n",
       "      <td>31.830720</td>\n",
       "    </tr>\n",
       "    <tr>\n",
       "      <th>371</th>\n",
       "      <td>2.767772</td>\n",
       "      <td>2.693260</td>\n",
       "      <td>2.671761</td>\n",
       "      <td>3.199848</td>\n",
       "      <td>3.318413</td>\n",
       "      <td>4.869164</td>\n",
       "      <td>6.676187</td>\n",
       "      <td>3.846614</td>\n",
       "      <td>6.303305</td>\n",
       "      <td>31.894611</td>\n",
       "    </tr>\n",
       "    <tr>\n",
       "      <th>372</th>\n",
       "      <td>0.982237</td>\n",
       "      <td>1.352226</td>\n",
       "      <td>1.143767</td>\n",
       "      <td>1.341545</td>\n",
       "      <td>1.147227</td>\n",
       "      <td>1.233006</td>\n",
       "      <td>3.442097</td>\n",
       "      <td>3.743193</td>\n",
       "      <td>4.896487</td>\n",
       "      <td>33.262850</td>\n",
       "    </tr>\n",
       "    <tr>\n",
       "      <th>372</th>\n",
       "      <td>1.247162</td>\n",
       "      <td>1.354614</td>\n",
       "      <td>1.144554</td>\n",
       "      <td>1.194379</td>\n",
       "      <td>1.049565</td>\n",
       "      <td>1.305740</td>\n",
       "      <td>3.887534</td>\n",
       "      <td>5.140960</td>\n",
       "      <td>5.563942</td>\n",
       "      <td>33.953852</td>\n",
       "    </tr>\n",
       "    <tr>\n",
       "      <th>372</th>\n",
       "      <td>0.907267</td>\n",
       "      <td>1.376256</td>\n",
       "      <td>0.900820</td>\n",
       "      <td>0.928534</td>\n",
       "      <td>0.791706</td>\n",
       "      <td>1.959659</td>\n",
       "      <td>5.611532</td>\n",
       "      <td>5.862552</td>\n",
       "      <td>7.085987</td>\n",
       "      <td>35.088469</td>\n",
       "    </tr>\n",
       "  </tbody>\n",
       "</table>\n",
       "<p>750 rows × 10 columns</p>\n",
       "</div>"
      ],
      "text/plain": [
       "               B1        B2        B3        B4        B5        B6        B7  \\\n",
       "Residue                                                                         \n",
       "40       3.152987  2.639854  2.000466  2.391550  3.136753  2.382016  2.375146   \n",
       "40       3.671265  3.134499  2.440552  2.854221  3.588601  2.883969  2.884229   \n",
       "41       1.563149  1.592525  1.489667  1.653119  1.638855  1.565781  1.668383   \n",
       "41       2.429766  2.291078  1.870768  2.194626  2.627369  2.227137  2.189840   \n",
       "42       1.232603  1.315724  1.258177  1.361237  1.305472  1.309279  1.392162   \n",
       "...           ...       ...       ...       ...       ...       ...       ...   \n",
       "371      2.796644  2.716220  2.669479  3.128204  3.323333  4.831585  6.719935   \n",
       "371      2.767772  2.693260  2.671761  3.199848  3.318413  4.869164  6.676187   \n",
       "372      0.982237  1.352226  1.143767  1.341545  1.147227  1.233006  3.442097   \n",
       "372      1.247162  1.354614  1.144554  1.194379  1.049565  1.305740  3.887534   \n",
       "372      0.907267  1.376256  0.900820  0.928534  0.791706  1.959659  5.611532   \n",
       "\n",
       "               B8        B9        B10  \n",
       "Residue                                 \n",
       "40       2.982535  3.379051   3.051956  \n",
       "40       3.525759  3.740832   3.618228  \n",
       "41       1.640860  1.616025   2.537642  \n",
       "41       2.690973  2.414411   3.221158  \n",
       "42       1.282421  1.368976   2.291449  \n",
       "...           ...       ...        ...  \n",
       "371      3.858896  6.299758  31.830720  \n",
       "371      3.846614  6.303305  31.894611  \n",
       "372      3.743193  4.896487  33.262850  \n",
       "372      5.140960  5.563942  33.953852  \n",
       "372      5.862552  7.085987  35.088469  \n",
       "\n",
       "[750 rows x 10 columns]"
      ]
     },
     "execution_count": 286,
     "metadata": {},
     "output_type": "execute_result"
    }
   ],
   "source": [
    "# Lets visualize the RMSF bloks\n",
    "df_rmsf"
   ]
  },
  {
   "cell_type": "code",
   "execution_count": 287,
   "id": "0822f7e6",
   "metadata": {},
   "outputs": [
    {
     "data": {
      "text/plain": [
       "<matplotlib.axes._subplots.AxesSubplot at 0x7fe0a4a4d5c0>"
      ]
     },
     "execution_count": 287,
     "metadata": {},
     "output_type": "execute_result"
    },
    {
     "data": {
      "image/png": "[encoded data removed]",
      "text/plain": [
       "<Figure size 432x288 with 1 Axes>"
      ]
     },
     "metadata": {
      "needs_background": "light"
     },
     "output_type": "display_data"
    }
   ],
   "source": [
    "df_rmsf.boxplot() "
   ]
  },
  {
   "cell_type": "code",
   "execution_count": 288,
   "id": "437ab02b",
   "metadata": {},
   "outputs": [
    {
     "data": {
      "text/plain": [
       "Text(0, 0.5, 'RMSF $\\\\AA$')"
      ]
     },
     "execution_count": 288,
     "metadata": {},
     "output_type": "execute_result"
    },
    {
     "data": {
      "image/png": "[encoded data removed]",
      "text/plain": [
       "<Figure size 432x288 with 1 Axes>"
      ]
     },
     "metadata": {
      "needs_background": "light"
     },
     "output_type": "display_data"
    }
   ],
   "source": [
    "rmsf_m1 = df_rmsf.loc[ : , 'B1':'B3'].mean(axis=1)\n",
    "rmsf_m2 = df_rmsf.loc[ : , 'B4':'B7'].mean(axis=1)\n",
    "rmsf_m3 = df_rmsf.loc[ : , 'B7':'B10'].mean(axis=1)\n",
    "\n",
    "rmsf_m1.plot()\n",
    "rmsf_m2.plot()\n",
    "rmsf_m3.plot()\n",
    "\n",
    "plt.xlim([40,373])\n",
    "# Highlight NBD\n",
    "plt.axvspan(40,155,color='k',alpha=0.2)\n",
    "plt.axvspan(157,265,color='g',alpha=0.1)\n",
    "plt.axvspan(267,375,color='y',alpha=0.1)\n",
    "#plt.axvspan(342,373,color='R',alpha=0.1)\n",
    "\n",
    "plt.text(80,15,'D1',size=16)\n",
    "plt.text(200,15,'D2',size=16)\n",
    "plt.text(300,15,'D3',size=16)\n",
    "#plt.text(315,15,'D4',size=16)\n",
    "plt.ylabel('RMSF $\\AA$')"
   ]
  },
  {
   "cell_type": "markdown",
   "id": "2d1569f2",
   "metadata": {},
   "source": [
    "#### **Inference:**\n"
   ]
  },
  {
   "cell_type": "code",
   "execution_count": null,
   "id": "98e6fc6e",
   "metadata": {},
   "outputs": [],
   "source": []
  },
  {
   "cell_type": "code",
   "execution_count": null,
   "id": "c3a53c11",
   "metadata": {},
   "outputs": [],
   "source": []
  },
  {
   "cell_type": "markdown",
   "id": "7fef1b8a",
   "metadata": {},
   "source": [
    "#### **PCA**"
   ]
  },
  {
   "cell_type": "code",
   "execution_count": 289,
   "id": "e6ff83ef",
   "metadata": {},
   "outputs": [
    {
     "data": {
      "text/plain": [
       "Text(0.5, 0, 'PC index')"
      ]
     },
     "execution_count": 289,
     "metadata": {},
     "output_type": "execute_result"
    },
    {
     "data": {
      "image/png": "[encoded data removed]",
      "text/plain": [
       "<Figure size 324x230.4 with 1 Axes>"
      ]
     },
     "metadata": {
      "needs_background": "light"
     },
     "output_type": "display_data"
    }
   ],
   "source": [
    "# Visualize cumulative variance of first 10 PCs\n",
    "fig, ax = plt.subplots( figsize=(4.5,3.2) )\n",
    "Y = mypca.cumulated_variance[:10]\n",
    "X = [ l+1 for l in range(10) ]\n",
    "ax.plot( X, Y ,'s--' ,ms=5)\n",
    "ax.axhline( Y[2], color='b' , ls='--' )\n",
    "ax.set_ylabel('Explained Variance (%)')\n",
    "ax.set_xlabel('PC index')"
   ]
  },
  {
   "cell_type": "code",
   "execution_count": 290,
   "id": "f8277ab3",
   "metadata": {},
   "outputs": [
    {
     "data": {
      "text/plain": [
       "<matplotlib.axes._subplots.AxesSubplot at 0x7fe0a5413630>"
      ]
     },
     "execution_count": 290,
     "metadata": {},
     "output_type": "execute_result"
    },
    {
     "data": {
      "image/png": "[encoded data removed]",
      "text/plain": [
       "<Figure size 567x180 with 2 Axes>"
      ]
     },
     "metadata": {
      "needs_background": "light"
     },
     "output_type": "display_data"
    }
   ],
   "source": [
    "# We visualize the scatter plots for most prominent (PC1-3)\n",
    "# Make scatter plots of PCs1-3\n",
    "fig, ax = plt.subplots(1,2,figsize=(6.3,2),dpi=90 )\n",
    "fig.subplots_adjust( wspace = 0.32)\n",
    "\n",
    "#sns.scatterplot(data=df_pca,x=\"PC1\",y=\"PC2\",ax=ax[0])\n",
    "#sns.scatterplot(data=df_pca,x=\"PC1\",y=\"PC3\",ax=ax[1])\n",
    "\n",
    "# Seaborn color maps (https://seaborn.pydata.org/tutorial/color_palettes.html)\n",
    "\n",
    "sns.kdeplot(data=df_pca,x=\"PC1\",y=\"PC2\",ax=ax[0],shade=True,cmap='Greys_r')\n",
    "sns.kdeplot(data=df_pca,x=\"PC1\",y=\"PC3\",ax=ax[1],shade=True,cmap='Set1')"
   ]
  },
  {
   "cell_type": "code",
   "execution_count": 291,
   "id": "3c73b252",
   "metadata": {},
   "outputs": [
    {
     "data": {
      "text/plain": [
       "(-100.0, 100.0)"
      ]
     },
     "execution_count": 291,
     "metadata": {},
     "output_type": "execute_result"
    },
    {
     "data": {
      "image/png": "[encoded data removed]",
      "text/plain": [
       "<Figure size 432x288 with 1 Axes>"
      ]
     },
     "metadata": {
      "needs_background": "light"
     },
     "output_type": "display_data"
    }
   ],
   "source": [
    "# Distribution along individual PC components\n",
    "sns.distplot(df_pca.PC1,label='PC1',hist=False)\n",
    "sns.distplot(df_pca.PC2,label='PC2',hist=False)\n",
    "sns.distplot(df_pca.PC4,label='PC4',hist=False)\n",
    "sns.distplot(df_pca.PC5,label='PC5',hist=False)\n",
    "plt.legend()  #Explained Variance reduces as we go from PC1 to PC5\n",
    "plt.xlim([-100,100])"
   ]
  },
  {
   "cell_type": "markdown",
   "id": "33e49986",
   "metadata": {},
   "source": [
    "#### **Inference:**"
   ]
  },
  {
   "cell_type": "code",
   "execution_count": 292,
   "id": "0c86fd2c",
   "metadata": {},
   "outputs": [
    {
     "data": {
      "text/plain": [
       "(1800, 9)"
      ]
     },
     "execution_count": 292,
     "metadata": {},
     "output_type": "execute_result"
    }
   ],
   "source": [
    "df_pca.shape"
   ]
  },
  {
   "cell_type": "code",
   "execution_count": null,
   "id": "aef7b40e",
   "metadata": {},
   "outputs": [],
   "source": []
  },
  {
   "cell_type": "markdown",
   "id": "3688b077",
   "metadata": {},
   "source": [
    "#### **Cluster Evolution**\n"
   ]
  },
  {
   "cell_type": "code",
   "execution_count": 293,
   "id": "17d83f61",
   "metadata": {},
   "outputs": [
    {
     "data": {
      "text/plain": [
       "Text(0, 0.5, 'RMSD $\\\\AA$')"
      ]
     },
     "execution_count": 293,
     "metadata": {},
     "output_type": "execute_result"
    },
    {
     "data": {
      "image/png": "[encoded data removed]",
      "text/plain": [
       "<Figure size 453.6x230.4 with 1 Axes>"
      ]
     },
     "metadata": {
      "needs_background": "light"
     },
     "output_type": "display_data"
    }
   ],
   "source": [
    "# Lets map clusters on RMSD plot\n",
    "nclus = set( df_clus.Cluster)\n",
    "fig, ax = plt.subplots( figsize=(6.3,3.2) )\n",
    "\n",
    "for val in nclus:\n",
    "    # val -1 indicates noise points\n",
    "    # For each cluster, we show frame closer to cluster centroid as Cross\n",
    "    if val > -1:\n",
    "        data = df_clus[ df_clus.Cluster == val ]\n",
    "        ax.plot( data.index,data.RMSD,'.')\n",
    "        \n",
    "        Mn = data.CDist.min()\n",
    "        Cent =  data[ data.CDist == Mn ]\n",
    "        ax.plot( Cent.index, Cent.RMSD, 'X',color='y',ms=16)\n",
    "            \n",
    "\n",
    "ax.set_xlabel( 'Time ns')\n",
    "ax.set_ylabel( 'RMSD $\\AA$')"
   ]
  },
  {
   "cell_type": "code",
   "execution_count": 294,
   "id": "005e21e8",
   "metadata": {},
   "outputs": [
    {
     "data": {
      "application/vnd.jupyter.widget-view+json": {
       "model_id": "fe020ec448f0428886993a957aad52de",
       "version_major": 2,
       "version_minor": 0
      },
      "text/plain": [
       "NGLWidget()"
      ]
     },
     "metadata": {},
     "output_type": "display_data"
    }
   ],
   "source": [
    "# Lets view the Cluster representatives\n",
    "r1 = mda.Universe( 'C1.pdb' )\n",
    "r2 = mda.Universe( 'C2.pdb' )\n",
    "r3 = mda.Universe( 'C3.pdb' )\n",
    "\n",
    "view = nv.show_mdanalysis(r1)\n",
    "view.add_trajectory( r2 )\n",
    "view.add_trajectory( r3 )\n",
    "\n",
    "view[0].clear_representations()\n",
    "view[0].add_cartoon(color='blue')\n",
    "view[1].clear_representations()\n",
    "view[1].add_cartoon(color='yellow')\n",
    "view[2].clear_representations()\n",
    "view[2].add_cartoon(color='cyan')\n",
    "\n",
    "#view.display(gui=True)\n",
    "view"
   ]
  },
  {
   "cell_type": "markdown",
   "id": "ad047dd8",
   "metadata": {},
   "source": [
    "#### **Inference:**"
   ]
  },
  {
   "cell_type": "code",
   "execution_count": null,
   "id": "b1748b54",
   "metadata": {},
   "outputs": [],
   "source": []
  }
 ],
 "metadata": {
  "kernelspec": {
   "display_name": "Python 3",
   "language": "python",
   "name": "python3"
  },
  "language_info": {
   "codemirror_mode": {
    "name": "ipython",
    "version": 3
   },
   "file_extension": ".py",
   "mimetype": "text/x-python",
   "name": "python",
   "nbconvert_exporter": "python",
   "pygments_lexer": "ipython3",
   "version": "3.6.13"
  },
  "toc-autonumbering": false,
  "toc-showcode": false,
  "toc-showmarkdowntxt": true
 },
 "nbformat": 4,
 "nbformat_minor": 5
}
