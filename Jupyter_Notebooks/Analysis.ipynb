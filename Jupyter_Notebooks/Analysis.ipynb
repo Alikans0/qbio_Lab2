{
 "cells": [
  {
   "cell_type": "markdown",
   "id": "e3c76254",
   "metadata": {
    "tags": []
   },
   "source": [
    "## Do imports"
   ]
  },
  {
   "cell_type": "code",
   "execution_count": 1,
   "id": "c47cd0cb",
   "metadata": {
    "tags": []
   },
   "outputs": [
    {
     "data": {
      "application/vnd.jupyter.widget-view+json": {
       "model_id": "57b151770fea4175acf02ba23462bc2d",
       "version_major": 2,
       "version_minor": 0
      },
      "text/plain": []
     },
     "metadata": {},
     "output_type": "display_data"
    }
   ],
   "source": [
    "# MDAnalysis tools\n",
    "import MDAnalysis as mda\n",
    "from MDAnalysis.analysis import rms, align, pca,contacts\n",
    "from MDAnalysis import transformations\n",
    "# To view the trajs on notebook\n",
    "import nglview as nv\n",
    "import pytraj as pt\n",
    "from ipywidgets import interact, fixed"
   ]
  },
  {
   "cell_type": "code",
   "execution_count": 2,
   "id": "d307ad7a",
   "metadata": {},
   "outputs": [],
   "source": [
    "# Data processing\n",
    "import pandas as pd\n",
    "import numpy as np\n",
    "\n",
    "from sklearn.decomposition import PCA\n",
    "import hdbscan as HDBSCAN               #clustering algorithm"
   ]
  },
  {
   "cell_type": "code",
   "execution_count": 3,
   "id": "d7531de2",
   "metadata": {},
   "outputs": [],
   "source": [
    "# Plot & System tools\n",
    "import matplotlib as mpl\n",
    "import matplotlib.pyplot as plt\n",
    "from  matplotlib.colors import ListedColormap, NoNorm, BoundaryNorm, CSS4_COLORS\n",
    "import seaborn as sns\n",
    "\n",
    "# Remove warnings\n",
    "import warnings\n",
    "warnings.filterwarnings('ignore')\n",
    "\n",
    "\n",
    "#Change working directory to current directory\n",
    "import os"
   ]
  },
  {
   "cell_type": "code",
   "execution_count": 4,
   "id": "971fc860",
   "metadata": {},
   "outputs": [],
   "source": [
    "# Function to see motion along a pca\n",
    "# Inputs: PC index, frame_i, frame_j , selection\n",
    "def get_motion(pindex=0, framei=0, framej=100, sel='name BB' ):\n",
    "    getpc =  mypca.p_components[:, pindex]\n",
    "    trans =  pcspace[:, pindex]\n",
    "    projected = np.outer(trans, getpc ) + mypca.mean.flatten()\n",
    "    \n",
    "    backbone = U.select_atoms(sel)\n",
    "    proj = mda.Merge(backbone)\n",
    "    coordinates = projected.reshape(len(trans), -1, 3)\n",
    "    proj.load_new(coordinates[ [framei,framej],: ], order=\"fac\")\n",
    "    \n",
    "    return proj"
   ]
  },
  {
   "cell_type": "code",
   "execution_count": 5,
   "id": "9d4c376f",
   "metadata": {},
   "outputs": [
    {
     "name": "stdout",
     "output_type": "stream",
     "text": [
      "MDAnalysis 2.0.0\n",
      "nglview    3.0.3\n",
      "pytraj     2.0.5\n",
      "pandas     1.1.5\n",
      "matplotlib 3.3.4\n",
      "seaborn    0.11.2\n",
      "numpy      1.19.5\n",
      "\n",
      "2022-11-15T09:26:51+01:00\n",
      "\n",
      "CPython 3.6.13\n",
      "IPython 7.16.1\n",
      "\n",
      "compiler   : GCC 7.5.0\n",
      "system     : Linux\n",
      "release    : 4.15.0-196-generic\n",
      "machine    : x86_64\n",
      "processor  : x86_64\n",
      "CPU cores  : 48\n",
      "interpreter: 64bit\n"
     ]
    }
   ],
   "source": [
    "%reload_ext watermark\n",
    "%watermark --iversions\n",
    "%watermark"
   ]
  },
  {
   "cell_type": "code",
   "execution_count": 6,
   "id": "f84fb9fa",
   "metadata": {},
   "outputs": [
    {
     "name": "stdout",
     "output_type": "stream",
     "text": [
      "Enabling notebook extension nglview-js-widgets/extension...\n",
      "      - Validating: \u001b[32mOK\u001b[0m\n",
      "Enabling notebook extension jupyter-js-widgets/extension...\n",
      "      - Validating: \u001b[32mOK\u001b[0m\n"
     ]
    }
   ],
   "source": [
    "!jupyter-nbextension enable nglview --py --sys-prefix\n",
    "!jupyter-nbextension enable --py --sys-prefix widgetsnbextension"
   ]
  },
  {
   "cell_type": "markdown",
   "id": "46089a9d",
   "metadata": {},
   "source": [
    "# Functions"
   ]
  },
  {
   "cell_type": "code",
   "execution_count": 50,
   "id": "3c49e477",
   "metadata": {},
   "outputs": [],
   "source": [
    "def change_representation(view, representation):\n",
    "    view.clear()\n",
    "    view.representations = [\n",
    "        {\"type\": representation,\n",
    "         \"params\": {\"sele\":\"367-372\",\"color\":\"red\",\"radiusType\":\"vdW\"}},\n",
    "        {\"type\": \"cartoon\",\"aspectRatio\":\"10\",\n",
    "         \"params\": {\"sele\":\"40-337\",\"color\":\"cyan\",\"radiusType\":\"vdW\",\"opacity\":\"0.5\"}}\n",
    "    ]\n",
    "    \n",
    "    view.control.rotate(\n",
    "    mda.lib.transformations.quaternion_from_euler(\n",
    "        -np.pi/2, np.pi/2, np.pi/13, 'rzyz').tolist())\n",
    "    view.camera = 'orthographic'\n",
    "    return view\n",
    "\n",
    "def show_residues_around(view, component_index=0, selection=\"ligand\", radius=6.0):\n",
    "    js = (\n",
    "        f\"\"\"\n",
    "        var system = this.stage.compList[{component_index}];\n",
    "        var prevSele = system.selection.string;\n",
    "        system.setSelection(\"{selection}\");\n",
    "        var around = system.structure.getAtomSetWithinSelection(system.selection, {radius});\n",
    "        \"\"\"\n",
    "        \"\"\"\n",
    "        var around_complete = system.structure.getAtomSetWithinGroup(around);\n",
    "        system.addRepresentation(\"ball+stick\", {sele: around_complete.toSeleString()});\n",
    "        system.setSelection(prevSele)\n",
    "        \"\"\"\n",
    "    )\n",
    "    view._execute_js_code(js)"
   ]
  },
  {
   "cell_type": "markdown",
   "id": "f07affc4",
   "metadata": {},
   "source": [
    "# Set the directory for the simulation"
   ]
  },
  {
   "cell_type": "markdown",
   "id": "2925ff52",
   "metadata": {},
   "source": [
    "#  Before we start, we define\n",
    "    1. Input  files (finp)\n",
    "    2. Output files (fout)"
   ]
  },
  {
   "cell_type": "code",
   "execution_count": 61,
   "id": "12a3782b",
   "metadata": {
    "tags": []
   },
   "outputs": [],
   "source": [
    "os.chdir('/home/ali/cg_simulations/new_simu3')\n",
    "\n",
    "finp_ref  = 'system.gro'                  # reference\n",
    "finp_trj  = 'step7_production.pbc.xtc'    # traj\n"
   ]
  },
  {
   "cell_type": "markdown",
   "id": "69ec8e95",
   "metadata": {},
   "source": [
    "# We load\n",
    "    1. trajectory\n",
    "    2. reference structure file"
   ]
  },
  {
   "cell_type": "code",
   "execution_count": 62,
   "id": "ca2d6d2e",
   "metadata": {},
   "outputs": [
    {
     "data": {
      "text/plain": [
       "<XTCReader step7_production.pbc.xtc with 10001 frames of 8686 atoms>"
      ]
     },
     "metadata": {},
     "output_type": "display_data"
    }
   ],
   "source": [
    "U   = mda.Universe(finp_ref, finp_trj)       #Open Traj\n",
    "ref = mda.Universe(finp_ref)                 #Open ref file \n",
    "\n",
    "display(U.trajectory)"
   ]
  },
  {
   "cell_type": "markdown",
   "id": "aa61d917",
   "metadata": {},
   "source": [
    "# Visualize the protein"
   ]
  },
  {
   "cell_type": "code",
   "execution_count": 63,
   "id": "0d16c96d",
   "metadata": {},
   "outputs": [],
   "source": [
    "# Select full protein and domains\n",
    "\n",
    "full = 'protein'\n",
    "\n",
    "backbone = \"name BB\"\n",
    "BB=U.select_atoms(backbone)\n",
    "\n",
    "receptor = 'name BB and (resid 40-337)'\n",
    "rec =U.select_atoms(receptor)\n",
    "\n",
    "peptide = 'name BB and resid 367-372'\n",
    "pep = U.select_atoms(peptide)"
   ]
  },
  {
   "cell_type": "markdown",
   "id": "d9f15e96",
   "metadata": {},
   "source": [
    "## **1. Trajectory Alignment**\n",
    "    - We align the traj (& retain `in memory`) using atom group `receptor`."
   ]
  },
  {
   "cell_type": "code",
   "execution_count": 64,
   "id": "de301fcf",
   "metadata": {},
   "outputs": [
    {
     "data": {
      "text/plain": [
       "'Done Boss'"
      ]
     },
     "execution_count": 64,
     "metadata": {},
     "output_type": "execute_result"
    }
   ],
   "source": [
    "# Align traj to reference using atmgroup receptor\n",
    "\n",
    "align.AlignTraj( U, ref, select=receptor , in_memory=True).run()\n",
    "'Done Boss'"
   ]
  },
  {
   "cell_type": "code",
   "execution_count": 66,
   "id": "f5d68843",
   "metadata": {},
   "outputs": [],
   "source": [
    "#### save aligned traj\n",
    "\n",
    "system_aligned = U.select_atoms(\"all\")\n",
    "with mda.Writer(\"traj_aligned.trr\", system_aligned.n_atoms) as W:\n",
    "    for ts in U.trajectory:\n",
    "        W.write(system_aligned)"
   ]
  },
  {
   "cell_type": "markdown",
   "id": "06719825",
   "metadata": {},
   "source": [
    "## **2. Visualization**\n",
    "    - After alignment, we visualize the md movie with nglview."
   ]
  },
  {
   "cell_type": "code",
   "execution_count": 65,
   "id": "854a741b",
   "metadata": {},
   "outputs": [
    {
     "data": {
      "application/vnd.jupyter.widget-view+json": {
       "model_id": "733b3e4966db4c80847178c438397a36",
       "version_major": 2,
       "version_minor": 0
      },
      "text/plain": [
       "interactive(children=(Dropdown(description='representation', options=('cartoon', 'backbone', 'ball+stick'), va…"
      ]
     },
     "metadata": {},
     "output_type": "display_data"
    },
    {
     "data": {
      "text/plain": [
       "<function __main__.change_representation(view, representation)>"
      ]
     },
     "execution_count": 65,
     "metadata": {},
     "output_type": "execute_result"
    }
   ],
   "source": [
    "view = nv.show_mdanalysis(U, gui=False)\n",
    "\n",
    "representations= [\"cartoon\",\"backbone\", \"ball+stick\"] #for the peptide\n",
    "\n",
    "#representations = [\"cartoon\",\"backbone\", \"ball+stick\"] #for the peptide    \n",
    "interact(change_representation,view=fixed(view), representation=representations) \n",
    "\n",
    "#view.add_representation(\"ball+stick\",color='orange',selection=\"name PO4\",aspectRatio=7,opacity=\"0.4\" )"
   ]
  },
  {
   "cell_type": "code",
   "execution_count": 150,
   "id": "5d613795",
   "metadata": {},
   "outputs": [],
   "source": [
    "#v_small_membrane = nv.show_mdanalysis(U.select_atoms('name PO4'))\n",
    "#v_small_membrane.add_representation(\"ball+stick\", aspectRatio=7)\n",
    "#v_small_membrane"
   ]
  },
  {
   "cell_type": "markdown",
   "id": "2d70b061",
   "metadata": {},
   "source": [
    "# Contacts"
   ]
  },
  {
   "cell_type": "code",
   "execution_count": 52,
   "id": "e27202ca",
   "metadata": {},
   "outputs": [],
   "source": [
    "bs = U.select_atoms(\"protein and around 4 group peptide\", peptide=pep, updating=True)\n",
    "\n",
    "bs_atoms = []\n",
    "\n",
    "for ts in U.trajectory:\n",
    "    bs_atoms.append(len(bs.atoms))\n",
    "\n",
    "#print(bs_atoms)"
   ]
  },
  {
   "cell_type": "markdown",
   "id": "fadaf0d7",
   "metadata": {},
   "source": [
    "Suggested cutoff distances for different simulations\n",
    "\n",
    "    For all-atom simulations, cutoff = 4.5 Å\n",
    "    For coarse-grained simulations, cutoff = 6.0 Å\n"
   ]
  },
  {
   "cell_type": "code",
   "execution_count": 67,
   "id": "a4991ebf",
   "metadata": {},
   "outputs": [
    {
     "name": "stdout",
     "output_type": "stream",
     "text": [
      "average contacts = 0.04855228762838001\n"
     ]
    },
    {
     "data": {
      "image/png": "[encoded data removed]",
      "text/plain": [
       "<Figure size 864x576 with 1 Axes>"
      ]
     },
     "metadata": {
      "needs_background": "light"
     },
     "output_type": "display_data"
    }
   ],
   "source": [
    "ca1 = contacts.Contacts(U, select=(receptor, peptide),\n",
    "                        refgroup=(rec, pep), radius=6.0)\n",
    "\n",
    "ca1.run()\n",
    "\n",
    "# print number of averave contacts\n",
    "average_contacts = np.mean(ca1.timeseries[:, 1])\n",
    "print('average contacts = {}'.format(average_contacts))\n",
    "\n",
    "# plot time series q(t)\n",
    "fig, ax = plt.subplots(figsize=(12, 8))\n",
    "ax.plot(ca1.timeseries[:, 0], ca1.timeseries[:, 1])\n",
    "ax.set(xlabel='frame', ylabel='fraction of native contacts',\n",
    "       title='Native Contacts, average = {:.2f}'.format(average_contacts))\n",
    "fig.show()"
   ]
  },
  {
   "cell_type": "code",
   "execution_count": 68,
   "id": "d7fec208",
   "metadata": {},
   "outputs": [
    {
     "name": "stdout",
     "output_type": "stream",
     "text": [
      "There are 7 contacts in the reference.\n"
     ]
    }
   ],
   "source": [
    "n_ref = ca1.initial_contacts[0].sum()\n",
    "print('There are {} contacts in the reference.'.format(n_ref))"
   ]
  },
  {
   "cell_type": "markdown",
   "id": "904bc4e6",
   "metadata": {},
   "source": [
    "# Clustering"
   ]
  },
  {
   "cell_type": "code",
   "execution_count": null,
   "id": "f418ab73",
   "metadata": {},
   "outputs": [],
   "source": [
    "os.chdir('/home/ali/cg_simulations/new_simu4')"
   ]
  },
  {
   "cell_type": "code",
   "execution_count": null,
   "id": "95395408",
   "metadata": {},
   "outputs": [],
   "source": [
    "finp_ref  = 'system.gro'                  # reference\n",
    "finp_trj  = 'step7_production.pbc.xtc'    # traj"
   ]
  },
  {
   "cell_type": "code",
   "execution_count": 69,
   "id": "a6f53e9f",
   "metadata": {},
   "outputs": [
    {
     "name": "stdout",
     "output_type": "stream",
     "text": [
      "                     :-) GROMACS - gmx cluster, 2020.4 (-:\n",
      "\n",
      "                            GROMACS is written by:\n",
      "     Emile Apol      Rossen Apostolov      Paul Bauer     Herman J.C. Berendsen\n",
      "    Par Bjelkmar      Christian Blau   Viacheslav Bolnykh     Kevin Boyd    \n",
      " Aldert van Buuren   Rudi van Drunen     Anton Feenstra       Alan Gray     \n",
      "  Gerrit Groenhof     Anca Hamuraru    Vincent Hindriksen  M. Eric Irrgang  \n",
      "  Aleksei Iupinov   Christoph Junghans     Joe Jordan     Dimitrios Karkoulis\n",
      "    Peter Kasson        Jiri Kraus      Carsten Kutzner      Per Larsson    \n",
      "  Justin A. Lemkul    Viveca Lindahl    Magnus Lundborg     Erik Marklund   \n",
      "    Pascal Merz     Pieter Meulenhoff    Teemu Murtola       Szilard Pall   \n",
      "    Sander Pronk      Roland Schulz      Michael Shirts    Alexey Shvetsov  \n",
      "   Alfons Sijbers     Peter Tieleman      Jon Vincent      Teemu Virolainen \n",
      " Christian Wennberg    Maarten Wolf      Artem Zhmurov   \n",
      "                           and the project leaders:\n",
      "        Mark Abraham, Berk Hess, Erik Lindahl, and David van der Spoel\n",
      "\n",
      "Copyright (c) 1991-2000, University of Groningen, The Netherlands.\n",
      "Copyright (c) 2001-2019, The GROMACS development team at\n",
      "Uppsala University, Stockholm University and\n",
      "the Royal Institute of Technology, Sweden.\n",
      "check out http://www.gromacs.org for more information.\n",
      "\n",
      "GROMACS is free software; you can redistribute it and/or modify it\n",
      "under the terms of the GNU Lesser General Public License\n",
      "as published by the Free Software Foundation; either version 2.1\n",
      "of the License, or (at your option) any later version.\n",
      "\n",
      "GROMACS:      gmx cluster, version 2020.4\n",
      "Executable:   /usr/local/gromacs/bin/gmx\n",
      "Data prefix:  /usr/local/gromacs\n",
      "Working dir:  /home/ali/cg_simulations/new_simu3\n",
      "Command line:\n",
      "  gmx cluster -f traj_aligned.trr -s step7_production.tpr -cl clusters.xtc -cutoff 0.3 -method gromos -wcl 10 -n index.ndx -nofit -clid clusters.xvg -sz clusters_size.xvg\n",
      "\n",
      "\n",
      "Back Off! I just backed up cluster.log to ./#cluster.log.1#\n",
      "Using gromos method for clustering\n",
      "Reading file step7_production.tpr, VERSION 2020.6 (single precision)\n",
      "Reading file step7_production.tpr, VERSION 2020.6 (single precision)\n",
      "\n",
      "Select group for least squares fit and RMSD calculation:\n",
      "Group     0 (         System) has  8686 elements\n",
      "Group     1 (        Protein) has   750 elements\n",
      "Group     2 (      Protein-H) has   750 elements\n",
      "Group     3 (        C-alpha) has     0 elements\n",
      "Group     4 (       Backbone) has     0 elements\n",
      "Group     5 (      MainChain) has     0 elements\n",
      "Group     6 (   MainChain+Cb) has     0 elements\n",
      "Group     7 (    MainChain+H) has     0 elements\n",
      "Group     8 (      SideChain) has   750 elements\n",
      "Group     9 (    SideChain-H) has   750 elements\n",
      "Group    10 (    Prot-Masses) has   750 elements\n",
      "Group    11 (    non-Protein) has  7936 elements\n",
      "Group    12 (          Other) has  7829 elements\n",
      "Group    13 (           POPC) has  2940 elements\n",
      "Group    14 (              W) has  4889 elements\n",
      "Group    15 (            NA+) has    46 elements\n",
      "Group    16 (            CL-) has    61 elements\n",
      "Group    17 (            Ion) has   107 elements\n",
      "Group    18 (           POPC) has  2940 elements\n",
      "Group    19 (              W) has  4889 elements\n",
      "Group    20 (            NA+) has    46 elements\n",
      "Group    21 (            CL-) has    61 elements\n",
      "Group    22 (            rec) has   725 elements\n",
      "Group    23 (            pep) has    25 elements\n",
      "Select a group: Selected 23: 'pep'\n",
      "\n",
      "Select group for output:\n",
      "Group     0 (         System) has  8686 elements\n",
      "Group     1 (        Protein) has   750 elements\n",
      "Group     2 (      Protein-H) has   750 elements\n",
      "Group     3 (        C-alpha) has     0 elements\n",
      "Group     4 (       Backbone) has     0 elements\n",
      "Group     5 (      MainChain) has     0 elements\n",
      "Group     6 (   MainChain+Cb) has     0 elements\n",
      "Group     7 (    MainChain+H) has     0 elements\n",
      "Group     8 (      SideChain) has   750 elements\n",
      "Group     9 (    SideChain-H) has   750 elements\n",
      "Group    10 (    Prot-Masses) has   750 elements\n",
      "Group    11 (    non-Protein) has  7936 elements\n",
      "Group    12 (          Other) has  7829 elements\n",
      "Group    13 (           POPC) has  2940 elements\n",
      "Group    14 (              W) has  4889 elements\n",
      "Group    15 (            NA+) has    46 elements\n",
      "Group    16 (            CL-) has    61 elements\n",
      "Group    17 (            Ion) has   107 elements\n",
      "Group    18 (           POPC) has  2940 elements\n",
      "Group    19 (              W) has  4889 elements\n",
      "Group    20 (            NA+) has    46 elements\n",
      "Group    21 (            CL-) has    61 elements\n",
      "Group    22 (            rec) has   725 elements\n",
      "Group    23 (            pep) has    25 elements\n",
      "Select a group: Selected 0: 'System'\n",
      "trr version: GMX_trn_file (single precision)\n",
      "Last frame      10000 time 10000000.000   \n",
      "Allocated 1043362320 bytes for frames\n",
      "Read 10001 frames from trajectory traj_aligned.trr\n",
      "Computing 10001x10001 RMS deviation matrix\n",
      "# RMSD calculations left: 0          \n",
      "\n",
      "The RMSD ranges from 0.0568236 to 1.24474 nm\n",
      "Average RMSD is 0.340946\n",
      "Number of structures for matrix 10001\n",
      "Energy of the matrix is 375.02.\n",
      "WARNING: rmsd minimum 0 is below lowest rmsd value 0.0568236\n",
      "\n",
      "Back Off! I just backed up rmsd-dist.xvg to ./#rmsd-dist.xvg.1#\n",
      "Making list of neighbors within cutoff                      1 1 1 1 1 1 1 1 1 1 2 2 2 2 2 2 2 2 2 2 3 3 3 3 3 3 3 3 3 3 4 4 4 4 4 4 4 4 4 4 5 5 5 5 5 5 5 5 5 5 6 6 6 6 6 6 6 6 6 6 7 7 7 7 7 7 7 7 7 7 8 8 8 8 8 8 8 8 8 8 9 9 9 9 9 9 9 9 9 9100%\n",
      "Finding clusters                                                                                                                                                                                                          1 1 102\n",
      "\n",
      "Found 102 clusters\n",
      "\n",
      "Writing middle structure for each cluster to clusters.xtc\n",
      "Writing all structures for the first 10 clusters with more than 1 structures to clusters.xtc%03d.xtc\n",
      "\n",
      "Back Off! I just backed up clusters.xtc to ./#clusters.xtc.1#\n",
      "\n",
      "Back Off! I just backed up clusters.xvg to ./#clusters.xvg.1#\n",
      "\n",
      "Back Off! I just backed up clusters_size.xvg to ./#clusters_size.xvg.1#\n",
      "\n",
      "Back Off! I just backed up clusters.xtc001.xtc to ./#clusters.xtc001.xtc.1#\n",
      "\n",
      "Back Off! I just backed up clusters.xtc002.xtc to ./#clusters.xtc002.xtc.1#\n",
      "\n",
      "Back Off! I just backed up clusters.xtc003.xtc to ./#clusters.xtc003.xtc.1#\n",
      "\n",
      "Back Off! I just backed up clusters.xtc004.xtc to ./#clusters.xtc004.xtc.1#\n",
      "\n",
      "Back Off! I just backed up clusters.xtc005.xtc to ./#clusters.xtc005.xtc.1#\n",
      "\n",
      "Back Off! I just backed up clusters.xtc006.xtc to ./#clusters.xtc006.xtc.1#\n",
      "\n",
      "Back Off! I just backed up clusters.xtc007.xtc to ./#clusters.xtc007.xtc.1#\n",
      "\n",
      "Back Off! I just backed up clusters.xtc008.xtc to ./#clusters.xtc008.xtc.1#\n",
      "\n",
      "Back Off! I just backed up clusters.xtc009.xtc to ./#clusters.xtc009.xtc.1#\n",
      "\n",
      "Back Off! I just backed up clusters.xtc010.xtc to ./#clusters.xtc010.xtc.1#\n",
      "\n",
      "Back Off! I just backed up rmsd-clust.xpm to ./#rmsd-clust.xpm.1#\n",
      "Writing rms distance/clustering matrix                      1 1 1 1 1 1 1 1 1 1 2 2 2 2 2 2 2 2 2 2 3 3 3 3 3 3 3 3 3 3 4 4 4 4 4 4 4 4 4 4 5 5 5 5 5 5 5 5 5 5 6 6 6 6 6 6 6 6 6 6 7 7 7 7 7 7 7 7 7 7 8 8 8 8 8 8 8 8 8 8 9 9 9 9 9 9 9 9 910\n",
      "\n",
      "GROMACS reminds you: \"... and that dream of dreams, a computational model that predicts everything accurately.\" (Roald Hoffmann)\n",
      "\n"
     ]
    }
   ],
   "source": [
    "!echo 23 0 | gmx cluster -f traj_aligned.trr -s step7_production.tpr -cl clusters.xtc -cutoff 0.3 -method gromos -wcl 10 -n index.ndx -nofit -clid clusters.xvg -sz clusters_size.xvg"
   ]
  },
  {
   "cell_type": "code",
   "execution_count": 73,
   "id": "05091153",
   "metadata": {},
   "outputs": [
    {
     "data": {
      "application/vnd.jupyter.widget-view+json": {
       "model_id": "b04fd73c81ac40bb9bfcf6d33b3e1409",
       "version_major": 2,
       "version_minor": 0
      },
      "text/plain": [
       "NGLWidget(max_frame=101)"
      ]
     },
     "metadata": {},
     "output_type": "display_data"
    }
   ],
   "source": [
    "C = mda.Universe(finp_ref, 'clusters.xtc') \n",
    "cluster = nv.show_mdanalysis(C, gui=False)\n",
    "\n",
    "change_representation(cluster,'cartoon')\n",
    "\n",
    "show_residues_around(cluster,selection=\"367-372\",radius=3)\n",
    "\n",
    "cluster"
   ]
  },
  {
   "cell_type": "code",
   "execution_count": 71,
   "id": "38e2dc23",
   "metadata": {},
   "outputs": [],
   "source": [
    "clusters = C.select_atoms(\"all\")\n",
    "with mda.Writer(\"clusters_simu3.trr\", clusters.n_atoms) as W:\n",
    "    for ts in C.trajectory[:20]:\n",
    "        W.write(clusters)"
   ]
  },
  {
   "cell_type": "code",
   "execution_count": 72,
   "id": "a150a039",
   "metadata": {},
   "outputs": [
    {
     "data": {
      "application/vnd.jupyter.widget-view+json": {
       "model_id": "5dc1f0dc5e1144a99a815c0e533c93a8",
       "version_major": 2,
       "version_minor": 0
      },
      "text/plain": [
       "NGLWidget(max_frame=19)"
      ]
     },
     "metadata": {},
     "output_type": "display_data"
    }
   ],
   "source": [
    "C = mda.Universe(finp_ref,'clusters_simu3.trr')\n",
    "clu=nv.show_mdanalysis(C)\n",
    "change_representation(clu,'cartoon')"
   ]
  },
  {
   "cell_type": "code",
   "execution_count": null,
   "id": "1bb0636f",
   "metadata": {},
   "outputs": [],
   "source": []
  },
  {
   "cell_type": "code",
   "execution_count": null,
   "id": "1eb95a00",
   "metadata": {},
   "outputs": [],
   "source": []
  },
  {
   "cell_type": "code",
   "execution_count": null,
   "id": "4edfc176",
   "metadata": {},
   "outputs": [],
   "source": []
  },
  {
   "cell_type": "code",
   "execution_count": null,
   "id": "ac12bd5e",
   "metadata": {},
   "outputs": [],
   "source": []
  },
  {
   "cell_type": "code",
   "execution_count": null,
   "id": "ae89df23",
   "metadata": {},
   "outputs": [],
   "source": []
  },
  {
   "cell_type": "code",
   "execution_count": null,
   "id": "02e0fe0b",
   "metadata": {},
   "outputs": [],
   "source": []
  },
  {
   "cell_type": "code",
   "execution_count": null,
   "id": "bb80ac50",
   "metadata": {},
   "outputs": [],
   "source": []
  },
  {
   "cell_type": "code",
   "execution_count": null,
   "id": "507f12e9",
   "metadata": {},
   "outputs": [],
   "source": [
    "\n",
    "\n",
    "fout_rms   = 'RMSD.csv'  # rmsd output file\n",
    "fout_rmf   = 'RMSF.csv'  # rmsf output file\n",
    "fout_pca   = 'PCA.csv'   # PCA projections\n",
    "fout_cls   = 'CLUS.csv'  # Cluster output file"
   ]
  },
  {
   "cell_type": "markdown",
   "id": "af42ddcb",
   "metadata": {
    "tags": []
   },
   "source": [
    "#### **2. RMSD Analysis**\n",
    "\n",
    "- HOWTO\n",
    "    1. We first fit the traj using the receptor atoms (group `receptor`).\n",
    "    2. After fitting, we obtain RMSD for different domains without superimposition (`i.e., re-fitting`)\n",
    "    3. We create a dataframe (`df_rms`) as the container for RMSD data.\n",
    "    4. In the dataframe, we use `Time` signature as index (row labels).\n",
    "        - The trajectory contains snapshots of collected  `@100ps` interval.\n",
    "        - Hence, we multiply `Time` with 0.001 (i.e., Time/1000.0 to convert in ns)"
   ]
  },
  {
   "cell_type": "code",
   "execution_count": null,
   "id": "7473b936",
   "metadata": {},
   "outputs": [],
   "source": [
    "R = rms.RMSD(U,\n",
    "             ref,  # reference universe or atomgroup\n",
    "             select= backbone,  # group to superimpose and calculate RMSD\n",
    "             groupselections=[receptor,peptide] )  # groups for domain RMSDs\n",
    "R.run()\n",
    "display('Done Boss', R.rmsd.shape)"
   ]
  },
  {
   "cell_type": "code",
   "execution_count": null,
   "id": "f1be713a",
   "metadata": {},
   "outputs": [],
   "source": [
    "# Create dataframe of RMSD values\n",
    "# RMSD routine creates Frame and Time columns + three groups of RMSD calculations\n",
    "cols = ['Frame','Time', 'full' , 'receptor','peptide', ]\n",
    "df_rms = pd.DataFrame(R.rmsd, columns=cols)"
   ]
  },
  {
   "cell_type": "code",
   "execution_count": null,
   "id": "c92f187e",
   "metadata": {},
   "outputs": [],
   "source": [
    "df_rms.drop('Frame',axis=1,inplace=True)      #Drop Frame column, we retain only Time\n",
    "df_rms['Time' ] = df_rms.Time* 0.001          #Convert time to ns\n",
    "df_rms.set_index('Time',inplace=True)         #Set Time as index (row labels)"
   ]
  },
  {
   "cell_type": "code",
   "execution_count": null,
   "id": "b391ffa5",
   "metadata": {},
   "outputs": [],
   "source": [
    "#Save rmsd output to csv file\n",
    "\n",
    "#df_rms.to_csv( fout_rms ,index_label='Time') \n",
    "#display(df_rms.head(5), df_rms.tail(4) )"
   ]
  },
  {
   "cell_type": "markdown",
   "id": "191282b5",
   "metadata": {},
   "source": [
    "#### **3. RMSF Analysis**\n",
    "- HOWTO\n",
    "    1. Prior to RMSF, the trajectory should be fitted to reference structure (`We have done it`)\n",
    "    2. We obtain RMSF in different blocks (of 400 ns)\n",
    "        - RMSF is usually computed for the whole trajectory\n",
    "        - RMSF obtained in blocks (of 100 ns) gives more information.\n",
    "            - Helps us to monitor RMSF changes at different time regimes\n",
    "        - Save the RMSF data in dataframe (`df_rmsf`)\n",
    "            - Herein, we use residue ids as index (row labels)"
   ]
  },
  {
   "cell_type": "code",
   "execution_count": null,
   "id": "f6bd1d8a",
   "metadata": {},
   "outputs": [],
   "source": [
    "# RMSF is calculated in blocks\n",
    "nblocks = 10                                 #No. of blocks\n",
    "size = U.trajectory.n_frames / nblocks       #Size of a block, 1000 frames\n",
    "df_rmsf  = pd.DataFrame()   \n",
    "\n",
    "size = int(size)\n",
    "print( f\"Number of frames in each block:{size}\" )\n",
    "print( f\"Time region for each block:{df_rms.index[size]} ns\\n\")\n",
    "\n",
    "# Here starts the rmsf estimation\n",
    "for block in range(nblocks):\n",
    "    \n",
    "    # Start and End frames as obtained as intergers\n",
    "    begin = (block * size) ;  end = (block + 1) * size\n",
    "    print( f\"Start frame:{begin} and End frame:{end}\")\n",
    "    \n",
    "    # We use rms.RMSF routine to calculate the rmsf.\n",
    "    brmsf = rms.RMSF( U.select_atoms(peptide), verbose=True ).run( start = begin , stop = end)\n",
    "    df_rmsf[ f\"B{block+1}\" ]  =  brmsf.results.rmsf\n",
    "\n",
    "print('Done Boss')"
   ]
  },
  {
   "cell_type": "code",
   "execution_count": null,
   "id": "d14c5b8e",
   "metadata": {},
   "outputs": [],
   "source": [
    "# Extract residue numbers, keep them as row labels\n",
    "Rids = U.select_atoms( peptide ).resnums  # resnums gives residue numbers for atmgroup Full\n",
    "df_rmsf.index = Rids\n",
    "df_rmsf.index.name = 'Residue' "
   ]
  },
  {
   "cell_type": "code",
   "execution_count": null,
   "id": "44d408cf",
   "metadata": {},
   "outputs": [],
   "source": [
    "# We can save the dataframe to output file\n",
    "\n",
    "#df_rmsf.to_csv(fout_rmf ,index_label='Residue')\n",
    "#display( df_rmsf.head(5),df_rmsf.tail(4))"
   ]
  },
  {
   "cell_type": "markdown",
   "id": "ce976170",
   "metadata": {
    "tags": []
   },
   "source": [
    "#### **4. PCA Analysis**\n",
    "- HOWTO\n",
    "    1. PCA analysis is usually performed on a subset of atoms\n",
    "        - Herein, we consider C$_\\alpha$ atoms\n",
    "    2. Since we have a longer trajectory, we use frames in 500 ps interval (0.5 ns)\n",
    "        - Herein, we use begin, end, skip variables to define the range\n",
    "    3. After applying PCA, we estimate statistical parameters\n",
    "        - Cumulated variance\n",
    "    4. We project the trajectory on PCA space\n",
    "    5. We save projections on a dframe (`df_pca`)\n",
    "        - We use `Time` signature as our dframe index"
   ]
  },
  {
   "cell_type": "code",
   "execution_count": null,
   "id": "d160a365",
   "metadata": {},
   "outputs": [],
   "source": [
    "# Selecting an atom group to apply PCA\n",
    "sel = backbone\n",
    "begin,end,skip = 0 , 10000 , 5\n",
    "\n",
    "# PCA starts here\n",
    "mypca = pca.PCA( U , select= sel )\n",
    "mypca.run(begin,end,skip)\n",
    "print('Done Boss')"
   ]
  },
  {
   "cell_type": "code",
   "execution_count": null,
   "id": "a5af17ce",
   "metadata": {},
   "outputs": [],
   "source": [
    "# Cumulated variance\n",
    "# Infer number of PC components that explain most variance\n",
    "\n",
    "display( f\"Total number of PCs: {mypca.cumulated_variance.size} \" )\n",
    "print( f\"Cumulative variance of first 10 PCs\\n{ mypca.cumulated_variance[:9] } \" )"
   ]
  },
  {
   "cell_type": "code",
   "execution_count": null,
   "id": "7430e7da",
   "metadata": {},
   "outputs": [],
   "source": [
    "# Calculate projection for first 5 components\n",
    "\n",
    "atmgrp =  U.select_atoms( sel ) ; ncomps = 9\n",
    "pcspace = mypca.transform( atmgrp, n_components= ncomps, start = begin,stop = end,step = skip)\n",
    "\n",
    "# Place the results in a dataframe\n",
    "cols = [ f\"PC{x+1}\" for x in range(ncomps) ]\n",
    "df_pca = pd.DataFrame( pcspace , columns= cols )\n",
    "df_pca.head(5)"
   ]
  },
  {
   "cell_type": "code",
   "execution_count": null,
   "id": "65c66f20",
   "metadata": {},
   "outputs": [],
   "source": [
    "# Add Time signatures to projection data\n",
    "# We extract Time from df_rms data passing begin,end and skip values\n",
    "\n",
    "df_pca['Time'] = df_rms.index[begin:end:skip]\n",
    "df_pca.set_index('Time',inplace=True)\n",
    "\n",
    "# Save the output to csv file\n",
    "#df_pca.to_csv( fout_pca , index_label= 'Time' )\n",
    "#display( df_pca.head(5) , df_pca.tail(4)  )"
   ]
  },
  {
   "cell_type": "markdown",
   "id": "9c1c9e2e",
   "metadata": {},
   "source": [
    "#### **View Motion along PCAs**\n",
    "- For the first three PCs, firstly we identify,\n",
    "    1. Min and Max projection values\n",
    "    2. Time index and Frame number at which min and max happens\n",
    "    3. Projected coordinates for the corresponding frames (`use get_motion` function)\n",
    "    4. Use nglview to visualize the motion"
   ]
  },
  {
   "cell_type": "code",
   "execution_count": null,
   "id": "11725d88",
   "metadata": {},
   "outputs": [],
   "source": [
    "# 1. Min and max values for first three PCs\n",
    "df_pca.iloc[:,:3].min() ,  df_pca.iloc[:,:3].max()"
   ]
  },
  {
   "cell_type": "code",
   "execution_count": null,
   "id": "0d896f31",
   "metadata": {},
   "outputs": [],
   "source": [
    "# 2a Time @ which Min & Max values observed\n",
    "allmin = df_pca.iloc[:,:3].idxmin(axis=0, skipna=True) \n",
    "allmax = df_pca.iloc[:,:3].idxmax(axis=0, skipna=True)\n",
    "allmin,allmax"
   ]
  },
  {
   "cell_type": "code",
   "execution_count": null,
   "id": "033cea4a",
   "metadata": {},
   "outputs": [],
   "source": [
    "# 2b Frame @ which Min & Max values observed\n",
    "all_index = df_pca.index\n",
    "for x,y in zip( allmin, allmax):\n",
    "    print( f\"min:{x} , max:{y}\" )\n",
    "    print( f\"min-frame:{all_index.get_loc(x)} , max-frame:{all_index.get_loc(y)}\\n\" )  "
   ]
  },
  {
   "cell_type": "markdown",
   "id": "65bf685a",
   "metadata": {},
   "source": [
    "#### **5. Cluster Analysis**\n",
    "- HOWTO\n",
    "    - There are many ways one may cluster the trajectory\n",
    "      - Herein, we use the distribution of points on PCA space for clustering.\n",
    "      - To this end, we use a density based clustering algorithm (hdbscan)\n",
    "          - Note that density based methods identify also noise points that could not be assigned to any cluster.\n",
    "    - Once the clusters are identified, we estimate\n",
    "      - Distance of each point to the centroid of the cluster they belong to.\n",
    "      - We extract the conformation close to centroid as `cluster representative`\n",
    "    - Clustering results, as usual, are placed in a dframe ( `df_clus` )    "
   ]
  },
  {
   "cell_type": "code",
   "execution_count": null,
   "id": "c443528b",
   "metadata": {},
   "outputs": [],
   "source": [
    "# A cluster should have atleast 5% of total population\n",
    "\n",
    "minsize = int( df_pca.shape[0]*.05)\n",
    "print( f\"Mininum samples in a cluster:{minsize}\" )\n",
    "\n",
    "# We use hdbscan library here (examine the Imports section at the top)\n",
    "# We use PCs 1-5\n",
    "\n",
    "hdbs = HDBSCAN.HDBSCAN(min_cluster_size=minsize)\n",
    "hclus = hdbs.fit_predict(df_pca.loc[:,'PC1':'PC10'] )\n",
    "\n",
    "# Obtain total number of clusters\n",
    "Nclus = set(hclus)\n",
    "display( f'No of clusters: { len( Nclus ) } and cluster ids: {Nclus} ')"
   ]
  },
  {
   "cell_type": "code",
   "execution_count": null,
   "id": "c9f24e73",
   "metadata": {},
   "outputs": [],
   "source": [
    "# Create dframe to store cluster results\n",
    "df_clus = pd.DataFrame( )\n",
    "\n",
    "# Assign clusters and time index\n",
    "df_clus['Cluster' ] = hclus\n",
    "df_clus.index.name = 'Time'\n",
    "df_clus.index = df_pca.index\n",
    "\n",
    "display( df_clus.head(5),df_clus.tail(4) )"
   ]
  },
  {
   "cell_type": "code",
   "execution_count": null,
   "id": "3557e80e",
   "metadata": {},
   "outputs": [],
   "source": [
    "# We extract RMSD values for frame in each cluster\n",
    "df_rms.iloc[ begin:end:skip ].full"
   ]
  },
  {
   "cell_type": "code",
   "execution_count": null,
   "id": "4434ef6f",
   "metadata": {},
   "outputs": [],
   "source": [
    "# Add RMSD to cluster data\n",
    "df_clus[ 'RMSD' ] =  df_rms.iloc[ begin:end:skip ].full"
   ]
  },
  {
   "cell_type": "code",
   "execution_count": null,
   "id": "eba3ba67",
   "metadata": {},
   "outputs": [],
   "source": [
    "display( df_clus.head(5),df_clus.tail(2) )"
   ]
  },
  {
   "cell_type": "code",
   "execution_count": null,
   "id": "9405e8f8",
   "metadata": {},
   "outputs": [],
   "source": [
    "# First, we assign CDist as a column with value 0\n",
    "df_clus['CDist'] = 0.0\n",
    "\n",
    "# For each point, we obtain its distance to the centroid\n",
    "\n",
    "for val in Nclus:\n",
    "    print(f\"Current cluster id:{val}\")\n",
    "    # Extract subset of dframe corresponding to the cluster id\n",
    "    subset = df_clus[df_clus.Cluster == val].index\n",
    "    points = df_pca.loc[ subset, \"PC1\":\"PC3\" ].values\n",
    "    Mean   = points.mean(axis=0)\n",
    "    \n",
    "    # Distance to cluster centroid (i.e mean value)\n",
    "    dist = np.sqrt( ( (points - Mean)**2 ).sum(1)  )\n",
    "    df_clus.loc[ subset, 'CDist'] = dist\n",
    "                \n",
    "df_clus.head()"
   ]
  },
  {
   "cell_type": "code",
   "execution_count": null,
   "id": "6abe0626",
   "metadata": {},
   "outputs": [],
   "source": [
    "# Collect as Time values in df_rms\n",
    "Frame = df_rms.index\n",
    "\n",
    "# For each Time information df_clus, collect corresponding frame number from df_rms\n",
    "Frame_no = [ Frame.get_loc(x) for x in df_clus.index ]\n",
    "\n",
    "# Add Frame number as new column in the cluster data\n",
    "df_clus['FRAME'] = Frame_no\n",
    "\n",
    "#df_clus.to_csv( fout_cls , index_label= 'Time')\n",
    "df_clus.head(4)"
   ]
  },
  {
   "cell_type": "code",
   "execution_count": null,
   "id": "4030f3f9",
   "metadata": {},
   "outputs": [],
   "source": [
    "# For each cluster, identify point closer to centroid (i.e, Min of CDist)\n",
    "print(df_clus.groupby(['Cluster']).min() )\n",
    "Mns = df_clus.groupby(['Cluster']).min().CDist"
   ]
  },
  {
   "cell_type": "code",
   "execution_count": null,
   "id": "d487828f",
   "metadata": {},
   "outputs": [],
   "source": [
    "# Structure closer to centroid can be considered as representatives\n",
    "# Identify frame no of representatives\n",
    "df_clus[ df_clus.CDist.isin(Mns) ]"
   ]
  },
  {
   "cell_type": "markdown",
   "id": "a16c70c1",
   "metadata": {},
   "source": [
    "- **Attension**\n",
    "    1. In density based clustering `-1` represents noise points in space.\n",
    "        - We are not interested in the representatives of noise points.\n",
    "    2. We know the `Time` signature and `Frame no` of the representatives\n",
    "        - Hence, we save the representatives as pdb's"
   ]
  },
  {
   "cell_type": "code",
   "execution_count": null,
   "id": "fdeee07b",
   "metadata": {},
   "outputs": [],
   "source": [
    "# Cluster -1 is noise, so we ignore it\n",
    "\n",
    "Sel = U.select_atoms('protein')\n",
    "U.trajectory[2035]\n",
    "Sel.write('C1.pdb')\n",
    "\n",
    "U.trajectory[7735]\n",
    "Sel.write('C2.pdb')\n",
    "\n",
    "#U.trajectory[4955]\n",
    "#Sel.write('C3.pdb')"
   ]
  },
  {
   "cell_type": "markdown",
   "id": "1da840f8",
   "metadata": {},
   "source": [
    "## DATA VISUALIZATION\n",
    "\n",
    "#### **RMSD**"
   ]
  },
  {
   "cell_type": "code",
   "execution_count": null,
   "id": "ff893781",
   "metadata": {},
   "outputs": [],
   "source": [
    "# Lets do time evolution of RMSD\n",
    "\n",
    "\n",
    "df_rms.full.plot( alpha=0.5)\n",
    "df_rms.peptide.plot( alpha=0.5)\n",
    "df_rms.receptor.plot( alpha=0.5)\n",
    "plt.xlim( [0,10000])\n",
    "plt.ylim( [0,10])\n",
    "plt.xlabel('Time (ns)')\n",
    "plt.ylabel( ' RMSD $\\AA$')\n"
   ]
  },
  {
   "cell_type": "code",
   "execution_count": null,
   "id": "2c29ef1a",
   "metadata": {},
   "outputs": [],
   "source": [
    "# Lets see the distribution of RMSD values\n",
    "fig, ax = plt.subplots( figsize=(6.5,3.2) )\n",
    "sns.distplot(df_rms.full,hist=False,label='full',ax=ax)\n",
    "sns.distplot(df_rms.receptor,hist=False,label='receptor',ax=ax)\n",
    "sns.distplot(df_rms.peptide,hist=False,label='peptide',ax=ax)\n",
    "\n",
    "plt.legend(ncol=2,fontsize=9)\n",
    "plt.xlabel('RMSD $\\AA$')\n",
    "plt.xlim( [0,15])"
   ]
  },
  {
   "cell_type": "markdown",
   "id": "56629f55",
   "metadata": {},
   "source": [
    "#### **RMSF**"
   ]
  },
  {
   "cell_type": "code",
   "execution_count": null,
   "id": "bbf402fd",
   "metadata": {},
   "outputs": [],
   "source": [
    "df_rmsf.boxplot() "
   ]
  },
  {
   "cell_type": "code",
   "execution_count": null,
   "id": "0a4dd2f3",
   "metadata": {},
   "outputs": [],
   "source": [
    "rmsf_m1 = df_rmsf.loc[ : , 'B1':'B10'].mean(axis=1)\n",
    "#rmsf_m2 = df_rmsf.loc[ : , 'B4':'B7'].mean(axis=1)\n",
    "#rmsf_m3 = df_rmsf.loc[ : , 'B7':'B10'].mean(axis=1)\n",
    "\n",
    "rmsf_m1.plot()\n",
    "#rmsf_m2.plot()\n",
    "#rmsf_m3.plot()\n",
    "\n",
    "plt.xlim([367,372])\n",
    "# Highlight NBD\n",
    "#plt.axvspan(40,155,color='k',alpha=0.2)\n",
    "#plt.axvspan(157,265,color='g',alpha=0.1)\n",
    "#plt.axvspan(267,375,color='y',alpha=0.1)\n",
    "#plt.axvspan(342,373,color='R',alpha=0.1)\n",
    "\n",
    "#plt.text(80,15,'D1',size=16)\n",
    "#plt.text(200,15,'D2',size=16)\n",
    "#plt.text(300,15,'D3',size=16)\n",
    "#plt.text(315,15,'D4',size=16)\n",
    "plt.ylabel('RMSF $\\AA$')"
   ]
  },
  {
   "cell_type": "markdown",
   "id": "88c5f45a",
   "metadata": {},
   "source": [
    "#### **PCA**"
   ]
  },
  {
   "cell_type": "code",
   "execution_count": null,
   "id": "53e7d4be",
   "metadata": {},
   "outputs": [],
   "source": [
    "# Visualize cumulative variance of first 10 PCs\n",
    "fig, ax = plt.subplots( figsize=(4.5,3.2) )\n",
    "Y = mypca.cumulated_variance[:10]\n",
    "X = [ l+1 for l in range(10) ]\n",
    "ax.plot( X, Y ,'s--' ,ms=5)\n",
    "ax.axhline( Y[2], color='b' , ls='--' )\n",
    "ax.set_ylabel('Explained Variance (%)')\n",
    "ax.set_xlabel('PC index')"
   ]
  },
  {
   "cell_type": "code",
   "execution_count": null,
   "id": "b43333c8",
   "metadata": {},
   "outputs": [],
   "source": [
    "# We visualize the scatter plots for most prominent (PC1-3)\n",
    "# Make scatter plots of PCs1-3\n",
    "fig, ax = plt.subplots(1,2,figsize=(10,4),dpi=300 )\n",
    "fig.subplots_adjust( wspace = 0.32)\n",
    "\n",
    "sns.scatterplot(data=df_pca,x=\"PC1\",y=\"PC2\",ax=ax[0])\n",
    "sns.scatterplot(data=df_pca,x=\"PC1\",y=\"PC3\",ax=ax[1])\n",
    "\n",
    "\n",
    "# Seaborn color maps (https://seaborn.pydata.org/tutorial/color_palettes.html)\n",
    "\n",
    "#sns.kdeplot(data=df_pca,x=\"PC1\",y=\"PC2\",ax=ax[0],shade=True,cmap='Greys_r')\n",
    "#sns.kdeplot(data=df_pca,x=\"PC1\",y=\"PC3\",ax=ax[1],shade=True,cmap='Set1')\n"
   ]
  },
  {
   "cell_type": "code",
   "execution_count": null,
   "id": "f00fad28",
   "metadata": {},
   "outputs": [],
   "source": [
    "# Distribution along individual PC components\n",
    "sns.distplot(df_pca.PC1,label='PC1',hist=False)\n",
    "sns.distplot(df_pca.PC2,label='PC2',hist=False)\n",
    "sns.distplot(df_pca.PC4,label='PC4',hist=False)\n",
    "sns.distplot(df_pca.PC5,label='PC5',hist=False)\n",
    "\n",
    "plt.legend()  #Explained Variance reduces as we go from PC1 to PC5\n",
    "plt.xlim([-100,100])\n",
    "sns.set(rc={'figure.figsize':(10,4)})"
   ]
  },
  {
   "cell_type": "markdown",
   "id": "52fb3246",
   "metadata": {},
   "source": [
    "#### **Cluster Evolution**\n"
   ]
  },
  {
   "cell_type": "code",
   "execution_count": null,
   "id": "867698c1",
   "metadata": {},
   "outputs": [],
   "source": [
    "# Lets map clusters on RMSD plot\n",
    "nclus = set( df_clus.Cluster)\n",
    "fig, ax = plt.subplots( figsize=(10,8) )\n",
    "\n",
    "for val in nclus:\n",
    "    # val -1 indicates noise points\n",
    "    # For each cluster, we show frame closer to cluster centroid as Cross\n",
    "    if val > -1:\n",
    "        data = df_clus[ df_clus.Cluster == val ]\n",
    "        ax.plot( data.index,data.RMSD,'.')\n",
    "        \n",
    "        Mn = data.CDist.min()\n",
    "        Cent =  data[ data.CDist == Mn ]\n",
    "        ax.plot( Cent.index, Cent.RMSD, 'X',color='green',ms=16)\n",
    "            \n",
    "\n",
    "ax.set_xlabel('Time ns')\n",
    "ax.set_ylabel('RMSD $\\AA$')"
   ]
  },
  {
   "cell_type": "code",
   "execution_count": null,
   "id": "2ca682ae",
   "metadata": {},
   "outputs": [],
   "source": [
    "# Lets view the Cluster representatives\n",
    "r1 = mda.Universe( 'C1.pdb' )\n",
    "r2 = mda.Universe( 'C2.pdb' )\n",
    "#r3 = mda.Universe( 'C3.pdb' )\n",
    "\n",
    "view = nv.show_mdanalysis(r1)\n",
    "view.add_trajectory( r2 )\n",
    "#view.add_trajectory( r3 )\n",
    "\n",
    "view[0].clear_representations()\n",
    "view[0].add_cartoon(color='blue')\n",
    "view[1].clear_representations()\n",
    "view[1].add_cartoon(color='yellow')\n",
    "\n",
    "\n",
    "#view[2].clear_representations()\n",
    "#view[2].add_cartoon(color='cyan')\n",
    "\n",
    "#view.display(gui=True)\n",
    "#show_residues_around(view,selection=\"367\",radius=4.0)\n",
    "view"
   ]
  },
  {
   "cell_type": "markdown",
   "id": "6927bcad",
   "metadata": {},
   "source": [
    "#### **Inference:**"
   ]
  },
  {
   "cell_type": "code",
   "execution_count": null,
   "id": "ece77f0f",
   "metadata": {},
   "outputs": [],
   "source": []
  }
 ],
 "metadata": {
  "kernelspec": {
   "display_name": "Python 2",
   "language": "python",
   "name": "python2"
  },
  "language_info": {
   "codemirror_mode": {
    "name": "ipython",
    "version": 3
   },
   "file_extension": ".py",
   "mimetype": "text/x-python",
   "name": "python",
   "nbconvert_exporter": "python",
   "pygments_lexer": "ipython3",
   "version": "3.6.13"
  },
  "toc-autonumbering": false,
  "toc-showcode": false,
  "toc-showmarkdowntxt": true
 },
 "nbformat": 4,
 "nbformat_minor": 5
}
