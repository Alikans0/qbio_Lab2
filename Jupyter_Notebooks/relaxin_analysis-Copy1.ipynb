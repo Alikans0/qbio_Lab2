{
 "cells": [
  {
   "cell_type": "markdown",
   "id": "48cbf171",
   "metadata": {
    "tags": []
   },
   "source": [
    "## Do imports"
   ]
  },
  {
   "cell_type": "code",
   "execution_count": 1,
   "id": "57e2e89b",
   "metadata": {
    "tags": []
   },
   "outputs": [
    {
     "name": "stderr",
     "output_type": "stream",
     "text": [
      "/home/ali/.local/lib/python3.8/site-packages/Bio/pairwise2.py:278: BiopythonDeprecationWarning: Bio.pairwise2 has been deprecated, and we intend to remove it in a future release of Biopython. As an alternative, please consider using Bio.Align.PairwiseAligner as a replacement, and contact the Biopython developers if you still need the Bio.pairwise2 module.\n",
      "  warnings.warn(\n"
     ]
    },
    {
     "data": {
      "application/vnd.jupyter.widget-view+json": {
       "model_id": "81e4eb5a17fc4b72aba3ff50aadf092b",
       "version_major": 2,
       "version_minor": 0
      },
      "text/plain": []
     },
     "metadata": {},
     "output_type": "display_data"
    }
   ],
   "source": [
    "# MDAnalysis tools\n",
    "import MDAnalysis as mda\n",
    "from MDAnalysis.analysis import contacts, align\n",
    "\n",
    "# To view the trajs on notebook\n",
    "import nglview as nv\n",
    "from ipywidgets import interact, fixed\n",
    "\n",
    "# Data processing\n",
    "import pandas as pd\n",
    "import numpy as np\n",
    "\n",
    "# Plot & System tools\n",
    "import matplotlib as mpl\n",
    "import matplotlib.pyplot as plt\n",
    "from  matplotlib.colors import ListedColormap, NoNorm, BoundaryNorm, CSS4_COLORS\n",
    "import seaborn as sns\n",
    "\n",
    "# Remove warnings\n",
    "import warnings\n",
    "warnings.filterwarnings('ignore')\n",
    "\n",
    "import os"
   ]
  },
  {
   "cell_type": "markdown",
   "id": "8013bc69",
   "metadata": {},
   "source": [
    "# Set the directory for the simulation"
   ]
  },
  {
   "cell_type": "code",
   "execution_count": 2,
   "id": "bc3e812a",
   "metadata": {
    "tags": []
   },
   "outputs": [],
   "source": [
    "os.chdir('/home/ali/RELAXIN/CG_MD/full_traj2/')"
   ]
  },
  {
   "cell_type": "markdown",
   "id": "66e0241a",
   "metadata": {},
   "source": [
    "# Concatenate all the simulations"
   ]
  },
  {
   "cell_type": "code",
   "execution_count": null,
   "id": "ef3b9350",
   "metadata": {},
   "outputs": [],
   "source": [
    "l = ['reimaged2_' +str(x)+'.xtc' for x in range(1,11)]\n",
    "finp_ref  = 'reimaged.gro'\n",
    "\n",
    "print(l)\n",
    "test = mda.Universe(finp_ref,l)\n",
    "clust = test.select_atoms(\"all\")\n",
    "with mda.Writer(\"all_sim.trr\", clust.n_atoms) as W:\n",
    "    for ts in test.trajectory:\n",
    "        W.write(clust)"
   ]
  },
  {
   "cell_type": "markdown",
   "id": "5e20861f",
   "metadata": {},
   "source": [
    "# make index"
   ]
  },
  {
   "cell_type": "code",
   "execution_count": 83,
   "id": "4f2cefc7",
   "metadata": {},
   "outputs": [
    {
     "name": "stdout",
     "output_type": "stream",
     "text": [
      "                     :-) GROMACS - gmx make_ndx, 2018.1 (-:\n",
      "\n",
      "                            GROMACS is written by:\n",
      "     Emile Apol      Rossen Apostolov      Paul Bauer     Herman J.C. Berendsen\n",
      "    Par Bjelkmar    Aldert van Buuren   Rudi van Drunen     Anton Feenstra  \n",
      "  Gerrit Groenhof    Aleksei Iupinov   Christoph Junghans   Anca Hamuraru   \n",
      " Vincent Hindriksen Dimitrios Karkoulis    Peter Kasson        Jiri Kraus    \n",
      "  Carsten Kutzner      Per Larsson      Justin A. Lemkul    Viveca Lindahl  \n",
      "  Magnus Lundborg   Pieter Meulenhoff    Erik Marklund      Teemu Murtola   \n",
      "    Szilard Pall       Sander Pronk      Roland Schulz     Alexey Shvetsov  \n",
      "   Michael Shirts     Alfons Sijbers     Peter Tieleman    Teemu Virolainen \n",
      " Christian Wennberg    Maarten Wolf   \n",
      "                           and the project leaders:\n",
      "        Mark Abraham, Berk Hess, Erik Lindahl, and David van der Spoel\n",
      "\n",
      "Copyright (c) 1991-2000, University of Groningen, The Netherlands.\n",
      "Copyright (c) 2001-2017, The GROMACS development team at\n",
      "Uppsala University, Stockholm University and\n",
      "the Royal Institute of Technology, Sweden.\n",
      "check out http://www.gromacs.org for more information.\n",
      "\n",
      "GROMACS is free software; you can redistribute it and/or modify it\n",
      "under the terms of the GNU Lesser General Public License\n",
      "as published by the Free Software Foundation; either version 2.1\n",
      "of the License, or (at your option) any later version.\n",
      "\n",
      "GROMACS:      gmx make_ndx, version 2018.1\n",
      "Executable:   /usr/bin/gmx\n",
      "Data prefix:  /usr\n",
      "Working dir:  /home/ali/RELAXIN/alphafold\n",
      "Command line:\n",
      "  gmx make_ndx -f system.gro -o index.ndx\n",
      "\n",
      "\n",
      "Reading structure file\n",
      "Going to read 0 old index file(s)\n",
      "Analysing residue names:\n",
      "There are:   739    Protein residues\n",
      "There are: 32283      Other residues\n",
      "There are:   695        Ion residues\n",
      "Analysing Protein...\n",
      "Analysing residues not classified as Protein/DNA/RNA/Water and splitting into groups...\n",
      "Analysing residues not classified as Protein/DNA/RNA/Water and splitting into groups...\n",
      "\n",
      "  0 System              : 42203 atoms\n",
      "  1 Protein             :  1767 atoms\n",
      "  2 Protein-H           :  1767 atoms\n",
      "  3 C-alpha             :     0 atoms\n",
      "  4 Backbone            :     0 atoms\n",
      "  5 MainChain           :     0 atoms\n",
      "  6 MainChain+Cb        :     0 atoms\n",
      "  7 MainChain+H         :     0 atoms\n",
      "  8 SideChain           :  1767 atoms\n",
      "  9 SideChain-H         :  1767 atoms\n",
      " 10 Prot-Masses         :  1767 atoms\n",
      " 11 non-Protein         : 40436 atoms\n",
      " 12 Other               : 39741 atoms\n",
      " 13 POPC                :  8136 atoms\n",
      " 14 W                   : 31605 atoms\n",
      " 15 NA+                 :   341 atoms\n",
      " 16 CL-                 :   354 atoms\n",
      " 17 Ion                 :   695 atoms\n",
      " 18 POPC                :  8136 atoms\n",
      " 19 W                   : 31605 atoms\n",
      " 20 NA+                 :   341 atoms\n",
      " 21 CL-                 :   354 atoms\n",
      "\n",
      " nr : group      '!': not  'name' nr name   'splitch' nr    Enter: list groups\n",
      " 'a': atom       '&': and  'del' nr         'splitres' nr   'l': list residues\n",
      " 't': atom type  '|': or   'keep' nr        'splitat' nr    'h': help\n",
      " 'r': residue              'res' nr         'chain' char\n",
      " \"name\": group             'case': case sensitive           'q': save and quit\n",
      " 'ri': residue index\n",
      "\n",
      "> \n",
      "Found 654 atoms in range 221-874\n",
      "\n",
      " 22 a_221-874           :   654 atoms\n",
      "\n",
      "> \n",
      "\n",
      "> \n",
      "\n",
      "Back Off! I just backed up index.ndx to ./#index.ndx.1#\n",
      "\n",
      "GROMACS reminds you: \"Njuta men inte frossa, springa men inte fly\" (Paganus)\n",
      "\n"
     ]
    }
   ],
   "source": [
    "!echo -e \"a 221-874 \\nname 22 LRR \\nq\" |gmx make_ndx -f system.gro -o index.ndx"
   ]
  },
  {
   "cell_type": "markdown",
   "id": "59a59cde",
   "metadata": {},
   "source": [
    "# Center in the box"
   ]
  },
  {
   "cell_type": "code",
   "execution_count": 78,
   "id": "09dcdb31",
   "metadata": {},
   "outputs": [
    {
     "name": "stdout",
     "output_type": "stream",
     "text": [
      "                     :-) GROMACS - gmx trjconv, 2020.6 (-:\n",
      "\n",
      "                            GROMACS is written by:\n",
      "     Emile Apol      Rossen Apostolov      Paul Bauer     Herman J.C. Berendsen\n",
      "    Par Bjelkmar      Christian Blau   Viacheslav Bolnykh     Kevin Boyd    \n",
      " Aldert van Buuren   Rudi van Drunen     Anton Feenstra       Alan Gray     \n",
      "  Gerrit Groenhof     Anca Hamuraru    Vincent Hindriksen  M. Eric Irrgang  \n",
      "  Aleksei Iupinov   Christoph Junghans     Joe Jordan     Dimitrios Karkoulis\n",
      "    Peter Kasson        Jiri Kraus      Carsten Kutzner      Per Larsson    \n",
      "  Justin A. Lemkul    Viveca Lindahl    Magnus Lundborg     Erik Marklund   \n",
      "    Pascal Merz     Pieter Meulenhoff    Teemu Murtola       Szilard Pall   \n",
      "    Sander Pronk      Roland Schulz      Michael Shirts    Alexey Shvetsov  \n",
      "   Alfons Sijbers     Peter Tieleman      Jon Vincent      Teemu Virolainen \n",
      " Christian Wennberg    Maarten Wolf      Artem Zhmurov   \n",
      "                           and the project leaders:\n",
      "        Mark Abraham, Berk Hess, Erik Lindahl, and David van der Spoel\n",
      "\n",
      "Copyright (c) 1991-2000, University of Groningen, The Netherlands.\n",
      "Copyright (c) 2001-2019, The GROMACS development team at\n",
      "Uppsala University, Stockholm University and\n",
      "the Royal Institute of Technology, Sweden.\n",
      "check out http://www.gromacs.org for more information.\n",
      "\n",
      "GROMACS is free software; you can redistribute it and/or modify it\n",
      "under the terms of the GNU Lesser General Public License\n",
      "as published by the Free Software Foundation; either version 2.1\n",
      "of the License, or (at your option) any later version.\n",
      "\n",
      "GROMACS:      gmx trjconv, version 2020.6\n",
      "Executable:   /usr/local/gromacs/bin/gmx_mpi\n",
      "Data prefix:  /usr/local/gromacs\n",
      "Working dir:  /home/ali/RELAXIN/alphafold\n",
      "Command line:\n",
      "  gmx_mpi trjconv -f step7_production.xtc -o step7_production.pbc.xtc -s step7_production.tpr -pbc mol -ur compact -center -n index.ndx\n",
      "\n",
      "Note that major changes are planned in future for trjconv, to improve usability and utility.\n",
      "Will write xtc: Compressed trajectory (portable xdr format): xtc\n",
      "Reading file step7_production.tpr, VERSION 2020.6 (single precision)\n",
      "Reading file step7_production.tpr, VERSION 2020.6 (single precision)\n",
      "Select group for centering\n",
      "Group     0 (         System) has 42203 elements\n",
      "Group     1 (        Protein) has  1767 elements\n",
      "Group     2 (      Protein-H) has  1767 elements\n",
      "Group     3 (        C-alpha) has     0 elements\n",
      "Group     4 (       Backbone) has     0 elements\n",
      "Group     5 (      MainChain) has     0 elements\n",
      "Group     6 (   MainChain+Cb) has     0 elements\n",
      "Group     7 (    MainChain+H) has     0 elements\n",
      "Group     8 (      SideChain) has  1767 elements\n",
      "Group     9 (    SideChain-H) has  1767 elements\n",
      "Group    10 (    Prot-Masses) has  1767 elements\n",
      "Group    11 (    non-Protein) has 40436 elements\n",
      "Group    12 (          Other) has 39741 elements\n",
      "Group    13 (           POPC) has  8136 elements\n",
      "Group    14 (              W) has 31605 elements\n",
      "Group    15 (            NA+) has   341 elements\n",
      "Group    16 (            CL-) has   354 elements\n",
      "Group    17 (            Ion) has   695 elements\n",
      "Group    18 (           POPC) has  8136 elements\n",
      "Group    19 (              W) has 31605 elements\n",
      "Group    20 (            NA+) has   341 elements\n",
      "Group    21 (            CL-) has   354 elements\n",
      "Group    22 (            LRR) has  1436 elements\n",
      "Select a group: Selected 1: 'Protein'\n",
      "Select group for output\n",
      "Group     0 (         System) has 42203 elements\n",
      "Group     1 (        Protein) has  1767 elements\n",
      "Group     2 (      Protein-H) has  1767 elements\n",
      "Group     3 (        C-alpha) has     0 elements\n",
      "Group     4 (       Backbone) has     0 elements\n",
      "Group     5 (      MainChain) has     0 elements\n",
      "Group     6 (   MainChain+Cb) has     0 elements\n",
      "Group     7 (    MainChain+H) has     0 elements\n",
      "Group     8 (      SideChain) has  1767 elements\n",
      "Group     9 (    SideChain-H) has  1767 elements\n",
      "Group    10 (    Prot-Masses) has  1767 elements\n",
      "Group    11 (    non-Protein) has 40436 elements\n",
      "Group    12 (          Other) has 39741 elements\n",
      "Group    13 (           POPC) has  8136 elements\n",
      "Group    14 (              W) has 31605 elements\n",
      "Group    15 (            NA+) has   341 elements\n",
      "Group    16 (            CL-) has   354 elements\n",
      "Group    17 (            Ion) has   695 elements\n",
      "Group    18 (           POPC) has  8136 elements\n",
      "Group    19 (              W) has 31605 elements\n",
      "Group    20 (            NA+) has   341 elements\n",
      "Group    21 (            CL-) has   354 elements\n",
      "Group    22 (            LRR) has  1436 elements\n",
      "Select a group: Selected 0: 'System'\n",
      "Reading frame       0 time    0.000   \n",
      "Precision of step7_production.xtc is 0.01 (nm)\n",
      "Using output precision of 0.001 (nm)\n",
      "\n",
      "Back Off! I just backed up step7_production.pbc.xtc to ./#step7_production.pbc.xtc.18#\n",
      " ->  frame   5740 time 5740000.000        ->  frame   5000 time 5000000.000      \n",
      "\n",
      "\n",
      "GROMACS reminds you: \"Even if you are on the right track, you will get run over if you just sit there.\" (Will Rogers)\n",
      "\n"
     ]
    }
   ],
   "source": [
    "!echo 1 0|gmx_mpi trjconv -f step7_production.xtc -o step7_production.pbc.xtc -s step7_production.tpr -pbc mol -ur compact -center -n index.ndx "
   ]
  },
  {
   "cell_type": "code",
   "execution_count": 81,
   "id": "0ab32c44",
   "metadata": {},
   "outputs": [],
   "source": [
    "finp_ref  = 'system.gro'                     # reference\n",
    "finp_trj  = 'step7_production.pbc.xtc'           # traj\n",
    "\n",
    "U   = mda.Universe(finp_ref, finp_trj) "
   ]
  },
  {
   "cell_type": "code",
   "execution_count": 82,
   "id": "6efe1b8d",
   "metadata": {},
   "outputs": [
    {
     "data": {
      "application/vnd.jupyter.widget-view+json": {
       "model_id": "a5c3ad29178740e48d3b54f686b8e10d",
       "version_major": 2,
       "version_minor": 0
      },
      "text/plain": [
       "NGLWidget(max_frame=5605)"
      ]
     },
     "metadata": {},
     "output_type": "display_data"
    }
   ],
   "source": [
    "view = nv.show_mdanalysis(u)\n",
    "view.add_representation('point', 'resname SOL')\n",
    "view.center()\n",
    "view"
   ]
  },
  {
   "cell_type": "code",
   "execution_count": null,
   "id": "e368a0df",
   "metadata": {},
   "outputs": [],
   "source": []
  },
  {
   "cell_type": "code",
   "execution_count": null,
   "id": "3cb1b2a9",
   "metadata": {},
   "outputs": [],
   "source": []
  },
  {
   "cell_type": "markdown",
   "id": "7eca8d22",
   "metadata": {},
   "source": [
    "# align and save traj"
   ]
  },
  {
   "cell_type": "code",
   "execution_count": 19,
   "id": "97869ec5",
   "metadata": {},
   "outputs": [],
   "source": [
    "finp_ref  = 'system.gro'                     # reference\n",
    "finp_trj  = 'step7_production.pbc.xtc'       # traj\n",
    "\n",
    "\n",
    "LRR = 'name BB and resid 100-390'\n",
    "\n",
    "\n",
    "U   = mda.Universe(finp_ref, finp_trj)       #Open Traj\n",
    "ref = mda.Universe(finp_ref)                 #Open ref file \n",
    "\n",
    "# Align traj to reference using atmgroup LRR\n",
    "align.AlignTraj( U, ref, select=LRR, in_memory=True).run()\n",
    "'Done Boss'\n",
    "\n",
    "# save aligned traj\n",
    "system_aligned = U.select_atoms(\"all\")\n",
    "with mda.Writer(\"traj_aligned_to_LRR.trr\", system_aligned.n_atoms) as W:\n",
    "    for ts in U.trajectory:\n",
    "        W.write(system_aligned)"
   ]
  },
  {
   "cell_type": "code",
   "execution_count": null,
   "id": "1a2bb8a2",
   "metadata": {},
   "outputs": [],
   "source": []
  },
  {
   "cell_type": "code",
   "execution_count": null,
   "id": "163ac928",
   "metadata": {},
   "outputs": [],
   "source": []
  },
  {
   "cell_type": "code",
   "execution_count": null,
   "id": "7d22ad6e",
   "metadata": {},
   "outputs": [],
   "source": []
  },
  {
   "cell_type": "code",
   "execution_count": 12,
   "id": "09af8fae",
   "metadata": {},
   "outputs": [
    {
     "name": "stdout",
     "output_type": "stream",
     "text": [
      "10_clusters.trr       clusters.xtc0005.xtc  README.md\r\n",
      "cluster.log           clusters.xtc0006.xtc  reimaged.gro\r\n",
      "clusters_size.xvg     clusters.xtc0007.xtc  \u001b[0m\u001b[01;35mrmsd-clust.xpm\u001b[0m\r\n",
      "clusters.xtc          clusters.xtc0008.xtc  rmsd-dist.xvg\r\n",
      "clusters.xtc0001.xtc  clusters.xtc0009.xtc  traj_aligned_to_LRR.trr\r\n",
      "clusters.xtc0002.xtc  clusters.xtc0010.xtc  \u001b[01;35mvmdscene.tga\u001b[0m\r\n",
      "clusters.xtc0003.xtc  clusters.xvg\r\n",
      "clusters.xtc0004.xtc  index.ndx\r\n"
     ]
    }
   ],
   "source": [
    "ls"
   ]
  },
  {
   "cell_type": "markdown",
   "id": "dae2b08a",
   "metadata": {},
   "source": [
    "# Define Input  files (finp) and load the trajectory and reference structure file"
   ]
  },
  {
   "cell_type": "code",
   "execution_count": 160,
   "id": "b788c7d5",
   "metadata": {},
   "outputs": [],
   "source": [
    "finp_ref  = 'reimaged.gro'                     # reference\n",
    "finp_trj  = '10_clusters.trr'                  # traj\n",
    "\n",
    "U   = mda.Universe(finp_ref, finp_trj)       #Open Traj\n",
    "ref = mda.Universe(finp_ref)  "
   ]
  },
  {
   "cell_type": "code",
   "execution_count": 161,
   "id": "89916624",
   "metadata": {},
   "outputs": [],
   "source": [
    "ldla = 'name BB and resid 1-65'\n",
    "interest = ref.select_atoms(ldla)\n",
    "df = pd.DataFrame()\n",
    "\n",
    "for i in interest:\n",
    "    bs_atoms = []\n",
    "    for ts in U.trajectory:\n",
    "        bs = U.select_atoms('name BB and resid 100-390 and around 8 resid '+ str(i.resid), updating=True)\n",
    "        bs_atoms.append(bs.residues.resids)  \n",
    "    df[i.resid] = bs_atoms"
   ]
  },
  {
   "cell_type": "code",
   "execution_count": 162,
   "id": "6bdd7d99",
   "metadata": {},
   "outputs": [
    {
     "data": {
      "text/plain": [
       "[array([110]),\n",
       " array([], dtype=int64),\n",
       " array([], dtype=int64),\n",
       " array([], dtype=int64),\n",
       " array([199]),\n",
       " array([], dtype=int64),\n",
       " array([], dtype=int64),\n",
       " array([], dtype=int64),\n",
       " array([], dtype=int64),\n",
       " array([], dtype=int64),\n",
       " array([], dtype=int64),\n",
       " array([], dtype=int64),\n",
       " array([], dtype=int64),\n",
       " array([], dtype=int64),\n",
       " array([177, 199]),\n",
       " array([], dtype=int64),\n",
       " array([], dtype=int64),\n",
       " array([], dtype=int64),\n",
       " array([212]),\n",
       " array([], dtype=int64),\n",
       " array([], dtype=int64),\n",
       " array([], dtype=int64),\n",
       " array([], dtype=int64),\n",
       " array([], dtype=int64),\n",
       " array([], dtype=int64),\n",
       " array([], dtype=int64),\n",
       " array([], dtype=int64),\n",
       " array([], dtype=int64),\n",
       " array([212]),\n",
       " array([], dtype=int64),\n",
       " array([], dtype=int64),\n",
       " array([], dtype=int64),\n",
       " array([], dtype=int64),\n",
       " array([], dtype=int64),\n",
       " array([], dtype=int64),\n",
       " array([], dtype=int64),\n",
       " array([], dtype=int64),\n",
       " array([], dtype=int64),\n",
       " array([], dtype=int64),\n",
       " array([], dtype=int64),\n",
       " array([], dtype=int64),\n",
       " array([], dtype=int64),\n",
       " array([144]),\n",
       " array([], dtype=int64),\n",
       " array([], dtype=int64),\n",
       " array([], dtype=int64),\n",
       " array([], dtype=int64),\n",
       " array([], dtype=int64),\n",
       " array([], dtype=int64),\n",
       " array([], dtype=int64),\n",
       " array([], dtype=int64),\n",
       " array([], dtype=int64),\n",
       " array([], dtype=int64),\n",
       " array([235]),\n",
       " array([225]),\n",
       " array([], dtype=int64),\n",
       " array([], dtype=int64),\n",
       " array([140, 141, 142]),\n",
       " array([187, 188, 189, 190]),\n",
       " array([], dtype=int64),\n",
       " array([], dtype=int64),\n",
       " array([], dtype=int64),\n",
       " array([142, 143]),\n",
       " array([], dtype=int64),\n",
       " array([], dtype=int64),\n",
       " array([], dtype=int64),\n",
       " array([], dtype=int64),\n",
       " array([], dtype=int64),\n",
       " array([], dtype=int64),\n",
       " array([107, 108, 110]),\n",
       " array([], dtype=int64),\n",
       " array([], dtype=int64),\n",
       " array([140, 141, 142, 143]),\n",
       " array([], dtype=int64),\n",
       " array([], dtype=int64),\n",
       " array([], dtype=int64),\n",
       " array([], dtype=int64),\n",
       " array([], dtype=int64),\n",
       " array([164]),\n",
       " array([], dtype=int64),\n",
       " array([], dtype=int64),\n",
       " array([], dtype=int64),\n",
       " array([], dtype=int64),\n",
       " array([187, 189, 210, 211, 212, 213]),\n",
       " array([274]),\n",
       " array([], dtype=int64),\n",
       " array([], dtype=int64),\n",
       " array([140]),\n",
       " array([140, 141, 164]),\n",
       " array([], dtype=int64),\n",
       " array([], dtype=int64),\n",
       " array([], dtype=int64),\n",
       " array([], dtype=int64),\n",
       " array([187, 188, 189]),\n",
       " array([], dtype=int64),\n",
       " array([], dtype=int64),\n",
       " array([], dtype=int64),\n",
       " array([], dtype=int64),\n",
       " array([139, 140, 141, 142, 143, 164, 165]),\n",
       " array([], dtype=int64),\n",
       " array([], dtype=int64),\n",
       " array([], dtype=int64),\n",
       " array([], dtype=int64),\n",
       " array([187, 188, 189]),\n",
       " array([], dtype=int64),\n",
       " array([], dtype=int64),\n",
       " array([], dtype=int64),\n",
       " array([], dtype=int64),\n",
       " array([139, 140, 141, 163, 164]),\n",
       " array([], dtype=int64),\n",
       " array([201, 225, 226]),\n",
       " array([225]),\n",
       " array([], dtype=int64),\n",
       " array([], dtype=int64),\n",
       " array([250, 251, 274, 275, 299]),\n",
       " array([], dtype=int64),\n",
       " array([201, 202, 203, 225, 226]),\n",
       " array([], dtype=int64),\n",
       " array([164]),\n",
       " array([], dtype=int64),\n",
       " array([], dtype=int64),\n",
       " array([250, 274, 275]),\n",
       " array([], dtype=int64),\n",
       " array([163, 185, 186, 187, 188, 208, 209, 210, 211]),\n",
       " array([], dtype=int64),\n",
       " array([], dtype=int64),\n",
       " array([], dtype=int64),\n",
       " array([118, 119, 136, 137, 138, 139, 140, 141, 160, 161, 162]),\n",
       " array([161, 163, 164]),\n",
       " array([], dtype=int64),\n",
       " array([], dtype=int64),\n",
       " array([], dtype=int64),\n",
       " array([], dtype=int64),\n",
       " array([209, 233]),\n",
       " array([226]),\n",
       " array([], dtype=int64),\n",
       " array([], dtype=int64),\n",
       " array([], dtype=int64),\n",
       " array([163, 185]),\n",
       " array([], dtype=int64),\n",
       " array([], dtype=int64),\n",
       " array([], dtype=int64),\n",
       " array([119, 120]),\n",
       " array([], dtype=int64),\n",
       " array([], dtype=int64),\n",
       " array([], dtype=int64),\n",
       " array([], dtype=int64),\n",
       " array([], dtype=int64),\n",
       " array([], dtype=int64),\n",
       " array([], dtype=int64),\n",
       " array([], dtype=int64),\n",
       " array([], dtype=int64),\n",
       " array([], dtype=int64),\n",
       " array([], dtype=int64),\n",
       " array([], dtype=int64),\n",
       " array([], dtype=int64),\n",
       " array([], dtype=int64),\n",
       " array([], dtype=int64),\n",
       " array([], dtype=int64),\n",
       " array([], dtype=int64),\n",
       " array([], dtype=int64),\n",
       " array([], dtype=int64),\n",
       " array([], dtype=int64),\n",
       " array([], dtype=int64),\n",
       " array([201]),\n",
       " array([], dtype=int64),\n",
       " array([], dtype=int64),\n",
       " array([], dtype=int64),\n",
       " array([], dtype=int64),\n",
       " array([], dtype=int64),\n",
       " array([], dtype=int64),\n",
       " array([], dtype=int64),\n",
       " array([121, 122, 123, 124, 145]),\n",
       " array([], dtype=int64),\n",
       " array([], dtype=int64),\n",
       " array([], dtype=int64),\n",
       " array([], dtype=int64),\n",
       " array([], dtype=int64),\n",
       " array([], dtype=int64),\n",
       " array([], dtype=int64),\n",
       " array([], dtype=int64),\n",
       " array([], dtype=int64),\n",
       " array([120, 122, 141, 142, 143, 144, 145]),\n",
       " array([], dtype=int64),\n",
       " array([], dtype=int64),\n",
       " array([], dtype=int64),\n",
       " array([], dtype=int64),\n",
       " array([], dtype=int64),\n",
       " array([], dtype=int64),\n",
       " array([], dtype=int64),\n",
       " array([], dtype=int64),\n",
       " array([], dtype=int64),\n",
       " array([119, 120, 121, 122, 123, 140, 142, 145]),\n",
       " array([], dtype=int64),\n",
       " array([], dtype=int64),\n",
       " array([], dtype=int64),\n",
       " array([], dtype=int64),\n",
       " array([], dtype=int64),\n",
       " array([], dtype=int64),\n",
       " array([], dtype=int64),\n",
       " array([], dtype=int64),\n",
       " array([], dtype=int64),\n",
       " array([119, 120, 138, 139, 140, 141, 142, 143, 145]),\n",
       " array([], dtype=int64),\n",
       " array([], dtype=int64),\n",
       " array([], dtype=int64),\n",
       " array([], dtype=int64),\n",
       " array([], dtype=int64),\n",
       " array([], dtype=int64),\n",
       " array([177, 178]),\n",
       " array([], dtype=int64),\n",
       " array([], dtype=int64),\n",
       " array([118, 119, 120, 137, 138, 139, 140, 161]),\n",
       " array([], dtype=int64),\n",
       " array([], dtype=int64),\n",
       " array([], dtype=int64),\n",
       " array([], dtype=int64),\n",
       " array([], dtype=int64),\n",
       " array([], dtype=int64),\n",
       " array([], dtype=int64),\n",
       " array([], dtype=int64),\n",
       " array([], dtype=int64),\n",
       " array([119, 139, 140]),\n",
       " array([], dtype=int64),\n",
       " array([], dtype=int64),\n",
       " array([], dtype=int64),\n",
       " array([], dtype=int64),\n",
       " array([], dtype=int64),\n",
       " array([], dtype=int64),\n",
       " array([226, 251]),\n",
       " array([275]),\n",
       " array([298, 320]),\n",
       " array([], dtype=int64),\n",
       " array([163, 164, 165, 185]),\n",
       " array([299, 323]),\n",
       " array([], dtype=int64),\n",
       " array([250, 274]),\n",
       " array([], dtype=int64),\n",
       " array([140]),\n",
       " array([], dtype=int64),\n",
       " array([], dtype=int64),\n",
       " array([298, 322]),\n",
       " array([], dtype=int64),\n",
       " array([], dtype=int64),\n",
       " array([], dtype=int64),\n",
       " array([250, 251, 274, 275]),\n",
       " array([], dtype=int64),\n",
       " array([], dtype=int64),\n",
       " array([], dtype=int64),\n",
       " array([], dtype=int64),\n",
       " array([], dtype=int64),\n",
       " array([], dtype=int64),\n",
       " array([117, 118, 119]),\n",
       " array([], dtype=int64),\n",
       " array([], dtype=int64),\n",
       " array([], dtype=int64),\n",
       " array([], dtype=int64),\n",
       " array([], dtype=int64),\n",
       " array([], dtype=int64),\n",
       " array([], dtype=int64),\n",
       " array([227, 252, 253, 275, 277]),\n",
       " array([274, 275, 298, 299, 323]),\n",
       " array([], dtype=int64),\n",
       " array([185]),\n",
       " array([299, 300]),\n",
       " array([202, 203, 204, 226, 227, 228]),\n",
       " array([], dtype=int64),\n",
       " array([118, 136, 137]),\n",
       " array([138, 139, 161, 162, 163, 185]),\n",
       " array([], dtype=int64),\n",
       " array([], dtype=int64),\n",
       " array([323]),\n",
       " array([], dtype=int64),\n",
       " array([161, 162, 184, 185, 208]),\n",
       " array([], dtype=int64),\n",
       " array([227, 228, 229, 230, 253]),\n",
       " array([], dtype=int64),\n",
       " array([], dtype=int64),\n",
       " array([], dtype=int64),\n",
       " array([], dtype=int64),\n",
       " array([], dtype=int64),\n",
       " array([323, 346, 347, 348, 371]),\n",
       " array([], dtype=int64),\n",
       " array([], dtype=int64),\n",
       " array([], dtype=int64),\n",
       " array([227, 251, 252, 253, 255, 275, 276, 277, 299, 300, 301]),\n",
       " array([], dtype=int64),\n",
       " array([], dtype=int64),\n",
       " array([], dtype=int64),\n",
       " array([], dtype=int64),\n",
       " array([], dtype=int64),\n",
       " array([], dtype=int64),\n",
       " array([], dtype=int64),\n",
       " array([], dtype=int64),\n",
       " array([], dtype=int64),\n",
       " array([277, 301]),\n",
       " array([], dtype=int64),\n",
       " array([], dtype=int64),\n",
       " array([], dtype=int64),\n",
       " array([], dtype=int64),\n",
       " array([], dtype=int64),\n",
       " array([], dtype=int64),\n",
       " array([116, 117, 118, 119]),\n",
       " array([], dtype=int64),\n",
       " array([], dtype=int64),\n",
       " array([], dtype=int64),\n",
       " array([], dtype=int64),\n",
       " array([], dtype=int64),\n",
       " array([], dtype=int64),\n",
       " array([], dtype=int64),\n",
       " array([], dtype=int64),\n",
       " array([], dtype=int64),\n",
       " array([101, 102, 103, 104, 116, 117, 118]),\n",
       " array([], dtype=int64),\n",
       " array([], dtype=int64),\n",
       " array([], dtype=int64),\n",
       " array([], dtype=int64),\n",
       " array([], dtype=int64),\n",
       " array([], dtype=int64),\n",
       " array([], dtype=int64),\n",
       " array([], dtype=int64),\n",
       " array([], dtype=int64),\n",
       " array([101, 103, 104, 113, 114, 115, 116, 117, 118, 119, 120, 121, 122,\n",
       "        133, 136, 137]),\n",
       " array([], dtype=int64),\n",
       " array([], dtype=int64),\n",
       " array([], dtype=int64),\n",
       " array([], dtype=int64),\n",
       " array([], dtype=int64),\n",
       " array([], dtype=int64),\n",
       " array([], dtype=int64),\n",
       " array([], dtype=int64),\n",
       " array([], dtype=int64),\n",
       " array([117, 118, 119, 120, 121, 122, 123]),\n",
       " array([], dtype=int64),\n",
       " array([], dtype=int64),\n",
       " array([], dtype=int64),\n",
       " array([], dtype=int64),\n",
       " array([], dtype=int64),\n",
       " array([], dtype=int64),\n",
       " array([], dtype=int64),\n",
       " array([], dtype=int64),\n",
       " array([], dtype=int64),\n",
       " array([100, 101, 102, 120, 121, 122, 123]),\n",
       " array([], dtype=int64),\n",
       " array([], dtype=int64),\n",
       " array([], dtype=int64),\n",
       " array([], dtype=int64),\n",
       " array([], dtype=int64),\n",
       " array([], dtype=int64),\n",
       " array([], dtype=int64),\n",
       " array([], dtype=int64),\n",
       " array([], dtype=int64),\n",
       " array([100, 101, 122, 123]),\n",
       " array([], dtype=int64),\n",
       " array([], dtype=int64),\n",
       " array([], dtype=int64),\n",
       " array([], dtype=int64),\n",
       " array([], dtype=int64),\n",
       " array([], dtype=int64),\n",
       " array([], dtype=int64),\n",
       " array([], dtype=int64),\n",
       " array([], dtype=int64),\n",
       " array([], dtype=int64),\n",
       " array([], dtype=int64),\n",
       " array([], dtype=int64),\n",
       " array([], dtype=int64),\n",
       " array([], dtype=int64),\n",
       " array([], dtype=int64),\n",
       " array([], dtype=int64),\n",
       " array([], dtype=int64),\n",
       " array([], dtype=int64),\n",
       " array([], dtype=int64),\n",
       " array([], dtype=int64),\n",
       " array([], dtype=int64),\n",
       " array([], dtype=int64),\n",
       " array([], dtype=int64),\n",
       " array([], dtype=int64),\n",
       " array([], dtype=int64),\n",
       " array([], dtype=int64),\n",
       " array([], dtype=int64),\n",
       " array([], dtype=int64),\n",
       " array([], dtype=int64),\n",
       " array([119]),\n",
       " array([], dtype=int64),\n",
       " array([], dtype=int64),\n",
       " array([], dtype=int64),\n",
       " array([], dtype=int64),\n",
       " array([], dtype=int64),\n",
       " array([], dtype=int64),\n",
       " array([], dtype=int64),\n",
       " array([], dtype=int64),\n",
       " array([], dtype=int64),\n",
       " array([], dtype=int64),\n",
       " array([], dtype=int64),\n",
       " array([], dtype=int64),\n",
       " array([], dtype=int64),\n",
       " array([], dtype=int64),\n",
       " array([], dtype=int64),\n",
       " array([], dtype=int64),\n",
       " array([], dtype=int64),\n",
       " array([], dtype=int64),\n",
       " array([], dtype=int64),\n",
       " array([], dtype=int64),\n",
       " array([208, 231, 232]),\n",
       " array([], dtype=int64),\n",
       " array([], dtype=int64),\n",
       " array([], dtype=int64),\n",
       " array([161, 162, 163, 184, 185]),\n",
       " array([], dtype=int64),\n",
       " array([], dtype=int64),\n",
       " array([], dtype=int64),\n",
       " array([], dtype=int64),\n",
       " array([], dtype=int64),\n",
       " array([184, 207, 208, 209, 230, 231, 232, 256]),\n",
       " array([180, 204]),\n",
       " array([], dtype=int64),\n",
       " array([], dtype=int64),\n",
       " array([183, 184, 185]),\n",
       " array([], dtype=int64),\n",
       " array([], dtype=int64),\n",
       " array([], dtype=int64),\n",
       " array([276, 277, 301]),\n",
       " array([], dtype=int64),\n",
       " array([160, 162, 183, 184, 185, 186, 207, 208, 209]),\n",
       " array([204, 227, 228]),\n",
       " array([230]),\n",
       " array([], dtype=int64),\n",
       " array([159, 160, 161, 162, 183, 184, 185]),\n",
       " array([161]),\n",
       " array([], dtype=int64),\n",
       " array([230]),\n",
       " array([277, 301]),\n",
       " array([], dtype=int64),\n",
       " array([182, 183, 184, 206, 207, 208]),\n",
       " array([], dtype=int64),\n",
       " array([206, 230]),\n",
       " array([], dtype=int64),\n",
       " array([136, 159, 160, 161, 183, 184]),\n",
       " array([], dtype=int64),\n",
       " array([], dtype=int64),\n",
       " array([], dtype=int64),\n",
       " array([303]),\n",
       " array([], dtype=int64),\n",
       " array([158, 159, 160, 182, 183, 184, 206, 207]),\n",
       " array([], dtype=int64),\n",
       " array([206, 207]),\n",
       " array([], dtype=int64),\n",
       " array([159, 160, 183]),\n",
       " array([], dtype=int64),\n",
       " array([], dtype=int64),\n",
       " array([], dtype=int64),\n",
       " array([], dtype=int64),\n",
       " array([], dtype=int64),\n",
       " array([], dtype=int64),\n",
       " array([], dtype=int64),\n",
       " array([], dtype=int64),\n",
       " array([], dtype=int64),\n",
       " array([], dtype=int64),\n",
       " array([], dtype=int64),\n",
       " array([], dtype=int64)]"
      ]
     },
     "execution_count": 162,
     "metadata": {},
     "output_type": "execute_result"
    }
   ],
   "source": [
    "ldla = 'name BB and resid 1-65'\n",
    "interest = ref.select_atoms(ldla)\n",
    "df = pd.DataFrame()\n",
    "\n",
    "bs_atoms = []\n",
    "\n",
    "for i in interest:\n",
    "    for ts in U.trajectory:\n",
    "        bs = U.select_atoms('name BB and resid 100-390 and around 8 resid '+ str(i.resid), updating=True)\n",
    "        bs_atoms.append(bs.residues.resids)  \n",
    "bs_atoms"
   ]
  },
  {
   "cell_type": "code",
   "execution_count": null,
   "id": "4379cc4c",
   "metadata": {},
   "outputs": [],
   "source": []
  },
  {
   "cell_type": "code",
   "execution_count": null,
   "id": "39983f11",
   "metadata": {},
   "outputs": [],
   "source": []
  },
  {
   "cell_type": "code",
   "execution_count": null,
   "id": "7bda80f5",
   "metadata": {},
   "outputs": [],
   "source": []
  },
  {
   "cell_type": "code",
   "execution_count": null,
   "id": "39a0c5d7",
   "metadata": {},
   "outputs": [],
   "source": []
  },
  {
   "cell_type": "code",
   "execution_count": 225,
   "id": "686d3bb3",
   "metadata": {},
   "outputs": [
    {
     "name": "stdout",
     "output_type": "stream",
     "text": [
      "ldla has 46 residues and lrr has 291 residues\n"
     ]
    }
   ],
   "source": [
    "from MDAnalysis.analysis import distances\n",
    "\n",
    "ldla = U.select_atoms('name BB and resid 1-65')\n",
    "lrr = U.select_atoms('name BB and resid 100-390')\n",
    "\n",
    "n_ldla = len(ldla)\n",
    "n_lrr = len(lrr)\n",
    "print('ldla has {} residues and lrr has {} residues'.format(n_ldla, n_lrr))"
   ]
  },
  {
   "cell_type": "code",
   "execution_count": 257,
   "id": "a2df010a",
   "metadata": {},
   "outputs": [
    {
     "data": {
      "text/plain": [
       "(291, 46)"
      ]
     },
     "execution_count": 257,
     "metadata": {},
     "output_type": "execute_result"
    }
   ],
   "source": [
    "l=[]\n",
    "\n",
    "for ts in U.trajectory:\n",
    "    dist_arr = distances.distance_array(lrr.positions,   #reference\n",
    "                                        ldla.positions,  # configuration\n",
    "                                        box=U.dimensions)\n",
    "    l.append(dist_arr)\n",
    "dist_arr.shape"
   ]
  },
  {
   "cell_type": "code",
   "execution_count": 258,
   "id": "ffc9071b",
   "metadata": {},
   "outputs": [],
   "source": [
    "for distance in l:\n",
    "    distance[distance>9]=0\n",
    "    distance[distance>0]=1*100/len(U.trajectory)\n",
    "rep_matrix=sum(l)"
   ]
  },
  {
   "cell_type": "code",
   "execution_count": 281,
   "id": "0c1a2749",
   "metadata": {},
   "outputs": [
    {
     "data": {
      "text/plain": [
       "Text(0, 0.5, '% of repetition')"
      ]
     },
     "execution_count": 281,
     "metadata": {},
     "output_type": "execute_result"
    },
    {
     "data": {
      "image/png": "[encoded data removed]",
      "text/plain": [
       "<Figure size 800x1200 with 2 Axes>"
      ]
     },
     "metadata": {},
     "output_type": "display_data"
    }
   ],
   "source": [
    "fig, ax = plt.subplots(figsize=(8,12))\n",
    "im = ax.imshow(rep_matrix, origin='upper', interpolation='nearest', aspect='auto',cmap='inferno')\n",
    "# add residue ID labels to axes\n",
    "tick_interval = 5\n",
    "ax.set_xticks(np.arange(n_ldla)[::tick_interval])\n",
    "ax.set_yticks(np.arange(n_lrr)[::tick_interval])\n",
    "ax.set_xticklabels(ldla.resids[::tick_interval])\n",
    "ax.set_yticklabels(lrr.resids[::tick_interval])\n",
    "\n",
    "# add figure labels and titles\n",
    "plt.xlabel('Ldla')\n",
    "plt.ylabel('LRR')\n",
    "plt.title('Contacts')\n",
    "\n",
    "# colorbar\n",
    "cbar = fig.colorbar(im)\n",
    "cbar.ax.set_ylabel('% of repetition')"
   ]
  },
  {
   "cell_type": "code",
   "execution_count": 269,
   "id": "f92e0a73",
   "metadata": {},
   "outputs": [
    {
     "data": {
      "text/plain": [
       "(291, 46)"
      ]
     },
     "execution_count": 269,
     "metadata": {},
     "output_type": "execute_result"
    }
   ],
   "source": [
    "rep_matrix.shape"
   ]
  },
  {
   "cell_type": "code",
   "execution_count": 304,
   "id": "5ec37cf3",
   "metadata": {},
   "outputs": [
    {
     "data": {
      "text/plain": [
       "array([100, 101, 102, 103, 104, 105, 106, 107, 108, 109, 110, 111, 112,\n",
       "       113, 114, 115, 116, 117, 118, 119, 120, 121, 122, 123, 124, 125,\n",
       "       126, 127, 128, 129, 130, 131, 132, 133, 134, 135, 136, 137, 138,\n",
       "       139, 140, 141, 142, 143, 144, 145, 146, 147, 148, 149, 150, 151,\n",
       "       152, 153, 154, 155, 156, 157, 158, 159, 160, 161, 162, 163, 164,\n",
       "       165, 166, 167, 168, 169, 170, 171, 172, 173, 174, 175, 176, 177,\n",
       "       178, 179, 180, 181, 182, 183, 184, 185, 186, 187, 188, 189, 190,\n",
       "       191, 192, 193, 194, 195, 196, 197, 198, 199, 200, 201, 202, 203,\n",
       "       204, 205, 206, 207, 208, 209, 210, 211, 212, 213, 214, 215, 216,\n",
       "       217, 218, 219, 220, 221, 222, 223, 224, 225, 226, 227, 228, 229,\n",
       "       230, 231, 232, 233, 234, 235, 236, 237, 238, 239, 240, 241, 242,\n",
       "       243, 244, 245, 246, 247, 248, 249, 250, 251, 252, 253, 254, 255,\n",
       "       256, 257, 258, 259, 260, 261, 262, 263, 264, 265, 266, 267, 268,\n",
       "       269, 270, 271, 272, 273, 274, 275, 276, 277, 278, 279, 280, 281,\n",
       "       282, 283, 284, 285, 286, 287, 288, 289, 290, 291, 292, 293, 294,\n",
       "       295, 296, 297, 298, 299, 300, 301, 302, 303, 304, 305, 306, 307,\n",
       "       308, 309, 310, 311, 312, 313, 314, 315, 316, 317, 318, 319, 320,\n",
       "       321, 322, 323, 324, 325, 326, 327, 328, 329, 330, 331, 332, 333,\n",
       "       334, 335, 336, 337, 338, 339, 340, 341, 342, 343, 344, 345, 346,\n",
       "       347, 348, 349, 350, 351, 352, 353, 354, 355, 356, 357, 358, 359,\n",
       "       360, 361, 362, 363, 364, 365, 366, 367, 368, 369, 370, 371, 372,\n",
       "       373, 374, 375, 376, 377, 378, 379, 380, 381, 382, 383, 384, 385,\n",
       "       386, 387, 388, 389, 390])"
      ]
     },
     "execution_count": 304,
     "metadata": {},
     "output_type": "execute_result"
    }
   ],
   "source": [
    "lrr.resids"
   ]
  },
  {
   "cell_type": "code",
   "execution_count": 323,
   "id": "d3d2664d",
   "metadata": {},
   "outputs": [
    {
     "data": {
      "image/png": "[encoded data removed]",
      "text/plain": [
       "<Figure size 1200x800 with 1 Axes>"
      ]
     },
     "metadata": {},
     "output_type": "display_data"
    }
   ],
   "source": [
    "fig = plt.figure(figsize=(12, 8))\n",
    "plt.plot(rep_matrix)\n",
    "plt.xlim(0,291)\n",
    "plt.ylim(0,40)\n",
    "#plt.xticks(np.arange(n_lrr),lrr.resids[::20])\n",
    "ax.set_xticks([2,4,6,8,10])\n",
    "plt.show()"
   ]
  },
  {
   "cell_type": "code",
   "execution_count": null,
   "id": "b1b020d0",
   "metadata": {},
   "outputs": [],
   "source": [
    "x = np.arange(len(rep_matrix))\n",
    "y = []\n",
    "\n",
    "[ y.append(value[0]) for value in pvt.values]\n",
    "\n",
    "fig, ax = plt.subplots()\n",
    "plt.bar(x, y)\n",
    "ax.set_xticklabels(ind)"
   ]
  },
  {
   "cell_type": "code",
   "execution_count": null,
   "id": "ed78781c",
   "metadata": {},
   "outputs": [],
   "source": []
  },
  {
   "cell_type": "code",
   "execution_count": null,
   "id": "2728c56e",
   "metadata": {},
   "outputs": [],
   "source": []
  },
  {
   "cell_type": "code",
   "execution_count": null,
   "id": "52a8d754",
   "metadata": {},
   "outputs": [],
   "source": []
  },
  {
   "cell_type": "code",
   "execution_count": null,
   "id": "ec8801c6",
   "metadata": {},
   "outputs": [],
   "source": []
  },
  {
   "cell_type": "code",
   "execution_count": 246,
   "id": "b944a1ee",
   "metadata": {},
   "outputs": [],
   "source": [
    "rep_df = pd.DataFrame(rep_matrix)"
   ]
  },
  {
   "cell_type": "code",
   "execution_count": 256,
   "id": "66fc6cce",
   "metadata": {},
   "outputs": [
    {
     "data": {
      "text/plain": [
       "46"
      ]
     },
     "execution_count": 256,
     "metadata": {},
     "output_type": "execute_result"
    }
   ],
   "source": [
    "len(rep_df)"
   ]
  },
  {
   "cell_type": "code",
   "execution_count": 252,
   "id": "2f7831b5",
   "metadata": {},
   "outputs": [
    {
     "ename": "TypeError",
     "evalue": "bar() missing 2 required positional arguments: 'x' and 'height'",
     "output_type": "error",
     "traceback": [
      "\u001b[0;31m---------------------------------------------------------------------------\u001b[0m",
      "\u001b[0;31mTypeError\u001b[0m                                 Traceback (most recent call last)",
      "Cell \u001b[0;32mIn [252], line 1\u001b[0m\n\u001b[0;32m----> 1\u001b[0m \u001b[43mplt\u001b[49m\u001b[38;5;241;43m.\u001b[39;49m\u001b[43mbar\u001b[49m\u001b[43m(\u001b[49m\u001b[43mdata\u001b[49m\u001b[38;5;241;43m=\u001b[39;49m\u001b[43mrep_df\u001b[49m\u001b[43m)\u001b[49m\n",
      "\u001b[0;31mTypeError\u001b[0m: bar() missing 2 required positional arguments: 'x' and 'height'"
     ]
    }
   ],
   "source": [
    "plt.bar(rep_df)"
   ]
  },
  {
   "cell_type": "code",
   "execution_count": null,
   "id": "e28d6209",
   "metadata": {},
   "outputs": [],
   "source": []
  },
  {
   "cell_type": "code",
   "execution_count": null,
   "id": "8bdb3082",
   "metadata": {},
   "outputs": [],
   "source": []
  },
  {
   "cell_type": "code",
   "execution_count": null,
   "id": "56e986fa",
   "metadata": {},
   "outputs": [],
   "source": []
  },
  {
   "cell_type": "code",
   "execution_count": 11,
   "id": "93859c17",
   "metadata": {},
   "outputs": [
    {
     "data": {
      "text/html": [
       "<div>\n",
       "<style scoped>\n",
       "    .dataframe tbody tr th:only-of-type {\n",
       "        vertical-align: middle;\n",
       "    }\n",
       "\n",
       "    .dataframe tbody tr th {\n",
       "        vertical-align: top;\n",
       "    }\n",
       "\n",
       "    .dataframe thead th {\n",
       "        text-align: right;\n",
       "    }\n",
       "</style>\n",
       "<table border=\"1\" class=\"dataframe\">\n",
       "  <thead>\n",
       "    <tr style=\"text-align: right;\">\n",
       "      <th></th>\n",
       "      <th>20</th>\n",
       "      <th>21</th>\n",
       "      <th>22</th>\n",
       "      <th>23</th>\n",
       "      <th>24</th>\n",
       "      <th>25</th>\n",
       "      <th>26</th>\n",
       "      <th>27</th>\n",
       "      <th>28</th>\n",
       "      <th>29</th>\n",
       "      <th>...</th>\n",
       "      <th>56</th>\n",
       "      <th>57</th>\n",
       "      <th>58</th>\n",
       "      <th>59</th>\n",
       "      <th>60</th>\n",
       "      <th>61</th>\n",
       "      <th>62</th>\n",
       "      <th>63</th>\n",
       "      <th>64</th>\n",
       "      <th>65</th>\n",
       "    </tr>\n",
       "  </thead>\n",
       "  <tbody>\n",
       "    <tr>\n",
       "      <th>0</th>\n",
       "      <td>[110]</td>\n",
       "      <td>[]</td>\n",
       "      <td>[]</td>\n",
       "      <td>[]</td>\n",
       "      <td>[]</td>\n",
       "      <td>[]</td>\n",
       "      <td>[]</td>\n",
       "      <td>[]</td>\n",
       "      <td>[]</td>\n",
       "      <td>[]</td>\n",
       "      <td>...</td>\n",
       "      <td>[]</td>\n",
       "      <td>[]</td>\n",
       "      <td>[]</td>\n",
       "      <td>[]</td>\n",
       "      <td>[]</td>\n",
       "      <td>[]</td>\n",
       "      <td>[]</td>\n",
       "      <td>[230]</td>\n",
       "      <td>[]</td>\n",
       "      <td>[]</td>\n",
       "    </tr>\n",
       "    <tr>\n",
       "      <th>1</th>\n",
       "      <td>[]</td>\n",
       "      <td>[]</td>\n",
       "      <td>[]</td>\n",
       "      <td>[]</td>\n",
       "      <td>[]</td>\n",
       "      <td>[]</td>\n",
       "      <td>[]</td>\n",
       "      <td>[]</td>\n",
       "      <td>[]</td>\n",
       "      <td>[]</td>\n",
       "      <td>...</td>\n",
       "      <td>[]</td>\n",
       "      <td>[]</td>\n",
       "      <td>[]</td>\n",
       "      <td>[]</td>\n",
       "      <td>[]</td>\n",
       "      <td>[]</td>\n",
       "      <td>[276, 277, 301]</td>\n",
       "      <td>[277, 301]</td>\n",
       "      <td>[303]</td>\n",
       "      <td>[]</td>\n",
       "    </tr>\n",
       "    <tr>\n",
       "      <th>2</th>\n",
       "      <td>[]</td>\n",
       "      <td>[]</td>\n",
       "      <td>[]</td>\n",
       "      <td>[]</td>\n",
       "      <td>[144]</td>\n",
       "      <td>[]</td>\n",
       "      <td>[142, 143]</td>\n",
       "      <td>[140, 141, 142, 143]</td>\n",
       "      <td>[]</td>\n",
       "      <td>[]</td>\n",
       "      <td>...</td>\n",
       "      <td>[]</td>\n",
       "      <td>[]</td>\n",
       "      <td>[119]</td>\n",
       "      <td>[]</td>\n",
       "      <td>[]</td>\n",
       "      <td>[]</td>\n",
       "      <td>[]</td>\n",
       "      <td>[]</td>\n",
       "      <td>[]</td>\n",
       "      <td>[]</td>\n",
       "    </tr>\n",
       "    <tr>\n",
       "      <th>3</th>\n",
       "      <td>[]</td>\n",
       "      <td>[]</td>\n",
       "      <td>[]</td>\n",
       "      <td>[]</td>\n",
       "      <td>[]</td>\n",
       "      <td>[235]</td>\n",
       "      <td>[]</td>\n",
       "      <td>[]</td>\n",
       "      <td>[187, 189, 210, 211, 212, 213]</td>\n",
       "      <td>[187, 188, 189]</td>\n",
       "      <td>...</td>\n",
       "      <td>[]</td>\n",
       "      <td>[]</td>\n",
       "      <td>[]</td>\n",
       "      <td>[]</td>\n",
       "      <td>[208, 231, 232]</td>\n",
       "      <td>[184, 207, 208, 209, 230, 231, 232, 256]</td>\n",
       "      <td>[160, 162, 183, 184, 185, 186, 207, 208, 209]</td>\n",
       "      <td>[182, 183, 184, 206, 207, 208]</td>\n",
       "      <td>[158, 159, 160, 182, 183, 184, 206, 207]</td>\n",
       "      <td>[]</td>\n",
       "    </tr>\n",
       "    <tr>\n",
       "      <th>4</th>\n",
       "      <td>[199]</td>\n",
       "      <td>[177, 199]</td>\n",
       "      <td>[]</td>\n",
       "      <td>[]</td>\n",
       "      <td>[]</td>\n",
       "      <td>[225]</td>\n",
       "      <td>[]</td>\n",
       "      <td>[]</td>\n",
       "      <td>[274]</td>\n",
       "      <td>[]</td>\n",
       "      <td>...</td>\n",
       "      <td>[]</td>\n",
       "      <td>[]</td>\n",
       "      <td>[]</td>\n",
       "      <td>[]</td>\n",
       "      <td>[]</td>\n",
       "      <td>[180, 204]</td>\n",
       "      <td>[204, 227, 228]</td>\n",
       "      <td>[]</td>\n",
       "      <td>[]</td>\n",
       "      <td>[]</td>\n",
       "    </tr>\n",
       "    <tr>\n",
       "      <th>5</th>\n",
       "      <td>[]</td>\n",
       "      <td>[]</td>\n",
       "      <td>[]</td>\n",
       "      <td>[]</td>\n",
       "      <td>[]</td>\n",
       "      <td>[]</td>\n",
       "      <td>[]</td>\n",
       "      <td>[]</td>\n",
       "      <td>[]</td>\n",
       "      <td>[]</td>\n",
       "      <td>...</td>\n",
       "      <td>[]</td>\n",
       "      <td>[]</td>\n",
       "      <td>[]</td>\n",
       "      <td>[]</td>\n",
       "      <td>[]</td>\n",
       "      <td>[]</td>\n",
       "      <td>[230]</td>\n",
       "      <td>[206, 230]</td>\n",
       "      <td>[206, 207]</td>\n",
       "      <td>[]</td>\n",
       "    </tr>\n",
       "    <tr>\n",
       "      <th>6</th>\n",
       "      <td>[]</td>\n",
       "      <td>[]</td>\n",
       "      <td>[]</td>\n",
       "      <td>[]</td>\n",
       "      <td>[]</td>\n",
       "      <td>[]</td>\n",
       "      <td>[]</td>\n",
       "      <td>[]</td>\n",
       "      <td>[]</td>\n",
       "      <td>[]</td>\n",
       "      <td>...</td>\n",
       "      <td>[]</td>\n",
       "      <td>[]</td>\n",
       "      <td>[]</td>\n",
       "      <td>[]</td>\n",
       "      <td>[]</td>\n",
       "      <td>[]</td>\n",
       "      <td>[]</td>\n",
       "      <td>[]</td>\n",
       "      <td>[]</td>\n",
       "      <td>[]</td>\n",
       "    </tr>\n",
       "    <tr>\n",
       "      <th>7</th>\n",
       "      <td>[]</td>\n",
       "      <td>[]</td>\n",
       "      <td>[]</td>\n",
       "      <td>[]</td>\n",
       "      <td>[]</td>\n",
       "      <td>[140, 141, 142]</td>\n",
       "      <td>[]</td>\n",
       "      <td>[]</td>\n",
       "      <td>[140]</td>\n",
       "      <td>[]</td>\n",
       "      <td>...</td>\n",
       "      <td>[]</td>\n",
       "      <td>[]</td>\n",
       "      <td>[]</td>\n",
       "      <td>[]</td>\n",
       "      <td>[161, 162, 163, 184, 185]</td>\n",
       "      <td>[183, 184, 185]</td>\n",
       "      <td>[159, 160, 161, 162, 183, 184, 185]</td>\n",
       "      <td>[136, 159, 160, 161, 183, 184]</td>\n",
       "      <td>[159, 160, 183]</td>\n",
       "      <td>[]</td>\n",
       "    </tr>\n",
       "    <tr>\n",
       "      <th>8</th>\n",
       "      <td>[]</td>\n",
       "      <td>[212]</td>\n",
       "      <td>[212]</td>\n",
       "      <td>[]</td>\n",
       "      <td>[]</td>\n",
       "      <td>[187, 188, 189, 190]</td>\n",
       "      <td>[]</td>\n",
       "      <td>[164]</td>\n",
       "      <td>[140, 141, 164]</td>\n",
       "      <td>[139, 140, 141, 142, 143, 164, 165]</td>\n",
       "      <td>...</td>\n",
       "      <td>[]</td>\n",
       "      <td>[]</td>\n",
       "      <td>[]</td>\n",
       "      <td>[]</td>\n",
       "      <td>[]</td>\n",
       "      <td>[]</td>\n",
       "      <td>[161]</td>\n",
       "      <td>[]</td>\n",
       "      <td>[]</td>\n",
       "      <td>[]</td>\n",
       "    </tr>\n",
       "    <tr>\n",
       "      <th>9</th>\n",
       "      <td>[]</td>\n",
       "      <td>[]</td>\n",
       "      <td>[]</td>\n",
       "      <td>[]</td>\n",
       "      <td>[]</td>\n",
       "      <td>[]</td>\n",
       "      <td>[107, 108, 110]</td>\n",
       "      <td>[]</td>\n",
       "      <td>[]</td>\n",
       "      <td>[]</td>\n",
       "      <td>...</td>\n",
       "      <td>[]</td>\n",
       "      <td>[]</td>\n",
       "      <td>[]</td>\n",
       "      <td>[]</td>\n",
       "      <td>[]</td>\n",
       "      <td>[]</td>\n",
       "      <td>[]</td>\n",
       "      <td>[]</td>\n",
       "      <td>[]</td>\n",
       "      <td>[]</td>\n",
       "    </tr>\n",
       "  </tbody>\n",
       "</table>\n",
       "<p>10 rows × 46 columns</p>\n",
       "</div>"
      ],
      "text/plain": [
       "      20          21     22  23     24                    25               26  \\\n",
       "0  [110]          []     []  []     []                    []               []   \n",
       "1     []          []     []  []     []                    []               []   \n",
       "2     []          []     []  []  [144]                    []       [142, 143]   \n",
       "3     []          []     []  []     []                 [235]               []   \n",
       "4  [199]  [177, 199]     []  []     []                 [225]               []   \n",
       "5     []          []     []  []     []                    []               []   \n",
       "6     []          []     []  []     []                    []               []   \n",
       "7     []          []     []  []     []       [140, 141, 142]               []   \n",
       "8     []       [212]  [212]  []     []  [187, 188, 189, 190]               []   \n",
       "9     []          []     []  []     []                    []  [107, 108, 110]   \n",
       "\n",
       "                     27                              28  \\\n",
       "0                    []                              []   \n",
       "1                    []                              []   \n",
       "2  [140, 141, 142, 143]                              []   \n",
       "3                    []  [187, 189, 210, 211, 212, 213]   \n",
       "4                    []                           [274]   \n",
       "5                    []                              []   \n",
       "6                    []                              []   \n",
       "7                    []                           [140]   \n",
       "8                 [164]                 [140, 141, 164]   \n",
       "9                    []                              []   \n",
       "\n",
       "                                    29  ...  56  57     58  59  \\\n",
       "0                                   []  ...  []  []     []  []   \n",
       "1                                   []  ...  []  []     []  []   \n",
       "2                                   []  ...  []  []  [119]  []   \n",
       "3                      [187, 188, 189]  ...  []  []     []  []   \n",
       "4                                   []  ...  []  []     []  []   \n",
       "5                                   []  ...  []  []     []  []   \n",
       "6                                   []  ...  []  []     []  []   \n",
       "7                                   []  ...  []  []     []  []   \n",
       "8  [139, 140, 141, 142, 143, 164, 165]  ...  []  []     []  []   \n",
       "9                                   []  ...  []  []     []  []   \n",
       "\n",
       "                          60                                        61  \\\n",
       "0                         []                                        []   \n",
       "1                         []                                        []   \n",
       "2                         []                                        []   \n",
       "3            [208, 231, 232]  [184, 207, 208, 209, 230, 231, 232, 256]   \n",
       "4                         []                                [180, 204]   \n",
       "5                         []                                        []   \n",
       "6                         []                                        []   \n",
       "7  [161, 162, 163, 184, 185]                           [183, 184, 185]   \n",
       "8                         []                                        []   \n",
       "9                         []                                        []   \n",
       "\n",
       "                                              62  \\\n",
       "0                                             []   \n",
       "1                                [276, 277, 301]   \n",
       "2                                             []   \n",
       "3  [160, 162, 183, 184, 185, 186, 207, 208, 209]   \n",
       "4                                [204, 227, 228]   \n",
       "5                                          [230]   \n",
       "6                                             []   \n",
       "7            [159, 160, 161, 162, 183, 184, 185]   \n",
       "8                                          [161]   \n",
       "9                                             []   \n",
       "\n",
       "                               63                                        64  \\\n",
       "0                           [230]                                        []   \n",
       "1                      [277, 301]                                     [303]   \n",
       "2                              []                                        []   \n",
       "3  [182, 183, 184, 206, 207, 208]  [158, 159, 160, 182, 183, 184, 206, 207]   \n",
       "4                              []                                        []   \n",
       "5                      [206, 230]                                [206, 207]   \n",
       "6                              []                                        []   \n",
       "7  [136, 159, 160, 161, 183, 184]                           [159, 160, 183]   \n",
       "8                              []                                        []   \n",
       "9                              []                                        []   \n",
       "\n",
       "   65  \n",
       "0  []  \n",
       "1  []  \n",
       "2  []  \n",
       "3  []  \n",
       "4  []  \n",
       "5  []  \n",
       "6  []  \n",
       "7  []  \n",
       "8  []  \n",
       "9  []  \n",
       "\n",
       "[10 rows x 46 columns]"
      ]
     },
     "execution_count": 11,
     "metadata": {},
     "output_type": "execute_result"
    }
   ],
   "source": [
    "df"
   ]
  },
  {
   "cell_type": "code",
   "execution_count": 113,
   "id": "3bacd855",
   "metadata": {},
   "outputs": [
    {
     "name": "stdout",
     "output_type": "stream",
     "text": [
      "[188, 189, 140, 141, 142, 211, 212, 140, 141, 142, 140, 201, 225, 226, 185, 186, 187, 209, 137, 138, 139, 140, 161, 122, 123, 142, 143, 145, 120, 121, 122, 123, 119, 120, 140, 141, 142, 119, 137, 138, 139, 140, 203, 161, 162, 347, 252, 275, 276, 277, 116, 117, 102, 103, 116, 117, 116, 117, 118, 119, 120, 121, 119, 120, 121, 122, 101, 121, 122, 123, 185, 207, 208, 231, 232, 183, 184, 185, 207, 160, 161, 184, 185, 183, 207, 159, 160, 183, 158, 159, 182, 183]\n"
     ]
    }
   ],
   "source": [
    "l = [arr.tolist() for arr in bs_atoms]\n",
    "flat_list = [item for sublist in l for item in sublist]\n",
    "print(flat_list)"
   ]
  },
  {
   "cell_type": "code",
   "execution_count": 64,
   "id": "cd6c5a27",
   "metadata": {},
   "outputs": [
    {
     "data": {
      "text/plain": [
       "{101: 10,\n",
       " 116: 10,\n",
       " 117: 10,\n",
       " 118: 10,\n",
       " 119: 10,\n",
       " 120: 10,\n",
       " 121: 10,\n",
       " 122: 10,\n",
       " 123: 10,\n",
       " 140: 20,\n",
       " 142: 10,\n",
       " 145: 10,\n",
       " 183: 20,\n",
       " 184: 20,\n",
       " 207: 10,\n",
       " 277: 10,\n",
       " 159: 10,\n",
       " 160: 10,\n",
       " 161: 10,\n",
       " 185: 10,\n",
       " 141: 10}"
      ]
     },
     "execution_count": 64,
     "metadata": {},
     "output_type": "execute_result"
    }
   ],
   "source": [
    "my_dict = {i:int(flat_list.count(i)*100/len(U.trajectory)) for i in flat_list}\n",
    "my_dict"
   ]
  },
  {
   "cell_type": "code",
   "execution_count": null,
   "id": "c53eeef6",
   "metadata": {},
   "outputs": [],
   "source": [
    "frames=[]\n",
    "for i in range (len(bs_atoms)):\n",
    "    frames.append(i)\n",
    "    \n",
    "df_contacts = pd.DataFrame(columns=(['frame','nb_of_contacts']),index = [x for x in range(len(bs_atoms))])\n",
    "\n",
    "df_contacts['frame'] = np.resize(frames,len(df_contacts.index))\n",
    "df_contacts['nb_of_contacts'] = np.resize(bs_atoms,len(df_contacts.index))"
   ]
  },
  {
   "cell_type": "code",
   "execution_count": null,
   "id": "7047d74f",
   "metadata": {},
   "outputs": [],
   "source": [
    "fig = plt.subplots(figsize=(14, 10))\n",
    "\n",
    "sns.scatterplot(x=df_contacts[\"frame\"],y= df_contacts[\"nb_of_contacts\"])\n",
    "plt.xlim(0,10000)\n",
    "plt.show()"
   ]
  },
  {
   "cell_type": "code",
   "execution_count": null,
   "id": "ebefdc7a",
   "metadata": {},
   "outputs": [],
   "source": []
  },
  {
   "cell_type": "code",
   "execution_count": null,
   "id": "738b70ba",
   "metadata": {},
   "outputs": [],
   "source": []
  },
  {
   "cell_type": "code",
   "execution_count": null,
   "id": "fb65bca0",
   "metadata": {},
   "outputs": [],
   "source": []
  },
  {
   "cell_type": "code",
   "execution_count": null,
   "id": "6030ba6d",
   "metadata": {},
   "outputs": [],
   "source": []
  },
  {
   "cell_type": "code",
   "execution_count": null,
   "id": "ff89b11b",
   "metadata": {},
   "outputs": [],
   "source": []
  },
  {
   "cell_type": "code",
   "execution_count": null,
   "id": "7ef6f6a6",
   "metadata": {},
   "outputs": [],
   "source": []
  },
  {
   "cell_type": "code",
   "execution_count": null,
   "id": "8bd2da26",
   "metadata": {},
   "outputs": [],
   "source": []
  },
  {
   "cell_type": "code",
   "execution_count": null,
   "id": "60fc4a8a",
   "metadata": {},
   "outputs": [],
   "source": []
  },
  {
   "cell_type": "markdown",
   "id": "6743081c",
   "metadata": {},
   "source": [
    "# Visualize the protein"
   ]
  },
  {
   "cell_type": "code",
   "execution_count": null,
   "id": "8ad90685",
   "metadata": {},
   "outputs": [],
   "source": [
    "view = nv.show_mdanalysis(U, gui=False)\n",
    "view.add_representation('cartoon')\n",
    "view"
   ]
  },
  {
   "cell_type": "markdown",
   "id": "4b0a6746",
   "metadata": {},
   "source": [
    "# Clustering"
   ]
  },
  {
   "cell_type": "code",
   "execution_count": 86,
   "id": "1b3ee777",
   "metadata": {},
   "outputs": [],
   "source": [
    "path = '/home/ali/RELAXIN/CG_MD/'\n",
    "\n",
    "os.chdir(path)\n",
    "\n",
    "folder = 'full_traj_test'\n",
    "if not os.path.exists(folder):\n",
    "    os.mkdir(folder)\n",
    "\n",
    "os.chdir(path+os.sep+folder)"
   ]
  },
  {
   "cell_type": "code",
   "execution_count": 100,
   "id": "98889ea4",
   "metadata": {},
   "outputs": [
    {
     "name": "stdout",
     "output_type": "stream",
     "text": [
      "all_sim.trr  index.ndx  reimaged.gro  traj_aligned_to_LRR.trr\r\n"
     ]
    }
   ],
   "source": [
    "ls"
   ]
  },
  {
   "cell_type": "code",
   "execution_count": null,
   "id": "5c6692c9",
   "metadata": {},
   "outputs": [
    {
     "name": "stdout",
     "output_type": "stream",
     "text": [
      "                     :-) GROMACS - gmx cluster, 2020.6 (-:\n",
      "\n",
      "                            GROMACS is written by:\n",
      "     Emile Apol      Rossen Apostolov      Paul Bauer     Herman J.C. Berendsen\n",
      "    Par Bjelkmar      Christian Blau   Viacheslav Bolnykh     Kevin Boyd    \n",
      " Aldert van Buuren   Rudi van Drunen     Anton Feenstra       Alan Gray     \n",
      "  Gerrit Groenhof     Anca Hamuraru    Vincent Hindriksen  M. Eric Irrgang  \n",
      "  Aleksei Iupinov   Christoph Junghans     Joe Jordan     Dimitrios Karkoulis\n",
      "    Peter Kasson        Jiri Kraus      Carsten Kutzner      Per Larsson    \n",
      "  Justin A. Lemkul    Viveca Lindahl    Magnus Lundborg     Erik Marklund   \n",
      "    Pascal Merz     Pieter Meulenhoff    Teemu Murtola       Szilard Pall   \n",
      "    Sander Pronk      Roland Schulz      Michael Shirts    Alexey Shvetsov  \n",
      "   Alfons Sijbers     Peter Tieleman      Jon Vincent      Teemu Virolainen \n",
      " Christian Wennberg    Maarten Wolf      Artem Zhmurov   \n",
      "                           and the project leaders:\n",
      "        Mark Abraham, Berk Hess, Erik Lindahl, and David van der Spoel\n",
      "\n",
      "Copyright (c) 1991-2000, University of Groningen, The Netherlands.\n",
      "Copyright (c) 2001-2019, The GROMACS development team at\n",
      "Uppsala University, Stockholm University and\n",
      "the Royal Institute of Technology, Sweden.\n",
      "check out http://www.gromacs.org for more information.\n",
      "\n",
      "GROMACS is free software; you can redistribute it and/or modify it\n",
      "under the terms of the GNU Lesser General Public License\n",
      "as published by the Free Software Foundation; either version 2.1\n",
      "of the License, or (at your option) any later version.\n",
      "\n",
      "GROMACS:      gmx cluster, version 2020.6\n",
      "Executable:   /usr/local/gromacs/bin/gmx_mpi\n",
      "Data prefix:  /usr/local/gromacs\n",
      "Working dir:  /home/ali/RELAXIN/CG_MD/full_traj_test\n",
      "Command line:\n",
      "  gmx_mpi cluster -f traj_aligned_to_LRR.trr -s reimaged.gro -cl clusters.xtc -cutoff 0.8 -method gromos -wcl 10 -n index.ndx -nofit -clid clusters.xvg -sz clusters_size.xvg -skip 20\n",
      "\n",
      "Using gromos method for clustering\n",
      "\n",
      "WARNING: Masses and atomic (Van der Waals) radii will be guessed\n",
      "         based on residue and atom names, since they could not be\n",
      "         definitively assigned from the information in your input\n",
      "         files. These guessed numbers might deviate from the mass\n",
      "         and radius of the atom type. Please check the output\n",
      "         files if necessary.\n",
      "\n",
      "\n",
      "WARNING: If there are molecules in the input trajectory file\n",
      "         that are broken across periodic boundaries, they\n",
      "         cannot be made whole (or treated as whole) without\n",
      "         you providing a run input file.\n",
      "\n",
      "\n",
      "Select group for least squares fit and RMSD calculation:\n",
      "Group     0 (         System) has  1656 elements\n",
      "Group     1 (        Protein) has  1656 elements\n",
      "Group     2 (      Protein-H) has  1656 elements\n",
      "Group     3 (        C-alpha) has     0 elements\n",
      "Group     4 (       Backbone) has     0 elements\n",
      "Group     5 (      MainChain) has     0 elements\n",
      "Group     6 (   MainChain+Cb) has     0 elements\n",
      "Group     7 (    MainChain+H) has     0 elements\n",
      "Group     8 (      SideChain) has  1656 elements\n",
      "Group     9 (    SideChain-H) has  1656 elements\n",
      "Group    10 (           LDLa) has    65 elements\n",
      "Group    11 (            LRR) has   694 elements\n",
      "Select a group: Selected 10: 'LDLa'\n",
      "\n",
      "Select group for output:\n",
      "Group     0 (         System) has  1656 elements\n",
      "Group     1 (        Protein) has  1656 elements\n",
      "Group     2 (      Protein-H) has  1656 elements\n",
      "Group     3 (        C-alpha) has     0 elements\n",
      "Group     4 (       Backbone) has     0 elements\n",
      "Group     5 (      MainChain) has     0 elements\n",
      "Group     6 (   MainChain+Cb) has     0 elements\n",
      "Group     7 (    MainChain+H) has     0 elements\n",
      "Group     8 (      SideChain) has  1656 elements\n",
      "Group     9 (    SideChain-H) has  1656 elements\n",
      "Group    10 (           LDLa) has    65 elements\n",
      "Group    11 (            LRR) has   694 elements\n",
      "Select a group: Selected 0: 'System'\n",
      "trr version: GMX_trn_file (single precision)\n",
      "Reading frame   85000 time 17000000.000   "
     ]
    }
   ],
   "source": [
    "!echo 10 0 | gmx_mpi cluster -f traj_aligned_to_LRR.trr -s reimaged.gro -cl clusters.xtc -cutoff 0.8 -method gromos -wcl 10 -n index.ndx -nofit -clid clusters.xvg -sz clusters_size.xvg -skip 20"
   ]
  },
  {
   "cell_type": "markdown",
   "id": "32e72fce",
   "metadata": {},
   "source": [
    "check the trajectories clusters.xtc (contains all the clusters and each cluster has a number of frames(see bellow))"
   ]
  },
  {
   "cell_type": "code",
   "execution_count": 88,
   "id": "4a154964",
   "metadata": {},
   "outputs": [],
   "source": [
    "finp_ref=str('reimaged.gro')\n",
    "finp_trj=str('clusters.xtc')"
   ]
  },
  {
   "cell_type": "code",
   "execution_count": 89,
   "id": "ea31ad01",
   "metadata": {},
   "outputs": [
    {
     "data": {
      "application/vnd.jupyter.widget-view+json": {
       "model_id": "5afef7a70993482b9b3c44183041a057",
       "version_major": 2,
       "version_minor": 0
      },
      "text/plain": [
       "NGLWidget()"
      ]
     },
     "metadata": {},
     "output_type": "display_data"
    }
   ],
   "source": [
    "C = mda.Universe(finp_ref,finp_trj) \n",
    "cluster = nv.show_mdanalysis(C, gui=False)\n",
    "\n",
    "cluster"
   ]
  },
  {
   "cell_type": "markdown",
   "id": "209f205d",
   "metadata": {},
   "source": [
    "## The population in 10 first clusters"
   ]
  },
  {
   "cell_type": "code",
   "execution_count": 90,
   "id": "dc4f793b",
   "metadata": {},
   "outputs": [],
   "source": [
    "os.chdir(path)\n",
    "\n",
    "folder = 'full_traj_test'\n",
    "\n",
    "os.chdir(path+os.sep+folder)"
   ]
  },
  {
   "cell_type": "code",
   "execution_count": 91,
   "id": "87a836ff",
   "metadata": {},
   "outputs": [
    {
     "ename": "IndexError",
     "evalue": "invalid index to scalar variable.",
     "output_type": "error",
     "traceback": [
      "\u001b[0;31m---------------------------------------------------------------------------\u001b[0m",
      "\u001b[0;31mIndexError\u001b[0m                                Traceback (most recent call last)",
      "Cell \u001b[0;32mIn [91], line 8\u001b[0m\n\u001b[1;32m      4\u001b[0m plt\u001b[38;5;241m.\u001b[39mfigure(figsize\u001b[38;5;241m=\u001b[39m(\u001b[38;5;241m6\u001b[39m, \u001b[38;5;241m4\u001b[39m))\n\u001b[1;32m      6\u001b[0m x,y \u001b[38;5;241m=\u001b[39m np\u001b[38;5;241m.\u001b[39mloadtxt(\u001b[38;5;124m\"\u001b[39m\u001b[38;5;124mclusters_size.xvg\u001b[39m\u001b[38;5;124m\"\u001b[39m,comments\u001b[38;5;241m=\u001b[39m[\u001b[38;5;124m'\u001b[39m\u001b[38;5;124m#\u001b[39m\u001b[38;5;124m'\u001b[39m,\u001b[38;5;124m'\u001b[39m\u001b[38;5;124m@\u001b[39m\u001b[38;5;124m'\u001b[39m],unpack\u001b[38;5;241m=\u001b[39m\u001b[38;5;28;01mTrue\u001b[39;00m) \n\u001b[0;32m----> 8\u001b[0m v \u001b[38;5;241m=\u001b[39m sns\u001b[38;5;241m.\u001b[39mbarplot(x\u001b[38;5;241m=\u001b[39m\u001b[43mx\u001b[49m\u001b[43m[\u001b[49m\u001b[43m:\u001b[49m\u001b[38;5;241;43m10\u001b[39;49m\u001b[43m]\u001b[49m\u001b[38;5;241m.\u001b[39mastype(\u001b[38;5;28mint\u001b[39m),y\u001b[38;5;241m=\u001b[39my[:\u001b[38;5;241m10\u001b[39m])             \u001b[38;5;66;03m###change here if you want to see more clusters####\u001b[39;00m\n\u001b[1;32m      9\u001b[0m plt\u001b[38;5;241m.\u001b[39mxlim(\u001b[38;5;241m-\u001b[39m\u001b[38;5;241m1\u001b[39m,\u001b[38;5;241m10\u001b[39m)\n\u001b[1;32m     10\u001b[0m plt\u001b[38;5;241m.\u001b[39mylim(\u001b[38;5;241m0\u001b[39m,\u001b[38;5;241m500\u001b[39m)\n",
      "\u001b[0;31mIndexError\u001b[0m: invalid index to scalar variable."
     ]
    },
    {
     "data": {
      "text/plain": [
       "<Figure size 600x400 with 0 Axes>"
      ]
     },
     "metadata": {},
     "output_type": "display_data"
    }
   ],
   "source": [
    "sns.set_context('notebook')\n",
    "sns.set_palette('colorblind')\n",
    "\n",
    "plt.figure(figsize=(6, 4))\n",
    "\n",
    "x,y = np.loadtxt(\"clusters_size.xvg\",comments=['#','@'],unpack=True) \n",
    "\n",
    "v = sns.barplot(x=x[:10].astype(int),y=y[:10])             ###change here if you want to see more clusters####\n",
    "plt.xlim(-1,10)\n",
    "plt.ylim(0,500)\n",
    "for i in v.containers:\n",
    "    v.bar_label(i,fontsize =8 )\n",
    "    \n",
    "plt.xlabel(\"Clusters\")\n",
    "plt.ylabel(\"Frames\")\n",
    "        \n",
    "plt.tight_layout()"
   ]
  },
  {
   "cell_type": "code",
   "execution_count": 11,
   "id": "3fc8031c",
   "metadata": {},
   "outputs": [
    {
     "name": "stdout",
     "output_type": "stream",
     "text": [
      "# This file was created Mon Dec 12 14:54:32 2022\r\n",
      "# Created by:\r\n",
      "#                     :-) GROMACS - gmx cluster, 2020.6 (-:\r\n",
      "# \r\n",
      "# Executable:   /usr/local/gromacs/bin/gmx_mpi\r\n",
      "# Data prefix:  /usr/local/gromacs\r\n",
      "# Working dir:  /home/ali/RELAXIN/CG_MD/full_traj_test\r\n",
      "# Command line:\r\n",
      "#   gmx_mpi cluster -f traj_aligned_to_LRR.trr -s reimaged.gro -cl clusters.xtc -cutoff 0.3 -method gromos -wcl 10 -n index.ndx -nofit -clid clusters.xvg -sz clusters_size.xvg -skip 20 -dm rmsd-clust.xpm\r\n",
      "# gmx cluster is part of G R O M A C S:\r\n",
      "#\r\n",
      "# Gallium Rubidium Oxygen Manganese Argon Carbon Silicon\r\n",
      "#\r\n",
      "@    title \"Cluster Sizes\"\r\n",
      "@    xaxis  label \"Cluster #\"\r\n",
      "@    yaxis  label \"# Structures\"\r\n",
      "@TYPE xy\r\n",
      "@g0 type bar\r\n",
      "       1    49246\r\n"
     ]
    }
   ],
   "source": [
    "!cat clusters_size.xvg"
   ]
  },
  {
   "cell_type": "markdown",
   "id": "0c7576a0",
   "metadata": {},
   "source": [
    "## Write a new traj with the first 5 clusters of each simulation and save in a new traj"
   ]
  },
  {
   "cell_type": "code",
   "execution_count": null,
   "id": "753f06a4",
   "metadata": {},
   "outputs": [],
   "source": [
    "X = mda.Universe(finp_ref,'clusters.xtc')\n",
    "    \n",
    "# Save the 10 first clusters of each simu as a trajectory \n",
    "clusters = X.select_atoms(\"all\")\n",
    "with mda.Writer(\"10_clusters.trr\", clusters.n_atoms) as W:\n",
    "    for ts in X.trajectory[:10]:        \n",
    "        W.write(clusters)"
   ]
  },
  {
   "cell_type": "code",
   "execution_count": null,
   "id": "707bf5a2",
   "metadata": {},
   "outputs": [],
   "source": [
    "# Check the trajectories\n",
    "\n",
    "C = mda.Universe(finp_ref, '10_clusters.trr')\n",
    "\n",
    "nv.show_mdanalysis(C)"
   ]
  },
  {
   "cell_type": "code",
   "execution_count": null,
   "id": "f3b5d030",
   "metadata": {},
   "outputs": [],
   "source": [
    "### save all the cluster frames to pdb files\n",
    "\n",
    "for frame in range (len(C.trajectory)):\n",
    "    C.trajectory[frame]\n",
    "    atoms = C.select_atoms(\"all\")\n",
    "    atoms.write(\"frame\"+str(frame)+\".gro\")"
   ]
  },
  {
   "cell_type": "code",
   "execution_count": null,
   "id": "8c677201",
   "metadata": {},
   "outputs": [],
   "source": []
  },
  {
   "cell_type": "code",
   "execution_count": null,
   "id": "08db8450",
   "metadata": {},
   "outputs": [],
   "source": []
  },
  {
   "cell_type": "code",
   "execution_count": null,
   "id": "b1855799",
   "metadata": {},
   "outputs": [],
   "source": []
  },
  {
   "cell_type": "code",
   "execution_count": null,
   "id": "54b35695",
   "metadata": {},
   "outputs": [],
   "source": []
  },
  {
   "cell_type": "markdown",
   "id": "6ea94420",
   "metadata": {},
   "source": [
    "# RMSD Analysis"
   ]
  },
  {
   "cell_type": "markdown",
   "id": "6057d79e",
   "metadata": {},
   "source": [
    "- HOWTO\n",
    "    1. We first fit the traj using the receptor atoms (group `receptor`).\n",
    "    2. After fitting, we obtain RMSD for different domains without superimposition.\n",
    "    3. We create a dataframe (`df_rms`) as the container for RMSD data.\n",
    "    4. In the dataframe, we use `Frame` signature as index (row labels)."
   ]
  },
  {
   "cell_type": "code",
   "execution_count": null,
   "id": "c8493ccc",
   "metadata": {},
   "outputs": [],
   "source": [
    "from MDAnalysis.analysis import rms, diffusionmap\n",
    "from MDAnalysis.analysis.rms import RMSD\n",
    "import plotly.express as px"
   ]
  },
  {
   "cell_type": "code",
   "execution_count": null,
   "id": "d05ea016",
   "metadata": {},
   "outputs": [],
   "source": [
    "fout_rms   = 'RMSD.csv'          # rmsd output file\n",
    "ref = mda.Universe(finp_ref) \n",
    "\n",
    "receptor = 'name BB and (resid 40-337)'\n",
    "rec =CO.select_atoms(receptor)\n",
    "\n",
    "peptide = 'resid 367-372'\n",
    "pep = CO.select_atoms(peptide)"
   ]
  },
  {
   "cell_type": "code",
   "execution_count": null,
   "id": "fcba0913",
   "metadata": {},
   "outputs": [],
   "source": [
    "R = RMSD(CO,\n",
    "        ref,  # reference universe or atomgroup\n",
    "        select= receptor,  # group to superimpose and calculate RMSD\n",
    "        groupselections=[peptide])  # groups for domain RMSDs\n",
    "R.run()\n",
    "display('Done Boss', R.rmsd.shape)"
   ]
  },
  {
   "cell_type": "code",
   "execution_count": null,
   "id": "31d13928",
   "metadata": {},
   "outputs": [],
   "source": [
    "cols = ['Frame','Time', 'receptor','peptide' ]\n",
    "df_rms = pd.DataFrame(R.rmsd, columns=cols)\n",
    "\n",
    "df_rms.drop('Time',axis=1,inplace=True)      #Drop Frame column, we retain only Time\n",
    "\n",
    "#df_rms['Time' ] = df_rms.Time* 0.001          #Convert time to ns\n",
    "#df_rms.set_index('Time',inplace=True)         #Set Time as index (row labels)\n",
    "#df_rms"
   ]
  },
  {
   "cell_type": "code",
   "execution_count": null,
   "id": "e326c671",
   "metadata": {},
   "outputs": [],
   "source": [
    "# Lets do time evolution of RMSD\n",
    "fig = plt.figure(figsize=(12, 8))\n",
    "\n",
    "df_rms.peptide.plot(alpha=0.5)\n",
    "df_rms.receptor.plot(alpha=0.5)\n",
    "\n",
    "plt.xlim( [0,25])\n",
    "plt.ylim( [0,12])\n",
    "plt.xlabel('frame')\n",
    "plt.ylabel( ' RMSD $\\AA$')\n",
    "plt.legend()\n",
    "plt.show()"
   ]
  },
  {
   "cell_type": "code",
   "execution_count": null,
   "id": "23a65f0e",
   "metadata": {},
   "outputs": [],
   "source": [
    "# Lets see the distribution of RMSD values\n",
    "fig, ax = plt.subplots( figsize=(12,8) )\n",
    "sns.distplot(df_rms.receptor,hist=True,label='receptor',ax=ax)\n",
    "sns.distplot(df_rms.peptide,hist=True,label='peptide',ax=ax)\n",
    "\n",
    "plt.legend(ncol=2,fontsize=9)\n",
    "plt.xlabel('RMSD $\\AA$')\n",
    "plt.xlim( [0,12])\n",
    "plt.show()"
   ]
  },
  {
   "cell_type": "code",
   "execution_count": null,
   "id": "96325a58",
   "metadata": {},
   "outputs": [],
   "source": [
    "#Save rmsd output to csv file\n",
    "\n",
    "#df_rms.to_csv( fout_rms ,index_label='Time') \n",
    "#display(df_rms.head(5), df_rms.tail(4) )"
   ]
  },
  {
   "cell_type": "markdown",
   "id": "b177c2c8",
   "metadata": {},
   "source": [
    "# RMSD cross matrix"
   ]
  },
  {
   "cell_type": "code",
   "execution_count": null,
   "id": "69a2c31d",
   "metadata": {},
   "outputs": [],
   "source": [
    "matrix = diffusionmap.DistanceMatrix(CO, select=peptide).run()\n",
    "matrix.dist_matrix.shape\n",
    "\n",
    "fig = plt.figure(figsize=(12, 8))\n",
    "plt.imshow(matrix.dist_matrix, cmap='inferno',interpolation='nearest')\n",
    "plt.xlabel('Frame',fontsize='25')\n",
    "plt.ylabel('Frame',fontsize='25')\n",
    "plt.colorbar(label=r'RMSD')\n",
    "plt.show()"
   ]
  },
  {
   "cell_type": "code",
   "execution_count": null,
   "id": "8d4db6f8",
   "metadata": {},
   "outputs": [],
   "source": [
    "mat=matrix.dist_matrix\n",
    "mat[mat<3]=0"
   ]
  },
  {
   "cell_type": "code",
   "execution_count": null,
   "id": "39029815",
   "metadata": {},
   "outputs": [],
   "source": [
    "labels=['simu1','simu2','simu3','simu4','simu5']\n",
    "fig = plt.figure(figsize=(12, 8))\n",
    "plt.imshow(matrix.dist_matrix, cmap='inferno',interpolation='nearest')\n",
    "plt.colorbar(label=r'RMSD')\n",
    "plt.xlabel('Frame',fontsize='25')\n",
    "plt.ylabel('Frame',fontsize='25')\n",
    "#plt.xticks(np.arange(5),labels)\n",
    "plt.show()"
   ]
  },
  {
   "cell_type": "code",
   "execution_count": null,
   "id": "a36e24e1",
   "metadata": {},
   "outputs": [],
   "source": [
    "dico = {\n",
    "    \"simu1\" : [],\n",
    "    \"simu2\" : [],\n",
    "    \"simu3\" : [],\n",
    "    \"simu4\" : [],\n",
    "    \"simu5\" : [],\n",
    "    \"simu6\" : [],\n",
    "    \"simu7\" : [],\n",
    "    \"simu8\" : [],\n",
    "}\n",
    "sim = []\n",
    "\n",
    "\n",
    "for i in range(40):   \n",
    "    x = np.where(matrix.dist_matrix[i]==0)\n",
    "    #index = np.argwhere(x[0]==i)\n",
    "    #y = np.delete(x, index)\n",
    "    if (i<5):\n",
    "        dico[\"simu1\"].append(x[0].tolist())\n",
    "        sim.append(1)\n",
    "    elif i in range(5,10):\n",
    "        dico[\"simu2\"].append(x[0].tolist())\n",
    "        sim.append(2)\n",
    "    elif  i in range(10,15):\n",
    "        dico[\"simu3\"].append(x[0].tolist())\n",
    "        sim.append(3)\n",
    "    elif  i in range(15,20):\n",
    "        dico[\"simu4\"].append(x[0].tolist())\n",
    "        sim.append(4)\n",
    "    elif i in range(20,25):\n",
    "        dico[\"simu5\"].append(x[0].tolist())\n",
    "        sim.append(5)\n",
    "    elif i in range(25,30):\n",
    "        dico[\"simu6\"].append(x[0].tolist())\n",
    "        sim.append(6)\n",
    "    elif i in range(30,35):\n",
    "        dico[\"simu7\"].append(x[0].tolist())\n",
    "        sim.append(7)\n",
    "    elif i in range(35,40):\n",
    "        dico[\"simu8\"].append(x[0].tolist())\n",
    "        sim.append(8)\n",
    "    "
   ]
  },
  {
   "cell_type": "code",
   "execution_count": null,
   "id": "9c653516",
   "metadata": {
    "scrolled": true
   },
   "outputs": [],
   "source": [
    "'''\n",
    "From the dictionary with the matching frames for each simulations.\n",
    "\n",
    "create a dataframe that will contain:\n",
    "    - y : the count of each position\n",
    "    - f_origin: value of the frame in trajectory\n",
    "    - f_similar: similar frames to the origin frame\n",
    "    - sim: the simulation we're iterating on\n",
    "    - plot: a coordinate for the plotting\n",
    "    - sim_similar: to which simulation the frame belongs\n",
    "\n",
    "the goal is to fill each row of the dataframe with each matching pair. For that we need the number of rows given by\n",
    "the sum of all the matching\n",
    "\n",
    "Filling of dataframe:\n",
    "\n",
    "Loop over simulations\n",
    "    loop over each frame's matching group \n",
    "        loop over each match in group:\n",
    "            append to a list the count (renewed when we change group)\n",
    "            the y is the nth element in that list\n",
    "            the simil is the value of each match\n",
    "            the sim is the key of the dictionary (simulation name)\n",
    "            the frame_origin has to be a number that changes only when we change group (fram)\n",
    "            the plot has also to change also when we change group\n",
    "'''\n",
    "\n",
    "count = 0\n",
    "for key, value in dico.items():\n",
    "    for val in value:\n",
    "        count +=len(val)\n",
    "        \n",
    "df_similar = pd.DataFrame(columns=(['y','f_origin','f_similar','sim','plot','sim_similar']),\n",
    "                          index=[x for x in range(count)])\n",
    "\n",
    "\n",
    "counter = 0\n",
    "fram = 0\n",
    "for key, value in dico.items():\n",
    "    for val in value:\n",
    "        \n",
    "        y = []\n",
    "        for c,i in enumerate(val):\n",
    "            y.append(df.iloc[i]['y'])\n",
    "            df_similar.iloc[counter]['y'] = y[c]\n",
    "            df_similar.iloc[counter]['f_similar'] = i\n",
    "            df_similar.iloc[counter]['sim'] = key\n",
    "            df_similar.iloc[counter]['f_origin'] = fram\n",
    "            df_similar.iloc[counter]['plot'] = fram+(0.1*c)\n",
    "            df_similar.iloc[counter]['sim_similar'] = sim[i]\n",
    "            counter += 1 \n",
    "        fram +=1"
   ]
  },
  {
   "cell_type": "code",
   "execution_count": null,
   "id": "8f5ef7f2",
   "metadata": {},
   "outputs": [],
   "source": [
    "sns.set_context('talk')\n",
    "s = [x for x in df_similar.sim]\n",
    "s = sorted(list(set(s)))\n",
    "\n",
    "plt.figure(figsize=(15, 20))\n",
    "plt.subplots_adjust(hspace=0.5)\n",
    "\n",
    "for j,i in enumerate(s):\n",
    "    df_1 = df_similar[df_similar.sim == i]\n",
    "    ax=plt.subplot(4,2,j+1)\n",
    "    sns.barplot(data=df_1,x='plot',y='y',hue='f_origin',dodge=False,ax=ax)\n",
    "    ax.set_xticks(ticks= ax.get_xticks(),labels=df_1.f_similar.values,rotation=45)\n",
    "    ax.set_title(i)\n",
    "    plt.ylim(0,5000)\n",
    "    \n",
    "plt.tight_layout()"
   ]
  },
  {
   "cell_type": "code",
   "execution_count": null,
   "id": "76f6efdd",
   "metadata": {},
   "outputs": [],
   "source": [
    "fig = px.bar(df_similar,\n",
    "             x=\"f_origin\", \n",
    "             y=\"y\",\n",
    "             color=\"sim_similar\",\n",
    "             hover_data =['f_similar'],\n",
    "             color_discrete_sequence= px.colors.qualitative.D3)\n",
    "             \n",
    "fig.show()"
   ]
  },
  {
   "cell_type": "code",
   "execution_count": null,
   "id": "a57abf62",
   "metadata": {},
   "outputs": [],
   "source": [
    "#save data frame to csv\n",
    "#df_similar.to_csv( ) \n",
    "#display(df_similar.head(5), df_similar.tail(4) )"
   ]
  },
  {
   "cell_type": "code",
   "execution_count": null,
   "id": "2aefb695",
   "metadata": {},
   "outputs": [],
   "source": []
  },
  {
   "cell_type": "code",
   "execution_count": null,
   "id": "c9fb6d29",
   "metadata": {},
   "outputs": [],
   "source": []
  },
  {
   "cell_type": "markdown",
   "id": "d6f959a9",
   "metadata": {},
   "source": [
    "# Align the system to the reference .pdb\n",
    "    - output = final_aligned_to_AA.trr"
   ]
  },
  {
   "cell_type": "code",
   "execution_count": null,
   "id": "1ed2cb81",
   "metadata": {},
   "outputs": [],
   "source": [
    "path='/home/ali/qbio_Lab2/cg_simulations/clusters_5frames'\n",
    "os.chdir(path)"
   ]
  },
  {
   "cell_type": "code",
   "execution_count": null,
   "id": "4d2f4816",
   "metadata": {},
   "outputs": [],
   "source": [
    "rec"
   ]
  },
  {
   "cell_type": "code",
   "execution_count": null,
   "id": "4885d7bf",
   "metadata": {},
   "outputs": [],
   "source": [
    "#make it work\n",
    "traj = CO.select_atoms(receptor)\n",
    "ref = mda.Universe('7f9z.pdb').select_atoms('name CA and resid 40:241 257:335 and chainID R')\n",
    "\n",
    "\n",
    "# Align traj to reference using atmgroup receptor\n",
    "hey= align.AlignTraj(traj,\n",
    "                     ref, \n",
    "                     select='all',\n",
    "                     match_atoms=False)\n",
    "'Done Boss'"
   ]
  },
  {
   "cell_type": "code",
   "execution_count": null,
   "id": "76a4dd0b",
   "metadata": {},
   "outputs": [],
   "source": [
    "#I did it in vmd (Maxime's script) but check later to make it work her \n",
    "#script = align2sels\n",
    "\n",
    "#align2sels 3 0 0 \"name CA and resid 40 to 241 257 to 335 and chain R\" \"name BB and resid 40 to 241 257 to 335\"\n",
    "\n",
    "CO = mda.Universe(finp_ref,'aligned_to_AA.trr', in_memory=True) \n",
    "conca=nv.show_mdanalysis(CO)\n",
    "change_representation(conca,'cartoon')"
   ]
  },
  {
   "cell_type": "code",
   "execution_count": null,
   "id": "439ccdea",
   "metadata": {},
   "outputs": [],
   "source": [
    "### save all the cluster frames to pdb files\n",
    "\n",
    "for frame in range (len(CO.trajectory)):\n",
    "    CO.trajectory[frame]\n",
    "    atoms = CO.select_atoms(\"all\")\n",
    "    atoms.write(\"frame\"+str(frame)+\".gro\")"
   ]
  },
  {
   "cell_type": "code",
   "execution_count": null,
   "id": "edd19593",
   "metadata": {},
   "outputs": [],
   "source": [
    "pwd\n"
   ]
  },
  {
   "cell_type": "code",
   "execution_count": null,
   "id": "e5d87f8a",
   "metadata": {
    "scrolled": true
   },
   "outputs": [],
   "source": [
    "# Lets view the Cluster representatives\n",
    "r1 = mda.Universe( 'frame5.pdb' )\n",
    "r2 = mda.Universe( 'frame0.pdb' )\n",
    "r3 = mda.Universe( 'frame12.pdb' )\n",
    "\n",
    "view = nv.show_mdanalysis(r1)\n",
    "view.add_trajectory( r2 )\n",
    "view.add_trajectory( r3 )\n",
    "\n",
    "view[0].clear_representations()\n",
    "view[0].add_cartoon(color='blue')\n",
    "view[1].clear_representations()\n",
    "view[1].add_cartoon(color='yellow')\n",
    "view[2].clear_representations()\n",
    "view[2].add_cartoon(color='cyan')\n",
    "\n",
    "#view.display(gui=True)\n",
    "#show_residues_around(view,selection=\"367-372\",radius=4.0)\n",
    "view"
   ]
  },
  {
   "cell_type": "code",
   "execution_count": null,
   "id": "4a6cca60",
   "metadata": {},
   "outputs": [],
   "source": []
  },
  {
   "cell_type": "code",
   "execution_count": null,
   "id": "c558c1f2",
   "metadata": {},
   "outputs": [],
   "source": []
  },
  {
   "cell_type": "code",
   "execution_count": null,
   "id": "3341e256",
   "metadata": {},
   "outputs": [],
   "source": []
  },
  {
   "cell_type": "code",
   "execution_count": null,
   "id": "6be6ec0c",
   "metadata": {},
   "outputs": [],
   "source": []
  },
  {
   "cell_type": "markdown",
   "id": "e182bb4b",
   "metadata": {},
   "source": [
    "# Native Contacts"
   ]
  },
  {
   "cell_type": "markdown",
   "id": "adc30db8",
   "metadata": {},
   "source": [
    "Suggested cutoff distances for different simulations\n",
    "\n",
    "    For all-atom simulations, cutoff = 4.5 Å\n",
    "    For coarse-grained simulations, cutoff = 6.0 Å\n"
   ]
  },
  {
   "cell_type": "code",
   "execution_count": null,
   "id": "d52bf6a4",
   "metadata": {},
   "outputs": [],
   "source": [
    "ca1 = contacts.Contacts(CO, select=(receptor, peptide),\n",
    "                        refgroup=(rec, pep), radius=6.0)\n",
    "\n",
    "ca1.run()\n",
    "\n",
    "# print number of averave contacts\n",
    "average_contacts = np.mean(ca1.timeseries[:, 1])\n",
    "print('average contacts = {}'.format(average_contacts))\n",
    "\n",
    "# plot time series q(t)\n",
    "fig, ax = plt.subplots(figsize=(12, 8))\n",
    "ax.plot(ca1.timeseries[:, 0], ca1.timeseries[:, 1])\n",
    "ax.set(xlabel='frame', ylabel='fraction of native contacts',\n",
    "       title='Native Contacts, average = {:.2f}'.format(average_contacts))\n",
    "fig.show()"
   ]
  },
  {
   "cell_type": "code",
   "execution_count": null,
   "id": "ddf3b1e2",
   "metadata": {},
   "outputs": [],
   "source": [
    "n_ref = ca1.initial_contacts[0].sum()\n",
    "print('There are {} contacts in the reference.'.format(n_ref))"
   ]
  },
  {
   "cell_type": "markdown",
   "id": "4d9bf9fc",
   "metadata": {},
   "source": [
    "# Density"
   ]
  },
  {
   "cell_type": "code",
   "execution_count": null,
   "id": "c58e3454",
   "metadata": {},
   "outputs": [],
   "source": [
    "from MDAnalysis.analysis.density import DensityAnalysis\n",
    "u = Universe('concatenated_md.trr', XTC)\n",
    "ow = u.select_atoms(\"name OW\")\n",
    "D = DensityAnalysis(ow, delta=1.0)\n",
    "D.run()\n",
    "D.density.convert_density('TIP4P')\n",
    "D.density.export(\"water.dx\", type=\"double\")"
   ]
  },
  {
   "cell_type": "code",
   "execution_count": null,
   "id": "4f63b706",
   "metadata": {},
   "outputs": [],
   "source": []
  },
  {
   "cell_type": "code",
   "execution_count": null,
   "id": "1534f111",
   "metadata": {},
   "outputs": [],
   "source": []
  },
  {
   "cell_type": "code",
   "execution_count": null,
   "id": "8f826b78",
   "metadata": {},
   "outputs": [],
   "source": []
  },
  {
   "cell_type": "code",
   "execution_count": null,
   "id": "b866d43b",
   "metadata": {},
   "outputs": [],
   "source": []
  },
  {
   "cell_type": "code",
   "execution_count": null,
   "id": "4144d455",
   "metadata": {},
   "outputs": [],
   "source": []
  },
  {
   "cell_type": "code",
   "execution_count": null,
   "id": "2c42728c",
   "metadata": {},
   "outputs": [],
   "source": []
  },
  {
   "cell_type": "code",
   "execution_count": null,
   "id": "461c24e2",
   "metadata": {},
   "outputs": [],
   "source": []
  },
  {
   "cell_type": "code",
   "execution_count": null,
   "id": "008fbe10",
   "metadata": {},
   "outputs": [],
   "source": []
  },
  {
   "cell_type": "code",
   "execution_count": null,
   "id": "8aaadebf",
   "metadata": {},
   "outputs": [],
   "source": []
  },
  {
   "cell_type": "code",
   "execution_count": null,
   "id": "ad3ca1f4",
   "metadata": {},
   "outputs": [],
   "source": []
  },
  {
   "cell_type": "code",
   "execution_count": null,
   "id": "feaabc07",
   "metadata": {},
   "outputs": [],
   "source": []
  },
  {
   "cell_type": "code",
   "execution_count": null,
   "id": "5764f73d",
   "metadata": {},
   "outputs": [],
   "source": []
  },
  {
   "cell_type": "code",
   "execution_count": null,
   "id": "a2bb806e",
   "metadata": {},
   "outputs": [],
   "source": []
  },
  {
   "cell_type": "code",
   "execution_count": null,
   "id": "51104f91",
   "metadata": {},
   "outputs": [],
   "source": []
  },
  {
   "cell_type": "markdown",
   "id": "d2409a02",
   "metadata": {},
   "source": [
    "# RMSF Analysis"
   ]
  },
  {
   "cell_type": "code",
   "execution_count": null,
   "id": "b5498b95",
   "metadata": {},
   "outputs": [],
   "source": [
    "fout_rmf   = 'RMSF.csv'  # rmsf output file"
   ]
  },
  {
   "cell_type": "code",
   "execution_count": null,
   "id": "4221c46d",
   "metadata": {},
   "outputs": [],
   "source": [
    "# RMSF is calculated in blocks\n",
    "nblocks = 5                                 #No. of blocks\n",
    "size = CO.trajectory.n_frames / nblocks       #Size of a block, 1000 frames\n",
    "df_rmsf  = pd.DataFrame()   \n",
    "\n",
    "size = int(size)\n",
    "print( f\"Number of frames in each block:{size}\" )\n",
    "\n",
    "for block in range(nblocks):\n",
    "    # Start and End frames as obtained as intergers\n",
    "    begin = (block * size) ;  end = (block + 1) * size\n",
    "    print( f\"Start frame:{begin} and End frame:{end}\")\n",
    "    \n",
    "    # We use rms.RMSF routine to calculate the rmsf.\n",
    "    brmsf = rms.RMSF( CO.select_atoms(peptide), verbose=True ).run( start = begin , stop = end)\n",
    "    df_rmsf[ f\"B{block+1}\" ]  =  brmsf.results.rmsf\n",
    "\n",
    "print('Done Boss')"
   ]
  },
  {
   "cell_type": "code",
   "execution_count": null,
   "id": "9678af19",
   "metadata": {},
   "outputs": [],
   "source": [
    "# Extract residue numbers, keep them as row labels\n",
    "Rids = CO.select_atoms(peptide).resnums  # resnums gives residue numbers for atmgroup Full\n",
    "df_rmsf.index = Rids\n",
    "df_rmsf.index.name = 'Residue' "
   ]
  },
  {
   "cell_type": "code",
   "execution_count": null,
   "id": "83e4c204",
   "metadata": {},
   "outputs": [],
   "source": [
    "sns.boxplot(data=df_rmsf) \n",
    "plt.tight_layout()\n",
    "plt.ylabel('RMSF $\\AA$')"
   ]
  },
  {
   "cell_type": "code",
   "execution_count": null,
   "id": "79b75b86",
   "metadata": {},
   "outputs": [],
   "source": [
    "# We can save the dataframe to output file\n",
    "\n",
    "#df_rmsf.to_csv(fout_rmf ,index_label='Residue')\n",
    "#display( df_rmsf.head(5),df_rmsf.tail(4))"
   ]
  },
  {
   "cell_type": "markdown",
   "id": "38a553b6",
   "metadata": {
    "tags": []
   },
   "source": [
    "#### **4. PCA Analysis**\n",
    "- HOWTO\n",
    "    1. PCA analysis is usually performed on a subset of atoms\n",
    "        - Herein, we consider C$_\\alpha$ atoms\n",
    "    2. Since we have a longer trajectory, we use frames in 500 ps interval (0.5 ns)\n",
    "        - Herein, we use begin, end, skip variables to define the range\n",
    "    3. After applying PCA, we estimate statistical parameters\n",
    "        - Cumulated variance\n",
    "    4. We project the trajectory on PCA space\n",
    "    5. We save projections on a dframe (`df_pca`)\n",
    "        - We use `Time` signature as our dframe index"
   ]
  },
  {
   "cell_type": "code",
   "execution_count": null,
   "id": "0bd2808c",
   "metadata": {},
   "outputs": [],
   "source": [
    "fout_rmf   = 'RMSF.csv'  # rmsf output file\n",
    "fout_pca   = 'PCA.csv'   # PCA projections\n",
    "fout_cls   = 'CLUS.csv'  # Cluster output file"
   ]
  },
  {
   "cell_type": "code",
   "execution_count": null,
   "id": "1c2e73a8",
   "metadata": {},
   "outputs": [],
   "source": [
    "from sklearn.decomposition import PCA\n",
    "import hdbscan as HDBSCAN               #clustering algorithm"
   ]
  },
  {
   "cell_type": "code",
   "execution_count": null,
   "id": "67087f49",
   "metadata": {},
   "outputs": [],
   "source": [
    "# Selecting an atom group to apply PCA\n",
    "sel = backbone\n",
    "begin,end,skip = 0 , 10000 , 5\n",
    "\n",
    "# PCA starts here\n",
    "mypca = pca.PCA( U , select= sel )\n",
    "mypca.run(begin,end,skip)\n",
    "print('Done Boss')"
   ]
  },
  {
   "cell_type": "code",
   "execution_count": null,
   "id": "69d6083f",
   "metadata": {},
   "outputs": [],
   "source": [
    "# Cumulated variance\n",
    "# Infer number of PC components that explain most variance\n",
    "\n",
    "display( f\"Total number of PCs: {mypca.cumulated_variance.size} \" )\n",
    "print( f\"Cumulative variance of first 10 PCs\\n{ mypca.cumulated_variance[:9] } \" )"
   ]
  },
  {
   "cell_type": "code",
   "execution_count": null,
   "id": "562a0d74",
   "metadata": {},
   "outputs": [],
   "source": [
    "# Calculate projection for first 5 components\n",
    "\n",
    "atmgrp =  U.select_atoms( sel ) ; ncomps = 9\n",
    "pcspace = mypca.transform( atmgrp, n_components= ncomps, start = begin,stop = end,step = skip)\n",
    "\n",
    "# Place the results in a dataframe\n",
    "cols = [ f\"PC{x+1}\" for x in range(ncomps) ]\n",
    "df_pca = pd.DataFrame( pcspace , columns= cols )\n",
    "df_pca.head(5)"
   ]
  },
  {
   "cell_type": "code",
   "execution_count": null,
   "id": "75a30f14",
   "metadata": {},
   "outputs": [],
   "source": [
    "# Add Time signatures to projection data\n",
    "# We extract Time from df_rms data passing begin,end and skip values\n",
    "\n",
    "df_pca['Time'] = df_rms.index[begin:end:skip]\n",
    "df_pca.set_index('Time',inplace=True)\n",
    "\n",
    "# Save the output to csv file\n",
    "#df_pca.to_csv( fout_pca , index_label= 'Time' )\n",
    "#display( df_pca.head(5) , df_pca.tail(4)  )"
   ]
  },
  {
   "cell_type": "markdown",
   "id": "89cdebcc",
   "metadata": {},
   "source": [
    "#### **View Motion along PCAs**\n",
    "- For the first three PCs, firstly we identify,\n",
    "    1. Min and Max projection values\n",
    "    2. Time index and Frame number at which min and max happens\n",
    "    3. Projected coordinates for the corresponding frames (`use get_motion` function)\n",
    "    4. Use nglview to visualize the motion"
   ]
  },
  {
   "cell_type": "code",
   "execution_count": null,
   "id": "b551241f",
   "metadata": {},
   "outputs": [],
   "source": [
    "# 1. Min and max values for first three PCs\n",
    "df_pca.iloc[:,:3].min() ,  df_pca.iloc[:,:3].max()"
   ]
  },
  {
   "cell_type": "code",
   "execution_count": null,
   "id": "570dce8a",
   "metadata": {},
   "outputs": [],
   "source": [
    "# 2a Time @ which Min & Max values observed\n",
    "allmin = df_pca.iloc[:,:3].idxmin(axis=0, skipna=True) \n",
    "allmax = df_pca.iloc[:,:3].idxmax(axis=0, skipna=True)\n",
    "allmin,allmax"
   ]
  },
  {
   "cell_type": "code",
   "execution_count": null,
   "id": "369e9108",
   "metadata": {},
   "outputs": [],
   "source": [
    "# 2b Frame @ which Min & Max values observed\n",
    "all_index = df_pca.index\n",
    "for x,y in zip( allmin, allmax):\n",
    "    print( f\"min:{x} , max:{y}\" )\n",
    "    print( f\"min-frame:{all_index.get_loc(x)} , max-frame:{all_index.get_loc(y)}\\n\" )  "
   ]
  },
  {
   "cell_type": "markdown",
   "id": "88e614ad",
   "metadata": {},
   "source": [
    "#### **5. Cluster Analysis**\n",
    "- HOWTO\n",
    "    - There are many ways one may cluster the trajectory\n",
    "      - Herein, we use the distribution of points on PCA space for clustering.\n",
    "      - To this end, we use a density based clustering algorithm (hdbscan)\n",
    "          - Note that density based methods identify also noise points that could not be assigned to any cluster.\n",
    "    - Once the clusters are identified, we estimate\n",
    "      - Distance of each point to the centroid of the cluster they belong to.\n",
    "      - We extract the conformation close to centroid as `cluster representative`\n",
    "    - Clustering results, as usual, are placed in a dframe ( `df_clus` )    "
   ]
  },
  {
   "cell_type": "code",
   "execution_count": null,
   "id": "6afed827",
   "metadata": {},
   "outputs": [],
   "source": [
    "# A cluster should have atleast 5% of total population\n",
    "\n",
    "minsize = int( df_pca.shape[0]*.05)\n",
    "print( f\"Mininum samples in a cluster:{minsize}\" )\n",
    "\n",
    "# We use hdbscan library here (examine the Imports section at the top)\n",
    "# We use PCs 1-5\n",
    "\n",
    "hdbs = HDBSCAN.HDBSCAN(min_cluster_size=minsize)\n",
    "hclus = hdbs.fit_predict(df_pca.loc[:,'PC1':'PC10'] )\n",
    "\n",
    "# Obtain total number of clusters\n",
    "Nclus = set(hclus)\n",
    "display( f'No of clusters: { len( Nclus ) } and cluster ids: {Nclus} ')"
   ]
  },
  {
   "cell_type": "code",
   "execution_count": null,
   "id": "0f2e37d4",
   "metadata": {},
   "outputs": [],
   "source": [
    "# Create dframe to store cluster results\n",
    "df_clus = pd.DataFrame( )\n",
    "\n",
    "# Assign clusters and time index\n",
    "df_clus['Cluster' ] = hclus\n",
    "df_clus.index.name = 'Time'\n",
    "df_clus.index = df_pca.index\n",
    "\n",
    "display( df_clus.head(5),df_clus.tail(4) )"
   ]
  },
  {
   "cell_type": "code",
   "execution_count": null,
   "id": "48cc5411",
   "metadata": {},
   "outputs": [],
   "source": [
    "# We extract RMSD values for frame in each cluster\n",
    "df_rms.iloc[ begin:end:skip ].full"
   ]
  },
  {
   "cell_type": "code",
   "execution_count": null,
   "id": "fbfef206",
   "metadata": {},
   "outputs": [],
   "source": [
    "# Add RMSD to cluster data\n",
    "df_clus[ 'RMSD' ] =  df_rms.iloc[ begin:end:skip ].full"
   ]
  },
  {
   "cell_type": "code",
   "execution_count": null,
   "id": "19e4597c",
   "metadata": {},
   "outputs": [],
   "source": [
    "display( df_clus.head(5),df_clus.tail(2) )"
   ]
  },
  {
   "cell_type": "code",
   "execution_count": null,
   "id": "3f3359f5",
   "metadata": {},
   "outputs": [],
   "source": [
    "# First, we assign CDist as a column with value 0\n",
    "df_clus['CDist'] = 0.0\n",
    "\n",
    "# For each point, we obtain its distance to the centroid\n",
    "\n",
    "for val in Nclus:\n",
    "    print(f\"Current cluster id:{val}\")\n",
    "    # Extract subset of dframe corresponding to the cluster id\n",
    "    subset = df_clus[df_clus.Cluster == val].index\n",
    "    points = df_pca.loc[ subset, \"PC1\":\"PC3\" ].values\n",
    "    Mean   = points.mean(axis=0)\n",
    "    \n",
    "    # Distance to cluster centroid (i.e mean value)\n",
    "    dist = np.sqrt( ( (points - Mean)**2 ).sum(1)  )\n",
    "    df_clus.loc[ subset, 'CDist'] = dist\n",
    "                \n",
    "df_clus.head()"
   ]
  },
  {
   "cell_type": "code",
   "execution_count": null,
   "id": "40062f2b",
   "metadata": {},
   "outputs": [],
   "source": [
    "# Collect as Time values in df_rms\n",
    "Frame = df_rms.index\n",
    "\n",
    "# For each Time information df_clus, collect corresponding frame number from df_rms\n",
    "Frame_no = [ Frame.get_loc(x) for x in df_clus.index ]\n",
    "\n",
    "# Add Frame number as new column in the cluster data\n",
    "df_clus['FRAME'] = Frame_no\n",
    "\n",
    "#df_clus.to_csv( fout_cls , index_label= 'Time')\n",
    "df_clus.head(4)"
   ]
  },
  {
   "cell_type": "code",
   "execution_count": null,
   "id": "4deffc1c",
   "metadata": {},
   "outputs": [],
   "source": [
    "# For each cluster, identify point closer to centroid (i.e, Min of CDist)\n",
    "print(df_clus.groupby(['Cluster']).min() )\n",
    "Mns = df_clus.groupby(['Cluster']).min().CDist"
   ]
  },
  {
   "cell_type": "code",
   "execution_count": null,
   "id": "da79e4b4",
   "metadata": {},
   "outputs": [],
   "source": [
    "# Structure closer to centroid can be considered as representatives\n",
    "# Identify frame no of representatives\n",
    "df_clus[ df_clus.CDist.isin(Mns) ]"
   ]
  },
  {
   "cell_type": "markdown",
   "id": "43c69ad5",
   "metadata": {},
   "source": [
    "- **Attension**\n",
    "    1. In density based clustering `-1` represents noise points in space.\n",
    "        - We are not interested in the representatives of noise points.\n",
    "    2. We know the `Time` signature and `Frame no` of the representatives\n",
    "        - Hence, we save the representatives as pdb's"
   ]
  },
  {
   "cell_type": "code",
   "execution_count": null,
   "id": "5bc87ed9",
   "metadata": {},
   "outputs": [],
   "source": [
    "# Cluster -1 is noise, so we ignore it\n",
    "\n",
    "Sel = U.select_atoms('protein')\n",
    "U.trajectory[2035]\n",
    "Sel.write('C1.pdb')\n",
    "\n",
    "U.trajectory[7735]\n",
    "Sel.write('C2.pdb')\n",
    "\n",
    "#U.trajectory[4955]\n",
    "#Sel.write('C3.pdb')"
   ]
  },
  {
   "cell_type": "markdown",
   "id": "93e9d4b7",
   "metadata": {},
   "source": [
    "## DATA VISUALIZATION\n"
   ]
  },
  {
   "cell_type": "markdown",
   "id": "ad24f021",
   "metadata": {},
   "source": [
    "#### **PCA**"
   ]
  },
  {
   "cell_type": "code",
   "execution_count": null,
   "id": "06e5943b",
   "metadata": {},
   "outputs": [],
   "source": [
    "# Visualize cumulative variance of first 10 PCs\n",
    "fig, ax = plt.subplots( figsize=(4.5,3.2) )\n",
    "Y = mypca.cumulated_variance[:10]\n",
    "X = [ l+1 for l in range(10) ]\n",
    "ax.plot( X, Y ,'s--' ,ms=5)\n",
    "ax.axhline( Y[2], color='b' , ls='--' )\n",
    "ax.set_ylabel('Explained Variance (%)')\n",
    "ax.set_xlabel('PC index')"
   ]
  },
  {
   "cell_type": "code",
   "execution_count": null,
   "id": "31111b84",
   "metadata": {},
   "outputs": [],
   "source": [
    "# We visualize the scatter plots for most prominent (PC1-3)\n",
    "# Make scatter plots of PCs1-3\n",
    "fig, ax = plt.subplots(1,2,figsize=(10,4),dpi=300 )\n",
    "fig.subplots_adjust( wspace = 0.32)\n",
    "\n",
    "sns.scatterplot(data=df_pca,x=\"PC1\",y=\"PC2\",ax=ax[0])\n",
    "sns.scatterplot(data=df_pca,x=\"PC1\",y=\"PC3\",ax=ax[1])\n",
    "\n",
    "\n",
    "# Seaborn color maps (https://seaborn.pydata.org/tutorial/color_palettes.html)\n",
    "\n",
    "#sns.kdeplot(data=df_pca,x=\"PC1\",y=\"PC2\",ax=ax[0],shade=True,cmap='Greys_r')\n",
    "#sns.kdeplot(data=df_pca,x=\"PC1\",y=\"PC3\",ax=ax[1],shade=True,cmap='Set1')\n"
   ]
  },
  {
   "cell_type": "code",
   "execution_count": null,
   "id": "a0730b72",
   "metadata": {},
   "outputs": [],
   "source": [
    "# Distribution along individual PC components\n",
    "sns.distplot(df_pca.PC1,label='PC1',hist=False)\n",
    "sns.distplot(df_pca.PC2,label='PC2',hist=False)\n",
    "sns.distplot(df_pca.PC4,label='PC4',hist=False)\n",
    "sns.distplot(df_pca.PC5,label='PC5',hist=False)\n",
    "\n",
    "plt.legend()  #Explained Variance reduces as we go from PC1 to PC5\n",
    "plt.xlim([-100,100])\n",
    "sns.set(rc={'figure.figsize':(10,4)})"
   ]
  },
  {
   "cell_type": "markdown",
   "id": "2e3342f3",
   "metadata": {},
   "source": [
    "#### **Cluster Evolution**\n"
   ]
  },
  {
   "cell_type": "code",
   "execution_count": null,
   "id": "7b7147c6",
   "metadata": {},
   "outputs": [],
   "source": [
    "# Lets map clusters on RMSD plot\n",
    "nclus = set( df_clus.Cluster)\n",
    "fig, ax = plt.subplots( figsize=(10,8) )\n",
    "\n",
    "for val in nclus:\n",
    "    # val -1 indicates noise points\n",
    "    # For each cluster, we show frame closer to cluster centroid as Cross\n",
    "    if val > -1:\n",
    "        data = df_clus[ df_clus.Cluster == val ]\n",
    "        ax.plot( data.index,data.RMSD,'.')\n",
    "        \n",
    "        Mn = data.CDist.min()\n",
    "        Cent =  data[ data.CDist == Mn ]\n",
    "        ax.plot( Cent.index, Cent.RMSD, 'X',color='green',ms=16)\n",
    "            \n",
    "\n",
    "ax.set_xlabel('Time ns')\n",
    "ax.set_ylabel('RMSD $\\AA$')"
   ]
  },
  {
   "cell_type": "code",
   "execution_count": null,
   "id": "10c00d56",
   "metadata": {},
   "outputs": [],
   "source": [
    "# Lets view the Cluster representatives\n",
    "r1 = mda.Universe( 'C1.pdb' )\n",
    "r2 = mda.Universe( 'C2.pdb' )\n",
    "#r3 = mda.Universe( 'C3.pdb' )\n",
    "\n",
    "view = nv.show_mdanalysis(r1)\n",
    "view.add_trajectory( r2 )\n",
    "#view.add_trajectory( r3 )\n",
    "\n",
    "view[0].clear_representations()\n",
    "view[0].add_cartoon(color='blue')\n",
    "view[1].clear_representations()\n",
    "view[1].add_cartoon(color='yellow')\n",
    "\n",
    "\n",
    "#view[2].clear_representations()\n",
    "#view[2].add_cartoon(color='cyan')\n",
    "\n",
    "#view.display(gui=True)\n",
    "#show_residues_around(view,selection=\"367\",radius=4.0)\n",
    "view"
   ]
  },
  {
   "cell_type": "markdown",
   "id": "36b505d8",
   "metadata": {},
   "source": [
    "#### **Inference:**"
   ]
  },
  {
   "cell_type": "code",
   "execution_count": null,
   "id": "cf7fc76c",
   "metadata": {},
   "outputs": [],
   "source": []
  }
 ],
 "metadata": {
  "kernelspec": {
   "display_name": "Python 3 (ipykernel)",
   "language": "python",
   "name": "python3"
  },
  "language_info": {
   "codemirror_mode": {
    "name": "ipython",
    "version": 3
   },
   "file_extension": ".py",
   "mimetype": "text/x-python",
   "name": "python",
   "nbconvert_exporter": "python",
   "pygments_lexer": "ipython3",
   "version": "3.8.3"
  },
  "toc-autonumbering": false,
  "toc-showcode": false,
  "toc-showmarkdowntxt": true
 },
 "nbformat": 4,
 "nbformat_minor": 5
}
