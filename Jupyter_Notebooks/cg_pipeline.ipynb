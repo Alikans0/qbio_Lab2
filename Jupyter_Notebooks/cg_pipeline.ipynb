{
 "cells": [
  {
   "cell_type": "code",
   "execution_count": 11,
   "metadata": {},
   "outputs": [
    {
     "name": "stdout",
     "output_type": "stream",
     "text": [
      "/bin/bash: nvidia-smi: command not found\r\n"
     ]
    }
   ],
   "source": [
    "!nvidia-smi"
   ]
  },
  {
   "cell_type": "markdown",
   "metadata": {},
   "source": [
    "# Import libraries "
   ]
  },
  {
   "cell_type": "code",
   "execution_count": 12,
   "metadata": {},
   "outputs": [
    {
     "name": "stdout",
     "output_type": "stream",
     "text": [
      "NOTE: Some configuration directories are not set up yet: \n",
      "\t/Users/kansoali/.gromacswrapper\n",
      "\t/Users/kansoali/.gromacswrapper/qscripts\n",
      "\t/Users/kansoali/.gromacswrapper/templates\n",
      "NOTE: You can create the configuration file and directories with:\n",
      "\t>>> import gromacs\n",
      "\t>>> gromacs.config.setup()\n"
     ]
    }
   ],
   "source": [
    "import gromacs "
   ]
  },
  {
   "cell_type": "markdown",
   "metadata": {},
   "source": [
    "# Prepare the system"
   ]
  },
  {
   "cell_type": "code",
   "execution_count": null,
   "metadata": {},
   "outputs": [],
   "source": [
    "!martinize2 -f model_start_aligned.pdb -ff martini3001 -x start_cg.pdb -o topoltemp.top -dssp /usr/bin/mkdssp -elastic -scfix -cys 0.40 -p backbone -pf 1000"
   ]
  },
  {
   "cell_type": "code",
   "execution_count": null,
   "metadata": {},
   "outputs": [],
   "source": [
    "!python2.7 insane_altered.py -salt 0.15 -charge -0 -sol W -f start_cg.pdb -o system.gro -pbc rectangular -d 30 -x 9 -y 9 -z 12 -l POPC:100 -p topol.top"
   ]
  },
  {
   "cell_type": "code",
   "execution_count": null,
   "metadata": {},
   "outputs": [],
   "source": [
    "!sed -i -e \"s/Protein        1/molecule_0 1\\nmolecule_1 1/g\" ./topol.top"
   ]
  },
  {
   "cell_type": "code",
   "execution_count": null,
   "metadata": {},
   "outputs": [],
   "source": [
    "!cat topol.top"
   ]
  },
  {
   "cell_type": "markdown",
   "metadata": {},
   "source": [
    "# Energy Minimization"
   ]
  },
  {
   "cell_type": "code",
   "execution_count": null,
   "metadata": {},
   "outputs": [],
   "source": [
    "#######6.0 double précision, pas trop utile#########\n",
    "\n",
    "#!gmx grompp -f step6.0_minimization.mdp -o step6.0_minimization.tpr -c system.gro -r system.gro -p topol.top\n",
    "!gmx_mpi grompp -f step6.0_minimization.mdp -o step6.0_minimization.tpr -c system.gro -r system.gro -p topol.top"
   ]
  },
  {
   "cell_type": "code",
   "execution_count": null,
   "metadata": {},
   "outputs": [],
   "source": [
    "#!gmx mdrun -deffnm step6.0_minimization -gpu_id 0\n",
    "!gmx_mpi mdrun -rdd 3.0 -deffnm step6.0_minimization -ntomp 5 -v"
   ]
  },
  {
   "cell_type": "code",
   "execution_count": null,
   "metadata": {},
   "outputs": [],
   "source": [
    "#!gmx grompp -f step6.1_minimization.mdp -o step6.1_minimization.tpr -c step6.0_minimization.gro -r step6.0_minimization.gro -p topol.top\n",
    "!gmx_mpi grompp -f step6.1_minimization.mdp -o step6.1_minimization.tpr -c step6.0_minimization.gro -r step6.0_minimization.gro -p topol.top"
   ]
  },
  {
   "cell_type": "code",
   "execution_count": null,
   "metadata": {},
   "outputs": [],
   "source": [
    "#!gmx mdrun -rdd 3.0 -deffnm step6.1_minimization -v\n",
    "!gmx_mpi mdrun -rdd 3.0 -deffnm step6.1_minimization -ntomp 5 -v"
   ]
  },
  {
   "cell_type": "markdown",
   "metadata": {},
   "source": [
    "# Equilibration Steps - NVT"
   ]
  },
  {
   "cell_type": "code",
   "execution_count": null,
   "metadata": {},
   "outputs": [],
   "source": [
    "#!gmx grompp -f step6.2_equilibration.mdp -o step6.2_equilibration.tpr -c step6.1_minimization.gro -r step6.1_minimization.gro -p topol.top\n",
    "!gmx_mpi grompp -f step6.2_equilibration.mdp -o step6.2_equilibration.tpr -c step6.1_minimization.gro -r step6.1_minimization.gro -p topol.top"
   ]
  },
  {
   "cell_type": "code",
   "execution_count": null,
   "metadata": {},
   "outputs": [],
   "source": [
    "#!gmx mdrun -rdd 3.0 -deffnm step6.2_equilibration -gpu_id 0 -v -nt 18\n",
    "!gmx_mpi mdrun -rdd 3.0 -deffnm step6.2_equilibration -ntomp 5 -gpu_id 0 -v"
   ]
  },
  {
   "cell_type": "markdown",
   "metadata": {},
   "source": [
    "# Equilibration Steps - NPT"
   ]
  },
  {
   "cell_type": "code",
   "execution_count": null,
   "metadata": {},
   "outputs": [],
   "source": [
    "#!gmx grompp -f step6.3_equilibration.mdp -o step6.3_equilibration.tpr -c step6.2_equilibration.gro -r step6.2_equilibration.gro -p topol.top\n",
    "!gmx_mpi grompp -f step6.3_equilibration.mdp -o step6.3_equilibration.tpr -c step6.2_equilibration.gro -r step6.2_equilibration.gro -p topol.top"
   ]
  },
  {
   "cell_type": "code",
   "execution_count": null,
   "metadata": {},
   "outputs": [],
   "source": [
    "#!gmx mdrun -rdd 3.0 -deffnm step6.3_equilibration -gpu_id 0 -v -nt 18\n",
    "!gmx_mpi mdrun -rdd 3.0 -deffnm step6.3_equilibration -ntomp 5 -gpu_id 0 -v"
   ]
  },
  {
   "cell_type": "code",
   "execution_count": null,
   "metadata": {},
   "outputs": [],
   "source": [
    "#!gmx grompp -f step6.4_equilibration.mdp -o step6.4_equilibration.tpr -c step6.3_equilibration.gro -r step6.3_equilibration.gro -p topol.top\n",
    "!gmx_mpi grompp -f step6.4_equilibration.mdp -o step6.4_equilibration.tpr -c step6.3_equilibration.gro -r step6.3_equilibration.gro -p topol.top"
   ]
  },
  {
   "cell_type": "code",
   "execution_count": null,
   "metadata": {},
   "outputs": [],
   "source": [
    "#!gmx mdrun -rdd 3.0 -deffnm step6.4_equilibration -gpu_id 0 -v -nt 18\n",
    "!gmx_mpi mdrun -rdd 3.0 -deffnm step6.4_equilibration -ntomp 5 -gpu_id 0 -v"
   ]
  },
  {
   "cell_type": "code",
   "execution_count": null,
   "metadata": {},
   "outputs": [],
   "source": [
    "#!gmx grompp -f step6.5_equilibration.mdp -o step6.5_equilibration.tpr -c step6.4_equilibration.gro -r step6.4_equilibration.gro -p topol.top\n",
    "!gmx_mpi grompp -f step6.5_equilibration.mdp -o step6.5_equilibration.tpr -c step6.4_equilibration.gro -r step6.4_equilibration.gro -p topol.top"
   ]
  },
  {
   "cell_type": "code",
   "execution_count": null,
   "metadata": {},
   "outputs": [],
   "source": [
    "#!gmx mdrun -rdd 3.0 -deffnm step6.5_equilibration -gpu_id 0 -v -nt 18\n",
    "!gmx_mpi mdrun -rdd 3.0 -deffnm step6.5_equilibration -ntomp 5 -gpu_id 0 -v"
   ]
  },
  {
   "cell_type": "code",
   "execution_count": null,
   "metadata": {},
   "outputs": [],
   "source": [
    "#!gmx grompp -f step6.6_equilibration.mdp -o step6.6_equilibration.tpr -c step6.5_equilibration.gro -r step6.5_equilibration.gro -p topol.top\n",
    "!gmx_mpi grompp -f step6.6_equilibration.mdp -o step6.6_equilibration.tpr -c step6.5_equilibration.gro -r step6.5_equilibration.gro -p topol.top"
   ]
  },
  {
   "cell_type": "code",
   "execution_count": null,
   "metadata": {},
   "outputs": [],
   "source": [
    "#!gmx mdrun -rdd 3.0 -deffnm step6.6_equilibration -gpu_id 0 -v -nt 18\n",
    "!gmx_mpi mdrun -rdd 3.0 -deffnm step6.6_equilibration -ntomp 5 -gpu_id 0 -v"
   ]
  },
  {
   "cell_type": "markdown",
   "metadata": {},
   "source": [
    "# MD run "
   ]
  },
  {
   "cell_type": "code",
   "execution_count": null,
   "metadata": {},
   "outputs": [],
   "source": [
    "#!gmx grompp -f step7_production.mdp -o step7_production.tpr -c step6.6_equilibration.gro -r step6.6_equilibration.gro -p topol.top\n",
    "!gmx_mpi grompp -f step7_production.mdp -o step7_production.tpr -c step6.6_equilibration.gro -r step6.6_equilibration.gro -p topol.top"
   ]
  },
  {
   "cell_type": "code",
   "execution_count": null,
   "metadata": {},
   "outputs": [],
   "source": [
    "#!gmx mdrun -rdd 3.0 -deffnm step7_production -gpu_id 0 -v -nt 18\n",
    "!gmx_mpi mdrun -rdd 3.0 -deffnm step7_production -ntomp 5 -gpu_id 0 -v"
   ]
  },
  {
   "cell_type": "code",
   "execution_count": null,
   "metadata": {},
   "outputs": [],
   "source": [
    "!gmx check -f step7_production.xtc"
   ]
  },
  {
   "cell_type": "code",
   "execution_count": null,
   "metadata": {},
   "outputs": [],
   "source": [
    "#!gmx mdrun -rdd 3.0 -deffnm step7_production -cpi step7_production.cpt -gpu_id 0 -v -nt 18"
   ]
  },
  {
   "cell_type": "markdown",
   "metadata": {},
   "source": [
    "# make an Index"
   ]
  },
  {
   "cell_type": "code",
   "execution_count": null,
   "metadata": {},
   "outputs": [],
   "source": [
    "#get the number of the first and last atoms of the receptor and peptide\n",
    "!cat system.gro"
   ]
  },
  {
   "cell_type": "code",
   "execution_count": 28,
   "metadata": {},
   "outputs": [
    {
     "name": "stdout",
     "output_type": "stream",
     "text": [
      "                     :-) GROMACS - gmx make_ndx, 2022.2 (-:\n",
      "\n",
      "Executable:   /usr/local/bin/gmx\n",
      "Data prefix:  /usr/local\n",
      "Working dir:  /Users/kansoali/Desktop/IBMM/simulations/cg_simu3\n",
      "Command line:\n",
      "  gmx make_ndx -f system.gro -o index.ndx\n",
      "\n",
      "\n",
      "Reading structure file\n",
      "Going to read 0 old index file(s)\n",
      "Analysing residue names:\n",
      "There are:   304    Protein residues\n",
      "There are:  5133      Other residues\n",
      "There are:   108        Ion residues\n",
      "Analysing Protein...\n",
      "Analysing residues not classified as Protein/DNA/RNA/Water and splitting into groups...\n",
      "Analysing residues not classified as Protein/DNA/RNA/Water and splitting into groups...\n",
      "\n",
      "  0 System              :  8686 atoms\n",
      "  1 Protein             :   750 atoms\n",
      "  2 Protein-H           :   750 atoms\n",
      "  3 C-alpha             :     0 atoms\n",
      "  4 Backbone            :     0 atoms\n",
      "  5 MainChain           :     0 atoms\n",
      "  6 MainChain+Cb        :     0 atoms\n",
      "  7 MainChain+H         :     0 atoms\n",
      "  8 SideChain           :   750 atoms\n",
      "  9 SideChain-H         :   750 atoms\n",
      " 10 Prot-Masses         :   750 atoms\n",
      " 11 non-Protein         :  7936 atoms\n",
      " 12 Other               :  7828 atoms\n",
      " 13 POPC                :  2940 atoms\n",
      " 14 W                   :  4888 atoms\n",
      " 15 NA+                 :    47 atoms\n",
      " 16 CL-                 :    61 atoms\n",
      " 17 Ion                 :   108 atoms\n",
      " 18 POPC                :  2940 atoms\n",
      " 19 W                   :  4888 atoms\n",
      " 20 NA+                 :    47 atoms\n",
      " 21 CL-                 :    61 atoms\n",
      "\n",
      " nr : group      '!': not  'name' nr name   'splitch' nr    Enter: list groups\n",
      " 'a': atom       '&': and  'del' nr         'splitres' nr   'l': list residues\n",
      " 't': atom type  '|': or   'keep' nr        'splitat' nr    'h': help\n",
      " 'r': residue              'res' nr         'chain' char\n",
      " \"name\": group             'case': case sensitive           'q': save and quit\n",
      " 'ri': residue index\n",
      "\n",
      "> \n",
      "Found 725 atoms in range 1-725\n",
      "\n",
      " 22 a_1-725             :   725 atoms\n",
      "\n",
      "> \n",
      "\n",
      "> \n",
      "Found 25 atoms in range 726-750\n",
      "\n",
      " 23 a_726-750           :    25 atoms\n",
      "\n",
      "> \n",
      "\n",
      "> \n",
      "\n",
      "Back Off! I just backed up index.ndx to ./#index.ndx.1#\n",
      "\n",
      "GROMACS reminds you: \"A computer once beat me at chess, but it was no match for me at kick boxing.\" (Emo Philips)\n",
      "\n"
     ]
    }
   ],
   "source": [
    "######################### In the terminal: (could'nt make it work here)######################################\n",
    "\n",
    "!echo -e \"a 1-725  \\nname 22 rec \\na 726-750 \\nname 23 pep \\nq\" |gmx make_ndx -f system.gro -o index.ndx\n",
    "\n",
    "#a 1-725\n",
    "# name 22 rec\n",
    "# a 726-750\n",
    "# name 23 pep"
   ]
  },
  {
   "cell_type": "markdown",
   "metadata": {},
   "source": [
    "# Center the the box"
   ]
  },
  {
   "cell_type": "code",
   "execution_count": 17,
   "metadata": {},
   "outputs": [
    {
     "name": "stdout",
     "output_type": "stream",
     "text": [
      "                     :-) GROMACS - gmx trjconv, 2022.2 (-:\n",
      "\n",
      "Executable:   /usr/local/bin/gmx\n",
      "Data prefix:  /usr/local\n",
      "Working dir:  /Users/kansoali/Desktop/IBMM/simulations/cg_simu3\n",
      "Command line:\n",
      "  gmx trjconv -f step7_production.xtc -o step7_production.pbc.xtc -s step7_production.tpr -pbc mol -center -n index.ndx\n",
      "\n",
      "Note that major changes are planned in future for trjconv, to improve usability and utility.\n",
      "Will write xtc: Compressed trajectory (portable xdr format): xtc\n",
      "Reading file step7_production.tpr, VERSION 2020.6 (single precision)\n",
      "Reading file step7_production.tpr, VERSION 2020.6 (single precision)\n",
      "Select group for centering\n",
      "Group     0 (         System) has  8686 elements\n",
      "Group     1 (        Protein) has   750 elements\n",
      "Group     2 (      Protein-H) has   750 elements\n",
      "Group     3 (        C-alpha) has     0 elements\n",
      "Group     4 (       Backbone) has     0 elements\n",
      "Group     5 (      MainChain) has     0 elements\n",
      "Group     6 (   MainChain+Cb) has     0 elements\n",
      "Group     7 (    MainChain+H) has     0 elements\n",
      "Group     8 (      SideChain) has   750 elements\n",
      "Group     9 (    SideChain-H) has   750 elements\n",
      "Group    10 (    Prot-Masses) has   750 elements\n",
      "Group    11 (    non-Protein) has  7936 elements\n",
      "Group    12 (          Other) has  7828 elements\n",
      "Group    13 (           POPC) has  2940 elements\n",
      "Group    14 (              W) has  4888 elements\n",
      "Group    15 (            NA+) has    47 elements\n",
      "Group    16 (            CL-) has    61 elements\n",
      "Group    17 (            Ion) has   108 elements\n",
      "Group    18 (           POPC) has  2940 elements\n",
      "Group    19 (              W) has  4888 elements\n",
      "Group    20 (            NA+) has    47 elements\n",
      "Group    21 (            CL-) has    61 elements\n",
      "Group    22 (            rec) has   725 elements\n",
      "Group    23 (            pep) has    25 elements\n",
      "Select a group: Selected 22: 'rec'\n",
      "Select group for output\n",
      "Group     0 (         System) has  8686 elements\n",
      "Group     1 (        Protein) has   750 elements\n",
      "Group     2 (      Protein-H) has   750 elements\n",
      "Group     3 (        C-alpha) has     0 elements\n",
      "Group     4 (       Backbone) has     0 elements\n",
      "Group     5 (      MainChain) has     0 elements\n",
      "Group     6 (   MainChain+Cb) has     0 elements\n",
      "Group     7 (    MainChain+H) has     0 elements\n",
      "Group     8 (      SideChain) has   750 elements\n",
      "Group     9 (    SideChain-H) has   750 elements\n",
      "Group    10 (    Prot-Masses) has   750 elements\n",
      "Group    11 (    non-Protein) has  7936 elements\n",
      "Group    12 (          Other) has  7828 elements\n",
      "Group    13 (           POPC) has  2940 elements\n",
      "Group    14 (              W) has  4888 elements\n",
      "Group    15 (            NA+) has    47 elements\n",
      "Group    16 (            CL-) has    61 elements\n",
      "Group    17 (            Ion) has   108 elements\n",
      "Group    18 (           POPC) has  2940 elements\n",
      "Group    19 (              W) has  4888 elements\n",
      "Group    20 (            NA+) has    47 elements\n",
      "Group    21 (            CL-) has    61 elements\n",
      "Group    22 (            rec) has   725 elements\n",
      "Group    23 (            pep) has    25 elements\n",
      "Select a group: Selected 0: 'System'\n",
      "Reading frame       0 time    0.000   \n",
      "Precision of step7_production.xtc is 0.01 (nm)\n",
      "Using output precision of 0.001 (nm)\n",
      "Last frame      10000 time 10000000.000    ->  frame   9999 time 9999000.000      frame     18 time 18000.000       ->  frame    109 time 109000.000       ->  frame    139 time 139000.000       ->  frame    599 time 599000.000       ->  frame   5999 time 5999000.000       ->  frame   6999 time 6999000.000      \n",
      " ->  frame  10000 time 10000000.000      \n",
      "Last written: frame  10000 time 10000000.000\n",
      "\n",
      "\n",
      "GROMACS reminds you: \"For those who want some proof that physicists are human, the proof is in the idiocy of all the different units which they use for measuring energy.\" (Richard Feynman)\n",
      "\n"
     ]
    }
   ],
   "source": [
    "!echo 22 0|gmx trjconv -f step7_production.xtc -o step7_production.pbc.xtc -s step7_production.tpr -pbc mol -center -n index.ndx "
   ]
  },
  {
   "cell_type": "markdown",
   "metadata": {},
   "source": [
    "# NOW READY TO BE ANALYZED!!"
   ]
  }
 ],
 "metadata": {
  "kernelspec": {
   "display_name": "Python 3",
   "language": "python",
   "name": "python3"
  },
  "language_info": {
   "codemirror_mode": {
    "name": "ipython",
    "version": 3
   },
   "file_extension": ".py",
   "mimetype": "text/x-python",
   "name": "python",
   "nbconvert_exporter": "python",
   "pygments_lexer": "ipython3",
   "version": "3.6.13"
  }
 },
 "nbformat": 4,
 "nbformat_minor": 2
}
